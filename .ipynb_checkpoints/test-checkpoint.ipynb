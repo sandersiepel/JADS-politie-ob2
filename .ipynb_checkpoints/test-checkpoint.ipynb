{
 "cells": [
  {
   "cell_type": "code",
   "execution_count": 1,
   "id": "1ac8016c-eab9-4168-a8d4-e7544581de20",
   "metadata": {},
   "outputs": [],
   "source": [
    "import pandas as pd\n",
    "\n"
   ]
  },
  {
   "cell_type": "code",
   "execution_count": null,
   "id": "446c94ad-1986-4cc4-90b6-73a5ecb258bd",
   "metadata": {},
   "outputs": [],
   "source": []
  },
  {
   "cell_type": "code",
   "execution_count": null,
   "id": "1e8041e7-77ba-44b2-ad3c-3f5fd9b010c0",
   "metadata": {},
   "outputs": [],
   "source": []
  },
  {
   "cell_type": "code",
   "execution_count": null,
   "id": "e9ee5f7e-3b1e-4101-a45b-0261be5810cc",
   "metadata": {},
   "outputs": [],
   "source": []
  },
  {
   "cell_type": "code",
   "execution_count": null,
   "id": "f8593b11-19c5-437f-9a6e-bf6e5309a211",
   "metadata": {},
   "outputs": [],
   "source": [
    "data = {\n",
    "    'location': {1085: 'unknown', 1086: 'Lokerenpassage, 18', 1087: 'unknown', 1088: 'Mheer, Trichterweg'},\n",
    "    'location_id': {1085: -1, 1086: 2, 1087: -1, 1088: 10},\n",
    "    'begin_time': {1085: pd.Timestamp('2023-07-20 17:28:16.364000'),\n",
    "                   1086: pd.Timestamp('2023-07-20 17:40:28.441000'),\n",
    "                   1087: pd.Timestamp('2023-07-21 10:11:33.965000'),\n",
    "                   1088: pd.Timestamp('2023-07-21 12:39:29.475000')},\n",
    "    'end_time': {1085: pd.Timestamp('2023-07-20 17:40:27.441000'),\n",
    "                 1086: pd.Timestamp('2023-07-21 10:11:32.965000'),\n",
    "                 1087: pd.Timestamp('2023-07-21 12:39:28.475000'),\n",
    "                 1088: pd.Timestamp('2023-07-23 10:51:03.463000')}\n",
    "}\n",
    "\n",
    "df = pd.DataFrame(data)\n",
    "df = df.set_index(\"begin_time\")"
   ]
  },
  {
   "cell_type": "code",
   "execution_count": null,
   "id": "2914b2a8-8346-4191-8696-b873931b4632",
   "metadata": {},
   "outputs": [],
   "source": [
    "# Create a new DataFrame with a continuous time range covering the desired period\n",
    "new_start_time = df.index.min()\n",
    "new_end_time = df['end_time'].max()\n",
    "time_range = pd.date_range(start=new_start_time, end=new_end_time, freq='10T')\n",
    "\n",
    "# Merge the original DataFrame with the continuous time range using merge_asof\n",
    "resampled_df = pd.merge_asof(pd.DataFrame(index=time_range), df.reset_index(), left_index=True, right_on='begin_time', direction='backward')\n",
    "\n",
    "# Forward-fill the location column\n",
    "resampled_df['location'] = resampled_df['location'].ffill()\n",
    "\n",
    "# Set the resampled DataFrame index back to 'begin_time'\n",
    "resampled_df.set_index('begin_time', inplace=True)\n",
    "\n",
    "resampled_df = pd.merge_asof(pd.DataFrame(index=time_range), df.reset_index(), left_index=True, right_on='begin_time', direction='backward')\n",
    "\n",
    "df = (\n",
    "        resampled_df.reset_index()\n",
    "        .drop([\"begin_time\", \"location_id\", \"end_time\"], axis=1)\n",
    "        .rename(columns={\"index\": \"time\"})\n",
    "        .dropna(axis=0)\n",
    "    )"
   ]
  },
  {
   "cell_type": "code",
   "execution_count": null,
   "id": "6d6dafd0-7ab3-4b3b-a490-4d1a8a60d5c7",
   "metadata": {},
   "outputs": [],
   "source": [
    "df"
   ]
  },
  {
   "cell_type": "code",
   "execution_count": null,
   "id": "3efaa192-96d2-4466-ad92-7ab4114aa3bb",
   "metadata": {},
   "outputs": [],
   "source": []
  },
  {
   "cell_type": "code",
   "execution_count": null,
   "id": "3d295340-67a6-4865-8b05-83a2a07c2134",
   "metadata": {},
   "outputs": [],
   "source": []
  },
  {
   "cell_type": "code",
   "execution_count": null,
   "id": "078f572e-e571-4d83-85d7-acdd9a10c8c8",
   "metadata": {},
   "outputs": [],
   "source": []
  },
  {
   "cell_type": "code",
   "execution_count": null,
   "id": "fbdddd8d-c92e-4887-993c-29ff53409dd4",
   "metadata": {},
   "outputs": [],
   "source": [
    "df"
   ]
  },
  {
   "cell_type": "code",
   "execution_count": null,
   "id": "da2bc73b-b781-4191-9982-04b04bec6c2f",
   "metadata": {},
   "outputs": [],
   "source": []
  },
  {
   "cell_type": "code",
   "execution_count": null,
   "id": "5b8ffc53-5411-45dc-a1b3-46d5fce2512e",
   "metadata": {},
   "outputs": [],
   "source": []
  },
  {
   "cell_type": "code",
   "execution_count": null,
   "id": "b055a47a-c64d-4ee9-841f-423f080ebb2b",
   "metadata": {},
   "outputs": [],
   "source": []
  },
  {
   "cell_type": "code",
   "execution_count": null,
   "id": "45e05f82-87f9-4269-93ba-f1a6769c8afa",
   "metadata": {},
   "outputs": [],
   "source": [
    "import DataLoader as DL\n",
    "import DataTransformer as DT\n",
    "from LoadRoutinedData import RDData\n",
    "import pandas as pd\n",
    "\n",
    "# Initialize parameters.\n",
    "data_source = \"routined\"  # Can be either 'google_maps' or 'routined'.\n",
    "# HOURS_OFFSET is used to offset the timestamps to account for timezone differences. For google maps, timestamp comes in GMT+0\n",
    "# which means that we need to offset it by 2 hours to make it GMT+2 (Dutch timezone). Value must be INT!\n",
    "hours_offset = 2\n",
    "# BEGIN_DATE and END_DATE are used to filter the data for your analysis.\n",
    "begin_date = \"2023-05-10\"\n",
    "end_date = \"2023-07-24\"  # End date is EXclusive!\n",
    "# FRACTION is used to make the DataFrame smaller. Final df = df * fraction. This solves memory issues, but a value of 1 is preferred.\n",
    "fraction = 1\n",
    "# For the heatmap visualization we specify a separate BEGIN_DAY and END_DAY (must be between BEGIN_DATE and END_DATE).\n",
    "# For readiness purposes, it it suggested to select between 2 and 14 days.\n",
    "heatmap_begin_date = \"2023-07-10\"\n",
    "heatmap_end_date = \"2023-07-20\"  # End date is INclusive!"
   ]
  },
  {
   "cell_type": "code",
   "execution_count": null,
   "id": "117b5c27-312b-4c71-82ad-2cf21044dd3f",
   "metadata": {},
   "outputs": [],
   "source": []
  },
  {
   "cell_type": "code",
   "execution_count": null,
   "id": "0dbbbda5-3ce7-4ba7-bc6a-9d23f56883a4",
   "metadata": {},
   "outputs": [],
   "source": [
    "from pandas import Timestamp\n",
    "\n",
    "data = {'location': {1085: 'unknown',\n",
    "      1086: ' Lokerenpassage, 18',\n",
    "      1087: 'unknown',\n",
    "      1088: ' Mheer, Trichterweg'},\n",
    "     'location_id': {1085: -1, 1086: 2, 1087: -1, 1088: 10},\n",
    "     'begin_time': {1085: Timestamp('2023-07-20 17:28:16.364000'),\n",
    "      1086: Timestamp('2023-07-20 17:40:28.441000'),\n",
    "      1087: Timestamp('2023-07-21 10:11:33.965000'),\n",
    "      1088: Timestamp('2023-07-21 12:39:29.475000')},\n",
    "     'end_time': {1085: Timestamp('2023-07-20 17:40:27.441000'),\n",
    "      1086: Timestamp('2023-07-21 10:11:32.965000'),\n",
    "      1087: Timestamp('2023-07-21 12:39:28.475000'),\n",
    "      1088: Timestamp('2023-07-23 10:51:03.463000')}}\n",
    "\n",
    "df = pd.DataFrame(data)\n",
    "df = df.set_index(\"begin_time\")\n",
    "df = df.resample(\"10T\").ffill()"
   ]
  },
  {
   "cell_type": "code",
   "execution_count": null,
   "id": "5270d893-5514-46ca-81c9-d4641e3e16cc",
   "metadata": {},
   "outputs": [],
   "source": [
    "df"
   ]
  },
  {
   "cell_type": "code",
   "execution_count": null,
   "id": "6d5b945b-1e1c-4dc4-aadb-99f586e3114a",
   "metadata": {},
   "outputs": [],
   "source": []
  },
  {
   "cell_type": "code",
   "execution_count": null,
   "id": "c91455fe-4a9f-4640-b748-6aadf0c2bedc",
   "metadata": {},
   "outputs": [],
   "source": []
  },
  {
   "cell_type": "code",
   "execution_count": null,
   "id": "fb966ce3-0d71-4f08-868a-94837a155c75",
   "metadata": {},
   "outputs": [],
   "source": []
  },
  {
   "cell_type": "code",
   "execution_count": 2,
   "id": "baf7f0cc-1222-491e-86cd-2bbae41d438d",
   "metadata": {},
   "outputs": [],
   "source": [
    "df = pd.read_excel(\"output/start_end_time_df.xlsx\", index_col=[0])"
   ]
  },
  {
   "cell_type": "code",
   "execution_count": 3,
   "id": "041ba636-e380-4ebc-85e4-7054d47f2dad",
   "metadata": {},
   "outputs": [],
   "source": [
    "df = df.set_index('begin_time')"
   ]
  },
  {
   "cell_type": "code",
   "execution_count": 4,
   "id": "54b45f26-ca76-4a8f-89c6-120a79bea843",
   "metadata": {},
   "outputs": [],
   "source": [
    "# Create a new DataFrame with a continuous time range covering the desired period\n",
    "new_start_time = df.index.min()\n",
    "new_end_time = df['end_time'].max()\n",
    "time_range = pd.date_range(start=new_start_time, end=new_end_time, freq='10T')\n",
    "\n",
    "# Merge the original DataFrame with the continuous time range using merge_asof\n",
    "resampled_df = pd.merge_asof(pd.DataFrame(index=time_range), df.reset_index(), left_index=True, right_on='begin_time', direction='backward')\n",
    "\n",
    "# Forward-fill the location column\n",
    "resampled_df['location'] = resampled_df['location'].ffill()\n",
    "\n",
    "# Set the resampled DataFrame index back to 'begin_time'\n",
    "resampled_df.set_index('begin_time', inplace=True)\n",
    "\n",
    "# resampled_df = pd.merge_asof(pd.DataFrame(index=time_range), df.reset_index(), left_index=True, right_on='begin_time', direction='backward')\n",
    "\n",
    "df = (\n",
    "        resampled_df.reset_index()\n",
    "        .drop([\"begin_time\", \"location_id\", \"end_time\"], axis=1)\n",
    "        .rename(columns={\"index\": \"time\"})\n",
    "        .dropna(axis=0)\n",
    "    )"
   ]
  },
  {
   "cell_type": "code",
   "execution_count": 5,
   "id": "abe77170-840d-4791-bd14-d39c5d789616",
   "metadata": {},
   "outputs": [
    {
     "data": {
      "text/html": [
       "<div>\n",
       "<style scoped>\n",
       "    .dataframe tbody tr th:only-of-type {\n",
       "        vertical-align: middle;\n",
       "    }\n",
       "\n",
       "    .dataframe tbody tr th {\n",
       "        vertical-align: top;\n",
       "    }\n",
       "\n",
       "    .dataframe thead th {\n",
       "        text-align: right;\n",
       "    }\n",
       "</style>\n",
       "<table border=\"1\" class=\"dataframe\">\n",
       "  <thead>\n",
       "    <tr style=\"text-align: right;\">\n",
       "      <th></th>\n",
       "      <th>time</th>\n",
       "      <th>location</th>\n",
       "    </tr>\n",
       "  </thead>\n",
       "  <tbody>\n",
       "    <tr>\n",
       "      <th>0</th>\n",
       "      <td>2023-05-05 00:06:12.767</td>\n",
       "      <td>Bronsteeweg, 14G</td>\n",
       "    </tr>\n",
       "    <tr>\n",
       "      <th>1</th>\n",
       "      <td>2023-05-05 00:16:12.767</td>\n",
       "      <td>Bronsteeweg, 14G</td>\n",
       "    </tr>\n",
       "    <tr>\n",
       "      <th>2</th>\n",
       "      <td>2023-05-05 00:26:12.767</td>\n",
       "      <td>Bronsteeweg, 14G</td>\n",
       "    </tr>\n",
       "    <tr>\n",
       "      <th>3</th>\n",
       "      <td>2023-05-05 00:36:12.767</td>\n",
       "      <td>Bronsteeweg, 14G</td>\n",
       "    </tr>\n",
       "    <tr>\n",
       "      <th>4</th>\n",
       "      <td>2023-05-05 00:46:12.767</td>\n",
       "      <td>Bronsteeweg, 14G</td>\n",
       "    </tr>\n",
       "    <tr>\n",
       "      <th>...</th>\n",
       "      <td>...</td>\n",
       "      <td>...</td>\n",
       "    </tr>\n",
       "    <tr>\n",
       "      <th>11726</th>\n",
       "      <td>2023-07-25 10:26:12.767</td>\n",
       "      <td>Lokerenpassage, 18</td>\n",
       "    </tr>\n",
       "    <tr>\n",
       "      <th>11727</th>\n",
       "      <td>2023-07-25 10:36:12.767</td>\n",
       "      <td>Lokerenpassage, 18</td>\n",
       "    </tr>\n",
       "    <tr>\n",
       "      <th>11728</th>\n",
       "      <td>2023-07-25 10:46:12.767</td>\n",
       "      <td>Lokerenpassage, 18</td>\n",
       "    </tr>\n",
       "    <tr>\n",
       "      <th>11729</th>\n",
       "      <td>2023-07-25 10:56:12.767</td>\n",
       "      <td>Lokerenpassage, 18</td>\n",
       "    </tr>\n",
       "    <tr>\n",
       "      <th>11730</th>\n",
       "      <td>2023-07-25 11:06:12.767</td>\n",
       "      <td>Lokerenpassage, 18</td>\n",
       "    </tr>\n",
       "  </tbody>\n",
       "</table>\n",
       "<p>11731 rows × 2 columns</p>\n",
       "</div>"
      ],
      "text/plain": [
       "                         time             location\n",
       "0     2023-05-05 00:06:12.767     Bronsteeweg, 14G\n",
       "1     2023-05-05 00:16:12.767     Bronsteeweg, 14G\n",
       "2     2023-05-05 00:26:12.767     Bronsteeweg, 14G\n",
       "3     2023-05-05 00:36:12.767     Bronsteeweg, 14G\n",
       "4     2023-05-05 00:46:12.767     Bronsteeweg, 14G\n",
       "...                       ...                  ...\n",
       "11726 2023-07-25 10:26:12.767   Lokerenpassage, 18\n",
       "11727 2023-07-25 10:36:12.767   Lokerenpassage, 18\n",
       "11728 2023-07-25 10:46:12.767   Lokerenpassage, 18\n",
       "11729 2023-07-25 10:56:12.767   Lokerenpassage, 18\n",
       "11730 2023-07-25 11:06:12.767   Lokerenpassage, 18\n",
       "\n",
       "[11731 rows x 2 columns]"
      ]
     },
     "execution_count": 5,
     "metadata": {},
     "output_type": "execute_result"
    }
   ],
   "source": [
    "df"
   ]
  },
  {
   "cell_type": "code",
   "execution_count": null,
   "id": "0d3fc149-6283-4752-8d16-30b01f427362",
   "metadata": {},
   "outputs": [],
   "source": []
  }
 ],
 "metadata": {
  "kernelspec": {
   "display_name": "Python 3 (ipykernel)",
   "language": "python",
   "name": "python3"
  },
  "language_info": {
   "codemirror_mode": {
    "name": "ipython",
    "version": 3
   },
   "file_extension": ".py",
   "mimetype": "text/x-python",
   "name": "python",
   "nbconvert_exporter": "python",
   "pygments_lexer": "ipython3",
   "version": "3.10.11"
  }
 },
 "nbformat": 4,
 "nbformat_minor": 5
}
