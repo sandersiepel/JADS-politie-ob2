{
 "cells": [
  {
   "cell_type": "code",
   "execution_count": 1,
   "id": "be0c0a44-81e2-4811-8955-1c081cf60bc0",
   "metadata": {},
   "outputs": [],
   "source": [
    "import pandas as pd\n",
    "import datetime\n",
    "from sklearn import preprocessing\n",
    "from sklearn.ensemble import RandomForestClassifier\n",
    "from sklearn.metrics import accuracy_score, classification_report\n",
    "from collections import Counter\n",
    "import pandas as pd\n",
    "from sklearn.preprocessing import LabelEncoder as le\n",
    "from collections import defaultdict\n"
   ]
  },
  {
   "cell_type": "code",
   "execution_count": 12,
   "id": "3c12224e-f773-444b-9f6f-1503b4da7ce1",
   "metadata": {},
   "outputs": [],
   "source": [
    "df_raw = pd.read_excel(\"output/keep-sander2017-100-30-1/resampled_df_10_min.xlsx\", index_col=[0])"
   ]
  },
  {
   "cell_type": "code",
   "execution_count": 13,
   "id": "2117e60a",
   "metadata": {},
   "outputs": [],
   "source": [
    "start_date = pd.to_datetime(f\"2017-01-01 00:00:00\")\n",
    "end_date = pd.to_datetime(f\"2017-05-01 23:50:00\")\n",
    "training_window_size = 7\n",
    "horizon_size = 7\n",
    "model_features = [\"day\", \"weekday\", \"hour\", \"window_block\"] # Day = day of the month (0-31), hour = hour of the day (0-24), weekday = day in the week (0-7), window_block = window block in the hour (0-5)\n",
    "\n",
    "baseline_performance = defaultdict(dict)"
   ]
  },
  {
   "cell_type": "code",
   "execution_count": 14,
   "id": "c8e35ace",
   "metadata": {},
   "outputs": [],
   "source": [
    "df = df_raw[df_raw[\"timestamp\"].between(start_date, end_date)].copy()\n",
    "\n",
    "label_encoder = le()\n",
    "df.location = label_encoder.fit_transform(df.location)"
   ]
  },
  {
   "cell_type": "code",
   "execution_count": 15,
   "id": "d82c26be",
   "metadata": {},
   "outputs": [],
   "source": [
    "df[\"day\"] = df[\"timestamp\"].dt.day\n",
    "df[\"weekday\"] = df[\"timestamp\"].dt.dayofweek\n",
    "df[\"hour\"] = df[\"timestamp\"].dt.hour\n",
    "df[\"window_block\"] = ((df['timestamp'].dt.minute * 60 + df['timestamp'].dt.second) // 600).astype(int)\n"
   ]
  },
  {
   "cell_type": "code",
   "execution_count": null,
   "id": "12d02f6a",
   "metadata": {},
   "outputs": [],
   "source": [
    "df.head(10)"
   ]
  },
  {
   "cell_type": "code",
   "execution_count": null,
   "id": "02ab3575",
   "metadata": {},
   "outputs": [],
   "source": [
    "train_start_date = start_date\n",
    "train_end_date = train_start_date + pd.Timedelta(days=training_window_size-1, hours=23, minutes=50)\n",
    "test_start_date = train_end_date + pd.Timedelta(minutes=10)\n",
    "test_end_date = test_start_date + pd.Timedelta(days=horizon_size-1, hours=23, minutes=50)\n",
    "\n",
    "train_mask = df[\"time\"].between(train_start_date, train_end_date)\n",
    "test_mask = df[\"time\"].between(test_start_date, test_end_date)\n",
    "\n",
    "# Split the data into train and test sets\n",
    "X_train = df.loc[train_mask, model_features]\n",
    "y_train = df.loc[train_mask, \"location\"]\n",
    "X_test = df.loc[test_mask, model_features]\n",
    "y_test = df.loc[test_mask, \"location\"]\n",
    "\n",
    "print(f\"Training: {train_start_date}-{train_end_date}, testing: {test_start_date}-{test_end_date}.\")"
   ]
  },
  {
   "cell_type": "code",
   "execution_count": null,
   "id": "49621fff",
   "metadata": {},
   "outputs": [],
   "source": [
    "training_data = df.loc[train_mask]\n",
    "testing_data = df.loc[test_mask]\n",
    "most_common_locations = training_data.groupby(model_features)['location'].apply(lambda x: x.value_counts().idxmax()).reset_index()"
   ]
  },
  {
   "cell_type": "code",
   "execution_count": null,
   "id": "25e164db",
   "metadata": {},
   "outputs": [],
   "source": [
    "result_df = testing_data.merge(most_common_locations, how=\"left\", left_on=model_features, right_on=model_features)\n",
    "\n",
    "features_to_use = model_features[1:]\n",
    "while result_df['location_y'].isna().sum() > 0:\n",
    "    print('nan > 0, now trying with features: ', features_to_use)\n",
    "    most_common_locations = training_data[[\"location\"] + features_to_use].groupby(features_to_use)['location'].apply(lambda x: x.value_counts().idxmax()).reset_index()\n",
    "    result_df = testing_data.merge(most_common_locations, how=\"left\", left_on=features_to_use, right_on=features_to_use)\n",
    "    features_to_use = features_to_use[1:]  # Remove the first element to exclude it from the next merge\n",
    "\n",
    "predictions = result_df.location_y.values.tolist()\n",
    "\n"
   ]
  },
  {
   "cell_type": "code",
   "execution_count": null,
   "id": "f24de744",
   "metadata": {},
   "outputs": [],
   "source": [
    "for d in range(horizon_size):\n",
    "    # Then, evaluate the baseline's predictions and store acc in self.baseline_performance\n",
    "    this_day_predictions = predictions[d*144:(d+1)*144]\n",
    "    this_day_actual_values = y_test[d*144:(d+1)*144]\n",
    "    acc = accuracy_score(this_day_actual_values, this_day_predictions)\n",
    "    print(f\"Acc of baseline: {acc}\")"
   ]
  },
  {
   "cell_type": "code",
   "execution_count": null,
   "id": "b1eda62d",
   "metadata": {},
   "outputs": [],
   "source": []
  },
  {
   "cell_type": "code",
   "execution_count": null,
   "id": "800f00a0",
   "metadata": {},
   "outputs": [],
   "source": []
  },
  {
   "cell_type": "code",
   "execution_count": 2,
   "id": "718521f0",
   "metadata": {},
   "outputs": [],
   "source": [
    "import DataLoader as DL\n",
    "from Cluster import Cluster\n",
    "\n",
    "# Initialize parameters.\n",
    "data_source = \"google_maps\"  # Can be either 'google_maps' or 'routined'.\n",
    "# hours_offset is used to offset the timestamps to account for timezone differences. For google maps, timestamp comes in GMT+0\n",
    "# which means that we need to offset it by 2 hours to make it GMT+2 (Dutch timezone). Value must be INT!\n",
    "hours_offset = 2 # Should be 0 for routined and 2 for google_maps. \n",
    "# begin_date and end_date are used to filter the data for your analysis.\n",
    "begin_date = \"2022-01-01\"\n",
    "end_date = \"2022-12-30\"  # End date is INclusive! \n",
    "# FRACTION is used to make the DataFrame smaller. Final df = df * fraction. This solves memory issues, but a value of 1 is preferred.\n",
    "fraction = 1\n",
    "# For the heatmap visualization we specify a separate begin_date and end_date (must be between begin_date and end_date).\n",
    "# For readiness purposes, it it suggested to select between 2 and 14 days.\n",
    "heatmap_begin_date = \"2023-01-20\"\n",
    "heatmap_end_date = \"2023-05-28\"  # End date is INclusive! Choose a date that lies (preferably 2 days) before end_date to avoid errors. \n",
    "# For the model performance class we need to specify the number of training days (range) and testing horizon (also in days)\n",
    "training_window_size = 100\n",
    "horizon_size = 30\n",
    "window_step_size = 1\n",
    "outputs_folder_name = f\"remove-{training_window_size}-{horizon_size}-{window_step_size}\" # All of the outputs will be placed in output/outputs_folder_name"
   ]
  },
  {
   "cell_type": "code",
   "execution_count": 4,
   "id": "fa2c749a",
   "metadata": {},
   "outputs": [
    {
     "name": "stdout",
     "output_type": "stream",
     "text": [
      "Message (data loader): Since HOUR_OFFSET > 0, we offset the timestamps with 2 hours.\n",
      "Message (data loader): Loaded google_maps data from 2022-01-01 to 2022-12-30 with a fraction of 1. Length of data: 150821\n",
      "Message (data loader): First record in dataset is from 2022-01-01 03:20:48 and last record is from 2022-12-30 23:59:46\n",
      "Message (data loader): Performing EDA, saving plots at output/remove-100-30-1\n",
      "Message (filter moving): Marked 39136 data points as moving.\n",
      "Message (clustering): Clustering 111685 data points with DBSCAN, with eps = 0.01, min_samples = 200. \n",
      "Message (clustering): Start clustering...\n",
      "Message (clustering): Clustering took 23.155152320861816 seconds.\n",
      "Message (OSM): Adding OSM location data to 18 clusters.\n",
      "Message (post filter mean std ratio): Deleted 1 clusters (with labels: ['9'])\n",
      "Message (clustering): Final number of clusters: 17.\n"
     ]
    }
   ],
   "source": [
    "df, _ = DL.load_data(\n",
    "    data_source,\n",
    "    begin_date,\n",
    "    end_date,\n",
    "    fraction,\n",
    "    hours_offset,\n",
    "    outputs_folder_name=outputs_folder_name,\n",
    "    verbose=True,\n",
    "    perform_eda=True\n",
    ")\n",
    "\n",
    "# Step 2. Run clustering\n",
    "# First, make an instance of the Cluster class and define its settings.\n",
    "c = Cluster(\n",
    "    df,  # Input dataset (with latitude, longitude, timestamp columns)\n",
    "    outputs_folder_name=outputs_folder_name, \n",
    "    verbose=True,  # Do we want to see print statements?\n",
    "    pre_filter=True,  # Apply filters to the data before the clustering (such as removing moving points)\n",
    "    post_filter=True,  # Apply filters to the data/clusters after the clustering (such as deleting homogeneous clusters)\n",
    "    filter_moving=True,  # Do we want to delete the data points where the subject was moving?\n",
    "    centroid_k=10,  # Number of nearest neighbors to consider for density calculation (for cluster centroids)\n",
    "    min_unique_days=1,  # If post_filter = True, then delete all clusters that have been visited on less than min_unique_days days.\n",
    ")\n",
    "\n",
    "# Then we run the clustering and visualisation\n",
    "df = (\n",
    "    c.run_clustering(\n",
    "        min_samples=200,  # The number of samples in a neighborhood for a point to be considered as a core point\n",
    "        eps=0.01,  # The maximum distance between two samples for one to be considered as in the neighborhood of the other. 0.01 = 10m\n",
    "        algorithm=\"dbscan\",  # Choose either 'dbscan' or 'hdbscan'. If 'hdbscan', only min_samples is required.\n",
    "        # min_cluster_size=50,  # Param of HDBSCAN: the minimum size a final cluster can be. The higher this is, the bigger your clusters will be\n",
    "    )\n",
    "    .add_locations_to_original_dataframe(\n",
    "        export_xlsx=False,  # Export the dataframe to excel file? Useful for analyzing.\n",
    "        name=\"test\",\n",
    "    )\n",
    "    .plot_clusters(\n",
    "        filter_noise=False,  # Remove the -1 labels (i.e., noise) before plotting the clusters\n",
    "    )\n",
    "    \n",
    "    .df  # These functions return 'self' so we can chain them and easily access the df attribute (for input to further modeling/visualization).\n",
    ")\n"
   ]
  },
  {
   "cell_type": "code",
   "execution_count": 5,
   "id": "8bd9e39f",
   "metadata": {},
   "outputs": [
    {
     "data": {
      "text/html": [
       "<div>\n",
       "<style scoped>\n",
       "    .dataframe tbody tr th:only-of-type {\n",
       "        vertical-align: middle;\n",
       "    }\n",
       "\n",
       "    .dataframe tbody tr th {\n",
       "        vertical-align: top;\n",
       "    }\n",
       "\n",
       "    .dataframe thead th {\n",
       "        text-align: right;\n",
       "    }\n",
       "</style>\n",
       "<table border=\"1\" class=\"dataframe\">\n",
       "  <thead>\n",
       "    <tr style=\"text-align: right;\">\n",
       "      <th></th>\n",
       "      <th>timestamp</th>\n",
       "      <th>latitude</th>\n",
       "      <th>longitude</th>\n",
       "      <th>source</th>\n",
       "      <th>moving</th>\n",
       "      <th>cluster</th>\n",
       "      <th>location</th>\n",
       "      <th>id</th>\n",
       "    </tr>\n",
       "  </thead>\n",
       "  <tbody>\n",
       "    <tr>\n",
       "      <th>0</th>\n",
       "      <td>2022-01-01 03:32:03.461</td>\n",
       "      <td>51.726189</td>\n",
       "      <td>5.307098</td>\n",
       "      <td>WIFI</td>\n",
       "      <td>False</td>\n",
       "      <td>0</td>\n",
       "      <td>Maaspoortweg, 305</td>\n",
       "      <td>0</td>\n",
       "    </tr>\n",
       "    <tr>\n",
       "      <th>1</th>\n",
       "      <td>2022-01-01 04:08:10.808</td>\n",
       "      <td>51.726189</td>\n",
       "      <td>5.307098</td>\n",
       "      <td>WIFI</td>\n",
       "      <td>False</td>\n",
       "      <td>0</td>\n",
       "      <td>Maaspoortweg, 305</td>\n",
       "      <td>1</td>\n",
       "    </tr>\n",
       "    <tr>\n",
       "      <th>2</th>\n",
       "      <td>2022-01-01 05:31:45.348</td>\n",
       "      <td>51.726189</td>\n",
       "      <td>5.307098</td>\n",
       "      <td>WIFI</td>\n",
       "      <td>False</td>\n",
       "      <td>0</td>\n",
       "      <td>Maaspoortweg, 305</td>\n",
       "      <td>2</td>\n",
       "    </tr>\n",
       "    <tr>\n",
       "      <th>3</th>\n",
       "      <td>2022-01-01 12:49:51.094</td>\n",
       "      <td>51.726043</td>\n",
       "      <td>5.307154</td>\n",
       "      <td>WIFI</td>\n",
       "      <td>False</td>\n",
       "      <td>0</td>\n",
       "      <td>Maaspoortweg, 305</td>\n",
       "      <td>3</td>\n",
       "    </tr>\n",
       "    <tr>\n",
       "      <th>4</th>\n",
       "      <td>2022-01-01 12:59:56.046</td>\n",
       "      <td>51.726043</td>\n",
       "      <td>5.307154</td>\n",
       "      <td>WIFI</td>\n",
       "      <td>False</td>\n",
       "      <td>0</td>\n",
       "      <td>Maaspoortweg, 305</td>\n",
       "      <td>4</td>\n",
       "    </tr>\n",
       "    <tr>\n",
       "      <th>...</th>\n",
       "      <td>...</td>\n",
       "      <td>...</td>\n",
       "      <td>...</td>\n",
       "      <td>...</td>\n",
       "      <td>...</td>\n",
       "      <td>...</td>\n",
       "      <td>...</td>\n",
       "      <td>...</td>\n",
       "    </tr>\n",
       "    <tr>\n",
       "      <th>48831</th>\n",
       "      <td>2022-12-30 23:53:16.381</td>\n",
       "      <td>51.726057</td>\n",
       "      <td>5.307102</td>\n",
       "      <td>WIFI</td>\n",
       "      <td>False</td>\n",
       "      <td>0</td>\n",
       "      <td>Maaspoortweg, 305</td>\n",
       "      <td>48831</td>\n",
       "    </tr>\n",
       "    <tr>\n",
       "      <th>48832</th>\n",
       "      <td>2022-12-30 23:55:16.442</td>\n",
       "      <td>51.726057</td>\n",
       "      <td>5.307102</td>\n",
       "      <td>WIFI</td>\n",
       "      <td>False</td>\n",
       "      <td>0</td>\n",
       "      <td>Maaspoortweg, 305</td>\n",
       "      <td>48832</td>\n",
       "    </tr>\n",
       "    <tr>\n",
       "      <th>48833</th>\n",
       "      <td>2022-12-30 23:57:16.490</td>\n",
       "      <td>51.726057</td>\n",
       "      <td>5.307102</td>\n",
       "      <td>WIFI</td>\n",
       "      <td>False</td>\n",
       "      <td>0</td>\n",
       "      <td>Maaspoortweg, 305</td>\n",
       "      <td>48833</td>\n",
       "    </tr>\n",
       "    <tr>\n",
       "      <th>48834</th>\n",
       "      <td>2022-12-30 23:57:46.600</td>\n",
       "      <td>51.726057</td>\n",
       "      <td>5.307102</td>\n",
       "      <td>WIFI</td>\n",
       "      <td>False</td>\n",
       "      <td>0</td>\n",
       "      <td>Maaspoortweg, 305</td>\n",
       "      <td>48834</td>\n",
       "    </tr>\n",
       "    <tr>\n",
       "      <th>48835</th>\n",
       "      <td>2022-12-30 23:59:46.690</td>\n",
       "      <td>51.726057</td>\n",
       "      <td>5.307102</td>\n",
       "      <td>WIFI</td>\n",
       "      <td>False</td>\n",
       "      <td>0</td>\n",
       "      <td>Maaspoortweg, 305</td>\n",
       "      <td>48835</td>\n",
       "    </tr>\n",
       "  </tbody>\n",
       "</table>\n",
       "<p>89784 rows × 8 columns</p>\n",
       "</div>"
      ],
      "text/plain": [
       "                    timestamp   latitude  longitude source  moving cluster  \\\n",
       "0     2022-01-01 03:32:03.461  51.726189   5.307098   WIFI   False       0   \n",
       "1     2022-01-01 04:08:10.808  51.726189   5.307098   WIFI   False       0   \n",
       "2     2022-01-01 05:31:45.348  51.726189   5.307098   WIFI   False       0   \n",
       "3     2022-01-01 12:49:51.094  51.726043   5.307154   WIFI   False       0   \n",
       "4     2022-01-01 12:59:56.046  51.726043   5.307154   WIFI   False       0   \n",
       "...                       ...        ...        ...    ...     ...     ...   \n",
       "48831 2022-12-30 23:53:16.381  51.726057   5.307102   WIFI   False       0   \n",
       "48832 2022-12-30 23:55:16.442  51.726057   5.307102   WIFI   False       0   \n",
       "48833 2022-12-30 23:57:16.490  51.726057   5.307102   WIFI   False       0   \n",
       "48834 2022-12-30 23:57:46.600  51.726057   5.307102   WIFI   False       0   \n",
       "48835 2022-12-30 23:59:46.690  51.726057   5.307102   WIFI   False       0   \n",
       "\n",
       "                 location     id  \n",
       "0       Maaspoortweg, 305      0  \n",
       "1       Maaspoortweg, 305      1  \n",
       "2       Maaspoortweg, 305      2  \n",
       "3       Maaspoortweg, 305      3  \n",
       "4       Maaspoortweg, 305      4  \n",
       "...                   ...    ...  \n",
       "48831   Maaspoortweg, 305  48831  \n",
       "48832   Maaspoortweg, 305  48832  \n",
       "48833   Maaspoortweg, 305  48833  \n",
       "48834   Maaspoortweg, 305  48834  \n",
       "48835   Maaspoortweg, 305  48835  \n",
       "\n",
       "[89784 rows x 8 columns]"
      ]
     },
     "execution_count": 5,
     "metadata": {},
     "output_type": "execute_result"
    }
   ],
   "source": [
    "c.df"
   ]
  },
  {
   "cell_type": "code",
   "execution_count": 12,
   "id": "c3936c9e",
   "metadata": {},
   "outputs": [
    {
     "data": {
      "text/plain": [
       "51.726097656501345"
      ]
     },
     "execution_count": 12,
     "metadata": {},
     "output_type": "execute_result"
    }
   ],
   "source": [
    "c.df_centroids.loc[0].latitude\n"
   ]
  },
  {
   "cell_type": "code",
   "execution_count": null,
   "id": "937781ee",
   "metadata": {},
   "outputs": [],
   "source": [
    "c.df_centroids.loc[len(c.df_centroids)] = [0, 0, -1, 10, \"black\", \"noise\", 0, 0, 0]"
   ]
  },
  {
   "cell_type": "code",
   "execution_count": 10,
   "id": "3c71b056",
   "metadata": {},
   "outputs": [
    {
     "data": {
      "text/plain": [
       "array(['WIFI', 'GPS', 'UNKNOWN', 'CELL'], dtype=object)"
      ]
     },
     "execution_count": 10,
     "metadata": {},
     "output_type": "execute_result"
    }
   ],
   "source": [
    "c.df.source.unique()"
   ]
  },
  {
   "cell_type": "code",
   "execution_count": null,
   "id": "803b72fb",
   "metadata": {},
   "outputs": [],
   "source": []
  },
  {
   "cell_type": "code",
   "execution_count": null,
   "id": "ebfc0e22",
   "metadata": {},
   "outputs": [],
   "source": []
  },
  {
   "cell_type": "code",
   "execution_count": null,
   "id": "35702ac3",
   "metadata": {},
   "outputs": [],
   "source": []
  },
  {
   "cell_type": "code",
   "execution_count": 94,
   "id": "1e37831b",
   "metadata": {},
   "outputs": [],
   "source": [
    "df = pd.read_excel(\"output/martijn-100-30-1/resampled_df_10_min.xlsx\", index_col=[0])\n",
    "\n",
    "df[\"day\"] = df[\"timestamp\"].dt.day\n",
    "df[\"weekday\"] = df[\"timestamp\"].dt.dayofweek\n",
    "df[\"hour\"] = df[\"timestamp\"].dt.hour\n",
    "df[\"window_block\"] = ((df['timestamp'].dt.minute * 60 + df['timestamp'].dt.second) // 600).astype(int)"
   ]
  },
  {
   "cell_type": "code",
   "execution_count": 95,
   "id": "b5eed0b7",
   "metadata": {},
   "outputs": [
    {
     "data": {
      "text/html": [
       "<div>\n",
       "<style scoped>\n",
       "    .dataframe tbody tr th:only-of-type {\n",
       "        vertical-align: middle;\n",
       "    }\n",
       "\n",
       "    .dataframe tbody tr th {\n",
       "        vertical-align: top;\n",
       "    }\n",
       "\n",
       "    .dataframe thead th {\n",
       "        text-align: right;\n",
       "    }\n",
       "</style>\n",
       "<table border=\"1\" class=\"dataframe\">\n",
       "  <thead>\n",
       "    <tr style=\"text-align: right;\">\n",
       "      <th></th>\n",
       "      <th>timestamp</th>\n",
       "      <th>location</th>\n",
       "      <th>day</th>\n",
       "      <th>weekday</th>\n",
       "      <th>hour</th>\n",
       "      <th>window_block</th>\n",
       "    </tr>\n",
       "  </thead>\n",
       "  <tbody>\n",
       "    <tr>\n",
       "      <th>4</th>\n",
       "      <td>2021-05-01 00:40:00</td>\n",
       "      <td>39,  Florijn</td>\n",
       "      <td>1</td>\n",
       "      <td>5</td>\n",
       "      <td>0</td>\n",
       "      <td>4</td>\n",
       "    </tr>\n",
       "    <tr>\n",
       "      <th>5</th>\n",
       "      <td>2021-05-01 00:50:00</td>\n",
       "      <td>39,  Florijn</td>\n",
       "      <td>1</td>\n",
       "      <td>5</td>\n",
       "      <td>0</td>\n",
       "      <td>5</td>\n",
       "    </tr>\n",
       "    <tr>\n",
       "      <th>6</th>\n",
       "      <td>2021-05-01 01:00:00</td>\n",
       "      <td>39,  Florijn</td>\n",
       "      <td>1</td>\n",
       "      <td>5</td>\n",
       "      <td>1</td>\n",
       "      <td>0</td>\n",
       "    </tr>\n",
       "    <tr>\n",
       "      <th>7</th>\n",
       "      <td>2021-05-01 01:10:00</td>\n",
       "      <td>39,  Florijn</td>\n",
       "      <td>1</td>\n",
       "      <td>5</td>\n",
       "      <td>1</td>\n",
       "      <td>1</td>\n",
       "    </tr>\n",
       "    <tr>\n",
       "      <th>8</th>\n",
       "      <td>2021-05-01 01:20:00</td>\n",
       "      <td>39,  Florijn</td>\n",
       "      <td>1</td>\n",
       "      <td>5</td>\n",
       "      <td>1</td>\n",
       "      <td>2</td>\n",
       "    </tr>\n",
       "    <tr>\n",
       "      <th>...</th>\n",
       "      <td>...</td>\n",
       "      <td>...</td>\n",
       "      <td>...</td>\n",
       "      <td>...</td>\n",
       "      <td>...</td>\n",
       "      <td>...</td>\n",
       "    </tr>\n",
       "    <tr>\n",
       "      <th>74731</th>\n",
       "      <td>2022-10-01 23:10:00</td>\n",
       "      <td>305,  Maaspoortweg</td>\n",
       "      <td>1</td>\n",
       "      <td>5</td>\n",
       "      <td>23</td>\n",
       "      <td>1</td>\n",
       "    </tr>\n",
       "    <tr>\n",
       "      <th>74732</th>\n",
       "      <td>2022-10-01 23:20:00</td>\n",
       "      <td>305,  Maaspoortweg</td>\n",
       "      <td>1</td>\n",
       "      <td>5</td>\n",
       "      <td>23</td>\n",
       "      <td>2</td>\n",
       "    </tr>\n",
       "    <tr>\n",
       "      <th>74733</th>\n",
       "      <td>2022-10-01 23:30:00</td>\n",
       "      <td>305,  Maaspoortweg</td>\n",
       "      <td>1</td>\n",
       "      <td>5</td>\n",
       "      <td>23</td>\n",
       "      <td>3</td>\n",
       "    </tr>\n",
       "    <tr>\n",
       "      <th>74734</th>\n",
       "      <td>2022-10-01 23:40:00</td>\n",
       "      <td>305,  Maaspoortweg</td>\n",
       "      <td>1</td>\n",
       "      <td>5</td>\n",
       "      <td>23</td>\n",
       "      <td>4</td>\n",
       "    </tr>\n",
       "    <tr>\n",
       "      <th>74735</th>\n",
       "      <td>2022-10-01 23:50:00</td>\n",
       "      <td>305,  Maaspoortweg</td>\n",
       "      <td>1</td>\n",
       "      <td>5</td>\n",
       "      <td>23</td>\n",
       "      <td>5</td>\n",
       "    </tr>\n",
       "  </tbody>\n",
       "</table>\n",
       "<p>74732 rows × 6 columns</p>\n",
       "</div>"
      ],
      "text/plain": [
       "                timestamp             location  day  weekday  hour  \\\n",
       "4     2021-05-01 00:40:00         39,  Florijn    1        5     0   \n",
       "5     2021-05-01 00:50:00         39,  Florijn    1        5     0   \n",
       "6     2021-05-01 01:00:00         39,  Florijn    1        5     1   \n",
       "7     2021-05-01 01:10:00         39,  Florijn    1        5     1   \n",
       "8     2021-05-01 01:20:00         39,  Florijn    1        5     1   \n",
       "...                   ...                  ...  ...      ...   ...   \n",
       "74731 2022-10-01 23:10:00   305,  Maaspoortweg    1        5    23   \n",
       "74732 2022-10-01 23:20:00   305,  Maaspoortweg    1        5    23   \n",
       "74733 2022-10-01 23:30:00   305,  Maaspoortweg    1        5    23   \n",
       "74734 2022-10-01 23:40:00   305,  Maaspoortweg    1        5    23   \n",
       "74735 2022-10-01 23:50:00   305,  Maaspoortweg    1        5    23   \n",
       "\n",
       "       window_block  \n",
       "4                 4  \n",
       "5                 5  \n",
       "6                 0  \n",
       "7                 1  \n",
       "8                 2  \n",
       "...             ...  \n",
       "74731             1  \n",
       "74732             2  \n",
       "74733             3  \n",
       "74734             4  \n",
       "74735             5  \n",
       "\n",
       "[74732 rows x 6 columns]"
      ]
     },
     "execution_count": 95,
     "metadata": {},
     "output_type": "execute_result"
    }
   ],
   "source": [
    "df"
   ]
  },
  {
   "cell_type": "code",
   "execution_count": 96,
   "id": "4b247c4e",
   "metadata": {},
   "outputs": [],
   "source": [
    "final_results = {} # Dict with keys (dates) and values (scores)\n",
    "lookup = {} # Dict with the feature & target variable combinations\n",
    "current_date = df.head(1).timestamp.dt.date.values[0]\n",
    "this_day_values = []\n",
    "\n",
    "for index, row in df.iterrows():\n",
    "    combi = (row['location'], row['weekday'], row['hour'], row['window_block'])\n",
    "    # print(f\"Data: {combi}, curr date: {current_date}, this day values: {this_day_values}\")\n",
    "\n",
    "    if row['timestamp'].date() == current_date:\n",
    "        if combi in lookup:\n",
    "            this_day_values.append(1)\n",
    "        else:\n",
    "            this_day_values.append(0)\n",
    "\n",
    "    else:\n",
    "        # We need to calculate the final scores for last day, since the new day has started. \n",
    "        ones = this_day_values.count(1)\n",
    "        zeros = this_day_values.count(0)\n",
    "\n",
    "        try:\n",
    "            ratio = ones/(ones + zeros)\n",
    "        except ZeroDivisionError:\n",
    "            ratio = 0\n",
    "        # print(f\"Day {current_date} has ended, ones: {ones}, zeros: {zeros}, ratio: {ratio}\")\n",
    "        final_results[current_date] = ratio\n",
    "\n",
    "        current_date = row['timestamp'].date()\n",
    "        this_day_values = []\n",
    "\n",
    "        if combi in lookup:\n",
    "            this_day_values.append(1)\n",
    "        else:\n",
    "            this_day_values.append(0)\n",
    "\n",
    "    if not combi in lookup:\n",
    "        lookup[combi] = 1\n",
    "    else:\n",
    "        lookup[combi] += 1\n",
    "\n",
    "    "
   ]
  },
  {
   "cell_type": "code",
   "execution_count": 111,
   "id": "63780386",
   "metadata": {},
   "outputs": [],
   "source": [
    "x,y = zip(*sorted(final_results.items()))\n",
    "df_plot = pd.DataFrame({\"Time\":x, \"Percentage of day seen before\":y})"
   ]
  },
  {
   "cell_type": "code",
   "execution_count": 112,
   "id": "60846a60",
   "metadata": {},
   "outputs": [
    {
     "data": {
      "text/html": [
       "<div>\n",
       "<style scoped>\n",
       "    .dataframe tbody tr th:only-of-type {\n",
       "        vertical-align: middle;\n",
       "    }\n",
       "\n",
       "    .dataframe tbody tr th {\n",
       "        vertical-align: top;\n",
       "    }\n",
       "\n",
       "    .dataframe thead th {\n",
       "        text-align: right;\n",
       "    }\n",
       "</style>\n",
       "<table border=\"1\" class=\"dataframe\">\n",
       "  <thead>\n",
       "    <tr style=\"text-align: right;\">\n",
       "      <th></th>\n",
       "      <th>Time</th>\n",
       "      <th>Percentage of day seen before</th>\n",
       "    </tr>\n",
       "  </thead>\n",
       "  <tbody>\n",
       "    <tr>\n",
       "      <th>0</th>\n",
       "      <td>2021-05-01</td>\n",
       "      <td>0.000000</td>\n",
       "    </tr>\n",
       "    <tr>\n",
       "      <th>1</th>\n",
       "      <td>2021-05-02</td>\n",
       "      <td>0.000000</td>\n",
       "    </tr>\n",
       "    <tr>\n",
       "      <th>2</th>\n",
       "      <td>2021-05-03</td>\n",
       "      <td>0.000000</td>\n",
       "    </tr>\n",
       "    <tr>\n",
       "      <th>3</th>\n",
       "      <td>2021-05-04</td>\n",
       "      <td>0.000000</td>\n",
       "    </tr>\n",
       "    <tr>\n",
       "      <th>4</th>\n",
       "      <td>2021-05-05</td>\n",
       "      <td>0.000000</td>\n",
       "    </tr>\n",
       "    <tr>\n",
       "      <th>...</th>\n",
       "      <td>...</td>\n",
       "      <td>...</td>\n",
       "    </tr>\n",
       "    <tr>\n",
       "      <th>513</th>\n",
       "      <td>2022-09-26</td>\n",
       "      <td>1.000000</td>\n",
       "    </tr>\n",
       "    <tr>\n",
       "      <th>514</th>\n",
       "      <td>2022-09-27</td>\n",
       "      <td>1.000000</td>\n",
       "    </tr>\n",
       "    <tr>\n",
       "      <th>515</th>\n",
       "      <td>2022-09-28</td>\n",
       "      <td>1.000000</td>\n",
       "    </tr>\n",
       "    <tr>\n",
       "      <th>516</th>\n",
       "      <td>2022-09-29</td>\n",
       "      <td>1.000000</td>\n",
       "    </tr>\n",
       "    <tr>\n",
       "      <th>517</th>\n",
       "      <td>2022-09-30</td>\n",
       "      <td>0.972222</td>\n",
       "    </tr>\n",
       "  </tbody>\n",
       "</table>\n",
       "<p>518 rows × 2 columns</p>\n",
       "</div>"
      ],
      "text/plain": [
       "           Time  Percentage of day seen before\n",
       "0    2021-05-01                       0.000000\n",
       "1    2021-05-02                       0.000000\n",
       "2    2021-05-03                       0.000000\n",
       "3    2021-05-04                       0.000000\n",
       "4    2021-05-05                       0.000000\n",
       "..          ...                            ...\n",
       "513  2022-09-26                       1.000000\n",
       "514  2022-09-27                       1.000000\n",
       "515  2022-09-28                       1.000000\n",
       "516  2022-09-29                       1.000000\n",
       "517  2022-09-30                       0.972222\n",
       "\n",
       "[518 rows x 2 columns]"
      ]
     },
     "execution_count": 112,
     "metadata": {},
     "output_type": "execute_result"
    }
   ],
   "source": [
    "df_plot\n"
   ]
  },
  {
   "cell_type": "code",
   "execution_count": 137,
   "id": "0adaed64",
   "metadata": {},
   "outputs": [
    {
     "data": {
      "application/vnd.plotly.v1+json": {
       "config": {
        "plotlyServerURL": "https://plotly.com"
       },
       "data": [
        {
         "name": "Savitzky-Golay",
         "type": "scatter",
         "x": [
          "2021-05-01",
          "2021-05-02",
          "2021-05-03",
          "2021-05-04",
          "2021-05-05",
          "2021-05-06",
          "2021-05-07",
          "2021-05-08",
          "2021-05-09",
          "2021-05-10",
          "2021-05-11",
          "2021-05-12",
          "2021-05-13",
          "2021-05-14",
          "2021-05-15",
          "2021-05-16",
          "2021-05-17",
          "2021-05-18",
          "2021-05-19",
          "2021-05-20",
          "2021-05-21",
          "2021-05-22",
          "2021-05-23",
          "2021-05-24",
          "2021-05-25",
          "2021-05-26",
          "2021-05-27",
          "2021-05-28",
          "2021-05-29",
          "2021-05-30",
          "2021-05-31",
          "2021-06-01",
          "2021-06-02",
          "2021-06-03",
          "2021-06-04",
          "2021-06-05",
          "2021-06-06",
          "2021-06-07",
          "2021-06-08",
          "2021-06-09",
          "2021-06-10",
          "2021-06-11",
          "2021-06-12",
          "2021-06-13",
          "2021-06-14",
          "2021-06-15",
          "2021-06-16",
          "2021-06-17",
          "2021-06-18",
          "2021-06-19",
          "2021-06-20",
          "2021-06-21",
          "2021-06-22",
          "2021-06-23",
          "2021-06-24",
          "2021-06-25",
          "2021-06-26",
          "2021-06-27",
          "2021-06-28",
          "2021-06-29",
          "2021-06-30",
          "2021-07-01",
          "2021-07-02",
          "2021-07-03",
          "2021-07-04",
          "2021-07-05",
          "2021-07-06",
          "2021-07-07",
          "2021-07-08",
          "2021-07-09",
          "2021-07-10",
          "2021-07-11",
          "2021-07-12",
          "2021-07-13",
          "2021-07-14",
          "2021-07-15",
          "2021-07-16",
          "2021-07-17",
          "2021-07-18",
          "2021-07-19",
          "2021-07-20",
          "2021-07-21",
          "2021-07-22",
          "2021-07-23",
          "2021-07-24",
          "2021-07-25",
          "2021-07-26",
          "2021-07-27",
          "2021-07-28",
          "2021-07-29",
          "2021-07-30",
          "2021-07-31",
          "2021-08-01",
          "2021-08-02",
          "2021-08-03",
          "2021-08-04",
          "2021-08-05",
          "2021-08-06",
          "2021-08-07",
          "2021-08-08",
          "2021-08-09",
          "2021-08-10",
          "2021-08-11",
          "2021-08-12",
          "2021-08-13",
          "2021-08-14",
          "2021-08-15",
          "2021-08-16",
          "2021-08-17",
          "2021-08-18",
          "2021-08-19",
          "2021-08-20",
          "2021-08-21",
          "2021-08-22",
          "2021-08-23",
          "2021-08-24",
          "2021-08-25",
          "2021-08-26",
          "2021-08-27",
          "2021-08-28",
          "2021-08-29",
          "2021-08-30",
          "2021-08-31",
          "2021-09-01",
          "2021-09-02",
          "2021-09-03",
          "2021-09-04",
          "2021-09-05",
          "2021-09-06",
          "2021-09-07",
          "2021-09-08",
          "2021-09-09",
          "2021-09-10",
          "2021-09-11",
          "2021-09-12",
          "2021-09-13",
          "2021-09-14",
          "2021-09-15",
          "2021-09-16",
          "2021-09-17",
          "2021-09-18",
          "2021-09-19",
          "2021-09-20",
          "2021-09-21",
          "2021-09-22",
          "2021-09-23",
          "2021-09-24",
          "2021-09-25",
          "2021-09-26",
          "2021-09-27",
          "2021-09-28",
          "2021-09-29",
          "2021-09-30",
          "2021-10-01",
          "2021-10-02",
          "2021-10-03",
          "2021-10-04",
          "2021-10-05",
          "2021-10-06",
          "2021-10-07",
          "2021-10-08",
          "2021-10-09",
          "2021-10-10",
          "2021-10-11",
          "2021-10-12",
          "2021-10-13",
          "2021-10-14",
          "2021-10-15",
          "2021-10-16",
          "2021-10-17",
          "2021-10-18",
          "2021-10-19",
          "2021-10-20",
          "2021-10-21",
          "2021-10-22",
          "2021-10-23",
          "2021-10-24",
          "2021-10-25",
          "2021-10-26",
          "2021-10-27",
          "2021-10-28",
          "2021-10-29",
          "2021-10-30",
          "2021-10-31",
          "2021-11-01",
          "2021-11-02",
          "2021-11-03",
          "2021-11-04",
          "2021-11-05",
          "2021-11-06",
          "2021-11-07",
          "2021-11-08",
          "2021-11-09",
          "2021-11-10",
          "2021-11-11",
          "2021-11-12",
          "2021-11-13",
          "2021-11-14",
          "2021-11-15",
          "2021-11-16",
          "2021-11-17",
          "2021-11-18",
          "2021-11-19",
          "2021-11-20",
          "2021-11-21",
          "2021-11-22",
          "2021-11-23",
          "2021-11-24",
          "2021-11-25",
          "2021-11-26",
          "2021-11-27",
          "2021-11-28",
          "2021-11-29",
          "2021-11-30",
          "2021-12-01",
          "2021-12-02",
          "2021-12-03",
          "2021-12-04",
          "2021-12-05",
          "2021-12-06",
          "2021-12-07",
          "2021-12-08",
          "2021-12-09",
          "2021-12-10",
          "2021-12-11",
          "2021-12-12",
          "2021-12-13",
          "2021-12-14",
          "2021-12-15",
          "2021-12-16",
          "2021-12-17",
          "2021-12-18",
          "2021-12-19",
          "2021-12-20",
          "2021-12-21",
          "2021-12-22",
          "2021-12-23",
          "2021-12-24",
          "2021-12-25",
          "2021-12-26",
          "2021-12-27",
          "2021-12-28",
          "2021-12-29",
          "2021-12-30",
          "2021-12-31",
          "2022-01-01",
          "2022-01-02",
          "2022-01-03",
          "2022-01-04",
          "2022-01-05",
          "2022-01-06",
          "2022-01-07",
          "2022-01-08",
          "2022-01-09",
          "2022-01-10",
          "2022-01-11",
          "2022-01-12",
          "2022-01-13",
          "2022-01-14",
          "2022-01-15",
          "2022-01-16",
          "2022-01-17",
          "2022-01-18",
          "2022-01-19",
          "2022-01-20",
          "2022-01-21",
          "2022-01-22",
          "2022-01-23",
          "2022-01-24",
          "2022-01-25",
          "2022-01-26",
          "2022-01-27",
          "2022-01-28",
          "2022-01-29",
          "2022-01-30",
          "2022-01-31",
          "2022-02-01",
          "2022-02-02",
          "2022-02-03",
          "2022-02-04",
          "2022-02-05",
          "2022-02-06",
          "2022-02-07",
          "2022-02-08",
          "2022-02-09",
          "2022-02-10",
          "2022-02-11",
          "2022-02-12",
          "2022-02-13",
          "2022-02-14",
          "2022-02-15",
          "2022-02-16",
          "2022-02-17",
          "2022-02-18",
          "2022-02-19",
          "2022-02-20",
          "2022-02-21",
          "2022-02-22",
          "2022-02-23",
          "2022-02-24",
          "2022-02-25",
          "2022-02-26",
          "2022-02-27",
          "2022-02-28",
          "2022-03-01",
          "2022-03-02",
          "2022-03-03",
          "2022-03-04",
          "2022-03-05",
          "2022-03-06",
          "2022-03-07",
          "2022-03-08",
          "2022-03-09",
          "2022-03-10",
          "2022-03-11",
          "2022-03-12",
          "2022-03-13",
          "2022-03-14",
          "2022-03-15",
          "2022-03-16",
          "2022-03-17",
          "2022-03-18",
          "2022-03-19",
          "2022-03-20",
          "2022-03-21",
          "2022-03-22",
          "2022-03-23",
          "2022-03-24",
          "2022-03-25",
          "2022-03-26",
          "2022-03-27",
          "2022-03-28",
          "2022-03-29",
          "2022-03-30",
          "2022-03-31",
          "2022-04-01",
          "2022-04-02",
          "2022-04-03",
          "2022-04-04",
          "2022-04-05",
          "2022-04-06",
          "2022-04-07",
          "2022-04-08",
          "2022-04-09",
          "2022-04-10",
          "2022-04-11",
          "2022-04-12",
          "2022-04-13",
          "2022-04-14",
          "2022-04-15",
          "2022-04-16",
          "2022-04-17",
          "2022-04-18",
          "2022-04-19",
          "2022-04-20",
          "2022-04-21",
          "2022-04-22",
          "2022-04-23",
          "2022-04-24",
          "2022-04-25",
          "2022-04-26",
          "2022-04-27",
          "2022-04-28",
          "2022-04-29",
          "2022-04-30",
          "2022-05-01",
          "2022-05-02",
          "2022-05-03",
          "2022-05-04",
          "2022-05-05",
          "2022-05-06",
          "2022-05-07",
          "2022-05-08",
          "2022-05-09",
          "2022-05-10",
          "2022-05-11",
          "2022-05-12",
          "2022-05-13",
          "2022-05-14",
          "2022-05-15",
          "2022-05-16",
          "2022-05-17",
          "2022-05-18",
          "2022-05-19",
          "2022-05-20",
          "2022-05-21",
          "2022-05-22",
          "2022-05-23",
          "2022-05-24",
          "2022-05-25",
          "2022-05-26",
          "2022-05-27",
          "2022-05-28",
          "2022-05-29",
          "2022-05-30",
          "2022-05-31",
          "2022-06-01",
          "2022-06-02",
          "2022-06-03",
          "2022-06-04",
          "2022-06-05",
          "2022-06-06",
          "2022-06-07",
          "2022-06-08",
          "2022-06-09",
          "2022-06-10",
          "2022-06-11",
          "2022-06-12",
          "2022-06-13",
          "2022-06-14",
          "2022-06-15",
          "2022-06-16",
          "2022-06-17",
          "2022-06-18",
          "2022-06-19",
          "2022-06-20",
          "2022-06-21",
          "2022-06-22",
          "2022-06-23",
          "2022-06-24",
          "2022-06-25",
          "2022-06-26",
          "2022-06-27",
          "2022-06-28",
          "2022-06-29",
          "2022-06-30",
          "2022-07-01",
          "2022-07-02",
          "2022-07-03",
          "2022-07-04",
          "2022-07-05",
          "2022-07-06",
          "2022-07-07",
          "2022-07-08",
          "2022-07-09",
          "2022-07-10",
          "2022-07-11",
          "2022-07-12",
          "2022-07-13",
          "2022-07-14",
          "2022-07-15",
          "2022-07-16",
          "2022-07-17",
          "2022-07-18",
          "2022-07-19",
          "2022-07-20",
          "2022-07-21",
          "2022-07-22",
          "2022-07-23",
          "2022-07-24",
          "2022-07-25",
          "2022-07-26",
          "2022-07-27",
          "2022-07-28",
          "2022-07-29",
          "2022-07-30",
          "2022-07-31",
          "2022-08-01",
          "2022-08-02",
          "2022-08-03",
          "2022-08-04",
          "2022-08-05",
          "2022-08-06",
          "2022-08-07",
          "2022-08-08",
          "2022-08-09",
          "2022-08-10",
          "2022-08-11",
          "2022-08-12",
          "2022-08-13",
          "2022-08-14",
          "2022-08-15",
          "2022-08-16",
          "2022-08-17",
          "2022-08-18",
          "2022-08-19",
          "2022-08-20",
          "2022-08-21",
          "2022-08-22",
          "2022-08-23",
          "2022-08-24",
          "2022-08-25",
          "2022-08-26",
          "2022-08-27",
          "2022-08-28",
          "2022-08-29",
          "2022-08-30",
          "2022-08-31",
          "2022-09-01",
          "2022-09-02",
          "2022-09-03",
          "2022-09-04",
          "2022-09-05",
          "2022-09-06",
          "2022-09-07",
          "2022-09-08",
          "2022-09-09",
          "2022-09-10",
          "2022-09-11",
          "2022-09-12",
          "2022-09-13",
          "2022-09-14",
          "2022-09-15",
          "2022-09-16",
          "2022-09-17",
          "2022-09-18",
          "2022-09-19",
          "2022-09-20",
          "2022-09-21",
          "2022-09-22",
          "2022-09-23",
          "2022-09-24",
          "2022-09-25",
          "2022-09-26",
          "2022-09-27",
          "2022-09-28",
          "2022-09-29",
          "2022-09-30"
         ],
         "y": [
          -0.015120929794843587,
          -0.03114522141982151,
          -0.02268850100657921,
          0.0070159009215406635,
          0.05473465384119554,
          0.1172344272290427,
          0.19128189056173953,
          0.27364371331594345,
          0.36108656496831193,
          0.45037711499550204,
          0.5647227483165005,
          0.6375973274410801,
          0.6948889941077468,
          0.7549558080808109,
          0.7920980639730671,
          0.8076467803030336,
          0.8141387836700369,
          0.8541087962962995,
          0.8459017255892288,
          0.8554082491582524,
          0.8922322180134714,
          0.8997711489899024,
          0.8771201599326633,
          0.8764257154882189,
          0.895772832491586,
          0.8961489898989935,
          0.891308922558926,
          0.8872579966330003,
          0.8788273358585892,
          0.8719065656565691,
          0.873987268518522,
          0.8720354587542123,
          0.8786063762626298,
          0.8754392887205421,
          0.8811763468013502,
          0.9001025883838419,
          0.9135600799663333,
          0.925007891414145,
          0.9528461700336737,
          0.9539483375420913,
          0.9476483585858624,
          0.9574652777777815,
          0.9750078914141452,
          0.9789036195286233,
          0.9448653198653235,
          0.921430450336704,
          0.896832912457916,
          0.875918034511788,
          0.8538273358585892,
          0.8412378998316531,
          0.8316892887205419,
          0.820088909932663,
          0.817347958754212,
          0.8218750000000032,
          0.8301083754208786,
          0.8486111111111144,
          0.8693760521885556,
          0.8832807239057273,
          0.887452651515155,
          0.907018097643101,
          0.9332965067340103,
          0.9509811658249195,
          0.9445601851851888,
          0.9358138678451213,
          0.93669770622896,
          0.9361190025252561,
          0.9396806607744145,
          0.9465093644781183,
          0.9584069865319903,
          0.9608664772727311,
          0.9609690656565694,
          0.9737768308080845,
          0.9749131944444483,
          0.9845117845117884,
          0.9859506523569064,
          0.9829177188552226,
          0.973158670033674,
          0.9678793139730677,
          0.9681581439393978,
          0.9669586489899028,
          0.9624947390572428,
          0.9637705176767715,
          0.9622185395622934,
          0.9587515782828319,
          0.9600220959595999,
          0.9625736531986568,
          0.9670717592592629,
          0.9767361111111149,
          0.977243792087546,
          0.983030829124583,
          1.0013415404040442,
          1.0338041877104416,
          1.0472038089225628,
          1.0050031565656607,
          0.9610821759259297,
          0.9210069444444481,
          0.8928345959595994,
          0.8869844276094307,
          0.8607454755892289,
          0.8195259890572424,
          0.7705992213804742,
          0.6955913299663327,
          0.6080492424242449,
          0.5370528198653222,
          0.4966408880471399,
          0.4706439393939413,
          0.4625946969696988,
          0.4751709806397324,
          0.5131076388888909,
          0.5777172769360291,
          0.6391098484848509,
          0.669957386363639,
          0.6897700968013496,
          0.7425925925925955,
          0.8147385311447846,
          0.8948363846801383,
          0.9590356691919231,
          0.9835095749158287,
          0.9958833122895666,
          0.9980245159932696,
          1.0020491372053912,
          0.9594170875420914,
          0.9397990319865356,
          0.9279434974747512,
          0.9081360479798015,
          0.8991056397306433,
          0.9010890151515187,
          0.8937105429292965,
          0.8931055345117879,
          0.8876815025252559,
          0.8942813552188588,
          0.8975220959595994,
          0.9055266203703739,
          0.9150857533670069,
          0.9292587331649869,
          0.9319365530303065,
          0.9429950547138083,
          0.9599352904040442,
          0.9763652146464684,
          0.9886389941077478,
          0.9594486531986568,
          0.9652199074074111,
          0.9636889730639769,
          0.9655224116161655,
          0.9701520412457951,
          0.9718513257575797,
          0.9669744318181857,
          0.9714541245791285,
          0.9759522306397345,
          0.9836884469697007,
          0.9864267676767715,
          0.9893202861952902,
          0.9891650883838421,
          0.9890546085858624,
          0.9817024410774449,
          0.9787247474747511,
          0.9817340067340107,
          0.9972879840067379,
          1.02436342592593,
          0.9954545454545493,
          0.9708596380471419,
          0.9414009890572428,
          0.9211463594276131,
          0.9086095328282866,
          0.8954571759259294,
          0.8874158249158284,
          0.8834438131313166,
          0.8835411405723941,
          0.8860874368686903,
          0.8915351430976466,
          0.9013994107744143,
          0.9108822601010137,
          0.9251920244107781,
          0.9432291666666704,
          0.9673821548821588,
          0.9930818602693641,
          1.017929292929297,
          1.0229719065656604,
          0.9864714856902393,
          0.9877604166666704,
          0.9884811658249196,
          0.9901909722222261,
          0.9924873737373776,
          0.9895307239057278,
          0.9903198653198692,
          0.9909695917508455,
          1.003388047138051,
          1.0002551557239094,
          0.9968171296296334,
          0.9919086700336741,
          0.989888468013472,
          0.9825810185185224,
          0.9962042297979837,
          1.0302372685185222,
          1.0330045244107784,
          1.0035563973064012,
          0.9379182449494987,
          0.8766282617845151,
          0.827285879629633,
          0.7877367424242455,
          0.7554345538720567,
          0.7323758417508447,
          0.7236005892255919,
          0.7207754629629658,
          0.731428872053875,
          0.7464751683501712,
          0.7554056186868716,
          0.7822653619528651,
          0.8203808922558955,
          0.8665482954545489,
          0.9214935816498353,
          0.9885784932659972,
          1.036534617003371,
          1.0336200547138086,
          1.010821759259263,
          0.9850825968013507,
          0.9951336279461317,
          0.9934843223905762,
          0.990112058080812,
          0.9865214646464685,
          0.9891282617845157,
          0.9890309343434381,
          0.9838567971380507,
          0.9887547348484885,
          0.9788641624579163,
          0.9744449705387244,
          0.9701415193602732,
          0.9680371422558961,
          0.9666614057239096,
          0.9726904461279499,
          0.9723458543771083,
          0.9860453493266031,
          1.0298006102693644,
          1.0452099116161657,
          1.0353088173400715,
          0.9926872895622935,
          0.8885258838383875,
          0.8084727483165013,
          0.7431055345117873,
          0.702083333333336,
          0.6547059132996659,
          0.6242371632996657,
          0.6125236742424266,
          0.6015546085858609,
          0.6077362163299685,
          0.6330492424242449,
          0.6700599747474774,
          0.7221117424242454,
          0.7864372895622926,
          0.8645333543771077,
          0.9839251893939432,
          1.0598616372053917,
          1.0440261994949536,
          0.9681791877104415,
          0.8917455808080843,
          0.8020596590909123,
          0.7463462752525282,
          0.7047585227272755,
          0.6873579545454573,
          0.6679661195286222,
          0.659835332491585,
          0.6518518518518543,
          0.649997369528622,
          0.6550531355218882,
          0.6793665824915852,
          0.7230271464646493,
          0.7770622895622926,
          0.8358664772727306,
          0.8937052819865354,
          0.9387731481481518,
          0.9115872264309801,
          0.8735269360269393,
          0.8459648569023602,
          0.8540930134680168,
          0.8382891414141449,
          0.8312552609427641,
          0.8419113005050538,
          0.8581044823232357,
          0.8718092382154916,
          0.870304608585862,
          0.8685763888888922,
          0.8794349747474782,
          0.8879156144781178,
          0.9122290614478151,
          0.9387652567340105,
          0.9526383627946164,
          0.9591987584175123,
          0.9569549663299701,
          0.9564525462963,
          0.9444286616161655,
          0.9477377946127984,
          0.9571259469697007,
          0.959872159090913,
          0.9605061026936066,
          0.9703256523569062,
          0.9719749579124618,
          0.970999053030307,
          0.9774910563973099,
          0.9752183291245832,
          0.9723747895622934,
          0.9734190867003407,
          0.971669823232327,
          0.9721959175084213,
          0.9692550505050543,
          0.9649647516835056,
          0.9625920664983203,
          0.9641677188552225,
          0.9660248316498355,
          0.9667613636363674,
          0.9698600589225628,
          0.9725220959595999,
          0.9728403829966369,
          0.9766019570707108,
          0.9796743476431015,
          0.9742450547138085,
          0.9743897306397344,
          0.9784748526936066,
          0.9781223695286234,
          0.9776725589225629,
          0.9811973905723944,
          0.9838831018518558,
          0.9860690235690271,
          0.9915614478114515,
          0.9903645833333374,
          0.9922059132996671,
          0.9944076178451217,
          0.9958912037037074,
          0.9970065235690272,
          0.9951625631313171,
          0.9921875000000037,
          0.994723274410778,
          0.9916193181818219,
          0.9912642045454584,
          0.9877840909090947,
          0.9855481902356941,
          0.9845565025252564,
          0.987931397306401,
          0.9852825126262664,
          0.9831518308080844,
          0.9862294823232364,
          1.010258838383842,
          0.9937999789562328,
          0.973745265151519,
          0.9598826809764346,
          0.9489925294612832,
          0.9418797348484885,
          0.9344644360269398,
          0.9312026515151551,
          0.9312894570707108,
          0.9336831860269397,
          0.9310632365319902,
          0.9359296085858623,
          0.9401252104377142,
          0.9488583754208791,
          0.9601167929292967,
          0.9732349537037077,
          0.9828782617845154,
          0.996312079124583,
          1.0124105639730678,
          1.0241161616161654,
          0.9985874368686908,
          0.9968460648148186,
          0.9968986742424281,
          0.9971354166666705,
          0.9983612163299701,
          0.9983691077441117,
          0.9978509048821588,
          0.9985663930976472,
          0.9963489057239097,
          0.9949021464646502,
          0.9946285774410814,
          0.9934448653198691,
          0.9926820286195325,
          0.9939499158249195,
          0.9954966329966366,
          0.9937342171717211,
          0.9936158459596,
          0.9911405723905763,
          0.9875631313131351,
          0.9848800505050544,
          0.987115951178455,
          0.9838541666666706,
          0.9817497895622934,
          0.9812052819865357,
          0.9798479587542126,
          0.9784301346801386,
          0.9786063762626301,
          0.9775489267676808,
          0.9790219907407446,
          0.9814157196969736,
          0.983399095117849,
          0.987055450336704,
          0.991579861111115,
          0.9943102904040443,
          0.9958228114478153,
          0.9997159090909129,
          1.0006655092592631,
          0.9998000841750879,
          1.0006155303030342,
          1.0043192340067377,
          0.9980061026936063,
          0.9964883207070748,
          0.9946996001683539,
          0.9934448653198692,
          0.9916824494949534,
          0.9903409090909131,
          0.9894202441077479,
          0.9889204545454583,
          0.9892440025252563,
          0.9893492213804751,
          0.9907065446127986,
          0.9912326388888928,
          0.9922585227272768,
          0.9941866582491622,
          0.9953098695286233,
          0.9973353324915865,
          0.9958675294612832,
          0.9971564604377144,
          0.9987873526936065,
          1.0044139309764346,
          1.0012994528619568,
          1.0001446759259298,
          0.9986111111111151,
          0.9933291245791284,
          0.986121632996637,
          0.9805792297979837,
          0.9756602483165022,
          0.9720301978114516,
          0.9690235690235728,
          0.9680844907407447,
          0.9664378156565694,
          0.9668323863636401,
          0.9684632786195325,
          0.9730797558922598,
          0.9754734848484888,
          0.9792350589225628,
          0.9843644781144819,
          0.9908617424242462,
          0.9987268518518556,
          0.9953151304713842,
          0.9990872264309804,
          0.9991556186868725,
          0.9970591329966368,
          0.9949600168350207,
          0.995486111111115,
          0.9955571338383876,
          0.9962147516835055,
          1.0006786616161654,
          1.0015861742424281,
          0.9990530303030343,
          0.9974484427609466,
          0.9963699494949533,
          0.9958175505050543,
          1.0111163720538758,
          1.0435921717171754,
          1.0503787878787918,
          1.0244318181818222,
          0.9720538720538761,
          0.9377314814814852,
          0.8541614057239092,
          0.7839015151515183,
          0.7277567340067368,
          0.6848511153198681,
          0.6541956018518544,
          0.6361058501683526,
          0.6324810606060629,
          0.639820075757578,
          0.6580150462962988,
          0.6847800925925953,
          0.727025462962966,
          0.7827388468013499,
          0.8543350168350203,
          0.9355639730639767,
          0.9984743265993307,
          1.0185290404040444,
          1.0198705808080846,
          1.017434764309768,
          1.021753998316502,
          0.9855876473064012,
          0.9925294612794651,
          0.9918718434343473,
          0.9937526304713845,
          0.9909669612794653,
          0.9891624579124617,
          0.988549558080812,
          0.986702967171721,
          0.9902041245791283,
          0.9848274410774448,
          0.9835648148148185,
          0.9831965488215525,
          0.984125105218859,
          0.9813157617845156,
          0.9816840277777815,
          0.9832175925925964,
          0.9864846380471419,
          0.9879840067340104,
          0.9903777356902396,
          0.9936658249158289,
          0.9971827651515189,
          0.9933186026936064,
          0.995615004208758,
          0.9931397306397343,
          0.9938499579124617,
          0.994928451178455,
          0.9963752104377143,
          0.9981902356902393,
          0.9957149621212159,
          0.9978509048821588,
          0.9986486623634961,
          1.000079325584104,
          1.001141023753421,
          1.001654761597217,
          1.0014415438412612,
          1.0003223752113237,
          0.9981182604331748,
          0.9946502042325839,
          0.9897392113353208,
          0.9832062864671557
         ]
        }
       ],
       "layout": {
        "template": {
         "data": {
          "bar": [
           {
            "error_x": {
             "color": "#2a3f5f"
            },
            "error_y": {
             "color": "#2a3f5f"
            },
            "marker": {
             "line": {
              "color": "#E5ECF6",
              "width": 0.5
             },
             "pattern": {
              "fillmode": "overlay",
              "size": 10,
              "solidity": 0.2
             }
            },
            "type": "bar"
           }
          ],
          "barpolar": [
           {
            "marker": {
             "line": {
              "color": "#E5ECF6",
              "width": 0.5
             },
             "pattern": {
              "fillmode": "overlay",
              "size": 10,
              "solidity": 0.2
             }
            },
            "type": "barpolar"
           }
          ],
          "carpet": [
           {
            "aaxis": {
             "endlinecolor": "#2a3f5f",
             "gridcolor": "white",
             "linecolor": "white",
             "minorgridcolor": "white",
             "startlinecolor": "#2a3f5f"
            },
            "baxis": {
             "endlinecolor": "#2a3f5f",
             "gridcolor": "white",
             "linecolor": "white",
             "minorgridcolor": "white",
             "startlinecolor": "#2a3f5f"
            },
            "type": "carpet"
           }
          ],
          "choropleth": [
           {
            "colorbar": {
             "outlinewidth": 0,
             "ticks": ""
            },
            "type": "choropleth"
           }
          ],
          "contour": [
           {
            "colorbar": {
             "outlinewidth": 0,
             "ticks": ""
            },
            "colorscale": [
             [
              0,
              "#0d0887"
             ],
             [
              0.1111111111111111,
              "#46039f"
             ],
             [
              0.2222222222222222,
              "#7201a8"
             ],
             [
              0.3333333333333333,
              "#9c179e"
             ],
             [
              0.4444444444444444,
              "#bd3786"
             ],
             [
              0.5555555555555556,
              "#d8576b"
             ],
             [
              0.6666666666666666,
              "#ed7953"
             ],
             [
              0.7777777777777778,
              "#fb9f3a"
             ],
             [
              0.8888888888888888,
              "#fdca26"
             ],
             [
              1,
              "#f0f921"
             ]
            ],
            "type": "contour"
           }
          ],
          "contourcarpet": [
           {
            "colorbar": {
             "outlinewidth": 0,
             "ticks": ""
            },
            "type": "contourcarpet"
           }
          ],
          "heatmap": [
           {
            "colorbar": {
             "outlinewidth": 0,
             "ticks": ""
            },
            "colorscale": [
             [
              0,
              "#0d0887"
             ],
             [
              0.1111111111111111,
              "#46039f"
             ],
             [
              0.2222222222222222,
              "#7201a8"
             ],
             [
              0.3333333333333333,
              "#9c179e"
             ],
             [
              0.4444444444444444,
              "#bd3786"
             ],
             [
              0.5555555555555556,
              "#d8576b"
             ],
             [
              0.6666666666666666,
              "#ed7953"
             ],
             [
              0.7777777777777778,
              "#fb9f3a"
             ],
             [
              0.8888888888888888,
              "#fdca26"
             ],
             [
              1,
              "#f0f921"
             ]
            ],
            "type": "heatmap"
           }
          ],
          "heatmapgl": [
           {
            "colorbar": {
             "outlinewidth": 0,
             "ticks": ""
            },
            "colorscale": [
             [
              0,
              "#0d0887"
             ],
             [
              0.1111111111111111,
              "#46039f"
             ],
             [
              0.2222222222222222,
              "#7201a8"
             ],
             [
              0.3333333333333333,
              "#9c179e"
             ],
             [
              0.4444444444444444,
              "#bd3786"
             ],
             [
              0.5555555555555556,
              "#d8576b"
             ],
             [
              0.6666666666666666,
              "#ed7953"
             ],
             [
              0.7777777777777778,
              "#fb9f3a"
             ],
             [
              0.8888888888888888,
              "#fdca26"
             ],
             [
              1,
              "#f0f921"
             ]
            ],
            "type": "heatmapgl"
           }
          ],
          "histogram": [
           {
            "marker": {
             "pattern": {
              "fillmode": "overlay",
              "size": 10,
              "solidity": 0.2
             }
            },
            "type": "histogram"
           }
          ],
          "histogram2d": [
           {
            "colorbar": {
             "outlinewidth": 0,
             "ticks": ""
            },
            "colorscale": [
             [
              0,
              "#0d0887"
             ],
             [
              0.1111111111111111,
              "#46039f"
             ],
             [
              0.2222222222222222,
              "#7201a8"
             ],
             [
              0.3333333333333333,
              "#9c179e"
             ],
             [
              0.4444444444444444,
              "#bd3786"
             ],
             [
              0.5555555555555556,
              "#d8576b"
             ],
             [
              0.6666666666666666,
              "#ed7953"
             ],
             [
              0.7777777777777778,
              "#fb9f3a"
             ],
             [
              0.8888888888888888,
              "#fdca26"
             ],
             [
              1,
              "#f0f921"
             ]
            ],
            "type": "histogram2d"
           }
          ],
          "histogram2dcontour": [
           {
            "colorbar": {
             "outlinewidth": 0,
             "ticks": ""
            },
            "colorscale": [
             [
              0,
              "#0d0887"
             ],
             [
              0.1111111111111111,
              "#46039f"
             ],
             [
              0.2222222222222222,
              "#7201a8"
             ],
             [
              0.3333333333333333,
              "#9c179e"
             ],
             [
              0.4444444444444444,
              "#bd3786"
             ],
             [
              0.5555555555555556,
              "#d8576b"
             ],
             [
              0.6666666666666666,
              "#ed7953"
             ],
             [
              0.7777777777777778,
              "#fb9f3a"
             ],
             [
              0.8888888888888888,
              "#fdca26"
             ],
             [
              1,
              "#f0f921"
             ]
            ],
            "type": "histogram2dcontour"
           }
          ],
          "mesh3d": [
           {
            "colorbar": {
             "outlinewidth": 0,
             "ticks": ""
            },
            "type": "mesh3d"
           }
          ],
          "parcoords": [
           {
            "line": {
             "colorbar": {
              "outlinewidth": 0,
              "ticks": ""
             }
            },
            "type": "parcoords"
           }
          ],
          "pie": [
           {
            "automargin": true,
            "type": "pie"
           }
          ],
          "scatter": [
           {
            "fillpattern": {
             "fillmode": "overlay",
             "size": 10,
             "solidity": 0.2
            },
            "type": "scatter"
           }
          ],
          "scatter3d": [
           {
            "line": {
             "colorbar": {
              "outlinewidth": 0,
              "ticks": ""
             }
            },
            "marker": {
             "colorbar": {
              "outlinewidth": 0,
              "ticks": ""
             }
            },
            "type": "scatter3d"
           }
          ],
          "scattercarpet": [
           {
            "marker": {
             "colorbar": {
              "outlinewidth": 0,
              "ticks": ""
             }
            },
            "type": "scattercarpet"
           }
          ],
          "scattergeo": [
           {
            "marker": {
             "colorbar": {
              "outlinewidth": 0,
              "ticks": ""
             }
            },
            "type": "scattergeo"
           }
          ],
          "scattergl": [
           {
            "marker": {
             "colorbar": {
              "outlinewidth": 0,
              "ticks": ""
             }
            },
            "type": "scattergl"
           }
          ],
          "scattermapbox": [
           {
            "marker": {
             "colorbar": {
              "outlinewidth": 0,
              "ticks": ""
             }
            },
            "type": "scattermapbox"
           }
          ],
          "scatterpolar": [
           {
            "marker": {
             "colorbar": {
              "outlinewidth": 0,
              "ticks": ""
             }
            },
            "type": "scatterpolar"
           }
          ],
          "scatterpolargl": [
           {
            "marker": {
             "colorbar": {
              "outlinewidth": 0,
              "ticks": ""
             }
            },
            "type": "scatterpolargl"
           }
          ],
          "scatterternary": [
           {
            "marker": {
             "colorbar": {
              "outlinewidth": 0,
              "ticks": ""
             }
            },
            "type": "scatterternary"
           }
          ],
          "surface": [
           {
            "colorbar": {
             "outlinewidth": 0,
             "ticks": ""
            },
            "colorscale": [
             [
              0,
              "#0d0887"
             ],
             [
              0.1111111111111111,
              "#46039f"
             ],
             [
              0.2222222222222222,
              "#7201a8"
             ],
             [
              0.3333333333333333,
              "#9c179e"
             ],
             [
              0.4444444444444444,
              "#bd3786"
             ],
             [
              0.5555555555555556,
              "#d8576b"
             ],
             [
              0.6666666666666666,
              "#ed7953"
             ],
             [
              0.7777777777777778,
              "#fb9f3a"
             ],
             [
              0.8888888888888888,
              "#fdca26"
             ],
             [
              1,
              "#f0f921"
             ]
            ],
            "type": "surface"
           }
          ],
          "table": [
           {
            "cells": {
             "fill": {
              "color": "#EBF0F8"
             },
             "line": {
              "color": "white"
             }
            },
            "header": {
             "fill": {
              "color": "#C8D4E3"
             },
             "line": {
              "color": "white"
             }
            },
            "type": "table"
           }
          ]
         },
         "layout": {
          "annotationdefaults": {
           "arrowcolor": "#2a3f5f",
           "arrowhead": 0,
           "arrowwidth": 1
          },
          "autotypenumbers": "strict",
          "coloraxis": {
           "colorbar": {
            "outlinewidth": 0,
            "ticks": ""
           }
          },
          "colorscale": {
           "diverging": [
            [
             0,
             "#8e0152"
            ],
            [
             0.1,
             "#c51b7d"
            ],
            [
             0.2,
             "#de77ae"
            ],
            [
             0.3,
             "#f1b6da"
            ],
            [
             0.4,
             "#fde0ef"
            ],
            [
             0.5,
             "#f7f7f7"
            ],
            [
             0.6,
             "#e6f5d0"
            ],
            [
             0.7,
             "#b8e186"
            ],
            [
             0.8,
             "#7fbc41"
            ],
            [
             0.9,
             "#4d9221"
            ],
            [
             1,
             "#276419"
            ]
           ],
           "sequential": [
            [
             0,
             "#0d0887"
            ],
            [
             0.1111111111111111,
             "#46039f"
            ],
            [
             0.2222222222222222,
             "#7201a8"
            ],
            [
             0.3333333333333333,
             "#9c179e"
            ],
            [
             0.4444444444444444,
             "#bd3786"
            ],
            [
             0.5555555555555556,
             "#d8576b"
            ],
            [
             0.6666666666666666,
             "#ed7953"
            ],
            [
             0.7777777777777778,
             "#fb9f3a"
            ],
            [
             0.8888888888888888,
             "#fdca26"
            ],
            [
             1,
             "#f0f921"
            ]
           ],
           "sequentialminus": [
            [
             0,
             "#0d0887"
            ],
            [
             0.1111111111111111,
             "#46039f"
            ],
            [
             0.2222222222222222,
             "#7201a8"
            ],
            [
             0.3333333333333333,
             "#9c179e"
            ],
            [
             0.4444444444444444,
             "#bd3786"
            ],
            [
             0.5555555555555556,
             "#d8576b"
            ],
            [
             0.6666666666666666,
             "#ed7953"
            ],
            [
             0.7777777777777778,
             "#fb9f3a"
            ],
            [
             0.8888888888888888,
             "#fdca26"
            ],
            [
             1,
             "#f0f921"
            ]
           ]
          },
          "colorway": [
           "#636efa",
           "#EF553B",
           "#00cc96",
           "#ab63fa",
           "#FFA15A",
           "#19d3f3",
           "#FF6692",
           "#B6E880",
           "#FF97FF",
           "#FECB52"
          ],
          "font": {
           "color": "#2a3f5f"
          },
          "geo": {
           "bgcolor": "white",
           "lakecolor": "white",
           "landcolor": "#E5ECF6",
           "showlakes": true,
           "showland": true,
           "subunitcolor": "white"
          },
          "hoverlabel": {
           "align": "left"
          },
          "hovermode": "closest",
          "mapbox": {
           "style": "light"
          },
          "paper_bgcolor": "white",
          "plot_bgcolor": "#E5ECF6",
          "polar": {
           "angularaxis": {
            "gridcolor": "white",
            "linecolor": "white",
            "ticks": ""
           },
           "bgcolor": "#E5ECF6",
           "radialaxis": {
            "gridcolor": "white",
            "linecolor": "white",
            "ticks": ""
           }
          },
          "scene": {
           "xaxis": {
            "backgroundcolor": "#E5ECF6",
            "gridcolor": "white",
            "gridwidth": 2,
            "linecolor": "white",
            "showbackground": true,
            "ticks": "",
            "zerolinecolor": "white"
           },
           "yaxis": {
            "backgroundcolor": "#E5ECF6",
            "gridcolor": "white",
            "gridwidth": 2,
            "linecolor": "white",
            "showbackground": true,
            "ticks": "",
            "zerolinecolor": "white"
           },
           "zaxis": {
            "backgroundcolor": "#E5ECF6",
            "gridcolor": "white",
            "gridwidth": 2,
            "linecolor": "white",
            "showbackground": true,
            "ticks": "",
            "zerolinecolor": "white"
           }
          },
          "shapedefaults": {
           "line": {
            "color": "#2a3f5f"
           }
          },
          "ternary": {
           "aaxis": {
            "gridcolor": "white",
            "linecolor": "white",
            "ticks": ""
           },
           "baxis": {
            "gridcolor": "white",
            "linecolor": "white",
            "ticks": ""
           },
           "bgcolor": "#E5ECF6",
           "caxis": {
            "gridcolor": "white",
            "linecolor": "white",
            "ticks": ""
           }
          },
          "title": {
           "x": 0.05
          },
          "xaxis": {
           "automargin": true,
           "gridcolor": "white",
           "linecolor": "white",
           "ticks": "",
           "title": {
            "standoff": 15
           },
           "zerolinecolor": "white",
           "zerolinewidth": 2
          },
          "yaxis": {
           "automargin": true,
           "gridcolor": "white",
           "linecolor": "white",
           "ticks": "",
           "title": {
            "standoff": 15
           },
           "zerolinecolor": "white",
           "zerolinewidth": 2
          }
         }
        }
       }
      }
     },
     "metadata": {},
     "output_type": "display_data"
    }
   ],
   "source": [
    "import plotly.express as px\n",
    "import plotly.graph_objects as go\n",
    "from scipy import signal\n",
    "\n",
    "# fig = px.line(df_plot, x=\"Time\", y=\"Percentage of day seen before\", title='How common are the days?')\n",
    "# fig.show()\n",
    "\n",
    "fig = go.Figure()\n",
    "\n",
    "fig.add_trace(go.Scatter(\n",
    "    x=df_plot.Time.values.tolist(),\n",
    "    y=signal.savgol_filter(df_plot['Percentage of day seen before'].values.tolist(),\n",
    "                           20, # window size used for filtering\n",
    "                           3), # order of fitted polynomial\n",
    "    name='Savitzky-Golay'\n",
    "))\n"
   ]
  },
  {
   "cell_type": "code",
   "execution_count": 130,
   "id": "e5eaa3bf",
   "metadata": {},
   "outputs": [
    {
     "data": {
      "application/vnd.plotly.v1+json": {
       "config": {
        "plotlyServerURL": "https://plotly.com"
       },
       "data": [
        {
         "hovertemplate": "Time=%{x}<br>Percentage of day seen before=%{y}<extra></extra>",
         "legendgroup": "",
         "line": {
          "color": "#636efa",
          "dash": "solid"
         },
         "marker": {
          "symbol": "circle"
         },
         "mode": "lines",
         "name": "",
         "orientation": "v",
         "showlegend": false,
         "type": "scatter",
         "x": [
          "2021-05-01",
          "2021-05-02",
          "2021-05-03",
          "2021-05-04",
          "2021-05-05",
          "2021-05-06",
          "2021-05-07",
          "2021-05-08",
          "2021-05-09",
          "2021-05-10",
          "2021-05-11",
          "2021-05-12",
          "2021-05-13",
          "2021-05-14",
          "2021-05-15",
          "2021-05-16",
          "2021-05-17",
          "2021-05-18",
          "2021-05-19",
          "2021-05-20",
          "2021-05-21",
          "2021-05-22",
          "2021-05-23",
          "2021-05-24",
          "2021-05-25",
          "2021-05-26",
          "2021-05-27",
          "2021-05-28",
          "2021-05-29",
          "2021-05-30",
          "2021-05-31",
          "2021-06-01",
          "2021-06-02",
          "2021-06-03",
          "2021-06-04",
          "2021-06-05",
          "2021-06-06",
          "2021-06-07",
          "2021-06-08",
          "2021-06-09",
          "2021-06-10",
          "2021-06-11",
          "2021-06-12",
          "2021-06-13",
          "2021-06-14",
          "2021-06-15",
          "2021-06-16",
          "2021-06-17",
          "2021-06-18",
          "2021-06-19",
          "2021-06-20",
          "2021-06-21",
          "2021-06-22",
          "2021-06-23",
          "2021-06-24",
          "2021-06-25",
          "2021-06-26",
          "2021-06-27",
          "2021-06-28",
          "2021-06-29",
          "2021-06-30",
          "2021-07-01",
          "2021-07-02",
          "2021-07-03",
          "2021-07-04",
          "2021-07-05",
          "2021-07-06",
          "2021-07-07",
          "2021-07-08",
          "2021-07-09",
          "2021-07-10",
          "2021-07-11",
          "2021-07-12",
          "2021-07-13",
          "2021-07-14",
          "2021-07-15",
          "2021-07-16",
          "2021-07-17",
          "2021-07-18",
          "2021-07-19",
          "2021-07-20",
          "2021-07-21",
          "2021-07-22",
          "2021-07-23",
          "2021-07-24",
          "2021-07-25",
          "2021-07-26",
          "2021-07-27",
          "2021-07-28",
          "2021-07-29",
          "2021-07-30",
          "2021-07-31",
          "2021-08-01",
          "2021-08-02",
          "2021-08-03",
          "2021-08-04",
          "2021-08-05",
          "2021-08-06",
          "2021-08-07",
          "2021-08-08",
          "2021-08-09",
          "2021-08-10",
          "2021-08-11",
          "2021-08-12",
          "2021-08-13",
          "2021-08-14",
          "2021-08-15",
          "2021-08-16",
          "2021-08-17",
          "2021-08-18",
          "2021-08-19",
          "2021-08-20",
          "2021-08-21",
          "2021-08-22",
          "2021-08-23",
          "2021-08-24",
          "2021-08-25",
          "2021-08-26",
          "2021-08-27",
          "2021-08-28",
          "2021-08-29",
          "2021-08-30",
          "2021-08-31",
          "2021-09-01",
          "2021-09-02",
          "2021-09-03",
          "2021-09-04",
          "2021-09-05",
          "2021-09-06",
          "2021-09-07",
          "2021-09-08",
          "2021-09-09",
          "2021-09-10",
          "2021-09-11",
          "2021-09-12",
          "2021-09-13",
          "2021-09-14",
          "2021-09-15",
          "2021-09-16",
          "2021-09-17",
          "2021-09-18",
          "2021-09-19",
          "2021-09-20",
          "2021-09-21",
          "2021-09-22",
          "2021-09-23",
          "2021-09-24",
          "2021-09-25",
          "2021-09-26",
          "2021-09-27",
          "2021-09-28",
          "2021-09-29",
          "2021-09-30",
          "2021-10-01",
          "2021-10-02",
          "2021-10-03",
          "2021-10-04",
          "2021-10-05",
          "2021-10-06",
          "2021-10-07",
          "2021-10-08",
          "2021-10-09",
          "2021-10-10",
          "2021-10-11",
          "2021-10-12",
          "2021-10-13",
          "2021-10-14",
          "2021-10-15",
          "2021-10-16",
          "2021-10-17",
          "2021-10-18",
          "2021-10-19",
          "2021-10-20",
          "2021-10-21",
          "2021-10-22",
          "2021-10-23",
          "2021-10-24",
          "2021-10-25",
          "2021-10-26",
          "2021-10-27",
          "2021-10-28",
          "2021-10-29",
          "2021-10-30",
          "2021-10-31",
          "2021-11-01",
          "2021-11-02",
          "2021-11-03",
          "2021-11-04",
          "2021-11-05",
          "2021-11-06",
          "2021-11-07",
          "2021-11-08",
          "2021-11-09",
          "2021-11-10",
          "2021-11-11",
          "2021-11-12",
          "2021-11-13",
          "2021-11-14",
          "2021-11-15",
          "2021-11-16",
          "2021-11-17",
          "2021-11-18",
          "2021-11-19",
          "2021-11-20",
          "2021-11-21",
          "2021-11-22",
          "2021-11-23",
          "2021-11-24",
          "2021-11-25",
          "2021-11-26",
          "2021-11-27",
          "2021-11-28",
          "2021-11-29",
          "2021-11-30",
          "2021-12-01",
          "2021-12-02",
          "2021-12-03",
          "2021-12-04",
          "2021-12-05",
          "2021-12-06",
          "2021-12-07",
          "2021-12-08",
          "2021-12-09",
          "2021-12-10",
          "2021-12-11",
          "2021-12-12",
          "2021-12-13",
          "2021-12-14",
          "2021-12-15",
          "2021-12-16",
          "2021-12-17",
          "2021-12-18",
          "2021-12-19",
          "2021-12-20",
          "2021-12-21",
          "2021-12-22",
          "2021-12-23",
          "2021-12-24",
          "2021-12-25",
          "2021-12-26",
          "2021-12-27",
          "2021-12-28",
          "2021-12-29",
          "2021-12-30",
          "2021-12-31",
          "2022-01-01",
          "2022-01-02",
          "2022-01-03",
          "2022-01-04",
          "2022-01-05",
          "2022-01-06",
          "2022-01-07",
          "2022-01-08",
          "2022-01-09",
          "2022-01-10",
          "2022-01-11",
          "2022-01-12",
          "2022-01-13",
          "2022-01-14",
          "2022-01-15",
          "2022-01-16",
          "2022-01-17",
          "2022-01-18",
          "2022-01-19",
          "2022-01-20",
          "2022-01-21",
          "2022-01-22",
          "2022-01-23",
          "2022-01-24",
          "2022-01-25",
          "2022-01-26",
          "2022-01-27",
          "2022-01-28",
          "2022-01-29",
          "2022-01-30",
          "2022-01-31",
          "2022-02-01",
          "2022-02-02",
          "2022-02-03",
          "2022-02-04",
          "2022-02-05",
          "2022-02-06",
          "2022-02-07",
          "2022-02-08",
          "2022-02-09",
          "2022-02-10",
          "2022-02-11",
          "2022-02-12",
          "2022-02-13",
          "2022-02-14",
          "2022-02-15",
          "2022-02-16",
          "2022-02-17",
          "2022-02-18",
          "2022-02-19",
          "2022-02-20",
          "2022-02-21",
          "2022-02-22",
          "2022-02-23",
          "2022-02-24",
          "2022-02-25",
          "2022-02-26",
          "2022-02-27",
          "2022-02-28",
          "2022-03-01",
          "2022-03-02",
          "2022-03-03",
          "2022-03-04",
          "2022-03-05",
          "2022-03-06",
          "2022-03-07",
          "2022-03-08",
          "2022-03-09",
          "2022-03-10",
          "2022-03-11",
          "2022-03-12",
          "2022-03-13",
          "2022-03-14",
          "2022-03-15",
          "2022-03-16",
          "2022-03-17",
          "2022-03-18",
          "2022-03-19",
          "2022-03-20",
          "2022-03-21",
          "2022-03-22",
          "2022-03-23",
          "2022-03-24",
          "2022-03-25",
          "2022-03-26",
          "2022-03-27",
          "2022-03-28",
          "2022-03-29",
          "2022-03-30",
          "2022-03-31",
          "2022-04-01",
          "2022-04-02",
          "2022-04-03",
          "2022-04-04",
          "2022-04-05",
          "2022-04-06",
          "2022-04-07",
          "2022-04-08",
          "2022-04-09",
          "2022-04-10",
          "2022-04-11",
          "2022-04-12",
          "2022-04-13",
          "2022-04-14",
          "2022-04-15",
          "2022-04-16",
          "2022-04-17",
          "2022-04-18",
          "2022-04-19",
          "2022-04-20",
          "2022-04-21",
          "2022-04-22",
          "2022-04-23",
          "2022-04-24",
          "2022-04-25",
          "2022-04-26",
          "2022-04-27",
          "2022-04-28",
          "2022-04-29",
          "2022-04-30",
          "2022-05-01",
          "2022-05-02",
          "2022-05-03",
          "2022-05-04",
          "2022-05-05",
          "2022-05-06",
          "2022-05-07",
          "2022-05-08",
          "2022-05-09",
          "2022-05-10",
          "2022-05-11",
          "2022-05-12",
          "2022-05-13",
          "2022-05-14",
          "2022-05-15",
          "2022-05-16",
          "2022-05-17",
          "2022-05-18",
          "2022-05-19",
          "2022-05-20",
          "2022-05-21",
          "2022-05-22",
          "2022-05-23",
          "2022-05-24",
          "2022-05-25",
          "2022-05-26",
          "2022-05-27",
          "2022-05-28",
          "2022-05-29",
          "2022-05-30",
          "2022-05-31",
          "2022-06-01",
          "2022-06-02",
          "2022-06-03",
          "2022-06-04",
          "2022-06-05",
          "2022-06-06",
          "2022-06-07",
          "2022-06-08",
          "2022-06-09",
          "2022-06-10",
          "2022-06-11",
          "2022-06-12",
          "2022-06-13",
          "2022-06-14",
          "2022-06-15",
          "2022-06-16",
          "2022-06-17",
          "2022-06-18",
          "2022-06-19",
          "2022-06-20",
          "2022-06-21",
          "2022-06-22",
          "2022-06-23",
          "2022-06-24",
          "2022-06-25",
          "2022-06-26",
          "2022-06-27",
          "2022-06-28",
          "2022-06-29",
          "2022-06-30",
          "2022-07-01",
          "2022-07-02",
          "2022-07-03",
          "2022-07-04",
          "2022-07-05",
          "2022-07-06",
          "2022-07-07",
          "2022-07-08",
          "2022-07-09",
          "2022-07-10",
          "2022-07-11",
          "2022-07-12",
          "2022-07-13",
          "2022-07-14",
          "2022-07-15",
          "2022-07-16",
          "2022-07-17",
          "2022-07-18",
          "2022-07-19",
          "2022-07-20",
          "2022-07-21",
          "2022-07-22",
          "2022-07-23",
          "2022-07-24",
          "2022-07-25",
          "2022-07-26",
          "2022-07-27",
          "2022-07-28",
          "2022-07-29",
          "2022-07-30",
          "2022-07-31",
          "2022-08-01",
          "2022-08-02",
          "2022-08-03",
          "2022-08-04",
          "2022-08-05",
          "2022-08-06",
          "2022-08-07",
          "2022-08-08",
          "2022-08-09",
          "2022-08-10",
          "2022-08-11",
          "2022-08-12",
          "2022-08-13",
          "2022-08-14",
          "2022-08-15",
          "2022-08-16",
          "2022-08-17",
          "2022-08-18",
          "2022-08-19",
          "2022-08-20",
          "2022-08-21",
          "2022-08-22",
          "2022-08-23",
          "2022-08-24",
          "2022-08-25",
          "2022-08-26",
          "2022-08-27",
          "2022-08-28",
          "2022-08-29",
          "2022-08-30",
          "2022-08-31",
          "2022-09-01",
          "2022-09-02",
          "2022-09-03",
          "2022-09-04",
          "2022-09-05",
          "2022-09-06",
          "2022-09-07",
          "2022-09-08",
          "2022-09-09",
          "2022-09-10",
          "2022-09-11",
          "2022-09-12",
          "2022-09-13",
          "2022-09-14",
          "2022-09-15",
          "2022-09-16",
          "2022-09-17",
          "2022-09-18",
          "2022-09-19",
          "2022-09-20",
          "2022-09-21",
          "2022-09-22",
          "2022-09-23",
          "2022-09-24",
          "2022-09-25",
          "2022-09-26",
          "2022-09-27",
          "2022-09-28",
          "2022-09-29",
          "2022-09-30"
         ],
         "xaxis": "x",
         "y": [
          0,
          0,
          0,
          0,
          0,
          0,
          0,
          0.5972222222222222,
          0.22916666666666666,
          0.4791666666666667,
          0.8472222222222222,
          0.6597222222222222,
          0.3680555555555556,
          0.7777777777777778,
          0.9097222222222222,
          0.8472222222222222,
          0.7986111111111112,
          0.8263888888888888,
          0.7291666666666666,
          0.8263888888888888,
          0.9305555555555556,
          0.8472222222222222,
          0.9722222222222222,
          0.7986111111111112,
          0.9027777777777778,
          0.9930555555555556,
          0.8611111111111112,
          0.8402777777777778,
          0.9930555555555556,
          0.8402777777777778,
          0.7569444444444444,
          0.9236111111111112,
          0.9027777777777778,
          0.9027777777777778,
          0.7361111111111112,
          0.9097222222222222,
          0.9375,
          0.9652777777777778,
          0.9027777777777778,
          0.9444444444444444,
          0.9513888888888888,
          0.9444444444444444,
          1,
          0.9930555555555556,
          0.9930555555555556,
          0.9583333333333334,
          0.9166666666666666,
          0.8819444444444444,
          0.7777777777777778,
          0.9583333333333334,
          0.9305555555555556,
          0.8263888888888888,
          0.6041666666666666,
          0.6458333333333334,
          0.875,
          0.8611111111111112,
          0.9166666666666666,
          0.9444444444444444,
          0.9444444444444444,
          0.8888888888888888,
          0.8819444444444444,
          0.9444444444444444,
          0.9583333333333334,
          0.9444444444444444,
          0.9930555555555556,
          0.9027777777777778,
          0.8611111111111112,
          0.9375,
          0.9722222222222222,
          0.9861111111111112,
          0.9305555555555556,
          0.9583333333333334,
          1,
          0.9583333333333334,
          1,
          1,
          1,
          1,
          0.9375,
          0.9930555555555556,
          1,
          0.8541666666666666,
          1,
          0.8541666666666666,
          1,
          0.9791666666666666,
          1,
          1,
          0.9583333333333334,
          1,
          0.9930555555555556,
          0.9236111111111112,
          1,
          1,
          0.9930555555555556,
          1,
          1,
          0.9444444444444444,
          1,
          0.9930555555555556,
          0.8125,
          0.25,
          0.3194444444444444,
          0.7222222222222222,
          0.8541666666666666,
          0.8055555555555556,
          0.6527777777777778,
          0.2222222222222222,
          0.22916666666666666,
          0.3055555555555556,
          0.2986111111111111,
          0.5416666666666666,
          0.9305555555555556,
          1,
          0.8611111111111112,
          0.9375,
          1,
          0.9652777777777778,
          0.9722222222222222,
          0.8958333333333334,
          1,
          0.8819444444444444,
          0.9861111111111112,
          0.9513888888888888,
          0.9305555555555556,
          0.875,
          0.9861111111111112,
          1,
          0.9375,
          0.875,
          0.4375,
          0.9513888888888888,
          0.9722222222222222,
          0.9930555555555556,
          1,
          0.9444444444444444,
          0.875,
          1,
          0.9722222222222222,
          0.9930555555555556,
          0.9791666666666666,
          0.9236111111111112,
          0.9791666666666666,
          0.9652777777777778,
          0.8888888888888888,
          0.9722222222222222,
          1,
          1,
          0.9930555555555556,
          1,
          0.9861111111111112,
          0.8958333333333334,
          1,
          1,
          1,
          1,
          1,
          0.9930555555555556,
          0.9722222222222222,
          0.9444444444444444,
          1,
          0.9236111111111112,
          1,
          0.9930555555555556,
          0.9930555555555556,
          1,
          0.9444444444444444,
          0.7152777777777778,
          0.3611111111111111,
          1,
          0.9861111111111112,
          0.9861111111111112,
          1,
          0.9444444444444444,
          1,
          0.9930555555555556,
          1,
          1,
          1,
          0.9652777777777778,
          1,
          0.9583333333333334,
          1,
          1,
          0.9652777777777778,
          1,
          1,
          1,
          1,
          1,
          1,
          0.9861111111111112,
          0.9930555555555556,
          1,
          1,
          1,
          0.8125,
          0.9791666666666666,
          0.9930555555555556,
          0.9791666666666666,
          0.9722222222222222,
          1,
          0.7013888888888888,
          0.19444444444444445,
          0.24305555555555555,
          0.4791666666666667,
          0.9375,
          1,
          0.9722222222222222,
          0.9652777777777778,
          1,
          1,
          0.9375,
          0.9861111111111112,
          0.9305555555555556,
          1,
          0.9861111111111112,
          1,
          0.9930555555555556,
          1,
          1,
          0.9930555555555556,
          1,
          1,
          1,
          1,
          0.8194444444444444,
          0.9930555555555556,
          1,
          1,
          0.9513888888888888,
          0.9930555555555556,
          1,
          0.8888888888888888,
          1,
          1,
          1,
          1,
          1,
          0.9027777777777778,
          0.9791666666666666,
          0.7430555555555556,
          0.1111111111111111,
          0.125,
          0.1527777777777778,
          0.3819444444444444,
          1,
          1,
          1,
          0.8263888888888888,
          1,
          1,
          0.9375,
          0.9583333333333334,
          1,
          0.9236111111111112,
          0.9305555555555556,
          0.8888888888888888,
          0.875,
          0.6736111111111112,
          0.10416666666666667,
          0.2152777777777778,
          0.4583333333333333,
          0.9444444444444444,
          0.7013888888888888,
          0.8333333333333334,
          1,
          1,
          0.8263888888888888,
          0.7152777777777778,
          0.7708333333333334,
          0.8958333333333334,
          0.9027777777777778,
          1,
          0.9930555555555556,
          0.8125,
          0.7638888888888888,
          0.7152777777777778,
          0.7638888888888888,
          0.7361111111111112,
          0.9722222222222222,
          1,
          0.9166666666666666,
          0.875,
          0.9513888888888888,
          0.9583333333333334,
          0.9513888888888888,
          0.9861111111111112,
          0.8958333333333334,
          0.9513888888888888,
          0.9722222222222222,
          0.9236111111111112,
          0.9861111111111112,
          0.9236111111111112,
          0.9513888888888888,
          0.9652777777777778,
          0.9861111111111112,
          1,
          0.9513888888888888,
          0.9930555555555556,
          1,
          0.9791666666666666,
          1,
          0.9652777777777778,
          0.875,
          0.9652777777777778,
          1,
          0.9444444444444444,
          0.9513888888888888,
          1,
          0.9791666666666666,
          0.9583333333333334,
          0.9861111111111112,
          0.9652777777777778,
          1,
          0.9930555555555556,
          0.9652777777777778,
          0.9861111111111112,
          0.9513888888888888,
          0.9513888888888888,
          0.9722222222222222,
          1,
          1,
          0.9930555555555556,
          1,
          1,
          0.9930555555555556,
          1,
          1,
          1,
          1,
          0.9791666666666666,
          0.9444444444444444,
          1,
          1,
          1,
          0.9791666666666666,
          1,
          1,
          1,
          0.9166666666666666,
          1,
          0.9652777777777778,
          1,
          1,
          0.9930555555555556,
          0.9166666666666666,
          0.9930555555555556,
          1,
          0.9305555555555556,
          0.5486111111111112,
          0.9722222222222222,
          1,
          1,
          1,
          0.9861111111111112,
          1,
          1,
          0.9930555555555556,
          1,
          1,
          1,
          1,
          1,
          1,
          1,
          0.9722222222222222,
          1,
          1,
          1,
          1,
          1,
          1,
          1,
          0.9861111111111112,
          0.9791666666666666,
          0.9930555555555556,
          0.9722222222222222,
          1,
          1,
          0.9861111111111112,
          1,
          1,
          0.9722222222222222,
          0.9583333333333334,
          1,
          0.9375,
          0.9791666666666666,
          1,
          1,
          0.9305555555555556,
          1,
          1,
          0.9930555555555556,
          1,
          1,
          1,
          1,
          1,
          1,
          1,
          1,
          1,
          1,
          0.9930555555555556,
          1,
          0.9583333333333334,
          1,
          1,
          0.9583333333333334,
          1,
          0.9930555555555556,
          1,
          0.9861111111111112,
          1,
          1,
          1,
          1,
          0.9930555555555556,
          1,
          0.9861111111111112,
          1,
          1,
          0.9930555555555556,
          1,
          1,
          1,
          1,
          1,
          0.8680555555555556,
          0.9861111111111112,
          0.9444444444444444,
          0.9375,
          0.9583333333333334,
          1,
          0.9930555555555556,
          1,
          1,
          1,
          0.9930555555555556,
          1,
          1,
          1,
          0.9583333333333334,
          1,
          1,
          1,
          1,
          1,
          1,
          1,
          1,
          1,
          1,
          1,
          1,
          1,
          0.9375,
          0.9652777777777778,
          1,
          1,
          1,
          1,
          0.6666666666666666,
          0.2222222222222222,
          0.2361111111111111,
          0.4305555555555556,
          0.6805555555555556,
          0.3472222222222222,
          1,
          1,
          0.9861111111111112,
          0.9791666666666666,
          0.9861111111111112,
          0.9930555555555556,
          0.9722222222222222,
          1,
          0.9444444444444444,
          1,
          1,
          1,
          0.9583333333333334,
          1,
          1,
          1,
          1,
          1,
          1,
          0.9930555555555556,
          0.9097222222222222,
          1,
          0.9513888888888888,
          1,
          1,
          1,
          1,
          0.9513888888888888,
          1,
          1,
          1,
          0.9930555555555556,
          1,
          1,
          0.9930555555555556,
          0.9722222222222222,
          1,
          1,
          1,
          1,
          1,
          0.9930555555555556,
          1,
          1,
          1,
          1,
          1,
          1,
          0.9722222222222222
         ],
         "yaxis": "y"
        }
       ],
       "layout": {
        "legend": {
         "tracegroupgap": 0
        },
        "template": {
         "data": {
          "bar": [
           {
            "error_x": {
             "color": "#2a3f5f"
            },
            "error_y": {
             "color": "#2a3f5f"
            },
            "marker": {
             "line": {
              "color": "#E5ECF6",
              "width": 0.5
             },
             "pattern": {
              "fillmode": "overlay",
              "size": 10,
              "solidity": 0.2
             }
            },
            "type": "bar"
           }
          ],
          "barpolar": [
           {
            "marker": {
             "line": {
              "color": "#E5ECF6",
              "width": 0.5
             },
             "pattern": {
              "fillmode": "overlay",
              "size": 10,
              "solidity": 0.2
             }
            },
            "type": "barpolar"
           }
          ],
          "carpet": [
           {
            "aaxis": {
             "endlinecolor": "#2a3f5f",
             "gridcolor": "white",
             "linecolor": "white",
             "minorgridcolor": "white",
             "startlinecolor": "#2a3f5f"
            },
            "baxis": {
             "endlinecolor": "#2a3f5f",
             "gridcolor": "white",
             "linecolor": "white",
             "minorgridcolor": "white",
             "startlinecolor": "#2a3f5f"
            },
            "type": "carpet"
           }
          ],
          "choropleth": [
           {
            "colorbar": {
             "outlinewidth": 0,
             "ticks": ""
            },
            "type": "choropleth"
           }
          ],
          "contour": [
           {
            "colorbar": {
             "outlinewidth": 0,
             "ticks": ""
            },
            "colorscale": [
             [
              0,
              "#0d0887"
             ],
             [
              0.1111111111111111,
              "#46039f"
             ],
             [
              0.2222222222222222,
              "#7201a8"
             ],
             [
              0.3333333333333333,
              "#9c179e"
             ],
             [
              0.4444444444444444,
              "#bd3786"
             ],
             [
              0.5555555555555556,
              "#d8576b"
             ],
             [
              0.6666666666666666,
              "#ed7953"
             ],
             [
              0.7777777777777778,
              "#fb9f3a"
             ],
             [
              0.8888888888888888,
              "#fdca26"
             ],
             [
              1,
              "#f0f921"
             ]
            ],
            "type": "contour"
           }
          ],
          "contourcarpet": [
           {
            "colorbar": {
             "outlinewidth": 0,
             "ticks": ""
            },
            "type": "contourcarpet"
           }
          ],
          "heatmap": [
           {
            "colorbar": {
             "outlinewidth": 0,
             "ticks": ""
            },
            "colorscale": [
             [
              0,
              "#0d0887"
             ],
             [
              0.1111111111111111,
              "#46039f"
             ],
             [
              0.2222222222222222,
              "#7201a8"
             ],
             [
              0.3333333333333333,
              "#9c179e"
             ],
             [
              0.4444444444444444,
              "#bd3786"
             ],
             [
              0.5555555555555556,
              "#d8576b"
             ],
             [
              0.6666666666666666,
              "#ed7953"
             ],
             [
              0.7777777777777778,
              "#fb9f3a"
             ],
             [
              0.8888888888888888,
              "#fdca26"
             ],
             [
              1,
              "#f0f921"
             ]
            ],
            "type": "heatmap"
           }
          ],
          "heatmapgl": [
           {
            "colorbar": {
             "outlinewidth": 0,
             "ticks": ""
            },
            "colorscale": [
             [
              0,
              "#0d0887"
             ],
             [
              0.1111111111111111,
              "#46039f"
             ],
             [
              0.2222222222222222,
              "#7201a8"
             ],
             [
              0.3333333333333333,
              "#9c179e"
             ],
             [
              0.4444444444444444,
              "#bd3786"
             ],
             [
              0.5555555555555556,
              "#d8576b"
             ],
             [
              0.6666666666666666,
              "#ed7953"
             ],
             [
              0.7777777777777778,
              "#fb9f3a"
             ],
             [
              0.8888888888888888,
              "#fdca26"
             ],
             [
              1,
              "#f0f921"
             ]
            ],
            "type": "heatmapgl"
           }
          ],
          "histogram": [
           {
            "marker": {
             "pattern": {
              "fillmode": "overlay",
              "size": 10,
              "solidity": 0.2
             }
            },
            "type": "histogram"
           }
          ],
          "histogram2d": [
           {
            "colorbar": {
             "outlinewidth": 0,
             "ticks": ""
            },
            "colorscale": [
             [
              0,
              "#0d0887"
             ],
             [
              0.1111111111111111,
              "#46039f"
             ],
             [
              0.2222222222222222,
              "#7201a8"
             ],
             [
              0.3333333333333333,
              "#9c179e"
             ],
             [
              0.4444444444444444,
              "#bd3786"
             ],
             [
              0.5555555555555556,
              "#d8576b"
             ],
             [
              0.6666666666666666,
              "#ed7953"
             ],
             [
              0.7777777777777778,
              "#fb9f3a"
             ],
             [
              0.8888888888888888,
              "#fdca26"
             ],
             [
              1,
              "#f0f921"
             ]
            ],
            "type": "histogram2d"
           }
          ],
          "histogram2dcontour": [
           {
            "colorbar": {
             "outlinewidth": 0,
             "ticks": ""
            },
            "colorscale": [
             [
              0,
              "#0d0887"
             ],
             [
              0.1111111111111111,
              "#46039f"
             ],
             [
              0.2222222222222222,
              "#7201a8"
             ],
             [
              0.3333333333333333,
              "#9c179e"
             ],
             [
              0.4444444444444444,
              "#bd3786"
             ],
             [
              0.5555555555555556,
              "#d8576b"
             ],
             [
              0.6666666666666666,
              "#ed7953"
             ],
             [
              0.7777777777777778,
              "#fb9f3a"
             ],
             [
              0.8888888888888888,
              "#fdca26"
             ],
             [
              1,
              "#f0f921"
             ]
            ],
            "type": "histogram2dcontour"
           }
          ],
          "mesh3d": [
           {
            "colorbar": {
             "outlinewidth": 0,
             "ticks": ""
            },
            "type": "mesh3d"
           }
          ],
          "parcoords": [
           {
            "line": {
             "colorbar": {
              "outlinewidth": 0,
              "ticks": ""
             }
            },
            "type": "parcoords"
           }
          ],
          "pie": [
           {
            "automargin": true,
            "type": "pie"
           }
          ],
          "scatter": [
           {
            "fillpattern": {
             "fillmode": "overlay",
             "size": 10,
             "solidity": 0.2
            },
            "type": "scatter"
           }
          ],
          "scatter3d": [
           {
            "line": {
             "colorbar": {
              "outlinewidth": 0,
              "ticks": ""
             }
            },
            "marker": {
             "colorbar": {
              "outlinewidth": 0,
              "ticks": ""
             }
            },
            "type": "scatter3d"
           }
          ],
          "scattercarpet": [
           {
            "marker": {
             "colorbar": {
              "outlinewidth": 0,
              "ticks": ""
             }
            },
            "type": "scattercarpet"
           }
          ],
          "scattergeo": [
           {
            "marker": {
             "colorbar": {
              "outlinewidth": 0,
              "ticks": ""
             }
            },
            "type": "scattergeo"
           }
          ],
          "scattergl": [
           {
            "marker": {
             "colorbar": {
              "outlinewidth": 0,
              "ticks": ""
             }
            },
            "type": "scattergl"
           }
          ],
          "scattermapbox": [
           {
            "marker": {
             "colorbar": {
              "outlinewidth": 0,
              "ticks": ""
             }
            },
            "type": "scattermapbox"
           }
          ],
          "scatterpolar": [
           {
            "marker": {
             "colorbar": {
              "outlinewidth": 0,
              "ticks": ""
             }
            },
            "type": "scatterpolar"
           }
          ],
          "scatterpolargl": [
           {
            "marker": {
             "colorbar": {
              "outlinewidth": 0,
              "ticks": ""
             }
            },
            "type": "scatterpolargl"
           }
          ],
          "scatterternary": [
           {
            "marker": {
             "colorbar": {
              "outlinewidth": 0,
              "ticks": ""
             }
            },
            "type": "scatterternary"
           }
          ],
          "surface": [
           {
            "colorbar": {
             "outlinewidth": 0,
             "ticks": ""
            },
            "colorscale": [
             [
              0,
              "#0d0887"
             ],
             [
              0.1111111111111111,
              "#46039f"
             ],
             [
              0.2222222222222222,
              "#7201a8"
             ],
             [
              0.3333333333333333,
              "#9c179e"
             ],
             [
              0.4444444444444444,
              "#bd3786"
             ],
             [
              0.5555555555555556,
              "#d8576b"
             ],
             [
              0.6666666666666666,
              "#ed7953"
             ],
             [
              0.7777777777777778,
              "#fb9f3a"
             ],
             [
              0.8888888888888888,
              "#fdca26"
             ],
             [
              1,
              "#f0f921"
             ]
            ],
            "type": "surface"
           }
          ],
          "table": [
           {
            "cells": {
             "fill": {
              "color": "#EBF0F8"
             },
             "line": {
              "color": "white"
             }
            },
            "header": {
             "fill": {
              "color": "#C8D4E3"
             },
             "line": {
              "color": "white"
             }
            },
            "type": "table"
           }
          ]
         },
         "layout": {
          "annotationdefaults": {
           "arrowcolor": "#2a3f5f",
           "arrowhead": 0,
           "arrowwidth": 1
          },
          "autotypenumbers": "strict",
          "coloraxis": {
           "colorbar": {
            "outlinewidth": 0,
            "ticks": ""
           }
          },
          "colorscale": {
           "diverging": [
            [
             0,
             "#8e0152"
            ],
            [
             0.1,
             "#c51b7d"
            ],
            [
             0.2,
             "#de77ae"
            ],
            [
             0.3,
             "#f1b6da"
            ],
            [
             0.4,
             "#fde0ef"
            ],
            [
             0.5,
             "#f7f7f7"
            ],
            [
             0.6,
             "#e6f5d0"
            ],
            [
             0.7,
             "#b8e186"
            ],
            [
             0.8,
             "#7fbc41"
            ],
            [
             0.9,
             "#4d9221"
            ],
            [
             1,
             "#276419"
            ]
           ],
           "sequential": [
            [
             0,
             "#0d0887"
            ],
            [
             0.1111111111111111,
             "#46039f"
            ],
            [
             0.2222222222222222,
             "#7201a8"
            ],
            [
             0.3333333333333333,
             "#9c179e"
            ],
            [
             0.4444444444444444,
             "#bd3786"
            ],
            [
             0.5555555555555556,
             "#d8576b"
            ],
            [
             0.6666666666666666,
             "#ed7953"
            ],
            [
             0.7777777777777778,
             "#fb9f3a"
            ],
            [
             0.8888888888888888,
             "#fdca26"
            ],
            [
             1,
             "#f0f921"
            ]
           ],
           "sequentialminus": [
            [
             0,
             "#0d0887"
            ],
            [
             0.1111111111111111,
             "#46039f"
            ],
            [
             0.2222222222222222,
             "#7201a8"
            ],
            [
             0.3333333333333333,
             "#9c179e"
            ],
            [
             0.4444444444444444,
             "#bd3786"
            ],
            [
             0.5555555555555556,
             "#d8576b"
            ],
            [
             0.6666666666666666,
             "#ed7953"
            ],
            [
             0.7777777777777778,
             "#fb9f3a"
            ],
            [
             0.8888888888888888,
             "#fdca26"
            ],
            [
             1,
             "#f0f921"
            ]
           ]
          },
          "colorway": [
           "#636efa",
           "#EF553B",
           "#00cc96",
           "#ab63fa",
           "#FFA15A",
           "#19d3f3",
           "#FF6692",
           "#B6E880",
           "#FF97FF",
           "#FECB52"
          ],
          "font": {
           "color": "#2a3f5f"
          },
          "geo": {
           "bgcolor": "white",
           "lakecolor": "white",
           "landcolor": "#E5ECF6",
           "showlakes": true,
           "showland": true,
           "subunitcolor": "white"
          },
          "hoverlabel": {
           "align": "left"
          },
          "hovermode": "closest",
          "mapbox": {
           "style": "light"
          },
          "paper_bgcolor": "white",
          "plot_bgcolor": "#E5ECF6",
          "polar": {
           "angularaxis": {
            "gridcolor": "white",
            "linecolor": "white",
            "ticks": ""
           },
           "bgcolor": "#E5ECF6",
           "radialaxis": {
            "gridcolor": "white",
            "linecolor": "white",
            "ticks": ""
           }
          },
          "scene": {
           "xaxis": {
            "backgroundcolor": "#E5ECF6",
            "gridcolor": "white",
            "gridwidth": 2,
            "linecolor": "white",
            "showbackground": true,
            "ticks": "",
            "zerolinecolor": "white"
           },
           "yaxis": {
            "backgroundcolor": "#E5ECF6",
            "gridcolor": "white",
            "gridwidth": 2,
            "linecolor": "white",
            "showbackground": true,
            "ticks": "",
            "zerolinecolor": "white"
           },
           "zaxis": {
            "backgroundcolor": "#E5ECF6",
            "gridcolor": "white",
            "gridwidth": 2,
            "linecolor": "white",
            "showbackground": true,
            "ticks": "",
            "zerolinecolor": "white"
           }
          },
          "shapedefaults": {
           "line": {
            "color": "#2a3f5f"
           }
          },
          "ternary": {
           "aaxis": {
            "gridcolor": "white",
            "linecolor": "white",
            "ticks": ""
           },
           "baxis": {
            "gridcolor": "white",
            "linecolor": "white",
            "ticks": ""
           },
           "bgcolor": "#E5ECF6",
           "caxis": {
            "gridcolor": "white",
            "linecolor": "white",
            "ticks": ""
           }
          },
          "title": {
           "x": 0.05
          },
          "xaxis": {
           "automargin": true,
           "gridcolor": "white",
           "linecolor": "white",
           "ticks": "",
           "title": {
            "standoff": 15
           },
           "zerolinecolor": "white",
           "zerolinewidth": 2
          },
          "yaxis": {
           "automargin": true,
           "gridcolor": "white",
           "linecolor": "white",
           "ticks": "",
           "title": {
            "standoff": 15
           },
           "zerolinecolor": "white",
           "zerolinewidth": 2
          }
         }
        },
        "title": {
         "text": "How common are the days?"
        },
        "xaxis": {
         "anchor": "y",
         "domain": [
          0,
          1
         ],
         "title": {
          "text": "Time"
         }
        },
        "yaxis": {
         "anchor": "x",
         "domain": [
          0,
          1
         ],
         "title": {
          "text": "Percentage of day seen before"
         }
        }
       }
      }
     },
     "metadata": {},
     "output_type": "display_data"
    }
   ],
   "source": [
    "fig = px.line(df_plot, x=\"Time\", y=\"Percentage of day seen before\", title='How common are the days?')\n",
    "fig.show()"
   ]
  },
  {
   "cell_type": "code",
   "execution_count": null,
   "id": "4952cf5f",
   "metadata": {},
   "outputs": [],
   "source": []
  }
 ],
 "metadata": {
  "kernelspec": {
   "display_name": "Python 3 (ipykernel)",
   "language": "python",
   "name": "python3"
  },
  "language_info": {
   "codemirror_mode": {
    "name": "ipython",
    "version": 3
   },
   "file_extension": ".py",
   "mimetype": "text/x-python",
   "name": "python",
   "nbconvert_exporter": "python",
   "pygments_lexer": "ipython3",
   "version": "3.10.11"
  }
 },
 "nbformat": 4,
 "nbformat_minor": 5
}
