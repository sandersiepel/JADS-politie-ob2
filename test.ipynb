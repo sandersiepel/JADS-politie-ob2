{
 "cells": [
  {
   "cell_type": "code",
   "execution_count": 1,
   "id": "be0c0a44-81e2-4811-8955-1c081cf60bc0",
   "metadata": {},
   "outputs": [],
   "source": [
    "import pandas as pd\n",
    "import datetime\n",
    "from sklearn import preprocessing\n",
    "from sklearn.ensemble import RandomForestClassifier\n",
    "from sklearn.metrics import accuracy_score, classification_report\n",
    "from collections import Counter\n",
    "import pandas as pd\n",
    "from sklearn.preprocessing import LabelEncoder as le\n",
    "from collections import defaultdict\n"
   ]
  },
  {
   "cell_type": "code",
   "execution_count": 12,
   "id": "3c12224e-f773-444b-9f6f-1503b4da7ce1",
   "metadata": {},
   "outputs": [],
   "source": [
    "df_raw = pd.read_excel(\"output/keep-sander2017-100-30-1/resampled_df_10_min.xlsx\", index_col=[0])"
   ]
  },
  {
   "cell_type": "code",
   "execution_count": 13,
   "id": "2117e60a",
   "metadata": {},
   "outputs": [],
   "source": [
    "start_date = pd.to_datetime(f\"2017-01-01 00:00:00\")\n",
    "end_date = pd.to_datetime(f\"2017-05-01 23:50:00\")\n",
    "training_window_size = 7\n",
    "horizon_size = 7\n",
    "model_features = [\"day\", \"weekday\", \"hour\", \"window_block\"] # Day = day of the month (0-31), hour = hour of the day (0-24), weekday = day in the week (0-7), window_block = window block in the hour (0-5)\n",
    "\n",
    "baseline_performance = defaultdict(dict)"
   ]
  },
  {
   "cell_type": "code",
   "execution_count": 14,
   "id": "c8e35ace",
   "metadata": {},
   "outputs": [],
   "source": [
    "df = df_raw[df_raw[\"timestamp\"].between(start_date, end_date)].copy()\n",
    "\n",
    "label_encoder = le()\n",
    "df.location = label_encoder.fit_transform(df.location)"
   ]
  },
  {
   "cell_type": "code",
   "execution_count": 15,
   "id": "d82c26be",
   "metadata": {},
   "outputs": [],
   "source": [
    "df[\"day\"] = df[\"timestamp\"].dt.day\n",
    "df[\"weekday\"] = df[\"timestamp\"].dt.dayofweek\n",
    "df[\"hour\"] = df[\"timestamp\"].dt.hour\n",
    "df[\"window_block\"] = ((df['timestamp'].dt.minute * 60 + df['timestamp'].dt.second) // 600).astype(int)\n"
   ]
  },
  {
   "cell_type": "code",
   "execution_count": null,
   "id": "12d02f6a",
   "metadata": {},
   "outputs": [],
   "source": [
    "df.head(10)"
   ]
  },
  {
   "cell_type": "code",
   "execution_count": null,
   "id": "02ab3575",
   "metadata": {},
   "outputs": [],
   "source": [
    "train_start_date = start_date\n",
    "train_end_date = train_start_date + pd.Timedelta(days=training_window_size-1, hours=23, minutes=50)\n",
    "test_start_date = train_end_date + pd.Timedelta(minutes=10)\n",
    "test_end_date = test_start_date + pd.Timedelta(days=horizon_size-1, hours=23, minutes=50)\n",
    "\n",
    "train_mask = df[\"time\"].between(train_start_date, train_end_date)\n",
    "test_mask = df[\"time\"].between(test_start_date, test_end_date)\n",
    "\n",
    "# Split the data into train and test sets\n",
    "X_train = df.loc[train_mask, model_features]\n",
    "y_train = df.loc[train_mask, \"location\"]\n",
    "X_test = df.loc[test_mask, model_features]\n",
    "y_test = df.loc[test_mask, \"location\"]\n",
    "\n",
    "print(f\"Training: {train_start_date}-{train_end_date}, testing: {test_start_date}-{test_end_date}.\")"
   ]
  },
  {
   "cell_type": "code",
   "execution_count": null,
   "id": "49621fff",
   "metadata": {},
   "outputs": [],
   "source": [
    "training_data = df.loc[train_mask]\n",
    "testing_data = df.loc[test_mask]\n",
    "most_common_locations = training_data.groupby(model_features)['location'].apply(lambda x: x.value_counts().idxmax()).reset_index()"
   ]
  },
  {
   "cell_type": "code",
   "execution_count": null,
   "id": "25e164db",
   "metadata": {},
   "outputs": [],
   "source": [
    "result_df = testing_data.merge(most_common_locations, how=\"left\", left_on=model_features, right_on=model_features)\n",
    "\n",
    "features_to_use = model_features[1:]\n",
    "while result_df['location_y'].isna().sum() > 0:\n",
    "    print('nan > 0, now trying with features: ', features_to_use)\n",
    "    most_common_locations = training_data[[\"location\"] + features_to_use].groupby(features_to_use)['location'].apply(lambda x: x.value_counts().idxmax()).reset_index()\n",
    "    result_df = testing_data.merge(most_common_locations, how=\"left\", left_on=features_to_use, right_on=features_to_use)\n",
    "    features_to_use = features_to_use[1:]  # Remove the first element to exclude it from the next merge\n",
    "\n",
    "predictions = result_df.location_y.values.tolist()\n",
    "\n"
   ]
  },
  {
   "cell_type": "code",
   "execution_count": null,
   "id": "f24de744",
   "metadata": {},
   "outputs": [],
   "source": [
    "for d in range(horizon_size):\n",
    "    # Then, evaluate the baseline's predictions and store acc in self.baseline_performance\n",
    "    this_day_predictions = predictions[d*144:(d+1)*144]\n",
    "    this_day_actual_values = y_test[d*144:(d+1)*144]\n",
    "    acc = accuracy_score(this_day_actual_values, this_day_predictions)\n",
    "    print(f\"Acc of baseline: {acc}\")"
   ]
  },
  {
   "cell_type": "code",
   "execution_count": null,
   "id": "b1eda62d",
   "metadata": {},
   "outputs": [],
   "source": []
  },
  {
   "cell_type": "code",
   "execution_count": null,
   "id": "800f00a0",
   "metadata": {},
   "outputs": [],
   "source": []
  },
  {
   "cell_type": "code",
   "execution_count": 2,
   "id": "718521f0",
   "metadata": {},
   "outputs": [],
   "source": [
    "import DataLoader as DL\n",
    "from Cluster import Cluster\n",
    "\n",
    "# Initialize parameters.\n",
    "data_source = \"google_maps\"  # Can be either 'google_maps' or 'routined'.\n",
    "# hours_offset is used to offset the timestamps to account for timezone differences. For google maps, timestamp comes in GMT+0\n",
    "# which means that we need to offset it by 2 hours to make it GMT+2 (Dutch timezone). Value must be INT!\n",
    "hours_offset = 2 # Should be 0 for routined and 2 for google_maps. \n",
    "# begin_date and end_date are used to filter the data for your analysis.\n",
    "begin_date = \"2022-01-01\"\n",
    "end_date = \"2022-12-30\"  # End date is INclusive! \n",
    "# FRACTION is used to make the DataFrame smaller. Final df = df * fraction. This solves memory issues, but a value of 1 is preferred.\n",
    "fraction = 1\n",
    "# For the heatmap visualization we specify a separate begin_date and end_date (must be between begin_date and end_date).\n",
    "# For readiness purposes, it it suggested to select between 2 and 14 days.\n",
    "heatmap_begin_date = \"2023-01-20\"\n",
    "heatmap_end_date = \"2023-05-28\"  # End date is INclusive! Choose a date that lies (preferably 2 days) before end_date to avoid errors. \n",
    "# For the model performance class we need to specify the number of training days (range) and testing horizon (also in days)\n",
    "training_window_size = 100\n",
    "horizon_size = 30\n",
    "window_step_size = 1\n",
    "outputs_folder_name = f\"remove-{training_window_size}-{horizon_size}-{window_step_size}\" # All of the outputs will be placed in output/outputs_folder_name"
   ]
  },
  {
   "cell_type": "code",
   "execution_count": 4,
   "id": "fa2c749a",
   "metadata": {},
   "outputs": [
    {
     "name": "stdout",
     "output_type": "stream",
     "text": [
      "Message (data loader): Since HOUR_OFFSET > 0, we offset the timestamps with 2 hours.\n",
      "Message (data loader): Loaded google_maps data from 2022-01-01 to 2022-12-30 with a fraction of 1. Length of data: 150821\n",
      "Message (data loader): First record in dataset is from 2022-01-01 03:20:48 and last record is from 2022-12-30 23:59:46\n",
      "Message (data loader): Performing EDA, saving plots at output/remove-100-30-1\n",
      "Message (filter moving): Marked 39136 data points as moving.\n",
      "Message (clustering): Clustering 111685 data points with DBSCAN, with eps = 0.01, min_samples = 200. \n",
      "Message (clustering): Start clustering...\n",
      "Message (clustering): Clustering took 23.155152320861816 seconds.\n",
      "Message (OSM): Adding OSM location data to 18 clusters.\n",
      "Message (post filter mean std ratio): Deleted 1 clusters (with labels: ['9'])\n",
      "Message (clustering): Final number of clusters: 17.\n"
     ]
    }
   ],
   "source": [
    "df, _ = DL.load_data(\n",
    "    data_source,\n",
    "    begin_date,\n",
    "    end_date,\n",
    "    fraction,\n",
    "    hours_offset,\n",
    "    outputs_folder_name=outputs_folder_name,\n",
    "    verbose=True,\n",
    "    perform_eda=True\n",
    ")\n",
    "\n",
    "# Step 2. Run clustering\n",
    "# First, make an instance of the Cluster class and define its settings.\n",
    "c = Cluster(\n",
    "    df,  # Input dataset (with latitude, longitude, timestamp columns)\n",
    "    outputs_folder_name=outputs_folder_name, \n",
    "    verbose=True,  # Do we want to see print statements?\n",
    "    pre_filter=True,  # Apply filters to the data before the clustering (such as removing moving points)\n",
    "    post_filter=True,  # Apply filters to the data/clusters after the clustering (such as deleting homogeneous clusters)\n",
    "    filter_moving=True,  # Do we want to delete the data points where the subject was moving?\n",
    "    centroid_k=10,  # Number of nearest neighbors to consider for density calculation (for cluster centroids)\n",
    "    min_unique_days=1,  # If post_filter = True, then delete all clusters that have been visited on less than min_unique_days days.\n",
    ")\n",
    "\n",
    "# Then we run the clustering and visualisation\n",
    "df = (\n",
    "    c.run_clustering(\n",
    "        min_samples=200,  # The number of samples in a neighborhood for a point to be considered as a core point\n",
    "        eps=0.01,  # The maximum distance between two samples for one to be considered as in the neighborhood of the other. 0.01 = 10m\n",
    "        algorithm=\"dbscan\",  # Choose either 'dbscan' or 'hdbscan'. If 'hdbscan', only min_samples is required.\n",
    "        # min_cluster_size=50,  # Param of HDBSCAN: the minimum size a final cluster can be. The higher this is, the bigger your clusters will be\n",
    "    )\n",
    "    .add_locations_to_original_dataframe(\n",
    "        export_xlsx=False,  # Export the dataframe to excel file? Useful for analyzing.\n",
    "        name=\"test\",\n",
    "    )\n",
    "    .plot_clusters(\n",
    "        filter_noise=False,  # Remove the -1 labels (i.e., noise) before plotting the clusters\n",
    "    )\n",
    "    \n",
    "    .df  # These functions return 'self' so we can chain them and easily access the df attribute (for input to further modeling/visualization).\n",
    ")\n"
   ]
  },
  {
   "cell_type": "code",
   "execution_count": 5,
   "id": "8bd9e39f",
   "metadata": {},
   "outputs": [
    {
     "data": {
      "text/html": [
       "<div>\n",
       "<style scoped>\n",
       "    .dataframe tbody tr th:only-of-type {\n",
       "        vertical-align: middle;\n",
       "    }\n",
       "\n",
       "    .dataframe tbody tr th {\n",
       "        vertical-align: top;\n",
       "    }\n",
       "\n",
       "    .dataframe thead th {\n",
       "        text-align: right;\n",
       "    }\n",
       "</style>\n",
       "<table border=\"1\" class=\"dataframe\">\n",
       "  <thead>\n",
       "    <tr style=\"text-align: right;\">\n",
       "      <th></th>\n",
       "      <th>timestamp</th>\n",
       "      <th>latitude</th>\n",
       "      <th>longitude</th>\n",
       "      <th>source</th>\n",
       "      <th>moving</th>\n",
       "      <th>cluster</th>\n",
       "      <th>location</th>\n",
       "      <th>id</th>\n",
       "    </tr>\n",
       "  </thead>\n",
       "  <tbody>\n",
       "    <tr>\n",
       "      <th>0</th>\n",
       "      <td>2022-01-01 03:32:03.461</td>\n",
       "      <td>51.726189</td>\n",
       "      <td>5.307098</td>\n",
       "      <td>WIFI</td>\n",
       "      <td>False</td>\n",
       "      <td>0</td>\n",
       "      <td>Maaspoortweg, 305</td>\n",
       "      <td>0</td>\n",
       "    </tr>\n",
       "    <tr>\n",
       "      <th>1</th>\n",
       "      <td>2022-01-01 04:08:10.808</td>\n",
       "      <td>51.726189</td>\n",
       "      <td>5.307098</td>\n",
       "      <td>WIFI</td>\n",
       "      <td>False</td>\n",
       "      <td>0</td>\n",
       "      <td>Maaspoortweg, 305</td>\n",
       "      <td>1</td>\n",
       "    </tr>\n",
       "    <tr>\n",
       "      <th>2</th>\n",
       "      <td>2022-01-01 05:31:45.348</td>\n",
       "      <td>51.726189</td>\n",
       "      <td>5.307098</td>\n",
       "      <td>WIFI</td>\n",
       "      <td>False</td>\n",
       "      <td>0</td>\n",
       "      <td>Maaspoortweg, 305</td>\n",
       "      <td>2</td>\n",
       "    </tr>\n",
       "    <tr>\n",
       "      <th>3</th>\n",
       "      <td>2022-01-01 12:49:51.094</td>\n",
       "      <td>51.726043</td>\n",
       "      <td>5.307154</td>\n",
       "      <td>WIFI</td>\n",
       "      <td>False</td>\n",
       "      <td>0</td>\n",
       "      <td>Maaspoortweg, 305</td>\n",
       "      <td>3</td>\n",
       "    </tr>\n",
       "    <tr>\n",
       "      <th>4</th>\n",
       "      <td>2022-01-01 12:59:56.046</td>\n",
       "      <td>51.726043</td>\n",
       "      <td>5.307154</td>\n",
       "      <td>WIFI</td>\n",
       "      <td>False</td>\n",
       "      <td>0</td>\n",
       "      <td>Maaspoortweg, 305</td>\n",
       "      <td>4</td>\n",
       "    </tr>\n",
       "    <tr>\n",
       "      <th>...</th>\n",
       "      <td>...</td>\n",
       "      <td>...</td>\n",
       "      <td>...</td>\n",
       "      <td>...</td>\n",
       "      <td>...</td>\n",
       "      <td>...</td>\n",
       "      <td>...</td>\n",
       "      <td>...</td>\n",
       "    </tr>\n",
       "    <tr>\n",
       "      <th>48831</th>\n",
       "      <td>2022-12-30 23:53:16.381</td>\n",
       "      <td>51.726057</td>\n",
       "      <td>5.307102</td>\n",
       "      <td>WIFI</td>\n",
       "      <td>False</td>\n",
       "      <td>0</td>\n",
       "      <td>Maaspoortweg, 305</td>\n",
       "      <td>48831</td>\n",
       "    </tr>\n",
       "    <tr>\n",
       "      <th>48832</th>\n",
       "      <td>2022-12-30 23:55:16.442</td>\n",
       "      <td>51.726057</td>\n",
       "      <td>5.307102</td>\n",
       "      <td>WIFI</td>\n",
       "      <td>False</td>\n",
       "      <td>0</td>\n",
       "      <td>Maaspoortweg, 305</td>\n",
       "      <td>48832</td>\n",
       "    </tr>\n",
       "    <tr>\n",
       "      <th>48833</th>\n",
       "      <td>2022-12-30 23:57:16.490</td>\n",
       "      <td>51.726057</td>\n",
       "      <td>5.307102</td>\n",
       "      <td>WIFI</td>\n",
       "      <td>False</td>\n",
       "      <td>0</td>\n",
       "      <td>Maaspoortweg, 305</td>\n",
       "      <td>48833</td>\n",
       "    </tr>\n",
       "    <tr>\n",
       "      <th>48834</th>\n",
       "      <td>2022-12-30 23:57:46.600</td>\n",
       "      <td>51.726057</td>\n",
       "      <td>5.307102</td>\n",
       "      <td>WIFI</td>\n",
       "      <td>False</td>\n",
       "      <td>0</td>\n",
       "      <td>Maaspoortweg, 305</td>\n",
       "      <td>48834</td>\n",
       "    </tr>\n",
       "    <tr>\n",
       "      <th>48835</th>\n",
       "      <td>2022-12-30 23:59:46.690</td>\n",
       "      <td>51.726057</td>\n",
       "      <td>5.307102</td>\n",
       "      <td>WIFI</td>\n",
       "      <td>False</td>\n",
       "      <td>0</td>\n",
       "      <td>Maaspoortweg, 305</td>\n",
       "      <td>48835</td>\n",
       "    </tr>\n",
       "  </tbody>\n",
       "</table>\n",
       "<p>89784 rows × 8 columns</p>\n",
       "</div>"
      ],
      "text/plain": [
       "                    timestamp   latitude  longitude source  moving cluster  \\\n",
       "0     2022-01-01 03:32:03.461  51.726189   5.307098   WIFI   False       0   \n",
       "1     2022-01-01 04:08:10.808  51.726189   5.307098   WIFI   False       0   \n",
       "2     2022-01-01 05:31:45.348  51.726189   5.307098   WIFI   False       0   \n",
       "3     2022-01-01 12:49:51.094  51.726043   5.307154   WIFI   False       0   \n",
       "4     2022-01-01 12:59:56.046  51.726043   5.307154   WIFI   False       0   \n",
       "...                       ...        ...        ...    ...     ...     ...   \n",
       "48831 2022-12-30 23:53:16.381  51.726057   5.307102   WIFI   False       0   \n",
       "48832 2022-12-30 23:55:16.442  51.726057   5.307102   WIFI   False       0   \n",
       "48833 2022-12-30 23:57:16.490  51.726057   5.307102   WIFI   False       0   \n",
       "48834 2022-12-30 23:57:46.600  51.726057   5.307102   WIFI   False       0   \n",
       "48835 2022-12-30 23:59:46.690  51.726057   5.307102   WIFI   False       0   \n",
       "\n",
       "                 location     id  \n",
       "0       Maaspoortweg, 305      0  \n",
       "1       Maaspoortweg, 305      1  \n",
       "2       Maaspoortweg, 305      2  \n",
       "3       Maaspoortweg, 305      3  \n",
       "4       Maaspoortweg, 305      4  \n",
       "...                   ...    ...  \n",
       "48831   Maaspoortweg, 305  48831  \n",
       "48832   Maaspoortweg, 305  48832  \n",
       "48833   Maaspoortweg, 305  48833  \n",
       "48834   Maaspoortweg, 305  48834  \n",
       "48835   Maaspoortweg, 305  48835  \n",
       "\n",
       "[89784 rows x 8 columns]"
      ]
     },
     "execution_count": 5,
     "metadata": {},
     "output_type": "execute_result"
    }
   ],
   "source": [
    "c.df"
   ]
  },
  {
   "cell_type": "code",
   "execution_count": 12,
   "id": "c3936c9e",
   "metadata": {},
   "outputs": [
    {
     "data": {
      "text/plain": [
       "51.726097656501345"
      ]
     },
     "execution_count": 12,
     "metadata": {},
     "output_type": "execute_result"
    }
   ],
   "source": [
    "c.df_centroids.loc[0].latitude\n"
   ]
  },
  {
   "cell_type": "code",
   "execution_count": null,
   "id": "937781ee",
   "metadata": {},
   "outputs": [],
   "source": [
    "c.df_centroids.loc[len(c.df_centroids)] = [0, 0, -1, 10, \"black\", \"noise\", 0, 0, 0]"
   ]
  },
  {
   "cell_type": "code",
   "execution_count": 10,
   "id": "3c71b056",
   "metadata": {},
   "outputs": [
    {
     "data": {
      "text/plain": [
       "array(['WIFI', 'GPS', 'UNKNOWN', 'CELL'], dtype=object)"
      ]
     },
     "execution_count": 10,
     "metadata": {},
     "output_type": "execute_result"
    }
   ],
   "source": [
    "c.df.source.unique()"
   ]
  },
  {
   "cell_type": "code",
   "execution_count": null,
   "id": "803b72fb",
   "metadata": {},
   "outputs": [],
   "source": []
  },
  {
   "cell_type": "code",
   "execution_count": null,
   "id": "ebfc0e22",
   "metadata": {},
   "outputs": [],
   "source": []
  },
  {
   "cell_type": "code",
   "execution_count": null,
   "id": "35702ac3",
   "metadata": {},
   "outputs": [],
   "source": []
  },
  {
   "cell_type": "markdown",
   "id": "8637e966",
   "metadata": {},
   "source": [
    "## Percentage of window blocks that we have seen before, per day"
   ]
  },
  {
   "cell_type": "code",
   "execution_count": 124,
   "id": "1e37831b",
   "metadata": {},
   "outputs": [],
   "source": [
    "df = pd.read_excel(\"output/martijn-100-30-1/resampled_df_10_min.xlsx\", index_col=[0])\n",
    "\n",
    "df[\"day\"] = df[\"timestamp\"].dt.day\n",
    "df[\"weekday\"] = df[\"timestamp\"].dt.dayofweek\n",
    "df[\"hour\"] = df[\"timestamp\"].dt.hour\n",
    "df[\"window_block\"] = ((df['timestamp'].dt.minute * 60 + df['timestamp'].dt.second) // 600).astype(int)"
   ]
  },
  {
   "cell_type": "code",
   "execution_count": 125,
   "id": "b5eed0b7",
   "metadata": {},
   "outputs": [
    {
     "data": {
      "text/html": [
       "<div>\n",
       "<style scoped>\n",
       "    .dataframe tbody tr th:only-of-type {\n",
       "        vertical-align: middle;\n",
       "    }\n",
       "\n",
       "    .dataframe tbody tr th {\n",
       "        vertical-align: top;\n",
       "    }\n",
       "\n",
       "    .dataframe thead th {\n",
       "        text-align: right;\n",
       "    }\n",
       "</style>\n",
       "<table border=\"1\" class=\"dataframe\">\n",
       "  <thead>\n",
       "    <tr style=\"text-align: right;\">\n",
       "      <th></th>\n",
       "      <th>timestamp</th>\n",
       "      <th>location</th>\n",
       "      <th>day</th>\n",
       "      <th>weekday</th>\n",
       "      <th>hour</th>\n",
       "      <th>window_block</th>\n",
       "    </tr>\n",
       "  </thead>\n",
       "  <tbody>\n",
       "    <tr>\n",
       "      <th>6</th>\n",
       "      <td>2022-05-01 01:00:00</td>\n",
       "      <td>82,  Lokerenpassage</td>\n",
       "      <td>1</td>\n",
       "      <td>6</td>\n",
       "      <td>1</td>\n",
       "      <td>0</td>\n",
       "    </tr>\n",
       "    <tr>\n",
       "      <th>7</th>\n",
       "      <td>2022-05-01 01:10:00</td>\n",
       "      <td>82,  Lokerenpassage</td>\n",
       "      <td>1</td>\n",
       "      <td>6</td>\n",
       "      <td>1</td>\n",
       "      <td>1</td>\n",
       "    </tr>\n",
       "    <tr>\n",
       "      <th>8</th>\n",
       "      <td>2022-05-01 01:20:00</td>\n",
       "      <td>82,  Lokerenpassage</td>\n",
       "      <td>1</td>\n",
       "      <td>6</td>\n",
       "      <td>1</td>\n",
       "      <td>2</td>\n",
       "    </tr>\n",
       "    <tr>\n",
       "      <th>9</th>\n",
       "      <td>2022-05-01 01:30:00</td>\n",
       "      <td>82,  Lokerenpassage</td>\n",
       "      <td>1</td>\n",
       "      <td>6</td>\n",
       "      <td>1</td>\n",
       "      <td>3</td>\n",
       "    </tr>\n",
       "    <tr>\n",
       "      <th>10</th>\n",
       "      <td>2022-05-01 01:40:00</td>\n",
       "      <td>82,  Lokerenpassage</td>\n",
       "      <td>1</td>\n",
       "      <td>6</td>\n",
       "      <td>1</td>\n",
       "      <td>4</td>\n",
       "    </tr>\n",
       "    <tr>\n",
       "      <th>...</th>\n",
       "      <td>...</td>\n",
       "      <td>...</td>\n",
       "      <td>...</td>\n",
       "      <td>...</td>\n",
       "      <td>...</td>\n",
       "      <td>...</td>\n",
       "    </tr>\n",
       "    <tr>\n",
       "      <th>64075</th>\n",
       "      <td>2023-07-19 23:10:00</td>\n",
       "      <td>82,  Lokerenpassage</td>\n",
       "      <td>19</td>\n",
       "      <td>2</td>\n",
       "      <td>23</td>\n",
       "      <td>1</td>\n",
       "    </tr>\n",
       "    <tr>\n",
       "      <th>64076</th>\n",
       "      <td>2023-07-19 23:20:00</td>\n",
       "      <td>82,  Lokerenpassage</td>\n",
       "      <td>19</td>\n",
       "      <td>2</td>\n",
       "      <td>23</td>\n",
       "      <td>2</td>\n",
       "    </tr>\n",
       "    <tr>\n",
       "      <th>64077</th>\n",
       "      <td>2023-07-19 23:30:00</td>\n",
       "      <td>82,  Lokerenpassage</td>\n",
       "      <td>19</td>\n",
       "      <td>2</td>\n",
       "      <td>23</td>\n",
       "      <td>3</td>\n",
       "    </tr>\n",
       "    <tr>\n",
       "      <th>64078</th>\n",
       "      <td>2023-07-19 23:40:00</td>\n",
       "      <td>82,  Lokerenpassage</td>\n",
       "      <td>19</td>\n",
       "      <td>2</td>\n",
       "      <td>23</td>\n",
       "      <td>4</td>\n",
       "    </tr>\n",
       "    <tr>\n",
       "      <th>64079</th>\n",
       "      <td>2023-07-19 23:50:00</td>\n",
       "      <td>82,  Lokerenpassage</td>\n",
       "      <td>19</td>\n",
       "      <td>2</td>\n",
       "      <td>23</td>\n",
       "      <td>5</td>\n",
       "    </tr>\n",
       "  </tbody>\n",
       "</table>\n",
       "<p>64074 rows × 6 columns</p>\n",
       "</div>"
      ],
      "text/plain": [
       "                timestamp              location  day  weekday  hour  \\\n",
       "6     2022-05-01 01:00:00   82,  Lokerenpassage    1        6     1   \n",
       "7     2022-05-01 01:10:00   82,  Lokerenpassage    1        6     1   \n",
       "8     2022-05-01 01:20:00   82,  Lokerenpassage    1        6     1   \n",
       "9     2022-05-01 01:30:00   82,  Lokerenpassage    1        6     1   \n",
       "10    2022-05-01 01:40:00   82,  Lokerenpassage    1        6     1   \n",
       "...                   ...                   ...  ...      ...   ...   \n",
       "64075 2023-07-19 23:10:00   82,  Lokerenpassage   19        2    23   \n",
       "64076 2023-07-19 23:20:00   82,  Lokerenpassage   19        2    23   \n",
       "64077 2023-07-19 23:30:00   82,  Lokerenpassage   19        2    23   \n",
       "64078 2023-07-19 23:40:00   82,  Lokerenpassage   19        2    23   \n",
       "64079 2023-07-19 23:50:00   82,  Lokerenpassage   19        2    23   \n",
       "\n",
       "       window_block  \n",
       "6                 0  \n",
       "7                 1  \n",
       "8                 2  \n",
       "9                 3  \n",
       "10                4  \n",
       "...             ...  \n",
       "64075             1  \n",
       "64076             2  \n",
       "64077             3  \n",
       "64078             4  \n",
       "64079             5  \n",
       "\n",
       "[64074 rows x 6 columns]"
      ]
     },
     "execution_count": 125,
     "metadata": {},
     "output_type": "execute_result"
    }
   ],
   "source": [
    "df"
   ]
  },
  {
   "cell_type": "code",
   "execution_count": 126,
   "id": "4b247c4e",
   "metadata": {},
   "outputs": [],
   "source": [
    "final_results = {} # Dict with keys (dates) and values (scores)\n",
    "lookup = {} # Dict with the feature & target variable combinations\n",
    "current_date = df.head(1).timestamp.dt.date.values[0]\n",
    "this_day_values = []\n",
    "\n",
    "for index, row in df.iterrows():\n",
    "    combi = (row['location'], row['weekday'], row['hour'], row['window_block'])\n",
    "    # print(f\"Data: {combi}, curr date: {current_date}, this day values: {this_day_values}\")\n",
    "\n",
    "    if row['timestamp'].date() == current_date:\n",
    "        if combi in lookup:\n",
    "            this_day_values.append(1)\n",
    "        else:\n",
    "            this_day_values.append(0)\n",
    "\n",
    "    else:\n",
    "        # We need to calculate the final scores for last day, since the new day has started. \n",
    "        ones = this_day_values.count(1)\n",
    "        zeros = this_day_values.count(0)\n",
    "\n",
    "        try:\n",
    "            ratio = ones/(ones + zeros)\n",
    "        except ZeroDivisionError:\n",
    "            ratio = 0\n",
    "        # print(f\"Day {current_date} has ended, ones: {ones}, zeros: {zeros}, ratio: {ratio}\")\n",
    "        final_results[current_date] = ratio\n",
    "\n",
    "        current_date = row['timestamp'].date()\n",
    "        this_day_values = []\n",
    "\n",
    "        if combi in lookup:\n",
    "            this_day_values.append(1)\n",
    "        else:\n",
    "            this_day_values.append(0)\n",
    "\n",
    "    if not combi in lookup:\n",
    "        lookup[combi] = 1\n",
    "    else:\n",
    "        lookup[combi] += 1\n",
    "\n",
    "    "
   ]
  },
  {
   "cell_type": "code",
   "execution_count": 127,
   "id": "63780386",
   "metadata": {},
   "outputs": [],
   "source": [
    "x,y = zip(*sorted(final_results.items()))\n",
    "df_plot = pd.DataFrame({\"Time\":x, \"Percentage of day seen before\":y})"
   ]
  },
  {
   "cell_type": "code",
   "execution_count": 128,
   "id": "60846a60",
   "metadata": {},
   "outputs": [
    {
     "data": {
      "text/html": [
       "<div>\n",
       "<style scoped>\n",
       "    .dataframe tbody tr th:only-of-type {\n",
       "        vertical-align: middle;\n",
       "    }\n",
       "\n",
       "    .dataframe tbody tr th {\n",
       "        vertical-align: top;\n",
       "    }\n",
       "\n",
       "    .dataframe thead th {\n",
       "        text-align: right;\n",
       "    }\n",
       "</style>\n",
       "<table border=\"1\" class=\"dataframe\">\n",
       "  <thead>\n",
       "    <tr style=\"text-align: right;\">\n",
       "      <th></th>\n",
       "      <th>Time</th>\n",
       "      <th>Percentage of day seen before</th>\n",
       "    </tr>\n",
       "  </thead>\n",
       "  <tbody>\n",
       "    <tr>\n",
       "      <th>0</th>\n",
       "      <td>2022-05-01</td>\n",
       "      <td>0.000000</td>\n",
       "    </tr>\n",
       "    <tr>\n",
       "      <th>1</th>\n",
       "      <td>2022-05-02</td>\n",
       "      <td>0.000000</td>\n",
       "    </tr>\n",
       "    <tr>\n",
       "      <th>2</th>\n",
       "      <td>2022-05-03</td>\n",
       "      <td>0.000000</td>\n",
       "    </tr>\n",
       "    <tr>\n",
       "      <th>3</th>\n",
       "      <td>2022-05-04</td>\n",
       "      <td>0.000000</td>\n",
       "    </tr>\n",
       "    <tr>\n",
       "      <th>4</th>\n",
       "      <td>2022-05-05</td>\n",
       "      <td>0.000000</td>\n",
       "    </tr>\n",
       "    <tr>\n",
       "      <th>...</th>\n",
       "      <td>...</td>\n",
       "      <td>...</td>\n",
       "    </tr>\n",
       "    <tr>\n",
       "      <th>439</th>\n",
       "      <td>2023-07-14</td>\n",
       "      <td>1.000000</td>\n",
       "    </tr>\n",
       "    <tr>\n",
       "      <th>440</th>\n",
       "      <td>2023-07-15</td>\n",
       "      <td>0.979167</td>\n",
       "    </tr>\n",
       "    <tr>\n",
       "      <th>441</th>\n",
       "      <td>2023-07-16</td>\n",
       "      <td>1.000000</td>\n",
       "    </tr>\n",
       "    <tr>\n",
       "      <th>442</th>\n",
       "      <td>2023-07-17</td>\n",
       "      <td>1.000000</td>\n",
       "    </tr>\n",
       "    <tr>\n",
       "      <th>443</th>\n",
       "      <td>2023-07-18</td>\n",
       "      <td>1.000000</td>\n",
       "    </tr>\n",
       "  </tbody>\n",
       "</table>\n",
       "<p>444 rows × 2 columns</p>\n",
       "</div>"
      ],
      "text/plain": [
       "           Time  Percentage of day seen before\n",
       "0    2022-05-01                       0.000000\n",
       "1    2022-05-02                       0.000000\n",
       "2    2022-05-03                       0.000000\n",
       "3    2022-05-04                       0.000000\n",
       "4    2022-05-05                       0.000000\n",
       "..          ...                            ...\n",
       "439  2023-07-14                       1.000000\n",
       "440  2023-07-15                       0.979167\n",
       "441  2023-07-16                       1.000000\n",
       "442  2023-07-17                       1.000000\n",
       "443  2023-07-18                       1.000000\n",
       "\n",
       "[444 rows x 2 columns]"
      ]
     },
     "execution_count": 128,
     "metadata": {},
     "output_type": "execute_result"
    }
   ],
   "source": [
    "df_plot\n"
   ]
  },
  {
   "cell_type": "code",
   "execution_count": 129,
   "id": "0adaed64",
   "metadata": {},
   "outputs": [
    {
     "data": {
      "application/vnd.plotly.v1+json": {
       "config": {
        "plotlyServerURL": "https://plotly.com"
       },
       "data": [
        {
         "name": "Savitzky-Golay",
         "type": "scatter",
         "x": [
          "2022-05-01",
          "2022-05-02",
          "2022-05-03",
          "2022-05-04",
          "2022-05-05",
          "2022-05-06",
          "2022-05-07",
          "2022-05-08",
          "2022-05-09",
          "2022-05-10",
          "2022-05-11",
          "2022-05-12",
          "2022-05-13",
          "2022-05-14",
          "2022-05-15",
          "2022-05-16",
          "2022-05-17",
          "2022-05-18",
          "2022-05-19",
          "2022-05-20",
          "2022-05-21",
          "2022-05-22",
          "2022-05-23",
          "2022-05-24",
          "2022-05-25",
          "2022-05-26",
          "2022-05-27",
          "2022-05-28",
          "2022-05-29",
          "2022-05-30",
          "2022-05-31",
          "2022-06-01",
          "2022-06-02",
          "2022-06-03",
          "2022-06-04",
          "2022-06-05",
          "2022-06-06",
          "2022-06-07",
          "2022-06-08",
          "2022-06-09",
          "2022-06-10",
          "2022-06-11",
          "2022-06-12",
          "2022-06-13",
          "2022-06-14",
          "2022-06-15",
          "2022-06-16",
          "2022-06-17",
          "2022-06-18",
          "2022-06-19",
          "2022-06-20",
          "2022-06-21",
          "2022-06-22",
          "2022-06-23",
          "2022-06-24",
          "2022-06-25",
          "2022-06-26",
          "2022-06-27",
          "2022-06-28",
          "2022-06-29",
          "2022-06-30",
          "2022-07-01",
          "2022-07-02",
          "2022-07-03",
          "2022-07-04",
          "2022-07-05",
          "2022-07-06",
          "2022-07-07",
          "2022-07-08",
          "2022-07-09",
          "2022-07-10",
          "2022-07-11",
          "2022-07-12",
          "2022-07-13",
          "2022-07-14",
          "2022-07-15",
          "2022-07-16",
          "2022-07-17",
          "2022-07-18",
          "2022-07-19",
          "2022-07-20",
          "2022-07-21",
          "2022-07-22",
          "2022-07-23",
          "2022-07-24",
          "2022-07-25",
          "2022-07-26",
          "2022-07-27",
          "2022-07-28",
          "2022-07-29",
          "2022-07-30",
          "2022-07-31",
          "2022-08-01",
          "2022-08-02",
          "2022-08-03",
          "2022-08-04",
          "2022-08-05",
          "2022-08-06",
          "2022-08-07",
          "2022-08-08",
          "2022-08-09",
          "2022-08-10",
          "2022-08-11",
          "2022-08-12",
          "2022-08-13",
          "2022-08-14",
          "2022-08-15",
          "2022-08-16",
          "2022-08-17",
          "2022-08-18",
          "2022-08-19",
          "2022-08-20",
          "2022-08-21",
          "2022-08-22",
          "2022-08-23",
          "2022-08-24",
          "2022-08-25",
          "2022-08-26",
          "2022-08-27",
          "2022-08-28",
          "2022-08-29",
          "2022-08-30",
          "2022-08-31",
          "2022-09-01",
          "2022-09-02",
          "2022-09-03",
          "2022-09-04",
          "2022-09-05",
          "2022-09-06",
          "2022-09-07",
          "2022-09-08",
          "2022-09-09",
          "2022-09-10",
          "2022-09-11",
          "2022-09-12",
          "2022-09-13",
          "2022-09-14",
          "2022-09-15",
          "2022-09-16",
          "2022-09-17",
          "2022-09-18",
          "2022-09-19",
          "2022-09-20",
          "2022-09-21",
          "2022-09-22",
          "2022-09-23",
          "2022-09-24",
          "2022-09-25",
          "2022-09-26",
          "2022-09-27",
          "2022-09-28",
          "2022-09-29",
          "2022-09-30",
          "2022-10-01",
          "2022-10-02",
          "2022-10-03",
          "2022-10-04",
          "2022-10-05",
          "2022-10-06",
          "2022-10-07",
          "2022-10-08",
          "2022-10-09",
          "2022-10-10",
          "2022-10-11",
          "2022-10-12",
          "2022-10-13",
          "2022-10-14",
          "2022-10-15",
          "2022-10-16",
          "2022-10-17",
          "2022-10-18",
          "2022-10-19",
          "2022-10-20",
          "2022-10-21",
          "2022-10-22",
          "2022-10-23",
          "2022-10-24",
          "2022-10-25",
          "2022-10-26",
          "2022-10-27",
          "2022-10-28",
          "2022-10-29",
          "2022-10-30",
          "2022-10-31",
          "2022-11-01",
          "2022-11-02",
          "2022-11-03",
          "2022-11-04",
          "2022-11-05",
          "2022-11-06",
          "2022-11-07",
          "2022-11-08",
          "2022-11-09",
          "2022-11-10",
          "2022-11-11",
          "2022-11-12",
          "2022-11-13",
          "2022-11-14",
          "2022-11-15",
          "2022-11-16",
          "2022-11-17",
          "2022-11-18",
          "2022-11-19",
          "2022-11-20",
          "2022-11-21",
          "2022-11-22",
          "2022-11-23",
          "2022-11-24",
          "2022-11-25",
          "2022-11-26",
          "2022-11-27",
          "2022-11-28",
          "2022-11-29",
          "2022-11-30",
          "2022-12-01",
          "2022-12-02",
          "2022-12-03",
          "2022-12-04",
          "2022-12-05",
          "2022-12-06",
          "2022-12-07",
          "2022-12-08",
          "2022-12-09",
          "2022-12-10",
          "2022-12-11",
          "2022-12-12",
          "2022-12-13",
          "2022-12-14",
          "2022-12-15",
          "2022-12-16",
          "2022-12-17",
          "2022-12-18",
          "2022-12-19",
          "2022-12-20",
          "2022-12-21",
          "2022-12-22",
          "2022-12-23",
          "2022-12-24",
          "2022-12-25",
          "2022-12-26",
          "2022-12-27",
          "2022-12-28",
          "2022-12-29",
          "2022-12-30",
          "2022-12-31",
          "2023-01-01",
          "2023-01-02",
          "2023-01-03",
          "2023-01-04",
          "2023-01-05",
          "2023-01-06",
          "2023-01-07",
          "2023-01-08",
          "2023-01-09",
          "2023-01-10",
          "2023-01-11",
          "2023-01-12",
          "2023-01-13",
          "2023-01-14",
          "2023-01-15",
          "2023-01-16",
          "2023-01-17",
          "2023-01-18",
          "2023-01-19",
          "2023-01-20",
          "2023-01-21",
          "2023-01-22",
          "2023-01-23",
          "2023-01-24",
          "2023-01-25",
          "2023-01-26",
          "2023-01-27",
          "2023-01-28",
          "2023-01-29",
          "2023-01-30",
          "2023-01-31",
          "2023-02-01",
          "2023-02-02",
          "2023-02-03",
          "2023-02-04",
          "2023-02-05",
          "2023-02-06",
          "2023-02-07",
          "2023-02-08",
          "2023-02-09",
          "2023-02-10",
          "2023-02-11",
          "2023-02-12",
          "2023-02-13",
          "2023-02-14",
          "2023-02-15",
          "2023-02-16",
          "2023-02-17",
          "2023-02-18",
          "2023-02-19",
          "2023-02-20",
          "2023-02-21",
          "2023-02-22",
          "2023-02-23",
          "2023-02-24",
          "2023-02-25",
          "2023-02-26",
          "2023-02-27",
          "2023-02-28",
          "2023-03-01",
          "2023-03-02",
          "2023-03-03",
          "2023-03-04",
          "2023-03-05",
          "2023-03-06",
          "2023-03-07",
          "2023-03-08",
          "2023-03-09",
          "2023-03-10",
          "2023-03-11",
          "2023-03-12",
          "2023-03-13",
          "2023-03-14",
          "2023-03-15",
          "2023-03-16",
          "2023-03-17",
          "2023-03-18",
          "2023-03-19",
          "2023-03-20",
          "2023-03-21",
          "2023-03-22",
          "2023-03-23",
          "2023-03-24",
          "2023-03-25",
          "2023-03-26",
          "2023-03-27",
          "2023-03-28",
          "2023-03-29",
          "2023-03-30",
          "2023-03-31",
          "2023-04-01",
          "2023-04-02",
          "2023-04-03",
          "2023-04-04",
          "2023-04-05",
          "2023-04-06",
          "2023-04-07",
          "2023-04-08",
          "2023-04-09",
          "2023-04-10",
          "2023-04-11",
          "2023-04-12",
          "2023-04-13",
          "2023-04-14",
          "2023-04-15",
          "2023-04-16",
          "2023-04-17",
          "2023-04-18",
          "2023-04-19",
          "2023-04-20",
          "2023-04-21",
          "2023-04-22",
          "2023-04-23",
          "2023-04-24",
          "2023-04-25",
          "2023-04-26",
          "2023-04-27",
          "2023-04-28",
          "2023-04-29",
          "2023-04-30",
          "2023-05-01",
          "2023-05-02",
          "2023-05-03",
          "2023-05-04",
          "2023-05-05",
          "2023-05-06",
          "2023-05-07",
          "2023-05-08",
          "2023-05-09",
          "2023-05-10",
          "2023-05-11",
          "2023-05-12",
          "2023-05-13",
          "2023-05-14",
          "2023-05-15",
          "2023-05-16",
          "2023-05-17",
          "2023-05-18",
          "2023-05-19",
          "2023-05-20",
          "2023-05-21",
          "2023-05-22",
          "2023-05-23",
          "2023-05-24",
          "2023-05-25",
          "2023-05-26",
          "2023-05-27",
          "2023-05-28",
          "2023-05-29",
          "2023-05-30",
          "2023-05-31",
          "2023-06-01",
          "2023-06-02",
          "2023-06-03",
          "2023-06-04",
          "2023-06-05",
          "2023-06-06",
          "2023-06-07",
          "2023-06-08",
          "2023-06-09",
          "2023-06-10",
          "2023-06-11",
          "2023-06-12",
          "2023-06-13",
          "2023-06-14",
          "2023-06-15",
          "2023-06-16",
          "2023-06-17",
          "2023-06-18",
          "2023-06-19",
          "2023-06-20",
          "2023-06-21",
          "2023-06-22",
          "2023-06-23",
          "2023-06-24",
          "2023-06-25",
          "2023-06-26",
          "2023-06-27",
          "2023-06-28",
          "2023-06-29",
          "2023-06-30",
          "2023-07-01",
          "2023-07-02",
          "2023-07-03",
          "2023-07-04",
          "2023-07-05",
          "2023-07-06",
          "2023-07-07",
          "2023-07-08",
          "2023-07-09",
          "2023-07-10",
          "2023-07-11",
          "2023-07-12",
          "2023-07-13",
          "2023-07-14",
          "2023-07-15",
          "2023-07-16",
          "2023-07-17",
          "2023-07-18"
         ],
         "y": [
          0.020216136520483985,
          -0.00033941077991445773,
          -0.008963986052086901,
          -0.006521038251419302,
          0.006125983666702389,
          0.02811363074689223,
          0.05857845403376423,
          0.09665700457193246,
          0.14148583340601095,
          0.19220149158061384,
          0.32716224747474865,
          0.3604982112794628,
          0.3991450968013484,
          0.4594775883838402,
          0.49712752525252724,
          0.5534327651515174,
          0.5768913089225614,
          0.6049768518518542,
          0.714230850168353,
          0.7401646675084205,
          0.7524489688552218,
          0.7570444023569053,
          0.740335648148151,
          0.776104797979801,
          0.8391230008417542,
          0.8177714646464677,
          0.8445207281144815,
          0.8667140151515186,
          0.8913983585858622,
          0.922266940235694,
          0.877454229797983,
          0.8904198232323268,
          0.9065077861952898,
          0.9083596380471415,
          0.9231639309764347,
          0.9156960227272762,
          0.9302057028619565,
          0.954516519360273,
          0.9405066287878825,
          0.9470012626262663,
          0.9587699915824953,
          0.9601746632996672,
          0.9691945496633034,
          0.9762810395622933,
          0.9655802819865357,
          0.9740503998316536,
          0.975068392255896,
          0.9732823021885562,
          0.9760574494949533,
          0.9720407196969734,
          0.9726036405723946,
          0.9801399410774448,
          0.9782196969697008,
          0.9696127946127985,
          0.9782986111111148,
          0.9813210227272765,
          0.9740530303030341,
          0.9546875000000038,
          0.9480850168350206,
          0.9381944444444482,
          0.9350299873737409,
          0.9285511363636401,
          0.9263152356902392,
          0.9353035563973101,
          0.932133838383842,
          0.9302793560606097,
          0.9265440867003404,
          0.928790509259263,
          0.9365793350168388,
          0.9431449915824954,
          0.95237794612795,
          0.95070496632997,
          0.9610427188552226,
          0.974800084175088,
          0.9753393308080847,
          0.9694023569023609,
          0.9698153409090947,
          0.9807922979798017,
          0.9791272095959636,
          0.9835990109427647,
          0.9824600168350207,
          0.9871685606060644,
          0.9993344907407445,
          0.9944497053872091,
          0.9912063341750881,
          0.9865898569023607,
          0.9854061447811485,
          0.9843118686868725,
          0.9967224326599365,
          1.0409564393939432,
          1.0541666666666707,
          1.038670559764314,
          0.9992976641414181,
          0.9394333964646503,
          0.8628656355218889,
          0.7540640782828313,
          0.6088620580808105,
          0.4874500210437729,
          0.395130997474749,
          0.32754892676767794,
          0.2857901936026946,
          0.26863952020202114,
          0.2746738215488225,
          0.29946075336700445,
          0.35499000420875554,
          0.43816550925926095,
          0.5514020412457935,
          0.688449600168353,
          0.8213567971380504,
          0.9042902988215525,
          0.9720985900673439,
          1.0209937920875458,
          1.04718802609428,
          1.0472958754208794,
          1.0438552188552228,
          1.0000868055555594,
          0.9913589015151555,
          0.9787378998316538,
          0.9658117634680172,
          0.9552951388888926,
          0.9468907828282865,
          0.9445996422558959,
          0.9346327861952898,
          0.9311973905723941,
          0.9311447811447848,
          0.9372921927609464,
          0.9362715698653236,
          0.9403224957912494,
          0.9474326599326638,
          0.9601825547138083,
          0.9698626893939433,
          0.9824626473064012,
          0.9979824284511823,
          1.0157565235690273,
          0.9915719696969735,
          0.9880129419191958,
          0.9865083122895659,
          0.9853272306397346,
          0.9859848484848522,
          1.0013599537037075,
          0.9949942129629669,
          0.9881839225589263,
          0.9852614688552227,
          0.9818944654882192,
          0.9800794402356942,
          0.9738268097643136,
          0.9725115740740781,
          0.9725115740740778,
          0.9731613005050543,
          0.9852088594276133,
          1.0349563341750878,
          1.0526909722222264,
          1.0422006523569067,
          1.0072732533670075,
          0.9516966540404078,
          0.8779277146464681,
          0.760848063973067,
          0.625694444444447,
          0.5170559764309784,
          0.4116398358585874,
          0.3459043560606074,
          0.30576336279461397,
          0.2932449494949506,
          0.3010574494949506,
          0.3346485690235703,
          0.3940183080808096,
          0.4807765151515171,
          0.5907565235690259,
          0.7266203703703732,
          0.8636205808080843,
          0.9434238215488253,
          1.0097169612794652,
          1.056415719696974,
          1.0694312920875464,
          1.0553609006734046,
          1.009375000000004,
          0.9799978956228995,
          0.9780250420875458,
          0.9771569865319906,
          0.9773937289562326,
          1.0036879208754246,
          0.9934685395622935,
          0.99947653619529,
          0.9963699494949534,
          0.9868581649831688,
          1.0037510521885562,
          0.9897332702020243,
          0.8979298190235727,
          0.820567655723909,
          0.760479797979801,
          0.7268045033670062,
          0.6791166877104402,
          0.6307554713804738,
          0.6041087962962987,
          0.5973037668350191,
          0.6041140572390595,
          0.617916140572393,
          0.6484033038720564,
          0.6951730850168378,
          0.758225484006737,
          0.79629892676768,
          0.8714541245791282,
          0.9260811237373774,
          0.9777541035353575,
          1.0273805765993307,
          1.0096696127946168,
          0.9609716961279499,
          0.9722038089225629,
          0.9866187920875457,
          1.0002551557239092,
          0.9845828072390609,
          0.9793613215488254,
          0.981702441077445,
          0.9855692340067378,
          0.9841829755892294,
          1.0165009469697008,
          1.0075547138047178,
          0.9825704966330004,
          0.9593434343434382,
          0.9405355639730676,
          0.9261468855218892,
          0.9148463804713841,
          0.9040588173400708,
          0.8996054292929327,
          0.8942629419191954,
          0.8937289562289598,
          0.897017045454549,
          0.9042508417508454,
          0.9190525042087578,
          0.9253919402356938,
          0.9396753998316534,
          0.9578782617845156,
          0.9836226851851889,
          1.0075336700336741,
          1.0340067340067378,
          1.0019018308080847,
          0.987673611111115,
          0.9848011363636401,
          0.9841698232323269,
          0.9994633838383876,
          0.992708333333337,
          0.9850273569023607,
          0.9790824915824955,
          0.9748737373737413,
          0.9704045664983205,
          0.9674689604377142,
          0.96694286616162,
          0.9680213594276132,
          0.965519781144785,
          0.9667297979798019,
          0.9693602693602733,
          0.9734111952861991,
          0.9728929924242463,
          0.9771806607744146,
          0.9819865319865358,
          0.9883522727272765,
          0.9958754208754247,
          1.006970749158253,
          1.0153882575757616,
          0.9998316498316538,
          0.9972222222222261,
          0.9976404671717211,
          0.99635153619529,
          0.9953519570707111,
          0.9946417297979836,
          0.9950257786195323,
          0.994420770202024,
          0.994157723063977,
          0.9953203914141452,
          0.9937421085858623,
          0.9926110058922598,
          0.9919270833333372,
          0.9916903409090946,
          0.9975352483165022,
          0.9948784722222259,
          0.9930371422558962,
          0.9920112584175121,
          0.987807765151519,
          0.9866766624579161,
          0.9862031776094314,
          0.9863873106060644,
          0.9852325336700375,
          0.9902909301346839,
          0.988896780303034,
          0.9883706860269398,
          0.9873816287878826,
          0.9880129419191958,
          0.9979114057239097,
          0.9912089646464686,
          1.0138888888888926,
          1.0548242845117886,
          1.064562289562294,
          1.0372316919191962,
          0.934348695286199,
          0.8507602062289596,
          0.7822048611111142,
          0.723098169191922,
          0.6774331860269386,
          0.6452099116161643,
          0.6264283459595983,
          0.6210884890572415,
          0.6291903409090934,
          0.6434132996633022,
          0.6788378577441104,
          0.7216619318181846,
          0.7778751052188583,
          0.8474773779461314,
          0.9164930555555592,
          1.0067971380471419,
          1.0673453282828322,
          1.0689709595959636,
          1.0400831228956267,
          0.9928661616161655,
          0.9951704545454584,
          0.9963541666666704,
          0.9937552609427649,
          0.9938867845117884,
          0.9943339646464685,
          0.9967066498316536,
          0.996838173400677,
          0.9973905723905762,
          0.9983638468013506,
          0.9997579966330005,
          0.9955834385521923,
          0.9964225589225627,
          0.9955281986532024,
          1.013410143097647,
          1.0021517255892296,
          0.9923663720538759,
          0.9840540824915863,
          0.9772148569023605,
          0.9807028619528658,
          0.9716014309764347,
          0.9632207491582531,
          0.9569786405723945,
          0.9531118476431014,
          0.9512179082491621,
          0.9512968223905761,
          0.9522964015151553,
          0.9542166456228993,
          0.958109743265997,
          0.9639756944444483,
          0.971814499158253,
          0.9816261574074113,
          0.9914141414141452,
          1.004303451178455,
          0.9884732744107781,
          0.9918402777777816,
          0.9958912037037074,
          1.001028514309768,
          1.0130523989899027,
          1.057025989057243,
          1.064172979797984,
          1.0059343434343475,
          0.9548505892255931,
          0.9109217171717208,
          0.8741477272727307,
          0.8445286195286227,
          0.8202072811447844,
          0.8032670454545487,
          0.7934290824915856,
          0.7906933922558954,
          0.7950599747474779,
          0.8065288299663331,
          0.8250999579124612,
          0.8515782828282863,
          0.8838804713804749,
          0.940643413299667,
          0.9770754419191959,
          1.02112794612795,
          1.0625289351851892,
          1.0247474747474785,
          0.9752761994949534,
          0.9709096170033709,
          0.9677793560606099,
          0.9658854166666705,
          0.9652277988215526,
          0.9658065025252563,
          0.9662905092592631,
          0.9687631523569062,
          0.9756392045454584,
          0.9785853324915863,
          0.9829256102693641,
          1.03574810606061,
          1.0167876683501724,
          0.9984111952861991,
          0.9994502314814854,
          0.9540246212121251,
          0.9302188552188588,
          0.9107270622895658,
          0.9152698863636399,
          0.9507602062289598,
          0.9509206649831686,
          0.8792929292929328,
          0.8203966750841784,
          0.7742319023569054,
          0.7407986111111141,
          0.7402199074074102,
          0.7783670033670063,
          0.7964699074074105,
          0.7929924242424273,
          0.7249184553872083,
          0.6775699705387234,
          0.5777409511784535,
          0.5446443602693624,
          0.5381760311447833,
          0.5261416245791267,
          0.5496580387205409,
          0.5970538720538744,
          0.6620791245791271,
          0.7161168981481509,
          0.7143755260942789,
          0.7026146885521913,
          0.7551715067340098,
          0.8209332912457945,
          0.8999000420875458,
          0.992071759259263,
          1.0641729797979838,
          1.0724537037037079,
          1.0509574915824955,
          0.9958964646464684,
          0.9946575126262663,
          0.9993949915824955,
          1.0000000000000038,
          1.0011311026936065,
          0.9981297348484887,
          0.998287563131317,
          0.9987873526936065,
          0.9956360479798018,
          0.9950836489899028,
          0.9959227693602731,
          0.9950284090909128,
          0.9943970959595999,
          0.9940288299663339,
          0.9941237364511022,
          0.9944138485664935,
          0.9948169673065351,
          0.9953082219874518,
          0.9958627419254689,
          0.996455656436811,
          0.9970620948377036,
          0.9976571864443713,
          0.9982160605730395,
          0.9987138465399329
         ]
        }
       ],
       "layout": {
        "template": {
         "data": {
          "bar": [
           {
            "error_x": {
             "color": "#2a3f5f"
            },
            "error_y": {
             "color": "#2a3f5f"
            },
            "marker": {
             "line": {
              "color": "#E5ECF6",
              "width": 0.5
             },
             "pattern": {
              "fillmode": "overlay",
              "size": 10,
              "solidity": 0.2
             }
            },
            "type": "bar"
           }
          ],
          "barpolar": [
           {
            "marker": {
             "line": {
              "color": "#E5ECF6",
              "width": 0.5
             },
             "pattern": {
              "fillmode": "overlay",
              "size": 10,
              "solidity": 0.2
             }
            },
            "type": "barpolar"
           }
          ],
          "carpet": [
           {
            "aaxis": {
             "endlinecolor": "#2a3f5f",
             "gridcolor": "white",
             "linecolor": "white",
             "minorgridcolor": "white",
             "startlinecolor": "#2a3f5f"
            },
            "baxis": {
             "endlinecolor": "#2a3f5f",
             "gridcolor": "white",
             "linecolor": "white",
             "minorgridcolor": "white",
             "startlinecolor": "#2a3f5f"
            },
            "type": "carpet"
           }
          ],
          "choropleth": [
           {
            "colorbar": {
             "outlinewidth": 0,
             "ticks": ""
            },
            "type": "choropleth"
           }
          ],
          "contour": [
           {
            "colorbar": {
             "outlinewidth": 0,
             "ticks": ""
            },
            "colorscale": [
             [
              0,
              "#0d0887"
             ],
             [
              0.1111111111111111,
              "#46039f"
             ],
             [
              0.2222222222222222,
              "#7201a8"
             ],
             [
              0.3333333333333333,
              "#9c179e"
             ],
             [
              0.4444444444444444,
              "#bd3786"
             ],
             [
              0.5555555555555556,
              "#d8576b"
             ],
             [
              0.6666666666666666,
              "#ed7953"
             ],
             [
              0.7777777777777778,
              "#fb9f3a"
             ],
             [
              0.8888888888888888,
              "#fdca26"
             ],
             [
              1,
              "#f0f921"
             ]
            ],
            "type": "contour"
           }
          ],
          "contourcarpet": [
           {
            "colorbar": {
             "outlinewidth": 0,
             "ticks": ""
            },
            "type": "contourcarpet"
           }
          ],
          "heatmap": [
           {
            "colorbar": {
             "outlinewidth": 0,
             "ticks": ""
            },
            "colorscale": [
             [
              0,
              "#0d0887"
             ],
             [
              0.1111111111111111,
              "#46039f"
             ],
             [
              0.2222222222222222,
              "#7201a8"
             ],
             [
              0.3333333333333333,
              "#9c179e"
             ],
             [
              0.4444444444444444,
              "#bd3786"
             ],
             [
              0.5555555555555556,
              "#d8576b"
             ],
             [
              0.6666666666666666,
              "#ed7953"
             ],
             [
              0.7777777777777778,
              "#fb9f3a"
             ],
             [
              0.8888888888888888,
              "#fdca26"
             ],
             [
              1,
              "#f0f921"
             ]
            ],
            "type": "heatmap"
           }
          ],
          "heatmapgl": [
           {
            "colorbar": {
             "outlinewidth": 0,
             "ticks": ""
            },
            "colorscale": [
             [
              0,
              "#0d0887"
             ],
             [
              0.1111111111111111,
              "#46039f"
             ],
             [
              0.2222222222222222,
              "#7201a8"
             ],
             [
              0.3333333333333333,
              "#9c179e"
             ],
             [
              0.4444444444444444,
              "#bd3786"
             ],
             [
              0.5555555555555556,
              "#d8576b"
             ],
             [
              0.6666666666666666,
              "#ed7953"
             ],
             [
              0.7777777777777778,
              "#fb9f3a"
             ],
             [
              0.8888888888888888,
              "#fdca26"
             ],
             [
              1,
              "#f0f921"
             ]
            ],
            "type": "heatmapgl"
           }
          ],
          "histogram": [
           {
            "marker": {
             "pattern": {
              "fillmode": "overlay",
              "size": 10,
              "solidity": 0.2
             }
            },
            "type": "histogram"
           }
          ],
          "histogram2d": [
           {
            "colorbar": {
             "outlinewidth": 0,
             "ticks": ""
            },
            "colorscale": [
             [
              0,
              "#0d0887"
             ],
             [
              0.1111111111111111,
              "#46039f"
             ],
             [
              0.2222222222222222,
              "#7201a8"
             ],
             [
              0.3333333333333333,
              "#9c179e"
             ],
             [
              0.4444444444444444,
              "#bd3786"
             ],
             [
              0.5555555555555556,
              "#d8576b"
             ],
             [
              0.6666666666666666,
              "#ed7953"
             ],
             [
              0.7777777777777778,
              "#fb9f3a"
             ],
             [
              0.8888888888888888,
              "#fdca26"
             ],
             [
              1,
              "#f0f921"
             ]
            ],
            "type": "histogram2d"
           }
          ],
          "histogram2dcontour": [
           {
            "colorbar": {
             "outlinewidth": 0,
             "ticks": ""
            },
            "colorscale": [
             [
              0,
              "#0d0887"
             ],
             [
              0.1111111111111111,
              "#46039f"
             ],
             [
              0.2222222222222222,
              "#7201a8"
             ],
             [
              0.3333333333333333,
              "#9c179e"
             ],
             [
              0.4444444444444444,
              "#bd3786"
             ],
             [
              0.5555555555555556,
              "#d8576b"
             ],
             [
              0.6666666666666666,
              "#ed7953"
             ],
             [
              0.7777777777777778,
              "#fb9f3a"
             ],
             [
              0.8888888888888888,
              "#fdca26"
             ],
             [
              1,
              "#f0f921"
             ]
            ],
            "type": "histogram2dcontour"
           }
          ],
          "mesh3d": [
           {
            "colorbar": {
             "outlinewidth": 0,
             "ticks": ""
            },
            "type": "mesh3d"
           }
          ],
          "parcoords": [
           {
            "line": {
             "colorbar": {
              "outlinewidth": 0,
              "ticks": ""
             }
            },
            "type": "parcoords"
           }
          ],
          "pie": [
           {
            "automargin": true,
            "type": "pie"
           }
          ],
          "scatter": [
           {
            "fillpattern": {
             "fillmode": "overlay",
             "size": 10,
             "solidity": 0.2
            },
            "type": "scatter"
           }
          ],
          "scatter3d": [
           {
            "line": {
             "colorbar": {
              "outlinewidth": 0,
              "ticks": ""
             }
            },
            "marker": {
             "colorbar": {
              "outlinewidth": 0,
              "ticks": ""
             }
            },
            "type": "scatter3d"
           }
          ],
          "scattercarpet": [
           {
            "marker": {
             "colorbar": {
              "outlinewidth": 0,
              "ticks": ""
             }
            },
            "type": "scattercarpet"
           }
          ],
          "scattergeo": [
           {
            "marker": {
             "colorbar": {
              "outlinewidth": 0,
              "ticks": ""
             }
            },
            "type": "scattergeo"
           }
          ],
          "scattergl": [
           {
            "marker": {
             "colorbar": {
              "outlinewidth": 0,
              "ticks": ""
             }
            },
            "type": "scattergl"
           }
          ],
          "scattermapbox": [
           {
            "marker": {
             "colorbar": {
              "outlinewidth": 0,
              "ticks": ""
             }
            },
            "type": "scattermapbox"
           }
          ],
          "scatterpolar": [
           {
            "marker": {
             "colorbar": {
              "outlinewidth": 0,
              "ticks": ""
             }
            },
            "type": "scatterpolar"
           }
          ],
          "scatterpolargl": [
           {
            "marker": {
             "colorbar": {
              "outlinewidth": 0,
              "ticks": ""
             }
            },
            "type": "scatterpolargl"
           }
          ],
          "scatterternary": [
           {
            "marker": {
             "colorbar": {
              "outlinewidth": 0,
              "ticks": ""
             }
            },
            "type": "scatterternary"
           }
          ],
          "surface": [
           {
            "colorbar": {
             "outlinewidth": 0,
             "ticks": ""
            },
            "colorscale": [
             [
              0,
              "#0d0887"
             ],
             [
              0.1111111111111111,
              "#46039f"
             ],
             [
              0.2222222222222222,
              "#7201a8"
             ],
             [
              0.3333333333333333,
              "#9c179e"
             ],
             [
              0.4444444444444444,
              "#bd3786"
             ],
             [
              0.5555555555555556,
              "#d8576b"
             ],
             [
              0.6666666666666666,
              "#ed7953"
             ],
             [
              0.7777777777777778,
              "#fb9f3a"
             ],
             [
              0.8888888888888888,
              "#fdca26"
             ],
             [
              1,
              "#f0f921"
             ]
            ],
            "type": "surface"
           }
          ],
          "table": [
           {
            "cells": {
             "fill": {
              "color": "#EBF0F8"
             },
             "line": {
              "color": "white"
             }
            },
            "header": {
             "fill": {
              "color": "#C8D4E3"
             },
             "line": {
              "color": "white"
             }
            },
            "type": "table"
           }
          ]
         },
         "layout": {
          "annotationdefaults": {
           "arrowcolor": "#2a3f5f",
           "arrowhead": 0,
           "arrowwidth": 1
          },
          "autotypenumbers": "strict",
          "coloraxis": {
           "colorbar": {
            "outlinewidth": 0,
            "ticks": ""
           }
          },
          "colorscale": {
           "diverging": [
            [
             0,
             "#8e0152"
            ],
            [
             0.1,
             "#c51b7d"
            ],
            [
             0.2,
             "#de77ae"
            ],
            [
             0.3,
             "#f1b6da"
            ],
            [
             0.4,
             "#fde0ef"
            ],
            [
             0.5,
             "#f7f7f7"
            ],
            [
             0.6,
             "#e6f5d0"
            ],
            [
             0.7,
             "#b8e186"
            ],
            [
             0.8,
             "#7fbc41"
            ],
            [
             0.9,
             "#4d9221"
            ],
            [
             1,
             "#276419"
            ]
           ],
           "sequential": [
            [
             0,
             "#0d0887"
            ],
            [
             0.1111111111111111,
             "#46039f"
            ],
            [
             0.2222222222222222,
             "#7201a8"
            ],
            [
             0.3333333333333333,
             "#9c179e"
            ],
            [
             0.4444444444444444,
             "#bd3786"
            ],
            [
             0.5555555555555556,
             "#d8576b"
            ],
            [
             0.6666666666666666,
             "#ed7953"
            ],
            [
             0.7777777777777778,
             "#fb9f3a"
            ],
            [
             0.8888888888888888,
             "#fdca26"
            ],
            [
             1,
             "#f0f921"
            ]
           ],
           "sequentialminus": [
            [
             0,
             "#0d0887"
            ],
            [
             0.1111111111111111,
             "#46039f"
            ],
            [
             0.2222222222222222,
             "#7201a8"
            ],
            [
             0.3333333333333333,
             "#9c179e"
            ],
            [
             0.4444444444444444,
             "#bd3786"
            ],
            [
             0.5555555555555556,
             "#d8576b"
            ],
            [
             0.6666666666666666,
             "#ed7953"
            ],
            [
             0.7777777777777778,
             "#fb9f3a"
            ],
            [
             0.8888888888888888,
             "#fdca26"
            ],
            [
             1,
             "#f0f921"
            ]
           ]
          },
          "colorway": [
           "#636efa",
           "#EF553B",
           "#00cc96",
           "#ab63fa",
           "#FFA15A",
           "#19d3f3",
           "#FF6692",
           "#B6E880",
           "#FF97FF",
           "#FECB52"
          ],
          "font": {
           "color": "#2a3f5f"
          },
          "geo": {
           "bgcolor": "white",
           "lakecolor": "white",
           "landcolor": "#E5ECF6",
           "showlakes": true,
           "showland": true,
           "subunitcolor": "white"
          },
          "hoverlabel": {
           "align": "left"
          },
          "hovermode": "closest",
          "mapbox": {
           "style": "light"
          },
          "paper_bgcolor": "white",
          "plot_bgcolor": "#E5ECF6",
          "polar": {
           "angularaxis": {
            "gridcolor": "white",
            "linecolor": "white",
            "ticks": ""
           },
           "bgcolor": "#E5ECF6",
           "radialaxis": {
            "gridcolor": "white",
            "linecolor": "white",
            "ticks": ""
           }
          },
          "scene": {
           "xaxis": {
            "backgroundcolor": "#E5ECF6",
            "gridcolor": "white",
            "gridwidth": 2,
            "linecolor": "white",
            "showbackground": true,
            "ticks": "",
            "zerolinecolor": "white"
           },
           "yaxis": {
            "backgroundcolor": "#E5ECF6",
            "gridcolor": "white",
            "gridwidth": 2,
            "linecolor": "white",
            "showbackground": true,
            "ticks": "",
            "zerolinecolor": "white"
           },
           "zaxis": {
            "backgroundcolor": "#E5ECF6",
            "gridcolor": "white",
            "gridwidth": 2,
            "linecolor": "white",
            "showbackground": true,
            "ticks": "",
            "zerolinecolor": "white"
           }
          },
          "shapedefaults": {
           "line": {
            "color": "#2a3f5f"
           }
          },
          "ternary": {
           "aaxis": {
            "gridcolor": "white",
            "linecolor": "white",
            "ticks": ""
           },
           "baxis": {
            "gridcolor": "white",
            "linecolor": "white",
            "ticks": ""
           },
           "bgcolor": "#E5ECF6",
           "caxis": {
            "gridcolor": "white",
            "linecolor": "white",
            "ticks": ""
           }
          },
          "title": {
           "x": 0.05
          },
          "xaxis": {
           "automargin": true,
           "gridcolor": "white",
           "linecolor": "white",
           "ticks": "",
           "title": {
            "standoff": 15
           },
           "zerolinecolor": "white",
           "zerolinewidth": 2
          },
          "yaxis": {
           "automargin": true,
           "gridcolor": "white",
           "linecolor": "white",
           "ticks": "",
           "title": {
            "standoff": 15
           },
           "zerolinecolor": "white",
           "zerolinewidth": 2
          }
         }
        }
       }
      }
     },
     "metadata": {},
     "output_type": "display_data"
    }
   ],
   "source": [
    "import plotly.express as px\n",
    "import plotly.graph_objects as go\n",
    "from scipy import signal\n",
    "\n",
    "# fig = px.line(df_plot, x=\"Time\", y=\"Percentage of day seen before\", title='How common are the days?')\n",
    "# fig.show()\n",
    "\n",
    "fig = go.Figure()\n",
    "\n",
    "fig.add_trace(go.Scatter(\n",
    "    x=df_plot.Time.values.tolist(),\n",
    "    y=signal.savgol_filter(df_plot['Percentage of day seen before'].values.tolist(),\n",
    "                           20, # window size used for filtering\n",
    "                           3), # order of fitted polynomial\n",
    "    name='Savitzky-Golay'\n",
    "))\n"
   ]
  },
  {
   "cell_type": "code",
   "execution_count": 130,
   "id": "e5eaa3bf",
   "metadata": {},
   "outputs": [
    {
     "data": {
      "application/vnd.plotly.v1+json": {
       "config": {
        "plotlyServerURL": "https://plotly.com"
       },
       "data": [
        {
         "hovertemplate": "Time=%{x}<br>Percentage of day seen before=%{y}<extra></extra>",
         "legendgroup": "",
         "line": {
          "color": "#636efa",
          "dash": "solid"
         },
         "marker": {
          "symbol": "circle"
         },
         "mode": "lines",
         "name": "",
         "orientation": "v",
         "showlegend": false,
         "type": "scatter",
         "x": [
          "2022-05-01",
          "2022-05-02",
          "2022-05-03",
          "2022-05-04",
          "2022-05-05",
          "2022-05-06",
          "2022-05-07",
          "2022-05-08",
          "2022-05-09",
          "2022-05-10",
          "2022-05-11",
          "2022-05-12",
          "2022-05-13",
          "2022-05-14",
          "2022-05-15",
          "2022-05-16",
          "2022-05-17",
          "2022-05-18",
          "2022-05-19",
          "2022-05-20",
          "2022-05-21",
          "2022-05-22",
          "2022-05-23",
          "2022-05-24",
          "2022-05-25",
          "2022-05-26",
          "2022-05-27",
          "2022-05-28",
          "2022-05-29",
          "2022-05-30",
          "2022-05-31",
          "2022-06-01",
          "2022-06-02",
          "2022-06-03",
          "2022-06-04",
          "2022-06-05",
          "2022-06-06",
          "2022-06-07",
          "2022-06-08",
          "2022-06-09",
          "2022-06-10",
          "2022-06-11",
          "2022-06-12",
          "2022-06-13",
          "2022-06-14",
          "2022-06-15",
          "2022-06-16",
          "2022-06-17",
          "2022-06-18",
          "2022-06-19",
          "2022-06-20",
          "2022-06-21",
          "2022-06-22",
          "2022-06-23",
          "2022-06-24",
          "2022-06-25",
          "2022-06-26",
          "2022-06-27",
          "2022-06-28",
          "2022-06-29",
          "2022-06-30",
          "2022-07-01",
          "2022-07-02",
          "2022-07-03",
          "2022-07-04",
          "2022-07-05",
          "2022-07-06",
          "2022-07-07",
          "2022-07-08",
          "2022-07-09",
          "2022-07-10",
          "2022-07-11",
          "2022-07-12",
          "2022-07-13",
          "2022-07-14",
          "2022-07-15",
          "2022-07-16",
          "2022-07-17",
          "2022-07-18",
          "2022-07-19",
          "2022-07-20",
          "2022-07-21",
          "2022-07-22",
          "2022-07-23",
          "2022-07-24",
          "2022-07-25",
          "2022-07-26",
          "2022-07-27",
          "2022-07-28",
          "2022-07-29",
          "2022-07-30",
          "2022-07-31",
          "2022-08-01",
          "2022-08-02",
          "2022-08-03",
          "2022-08-04",
          "2022-08-05",
          "2022-08-06",
          "2022-08-07",
          "2022-08-08",
          "2022-08-09",
          "2022-08-10",
          "2022-08-11",
          "2022-08-12",
          "2022-08-13",
          "2022-08-14",
          "2022-08-15",
          "2022-08-16",
          "2022-08-17",
          "2022-08-18",
          "2022-08-19",
          "2022-08-20",
          "2022-08-21",
          "2022-08-22",
          "2022-08-23",
          "2022-08-24",
          "2022-08-25",
          "2022-08-26",
          "2022-08-27",
          "2022-08-28",
          "2022-08-29",
          "2022-08-30",
          "2022-08-31",
          "2022-09-01",
          "2022-09-02",
          "2022-09-03",
          "2022-09-04",
          "2022-09-05",
          "2022-09-06",
          "2022-09-07",
          "2022-09-08",
          "2022-09-09",
          "2022-09-10",
          "2022-09-11",
          "2022-09-12",
          "2022-09-13",
          "2022-09-14",
          "2022-09-15",
          "2022-09-16",
          "2022-09-17",
          "2022-09-18",
          "2022-09-19",
          "2022-09-20",
          "2022-09-21",
          "2022-09-22",
          "2022-09-23",
          "2022-09-24",
          "2022-09-25",
          "2022-09-26",
          "2022-09-27",
          "2022-09-28",
          "2022-09-29",
          "2022-09-30",
          "2022-10-01",
          "2022-10-02",
          "2022-10-03",
          "2022-10-04",
          "2022-10-05",
          "2022-10-06",
          "2022-10-07",
          "2022-10-08",
          "2022-10-09",
          "2022-10-10",
          "2022-10-11",
          "2022-10-12",
          "2022-10-13",
          "2022-10-14",
          "2022-10-15",
          "2022-10-16",
          "2022-10-17",
          "2022-10-18",
          "2022-10-19",
          "2022-10-20",
          "2022-10-21",
          "2022-10-22",
          "2022-10-23",
          "2022-10-24",
          "2022-10-25",
          "2022-10-26",
          "2022-10-27",
          "2022-10-28",
          "2022-10-29",
          "2022-10-30",
          "2022-10-31",
          "2022-11-01",
          "2022-11-02",
          "2022-11-03",
          "2022-11-04",
          "2022-11-05",
          "2022-11-06",
          "2022-11-07",
          "2022-11-08",
          "2022-11-09",
          "2022-11-10",
          "2022-11-11",
          "2022-11-12",
          "2022-11-13",
          "2022-11-14",
          "2022-11-15",
          "2022-11-16",
          "2022-11-17",
          "2022-11-18",
          "2022-11-19",
          "2022-11-20",
          "2022-11-21",
          "2022-11-22",
          "2022-11-23",
          "2022-11-24",
          "2022-11-25",
          "2022-11-26",
          "2022-11-27",
          "2022-11-28",
          "2022-11-29",
          "2022-11-30",
          "2022-12-01",
          "2022-12-02",
          "2022-12-03",
          "2022-12-04",
          "2022-12-05",
          "2022-12-06",
          "2022-12-07",
          "2022-12-08",
          "2022-12-09",
          "2022-12-10",
          "2022-12-11",
          "2022-12-12",
          "2022-12-13",
          "2022-12-14",
          "2022-12-15",
          "2022-12-16",
          "2022-12-17",
          "2022-12-18",
          "2022-12-19",
          "2022-12-20",
          "2022-12-21",
          "2022-12-22",
          "2022-12-23",
          "2022-12-24",
          "2022-12-25",
          "2022-12-26",
          "2022-12-27",
          "2022-12-28",
          "2022-12-29",
          "2022-12-30",
          "2022-12-31",
          "2023-01-01",
          "2023-01-02",
          "2023-01-03",
          "2023-01-04",
          "2023-01-05",
          "2023-01-06",
          "2023-01-07",
          "2023-01-08",
          "2023-01-09",
          "2023-01-10",
          "2023-01-11",
          "2023-01-12",
          "2023-01-13",
          "2023-01-14",
          "2023-01-15",
          "2023-01-16",
          "2023-01-17",
          "2023-01-18",
          "2023-01-19",
          "2023-01-20",
          "2023-01-21",
          "2023-01-22",
          "2023-01-23",
          "2023-01-24",
          "2023-01-25",
          "2023-01-26",
          "2023-01-27",
          "2023-01-28",
          "2023-01-29",
          "2023-01-30",
          "2023-01-31",
          "2023-02-01",
          "2023-02-02",
          "2023-02-03",
          "2023-02-04",
          "2023-02-05",
          "2023-02-06",
          "2023-02-07",
          "2023-02-08",
          "2023-02-09",
          "2023-02-10",
          "2023-02-11",
          "2023-02-12",
          "2023-02-13",
          "2023-02-14",
          "2023-02-15",
          "2023-02-16",
          "2023-02-17",
          "2023-02-18",
          "2023-02-19",
          "2023-02-20",
          "2023-02-21",
          "2023-02-22",
          "2023-02-23",
          "2023-02-24",
          "2023-02-25",
          "2023-02-26",
          "2023-02-27",
          "2023-02-28",
          "2023-03-01",
          "2023-03-02",
          "2023-03-03",
          "2023-03-04",
          "2023-03-05",
          "2023-03-06",
          "2023-03-07",
          "2023-03-08",
          "2023-03-09",
          "2023-03-10",
          "2023-03-11",
          "2023-03-12",
          "2023-03-13",
          "2023-03-14",
          "2023-03-15",
          "2023-03-16",
          "2023-03-17",
          "2023-03-18",
          "2023-03-19",
          "2023-03-20",
          "2023-03-21",
          "2023-03-22",
          "2023-03-23",
          "2023-03-24",
          "2023-03-25",
          "2023-03-26",
          "2023-03-27",
          "2023-03-28",
          "2023-03-29",
          "2023-03-30",
          "2023-03-31",
          "2023-04-01",
          "2023-04-02",
          "2023-04-03",
          "2023-04-04",
          "2023-04-05",
          "2023-04-06",
          "2023-04-07",
          "2023-04-08",
          "2023-04-09",
          "2023-04-10",
          "2023-04-11",
          "2023-04-12",
          "2023-04-13",
          "2023-04-14",
          "2023-04-15",
          "2023-04-16",
          "2023-04-17",
          "2023-04-18",
          "2023-04-19",
          "2023-04-20",
          "2023-04-21",
          "2023-04-22",
          "2023-04-23",
          "2023-04-24",
          "2023-04-25",
          "2023-04-26",
          "2023-04-27",
          "2023-04-28",
          "2023-04-29",
          "2023-04-30",
          "2023-05-01",
          "2023-05-02",
          "2023-05-03",
          "2023-05-04",
          "2023-05-05",
          "2023-05-06",
          "2023-05-07",
          "2023-05-08",
          "2023-05-09",
          "2023-05-10",
          "2023-05-11",
          "2023-05-12",
          "2023-05-13",
          "2023-05-14",
          "2023-05-15",
          "2023-05-16",
          "2023-05-17",
          "2023-05-18",
          "2023-05-19",
          "2023-05-20",
          "2023-05-21",
          "2023-05-22",
          "2023-05-23",
          "2023-05-24",
          "2023-05-25",
          "2023-05-26",
          "2023-05-27",
          "2023-05-28",
          "2023-05-29",
          "2023-05-30",
          "2023-05-31",
          "2023-06-01",
          "2023-06-02",
          "2023-06-03",
          "2023-06-04",
          "2023-06-05",
          "2023-06-06",
          "2023-06-07",
          "2023-06-08",
          "2023-06-09",
          "2023-06-10",
          "2023-06-11",
          "2023-06-12",
          "2023-06-13",
          "2023-06-14",
          "2023-06-15",
          "2023-06-16",
          "2023-06-17",
          "2023-06-18",
          "2023-06-19",
          "2023-06-20",
          "2023-06-21",
          "2023-06-22",
          "2023-06-23",
          "2023-06-24",
          "2023-06-25",
          "2023-06-26",
          "2023-06-27",
          "2023-06-28",
          "2023-06-29",
          "2023-06-30",
          "2023-07-01",
          "2023-07-02",
          "2023-07-03",
          "2023-07-04",
          "2023-07-05",
          "2023-07-06",
          "2023-07-07",
          "2023-07-08",
          "2023-07-09",
          "2023-07-10",
          "2023-07-11",
          "2023-07-12",
          "2023-07-13",
          "2023-07-14",
          "2023-07-15",
          "2023-07-16",
          "2023-07-17",
          "2023-07-18"
         ],
         "xaxis": "x",
         "y": [
          0,
          0,
          0,
          0,
          0,
          0,
          0,
          0.09027777777777778,
          0.7569444444444444,
          0,
          0,
          0,
          0.09027777777777778,
          0.8125,
          0.9097222222222222,
          0.1736111111111111,
          0.8055555555555556,
          0.7361111111111112,
          0.7777777777777778,
          0.7638888888888888,
          0,
          0.8958333333333334,
          0.9444444444444444,
          0.6805555555555556,
          0.9652777777777778,
          0.6597222222222222,
          1,
          1,
          0.6319444444444444,
          0.9513888888888888,
          0.9722222222222222,
          0.8402777777777778,
          0.9513888888888888,
          0.9097222222222222,
          0.7083333333333334,
          1,
          0.9236111111111112,
          0.9513888888888888,
          1,
          0.9375,
          0.9861111111111112,
          0.9444444444444444,
          1,
          0.9027777777777778,
          0.9930555555555556,
          0.9583333333333334,
          0.9861111111111112,
          0.9027777777777778,
          0.9930555555555556,
          1,
          0.9861111111111112,
          0.9930555555555556,
          1,
          0.9930555555555556,
          0.9583333333333334,
          0.9305555555555556,
          0.9305555555555556,
          0.9722222222222222,
          0.9652777777777778,
          1,
          1,
          0.8402777777777778,
          1,
          1,
          0.8263888888888888,
          0.7986111111111112,
          0.9236111111111112,
          1,
          0.9236111111111112,
          1,
          0.9236111111111112,
          1,
          1,
          0.8611111111111112,
          0.9930555555555556,
          0.9652777777777778,
          1,
          0.9861111111111112,
          0.9166666666666666,
          0.9861111111111112,
          1,
          0.9930555555555556,
          1,
          1,
          1,
          1,
          1,
          0.9236111111111112,
          1,
          1,
          1,
          1,
          0.8958333333333334,
          0.9236111111111112,
          1,
          1,
          1,
          1,
          0.6666666666666666,
          0,
          0,
          0,
          0,
          0,
          0,
          0.3333333333333333,
          1,
          0.9375,
          0.9444444444444444,
          0.9583333333333334,
          0.9652777777777778,
          1,
          0.9097222222222222,
          0.9861111111111112,
          1,
          1,
          0.9583333333333334,
          1,
          1,
          1,
          1,
          1,
          1,
          0.9930555555555556,
          0.5277777777777778,
          0.9097222222222222,
          0.9722222222222222,
          0.9791666666666666,
          1,
          1,
          1,
          0.9791666666666666,
          1,
          1,
          1,
          0.9375,
          1,
          1,
          0.9930555555555556,
          0.9375,
          1,
          1,
          1,
          1,
          1,
          0.9861111111111112,
          1,
          1,
          1,
          0.7569444444444444,
          1,
          1,
          0.9791666666666666,
          1,
          1,
          1,
          1,
          1,
          1,
          0.7291666666666666,
          0,
          0,
          0,
          0,
          0,
          0,
          0.5347222222222222,
          1,
          1,
          1,
          1,
          1,
          0.9305555555555556,
          1,
          1,
          1,
          0.9722222222222222,
          1,
          1,
          0.9791666666666666,
          1,
          0.9444444444444444,
          0.8958333333333334,
          1,
          0.9930555555555556,
          1,
          0.9930555555555556,
          1,
          1,
          1,
          0.5694444444444444,
          0.9652777777777778,
          0.5972222222222222,
          0.6319444444444444,
          0.5972222222222222,
          0,
          0.020833333333333332,
          1,
          1,
          0.9166666666666666,
          0.6805555555555556,
          0.8958333333333334,
          1,
          1,
          0.9166666666666666,
          0.9097222222222222,
          1,
          1,
          1,
          1,
          1,
          0.9861111111111112,
          0.9513888888888888,
          0.9930555555555556,
          0.9305555555555556,
          0.9791666666666666,
          1,
          1,
          1,
          0.9305555555555556,
          1,
          1,
          1,
          1,
          0.9791666666666666,
          0.3402777777777778,
          0.7708333333333334,
          0.9722222222222222,
          1,
          1,
          1,
          1,
          1,
          1,
          0.9791666666666666,
          0.9861111111111112,
          1,
          1,
          0.9375,
          1,
          1,
          1,
          0.9375,
          1,
          0.9930555555555556,
          1,
          1,
          1,
          1,
          0.7361111111111112,
          0.9722222222222222,
          1,
          1,
          1,
          1,
          1,
          1,
          1,
          0.9861111111111112,
          1,
          1,
          1,
          1,
          1,
          1,
          1,
          1,
          0.9583333333333334,
          1,
          1,
          1,
          0.9791666666666666,
          1,
          1,
          1,
          0.9861111111111112,
          1,
          1,
          0.9583333333333334,
          1,
          1,
          1,
          1,
          0.9027777777777778,
          1,
          1,
          1,
          1,
          1,
          1,
          1,
          1,
          0.9236111111111112,
          1,
          1,
          1,
          1,
          0.8541666666666666,
          1,
          0.5555555555555556,
          0,
          0,
          0.16666666666666666,
          1,
          0.9930555555555556,
          0.9583333333333334,
          1,
          1,
          1,
          1,
          1,
          1,
          1,
          0.9375,
          1,
          1,
          1,
          1,
          1,
          1,
          1,
          1,
          1,
          0.9861111111111112,
          0.9930555555555556,
          1,
          1,
          1,
          0.9722222222222222,
          1,
          1,
          1,
          1,
          1,
          0.9791666666666666,
          1,
          0.6805555555555556,
          1,
          1,
          1,
          1,
          0.8472222222222222,
          1,
          1,
          1,
          1,
          1,
          1,
          0.9722222222222222,
          1,
          1,
          1,
          1,
          1,
          1,
          1,
          1,
          1,
          1,
          0.9930555555555556,
          0.8819444444444444,
          0.020833333333333332,
          0.24305555555555555,
          1,
          1,
          1,
          1,
          1,
          0.9861111111111112,
          1,
          1,
          1,
          1,
          1,
          1,
          0.9861111111111112,
          1,
          0.7013888888888888,
          1,
          1,
          1,
          1,
          1,
          1,
          1,
          1,
          1,
          1,
          1,
          1,
          0.9444444444444444,
          1,
          1,
          0.1875,
          0.9722222222222222,
          1,
          0.7569444444444444,
          1,
          1,
          1,
          0.6597222222222222,
          0,
          0.11805555555555555,
          1,
          1,
          1,
          1,
          0.6527777777777778,
          0,
          0,
          0,
          0.9513888888888888,
          1,
          1,
          1,
          0.9513888888888888,
          1,
          1,
          0.9583333333333334,
          1,
          1,
          1,
          1,
          1,
          1,
          1,
          1,
          1,
          1,
          1,
          1,
          1,
          0.9513888888888888,
          1,
          1,
          1,
          1,
          1,
          1,
          1,
          0.9791666666666666,
          1,
          1,
          1
         ],
         "yaxis": "y"
        }
       ],
       "layout": {
        "legend": {
         "tracegroupgap": 0
        },
        "template": {
         "data": {
          "bar": [
           {
            "error_x": {
             "color": "#2a3f5f"
            },
            "error_y": {
             "color": "#2a3f5f"
            },
            "marker": {
             "line": {
              "color": "#E5ECF6",
              "width": 0.5
             },
             "pattern": {
              "fillmode": "overlay",
              "size": 10,
              "solidity": 0.2
             }
            },
            "type": "bar"
           }
          ],
          "barpolar": [
           {
            "marker": {
             "line": {
              "color": "#E5ECF6",
              "width": 0.5
             },
             "pattern": {
              "fillmode": "overlay",
              "size": 10,
              "solidity": 0.2
             }
            },
            "type": "barpolar"
           }
          ],
          "carpet": [
           {
            "aaxis": {
             "endlinecolor": "#2a3f5f",
             "gridcolor": "white",
             "linecolor": "white",
             "minorgridcolor": "white",
             "startlinecolor": "#2a3f5f"
            },
            "baxis": {
             "endlinecolor": "#2a3f5f",
             "gridcolor": "white",
             "linecolor": "white",
             "minorgridcolor": "white",
             "startlinecolor": "#2a3f5f"
            },
            "type": "carpet"
           }
          ],
          "choropleth": [
           {
            "colorbar": {
             "outlinewidth": 0,
             "ticks": ""
            },
            "type": "choropleth"
           }
          ],
          "contour": [
           {
            "colorbar": {
             "outlinewidth": 0,
             "ticks": ""
            },
            "colorscale": [
             [
              0,
              "#0d0887"
             ],
             [
              0.1111111111111111,
              "#46039f"
             ],
             [
              0.2222222222222222,
              "#7201a8"
             ],
             [
              0.3333333333333333,
              "#9c179e"
             ],
             [
              0.4444444444444444,
              "#bd3786"
             ],
             [
              0.5555555555555556,
              "#d8576b"
             ],
             [
              0.6666666666666666,
              "#ed7953"
             ],
             [
              0.7777777777777778,
              "#fb9f3a"
             ],
             [
              0.8888888888888888,
              "#fdca26"
             ],
             [
              1,
              "#f0f921"
             ]
            ],
            "type": "contour"
           }
          ],
          "contourcarpet": [
           {
            "colorbar": {
             "outlinewidth": 0,
             "ticks": ""
            },
            "type": "contourcarpet"
           }
          ],
          "heatmap": [
           {
            "colorbar": {
             "outlinewidth": 0,
             "ticks": ""
            },
            "colorscale": [
             [
              0,
              "#0d0887"
             ],
             [
              0.1111111111111111,
              "#46039f"
             ],
             [
              0.2222222222222222,
              "#7201a8"
             ],
             [
              0.3333333333333333,
              "#9c179e"
             ],
             [
              0.4444444444444444,
              "#bd3786"
             ],
             [
              0.5555555555555556,
              "#d8576b"
             ],
             [
              0.6666666666666666,
              "#ed7953"
             ],
             [
              0.7777777777777778,
              "#fb9f3a"
             ],
             [
              0.8888888888888888,
              "#fdca26"
             ],
             [
              1,
              "#f0f921"
             ]
            ],
            "type": "heatmap"
           }
          ],
          "heatmapgl": [
           {
            "colorbar": {
             "outlinewidth": 0,
             "ticks": ""
            },
            "colorscale": [
             [
              0,
              "#0d0887"
             ],
             [
              0.1111111111111111,
              "#46039f"
             ],
             [
              0.2222222222222222,
              "#7201a8"
             ],
             [
              0.3333333333333333,
              "#9c179e"
             ],
             [
              0.4444444444444444,
              "#bd3786"
             ],
             [
              0.5555555555555556,
              "#d8576b"
             ],
             [
              0.6666666666666666,
              "#ed7953"
             ],
             [
              0.7777777777777778,
              "#fb9f3a"
             ],
             [
              0.8888888888888888,
              "#fdca26"
             ],
             [
              1,
              "#f0f921"
             ]
            ],
            "type": "heatmapgl"
           }
          ],
          "histogram": [
           {
            "marker": {
             "pattern": {
              "fillmode": "overlay",
              "size": 10,
              "solidity": 0.2
             }
            },
            "type": "histogram"
           }
          ],
          "histogram2d": [
           {
            "colorbar": {
             "outlinewidth": 0,
             "ticks": ""
            },
            "colorscale": [
             [
              0,
              "#0d0887"
             ],
             [
              0.1111111111111111,
              "#46039f"
             ],
             [
              0.2222222222222222,
              "#7201a8"
             ],
             [
              0.3333333333333333,
              "#9c179e"
             ],
             [
              0.4444444444444444,
              "#bd3786"
             ],
             [
              0.5555555555555556,
              "#d8576b"
             ],
             [
              0.6666666666666666,
              "#ed7953"
             ],
             [
              0.7777777777777778,
              "#fb9f3a"
             ],
             [
              0.8888888888888888,
              "#fdca26"
             ],
             [
              1,
              "#f0f921"
             ]
            ],
            "type": "histogram2d"
           }
          ],
          "histogram2dcontour": [
           {
            "colorbar": {
             "outlinewidth": 0,
             "ticks": ""
            },
            "colorscale": [
             [
              0,
              "#0d0887"
             ],
             [
              0.1111111111111111,
              "#46039f"
             ],
             [
              0.2222222222222222,
              "#7201a8"
             ],
             [
              0.3333333333333333,
              "#9c179e"
             ],
             [
              0.4444444444444444,
              "#bd3786"
             ],
             [
              0.5555555555555556,
              "#d8576b"
             ],
             [
              0.6666666666666666,
              "#ed7953"
             ],
             [
              0.7777777777777778,
              "#fb9f3a"
             ],
             [
              0.8888888888888888,
              "#fdca26"
             ],
             [
              1,
              "#f0f921"
             ]
            ],
            "type": "histogram2dcontour"
           }
          ],
          "mesh3d": [
           {
            "colorbar": {
             "outlinewidth": 0,
             "ticks": ""
            },
            "type": "mesh3d"
           }
          ],
          "parcoords": [
           {
            "line": {
             "colorbar": {
              "outlinewidth": 0,
              "ticks": ""
             }
            },
            "type": "parcoords"
           }
          ],
          "pie": [
           {
            "automargin": true,
            "type": "pie"
           }
          ],
          "scatter": [
           {
            "fillpattern": {
             "fillmode": "overlay",
             "size": 10,
             "solidity": 0.2
            },
            "type": "scatter"
           }
          ],
          "scatter3d": [
           {
            "line": {
             "colorbar": {
              "outlinewidth": 0,
              "ticks": ""
             }
            },
            "marker": {
             "colorbar": {
              "outlinewidth": 0,
              "ticks": ""
             }
            },
            "type": "scatter3d"
           }
          ],
          "scattercarpet": [
           {
            "marker": {
             "colorbar": {
              "outlinewidth": 0,
              "ticks": ""
             }
            },
            "type": "scattercarpet"
           }
          ],
          "scattergeo": [
           {
            "marker": {
             "colorbar": {
              "outlinewidth": 0,
              "ticks": ""
             }
            },
            "type": "scattergeo"
           }
          ],
          "scattergl": [
           {
            "marker": {
             "colorbar": {
              "outlinewidth": 0,
              "ticks": ""
             }
            },
            "type": "scattergl"
           }
          ],
          "scattermapbox": [
           {
            "marker": {
             "colorbar": {
              "outlinewidth": 0,
              "ticks": ""
             }
            },
            "type": "scattermapbox"
           }
          ],
          "scatterpolar": [
           {
            "marker": {
             "colorbar": {
              "outlinewidth": 0,
              "ticks": ""
             }
            },
            "type": "scatterpolar"
           }
          ],
          "scatterpolargl": [
           {
            "marker": {
             "colorbar": {
              "outlinewidth": 0,
              "ticks": ""
             }
            },
            "type": "scatterpolargl"
           }
          ],
          "scatterternary": [
           {
            "marker": {
             "colorbar": {
              "outlinewidth": 0,
              "ticks": ""
             }
            },
            "type": "scatterternary"
           }
          ],
          "surface": [
           {
            "colorbar": {
             "outlinewidth": 0,
             "ticks": ""
            },
            "colorscale": [
             [
              0,
              "#0d0887"
             ],
             [
              0.1111111111111111,
              "#46039f"
             ],
             [
              0.2222222222222222,
              "#7201a8"
             ],
             [
              0.3333333333333333,
              "#9c179e"
             ],
             [
              0.4444444444444444,
              "#bd3786"
             ],
             [
              0.5555555555555556,
              "#d8576b"
             ],
             [
              0.6666666666666666,
              "#ed7953"
             ],
             [
              0.7777777777777778,
              "#fb9f3a"
             ],
             [
              0.8888888888888888,
              "#fdca26"
             ],
             [
              1,
              "#f0f921"
             ]
            ],
            "type": "surface"
           }
          ],
          "table": [
           {
            "cells": {
             "fill": {
              "color": "#EBF0F8"
             },
             "line": {
              "color": "white"
             }
            },
            "header": {
             "fill": {
              "color": "#C8D4E3"
             },
             "line": {
              "color": "white"
             }
            },
            "type": "table"
           }
          ]
         },
         "layout": {
          "annotationdefaults": {
           "arrowcolor": "#2a3f5f",
           "arrowhead": 0,
           "arrowwidth": 1
          },
          "autotypenumbers": "strict",
          "coloraxis": {
           "colorbar": {
            "outlinewidth": 0,
            "ticks": ""
           }
          },
          "colorscale": {
           "diverging": [
            [
             0,
             "#8e0152"
            ],
            [
             0.1,
             "#c51b7d"
            ],
            [
             0.2,
             "#de77ae"
            ],
            [
             0.3,
             "#f1b6da"
            ],
            [
             0.4,
             "#fde0ef"
            ],
            [
             0.5,
             "#f7f7f7"
            ],
            [
             0.6,
             "#e6f5d0"
            ],
            [
             0.7,
             "#b8e186"
            ],
            [
             0.8,
             "#7fbc41"
            ],
            [
             0.9,
             "#4d9221"
            ],
            [
             1,
             "#276419"
            ]
           ],
           "sequential": [
            [
             0,
             "#0d0887"
            ],
            [
             0.1111111111111111,
             "#46039f"
            ],
            [
             0.2222222222222222,
             "#7201a8"
            ],
            [
             0.3333333333333333,
             "#9c179e"
            ],
            [
             0.4444444444444444,
             "#bd3786"
            ],
            [
             0.5555555555555556,
             "#d8576b"
            ],
            [
             0.6666666666666666,
             "#ed7953"
            ],
            [
             0.7777777777777778,
             "#fb9f3a"
            ],
            [
             0.8888888888888888,
             "#fdca26"
            ],
            [
             1,
             "#f0f921"
            ]
           ],
           "sequentialminus": [
            [
             0,
             "#0d0887"
            ],
            [
             0.1111111111111111,
             "#46039f"
            ],
            [
             0.2222222222222222,
             "#7201a8"
            ],
            [
             0.3333333333333333,
             "#9c179e"
            ],
            [
             0.4444444444444444,
             "#bd3786"
            ],
            [
             0.5555555555555556,
             "#d8576b"
            ],
            [
             0.6666666666666666,
             "#ed7953"
            ],
            [
             0.7777777777777778,
             "#fb9f3a"
            ],
            [
             0.8888888888888888,
             "#fdca26"
            ],
            [
             1,
             "#f0f921"
            ]
           ]
          },
          "colorway": [
           "#636efa",
           "#EF553B",
           "#00cc96",
           "#ab63fa",
           "#FFA15A",
           "#19d3f3",
           "#FF6692",
           "#B6E880",
           "#FF97FF",
           "#FECB52"
          ],
          "font": {
           "color": "#2a3f5f"
          },
          "geo": {
           "bgcolor": "white",
           "lakecolor": "white",
           "landcolor": "#E5ECF6",
           "showlakes": true,
           "showland": true,
           "subunitcolor": "white"
          },
          "hoverlabel": {
           "align": "left"
          },
          "hovermode": "closest",
          "mapbox": {
           "style": "light"
          },
          "paper_bgcolor": "white",
          "plot_bgcolor": "#E5ECF6",
          "polar": {
           "angularaxis": {
            "gridcolor": "white",
            "linecolor": "white",
            "ticks": ""
           },
           "bgcolor": "#E5ECF6",
           "radialaxis": {
            "gridcolor": "white",
            "linecolor": "white",
            "ticks": ""
           }
          },
          "scene": {
           "xaxis": {
            "backgroundcolor": "#E5ECF6",
            "gridcolor": "white",
            "gridwidth": 2,
            "linecolor": "white",
            "showbackground": true,
            "ticks": "",
            "zerolinecolor": "white"
           },
           "yaxis": {
            "backgroundcolor": "#E5ECF6",
            "gridcolor": "white",
            "gridwidth": 2,
            "linecolor": "white",
            "showbackground": true,
            "ticks": "",
            "zerolinecolor": "white"
           },
           "zaxis": {
            "backgroundcolor": "#E5ECF6",
            "gridcolor": "white",
            "gridwidth": 2,
            "linecolor": "white",
            "showbackground": true,
            "ticks": "",
            "zerolinecolor": "white"
           }
          },
          "shapedefaults": {
           "line": {
            "color": "#2a3f5f"
           }
          },
          "ternary": {
           "aaxis": {
            "gridcolor": "white",
            "linecolor": "white",
            "ticks": ""
           },
           "baxis": {
            "gridcolor": "white",
            "linecolor": "white",
            "ticks": ""
           },
           "bgcolor": "#E5ECF6",
           "caxis": {
            "gridcolor": "white",
            "linecolor": "white",
            "ticks": ""
           }
          },
          "title": {
           "x": 0.05
          },
          "xaxis": {
           "automargin": true,
           "gridcolor": "white",
           "linecolor": "white",
           "ticks": "",
           "title": {
            "standoff": 15
           },
           "zerolinecolor": "white",
           "zerolinewidth": 2
          },
          "yaxis": {
           "automargin": true,
           "gridcolor": "white",
           "linecolor": "white",
           "ticks": "",
           "title": {
            "standoff": 15
           },
           "zerolinecolor": "white",
           "zerolinewidth": 2
          }
         }
        },
        "title": {
         "text": "How common are the days?"
        },
        "xaxis": {
         "anchor": "y",
         "domain": [
          0,
          1
         ],
         "title": {
          "text": "Time"
         }
        },
        "yaxis": {
         "anchor": "x",
         "domain": [
          0,
          1
         ],
         "title": {
          "text": "Percentage of day seen before"
         }
        }
       }
      }
     },
     "metadata": {},
     "output_type": "display_data"
    }
   ],
   "source": [
    "fig = px.line(df_plot, x=\"Time\", y=\"Percentage of day seen before\", title='How common are the days?')\n",
    "fig.show()"
   ]
  },
  {
   "cell_type": "code",
   "execution_count": null,
   "id": "4952cf5f",
   "metadata": {},
   "outputs": [],
   "source": []
  },
  {
   "cell_type": "markdown",
   "id": "a4112a47",
   "metadata": {},
   "source": [
    "## Now based on historical distributions of visited locations\n",
    "\n",
    "Voor elk blok in de dag wil je weten of die samenvalt met wat die persoon vaak op dat moment doet. Dit geeft een beeld van hoe \"routinematig\" de dag is, en daarmee hoe routinematig iemand leeft (en dus hoe voorspelbaar iemand is). <br><br>\n",
    "\n",
    "Elk 10-min block vergelijken we met de distributie van bezochte locaties in het verleden; hoe logisch is de huidige locatie in dit 10-min block gegeven de historische distributie van bezochte locaties op dat \"moment\"? Een moment is een unieke combi van de temporele features: uur vd dag, dag vd week, etc. Elke dag heeft vervolgens 144 probabilities, daarvan nemen we een aggregatie (gemiddelde). Dit is de score voor de dag. "
   ]
  },
  {
   "cell_type": "code",
   "execution_count": 164,
   "id": "5910eb15",
   "metadata": {},
   "outputs": [],
   "source": [
    "df = pd.read_excel(\"output/martijn-100-30-1/resampled_df_10_min.xlsx\", index_col=[0])\n",
    "\n",
    "df[\"day\"] = df[\"timestamp\"].dt.day\n",
    "df[\"weekday\"] = df[\"timestamp\"].dt.dayofweek\n",
    "df[\"hour\"] = df[\"timestamp\"].dt.hour\n",
    "df[\"window_block\"] = ((df['timestamp'].dt.minute * 60 + df['timestamp'].dt.second) // 600).astype(int)\n",
    "\n",
    "from collections import defaultdict\n",
    "res = defaultdict(dict)\n",
    "final_res = defaultdict(dict)\n",
    "THRESHOLD = 10\n",
    "this_day_values = []\n",
    "\n",
    "for idx, row in df.iterrows():\n",
    "    m = (row['weekday'], row['hour'], row['window_block'])\n",
    "\n",
    "    if not 'data' in res[m]:\n",
    "        res[m]['data'] = {}\n",
    "\n",
    "    try:\n",
    "        # Calculate the probability of having this location in this moment\n",
    "        prob = res[m]['data'][row['location']] / sum(res[m]['data'].values())\n",
    "        # print(f\"For {m}, prob of finding {row['location']} in {res[m]['data']} is: {prob}\")\n",
    "    except KeyError:\n",
    "        # The location is not in the dict, so we default to 0. This happens when the location hasn't been visited before in this moment. \n",
    "        # print(f\"For {m}, couldnt find {row['location']} in {res[m]['data']}, so prob is: 0\")\n",
    "        prob = 0\n",
    "    \n",
    "    this_day_values.append(prob)\n",
    "\n",
    "    # Now we update the res dict with data of current window block\n",
    "    if row['location'] in res[m]['data']:\n",
    "        res[m]['data'][row['location']] += 1\n",
    "    else:\n",
    "        res[m]['data'][row['location']] = 1\n",
    "\n",
    "    # If we now exceeded THRESHOLD, remove the last entry (like a rolling window approach)\n",
    "    if sum(res[m]['data'].values()) >= THRESHOLD:\n",
    "        # Minus one for last entry\n",
    "        res[m]['data'][res[m]['meta']['last_location']] -= 1\n",
    "        # print(f\"Threshold exceeded, removing 1 from {res[m]['meta']['last_location']}\")\n",
    "\n",
    "    res[m]['meta'] = {'last_location':row['location']}\n",
    "\n",
    "    # Now we check if this window block is the last one of the day. If so, save score for this day and reset variables for next day.\n",
    "    if row['hour'] == 23 and row['window_block'] == 5:\n",
    "        avg = sum(this_day_values)/len(this_day_values)\n",
    "        # print(f\"End of the day, values for this day: {this_day_values}, which is an avg of: {avg}\")\n",
    "        final_res[row['timestamp'].date()] = avg\n",
    "        this_day_values = []"
   ]
  },
  {
   "cell_type": "code",
   "execution_count": 165,
   "id": "cea900db",
   "metadata": {},
   "outputs": [],
   "source": [
    "x,y = zip(*sorted(final_res.items()))\n",
    "df_plot = pd.DataFrame({\"Time\":x, \"Score\":y})"
   ]
  },
  {
   "cell_type": "code",
   "execution_count": 166,
   "id": "888fb114",
   "metadata": {},
   "outputs": [
    {
     "data": {
      "application/vnd.plotly.v1+json": {
       "config": {
        "plotlyServerURL": "https://plotly.com"
       },
       "data": [
        {
         "hovertemplate": "Time=%{x}<br>Score=%{y}<extra></extra>",
         "legendgroup": "",
         "line": {
          "color": "#636efa",
          "dash": "solid"
         },
         "marker": {
          "symbol": "circle"
         },
         "mode": "lines",
         "name": "",
         "orientation": "v",
         "showlegend": false,
         "type": "scatter",
         "x": [
          "2017-05-01",
          "2017-05-02",
          "2017-05-03",
          "2017-05-04",
          "2017-05-05",
          "2017-05-06",
          "2017-05-07",
          "2017-05-08",
          "2017-05-09",
          "2017-05-10",
          "2017-05-11",
          "2017-05-12",
          "2017-05-13",
          "2017-05-14",
          "2017-05-15",
          "2017-05-16",
          "2017-05-17",
          "2017-05-18",
          "2017-05-19",
          "2017-05-20",
          "2017-05-21",
          "2017-05-22",
          "2017-05-23",
          "2017-05-24",
          "2017-05-25",
          "2017-05-26",
          "2017-05-27",
          "2017-05-28",
          "2017-05-29",
          "2017-05-30",
          "2017-05-31",
          "2017-06-01",
          "2017-06-02",
          "2017-06-03",
          "2017-06-04",
          "2017-06-05",
          "2017-06-06",
          "2017-06-07",
          "2017-06-08",
          "2017-06-09",
          "2017-06-10",
          "2017-06-11",
          "2017-06-12",
          "2017-06-13",
          "2017-06-14",
          "2017-06-15",
          "2017-06-16",
          "2017-06-17",
          "2017-06-18",
          "2017-06-19",
          "2017-06-20",
          "2017-06-21",
          "2017-06-22",
          "2017-06-23",
          "2017-06-24",
          "2017-06-25",
          "2017-06-26",
          "2017-06-27",
          "2017-06-28",
          "2017-06-29",
          "2017-06-30",
          "2017-07-01",
          "2017-07-02",
          "2017-07-03",
          "2017-07-04",
          "2017-07-05",
          "2017-07-06",
          "2017-07-07",
          "2017-07-08",
          "2017-07-09",
          "2017-07-10",
          "2017-07-11",
          "2017-07-12",
          "2017-07-13",
          "2017-07-14",
          "2017-07-15",
          "2017-07-16",
          "2017-07-17",
          "2017-07-18",
          "2017-07-19",
          "2017-07-20",
          "2017-07-21",
          "2017-07-22",
          "2017-07-23",
          "2017-07-24",
          "2017-07-25",
          "2017-07-26",
          "2017-07-27",
          "2017-07-28",
          "2017-07-29",
          "2017-07-30",
          "2017-07-31",
          "2017-08-01",
          "2017-08-02",
          "2017-08-03",
          "2017-08-04",
          "2017-08-05",
          "2017-08-06",
          "2017-08-07",
          "2017-08-08",
          "2017-08-09",
          "2017-08-10",
          "2017-08-11",
          "2017-08-12",
          "2017-08-13",
          "2017-08-14",
          "2017-08-15",
          "2017-08-16",
          "2017-08-17",
          "2017-08-18",
          "2017-08-19",
          "2017-08-20",
          "2017-08-21",
          "2017-08-22",
          "2017-08-23",
          "2017-08-24",
          "2017-08-25",
          "2017-08-26",
          "2017-08-27",
          "2017-08-28",
          "2017-08-29",
          "2017-08-30",
          "2017-08-31",
          "2017-09-01",
          "2017-09-02",
          "2017-09-03",
          "2017-09-04",
          "2017-09-05",
          "2017-09-06",
          "2017-09-07",
          "2017-09-08",
          "2017-09-09",
          "2017-09-10",
          "2017-09-11",
          "2017-09-12",
          "2017-09-13",
          "2017-09-14",
          "2017-09-15",
          "2017-09-16",
          "2017-09-17",
          "2017-09-18",
          "2017-09-19",
          "2017-09-20",
          "2017-09-21",
          "2017-09-22",
          "2017-09-23",
          "2017-09-24",
          "2017-09-25",
          "2017-09-26",
          "2017-09-27",
          "2017-09-28",
          "2017-09-29",
          "2017-09-30",
          "2017-10-01",
          "2017-10-02",
          "2017-10-03",
          "2017-10-04",
          "2017-10-05",
          "2017-10-06",
          "2017-10-07",
          "2017-10-08",
          "2017-10-09",
          "2017-10-10",
          "2017-10-11",
          "2017-10-12",
          "2017-10-13",
          "2017-10-14",
          "2017-10-15",
          "2017-10-16",
          "2017-10-17",
          "2017-10-18",
          "2017-10-19",
          "2017-10-20",
          "2017-10-21",
          "2017-10-22",
          "2017-10-23",
          "2017-10-24",
          "2017-10-25",
          "2017-10-26",
          "2017-10-27",
          "2017-10-28",
          "2017-10-29",
          "2017-10-30",
          "2017-10-31",
          "2017-11-01",
          "2017-11-02",
          "2017-11-03",
          "2017-11-04",
          "2017-11-05",
          "2017-11-06",
          "2017-11-07",
          "2017-11-08",
          "2017-11-09",
          "2017-11-10",
          "2017-11-11",
          "2017-11-12",
          "2017-11-13",
          "2017-11-14",
          "2017-11-15",
          "2017-11-16",
          "2017-11-17",
          "2017-11-18",
          "2017-11-19",
          "2017-11-20",
          "2017-11-21",
          "2017-11-22",
          "2017-11-23",
          "2017-11-24",
          "2017-11-25",
          "2017-11-26",
          "2017-11-27",
          "2017-11-28",
          "2017-11-29",
          "2017-11-30",
          "2017-12-01",
          "2017-12-02",
          "2017-12-03",
          "2017-12-04",
          "2017-12-05",
          "2017-12-06",
          "2017-12-07",
          "2017-12-08",
          "2017-12-09",
          "2017-12-10",
          "2017-12-11",
          "2017-12-12",
          "2017-12-13",
          "2017-12-14",
          "2017-12-15",
          "2017-12-16",
          "2017-12-17",
          "2017-12-18",
          "2017-12-19",
          "2017-12-20",
          "2017-12-21",
          "2017-12-22",
          "2017-12-23",
          "2017-12-24",
          "2017-12-25",
          "2017-12-26",
          "2017-12-27",
          "2017-12-28",
          "2017-12-29",
          "2017-12-30",
          "2017-12-31",
          "2018-01-01",
          "2018-01-02",
          "2018-01-03",
          "2018-01-04",
          "2018-01-05",
          "2018-01-06",
          "2018-01-07",
          "2018-01-08",
          "2018-01-09",
          "2018-01-10",
          "2018-01-11",
          "2018-01-12",
          "2018-01-13",
          "2018-01-14",
          "2018-01-15",
          "2018-01-16",
          "2018-01-17",
          "2018-01-18",
          "2018-01-19",
          "2018-01-20",
          "2018-01-21",
          "2018-01-22",
          "2018-01-23",
          "2018-01-24",
          "2018-01-25",
          "2018-01-26",
          "2018-01-27",
          "2018-01-28",
          "2018-01-29",
          "2018-01-30",
          "2018-01-31",
          "2018-02-01",
          "2018-02-02",
          "2018-02-03",
          "2018-02-04",
          "2018-02-05",
          "2018-02-06",
          "2018-02-07",
          "2018-02-08",
          "2018-02-09",
          "2018-02-10",
          "2018-02-11",
          "2018-02-12",
          "2018-02-13",
          "2018-02-14",
          "2018-02-15",
          "2018-02-16",
          "2018-02-17",
          "2018-02-18",
          "2018-02-19",
          "2018-02-20",
          "2018-02-21",
          "2018-02-22",
          "2018-02-23",
          "2018-02-24",
          "2018-02-25",
          "2018-02-26",
          "2018-02-27",
          "2018-02-28",
          "2018-03-01",
          "2018-03-02",
          "2018-03-03",
          "2018-03-04",
          "2018-03-05",
          "2018-03-06",
          "2018-03-07",
          "2018-03-08",
          "2018-03-09",
          "2018-03-10",
          "2018-03-11",
          "2018-03-12",
          "2018-03-13",
          "2018-03-14",
          "2018-03-15",
          "2018-03-16",
          "2018-03-17",
          "2018-03-18",
          "2018-03-19",
          "2018-03-20",
          "2018-03-21",
          "2018-03-22",
          "2018-03-23",
          "2018-03-24",
          "2018-03-25",
          "2018-03-26",
          "2018-03-27",
          "2018-03-28",
          "2018-03-29",
          "2018-03-30",
          "2018-03-31",
          "2018-04-01",
          "2018-04-02",
          "2018-04-03",
          "2018-04-04",
          "2018-04-05",
          "2018-04-06",
          "2018-04-07",
          "2018-04-08",
          "2018-04-09",
          "2018-04-10",
          "2018-04-11",
          "2018-04-12",
          "2018-04-13",
          "2018-04-14",
          "2018-04-15",
          "2018-04-16",
          "2018-04-17",
          "2018-04-18",
          "2018-04-19",
          "2018-04-20",
          "2018-04-21",
          "2018-04-22",
          "2018-04-23",
          "2018-04-24",
          "2018-04-25",
          "2018-04-26",
          "2018-04-27",
          "2018-04-28",
          "2018-04-29",
          "2018-04-30",
          "2018-05-01",
          "2018-05-02",
          "2018-05-03",
          "2018-05-04",
          "2018-05-05",
          "2018-05-06",
          "2018-05-07",
          "2018-05-08",
          "2018-05-09",
          "2018-05-10",
          "2018-05-11",
          "2018-05-12",
          "2018-05-13",
          "2018-05-14",
          "2018-05-15",
          "2018-05-16",
          "2018-05-17",
          "2018-05-18",
          "2018-05-19",
          "2018-05-20",
          "2018-05-21",
          "2018-05-22",
          "2018-05-23",
          "2018-05-24",
          "2018-05-25",
          "2018-05-26",
          "2018-05-27",
          "2018-05-28",
          "2018-05-29",
          "2018-05-30",
          "2018-05-31",
          "2018-06-01",
          "2018-06-02",
          "2018-06-03",
          "2018-06-04",
          "2018-06-05",
          "2018-06-06",
          "2018-06-07",
          "2018-06-08",
          "2018-06-09",
          "2018-06-10",
          "2018-06-11",
          "2018-06-12",
          "2018-06-13",
          "2018-06-14",
          "2018-06-15",
          "2018-06-16",
          "2018-06-17",
          "2018-06-18",
          "2018-06-19",
          "2018-06-20",
          "2018-06-21",
          "2018-06-22",
          "2018-06-23",
          "2018-06-24",
          "2018-06-25",
          "2018-06-26",
          "2018-06-27",
          "2018-06-28",
          "2018-06-29",
          "2018-06-30",
          "2018-07-01",
          "2018-07-02",
          "2018-07-03",
          "2018-07-04",
          "2018-07-05",
          "2018-07-06",
          "2018-07-07",
          "2018-07-08",
          "2018-07-09",
          "2018-07-10",
          "2018-07-11",
          "2018-07-12",
          "2018-07-13",
          "2018-07-14",
          "2018-07-15",
          "2018-07-16",
          "2018-07-17",
          "2018-07-18",
          "2018-07-19",
          "2018-07-20",
          "2018-07-21",
          "2018-07-22",
          "2018-07-23",
          "2018-07-24",
          "2018-07-25",
          "2018-07-26",
          "2018-07-27",
          "2018-07-28",
          "2018-07-29",
          "2018-07-30",
          "2018-07-31",
          "2018-08-01"
         ],
         "xaxis": "x",
         "y": [
          0,
          0,
          0,
          0,
          0,
          0,
          0,
          0.9930555555555556,
          0.7222222222222222,
          0.7291666666666666,
          0.8819444444444444,
          0.6319444444444444,
          1,
          0.5555555555555556,
          0.5694444444444444,
          0.8194444444444444,
          0.8506944444444444,
          0.9131944444444444,
          0.8159722222222222,
          0.9930555555555556,
          0.7777777777777778,
          0.855324074074074,
          0.8240740740740736,
          0.8819444444444453,
          0.7314814814814812,
          0.8773148148148165,
          0.9675925925925927,
          0.851851851851854,
          0.8917824074074073,
          0.6215277777777778,
          0.1684027777777778,
          0.265625,
          0.9079861111111112,
          0.6423611111111112,
          0.8888888888888888,
          0.767708333333333,
          0.7513888888888883,
          0.7305555555555542,
          0.6680555555555555,
          0.768055555555556,
          0.9111111111111102,
          0.6319444444444455,
          0.6217592592592596,
          0.8078703703703694,
          0.6597222222222235,
          0.6990740740740744,
          0.82986111111111,
          0.9282407407407397,
          0.851851851851854,
          0.8032407407407413,
          0.8313492063492067,
          0.7738095238095221,
          0.7420634920634915,
          0.7281746031746036,
          0.8759920634920645,
          0.11607142857142863,
          0.2901785714285714,
          0.8524305555555556,
          0.6579861111111112,
          0.11631944444444445,
          0.2717013888888889,
          0.7508680555555556,
          0.3368055555555556,
          0.7906057098765422,
          0.8688271604938262,
          0.588734567901235,
          0.39583333333333265,
          0.0995370370370369,
          0.9081790123456772,
          0.7268518518518543,
          0.4714506172839505,
          0.15200617283950624,
          0.46990740740740755,
          0.23225308641975287,
          0.3680555555555554,
          0.9429012345679,
          0.7901234567901247,
          0.5324074074074079,
          0.5516975308641965,
          0.5648148148148153,
          0.699074074074074,
          0.7361111111111105,
          0.9452160493827149,
          0.6003086419753072,
          0.5624999999999996,
          0.8271604938271601,
          0.45679012345678977,
          0,
          0,
          0.17361111111111113,
          0.7430555555555555,
          0.49845679012345673,
          0.8688271604938262,
          0.4706790123456794,
          0.19290123456790118,
          0.5316358024691352,
          0.8464506172839487,
          0.7901234567901247,
          0.5015432098765442,
          0.5902777777777772,
          0.519290123456791,
          0.29706790123456756,
          0.4290123456790123,
          0.9429012345679,
          0.7901234567901247,
          0.49537037037036996,
          0,
          0,
          0,
          0,
          0,
          0,
          0.23070987654320993,
          0.7577160493827149,
          0.49922839506172956,
          0.3364197530864193,
          0.5308641975308636,
          0.8263888888888863,
          0.6790123456790134,
          0.49382716049382697,
          0.5987654320987649,
          0.6481481481481487,
          0.44753086419753063,
          0.8310185185185178,
          0.9436728395061716,
          0.7901234567901247,
          0.5316358024691361,
          0.795524691358024,
          0.5802469135802482,
          0.38040123456790087,
          0.6990740740740743,
          0.9452160493827149,
          0.7901234567901247,
          0.6967592592592591,
          0.7484567901234561,
          0.5655864197530857,
          0.4274691358024689,
          0.8163580246913578,
          0.7260802469135791,
          0.7901234567901247,
          0.8595679012345677,
          0.7461419753086419,
          0.6126543209876556,
          0.38734567901234535,
          0.7013888888888887,
          0.8850308641975291,
          0.7901234567901247,
          0.8811728395061724,
          0.7646604938271603,
          0.5501543209876559,
          0.4413580246913577,
          0.8287037037037029,
          0.9390432098765421,
          0.7901234567901247,
          0.7307098765432097,
          0.8510802469135796,
          0.604938271604939,
          0.4058641975308639,
          0.8719135802469137,
          0.9382716049382704,
          0.7901234567901247,
          0.8634259259259253,
          0.8688271604938262,
          0.6273148148148155,
          0.4382716049382712,
          0.7739197530864194,
          0.9444444444444433,
          0.7901234567901247,
          0.7337962962962964,
          0.6743827160493823,
          0.6620370370370358,
          0.45601851851851816,
          0.7492283950617294,
          0.9452160493827149,
          0.7901234567901247,
          0.8626543209876542,
          0.669753086419753,
          0.5910493827160495,
          0.42206790123456767,
          0.8287037037037033,
          0.9174382716049371,
          0.7901234567901247,
          0.682098765432099,
          0.8233024691358019,
          0.6103395061728384,
          0.44753086419753063,
          0.6543209876543218,
          0.8695987654320977,
          0.7901234567901247,
          0.6844135802469139,
          0.7445987654320985,
          0.5516975308641969,
          0.31095679012345656,
          0.7546296296296301,
          0.8703703703703694,
          0.7901234567901247,
          0.8564814814814813,
          0.5910493827160492,
          0.520833333333333,
          0.4120370370370366,
          0.7708333333333339,
          0.8858024691358014,
          0.7901234567901247,
          0.7793209876543212,
          0.8132716049382708,
          0.5779320987654332,
          0.2962962962962961,
          0.6712962962962972,
          0.8827160493827151,
          0.7901234567901247,
          0.6612654320987654,
          0.7939814814814805,
          0.6658950617283953,
          0.30787037037037013,
          0.7492283950617289,
          0.8804012345679002,
          0.7901234567901247,
          0.857253086419752,
          0.7229938271604932,
          0.6882716049382704,
          0.43518518518518456,
          0.6597222222222231,
          0.8819444444444434,
          0.7901234567901247,
          0.8811728395061724,
          0.6743827160493826,
          0.5771604938271613,
          0.4405864197530862,
          0.8379629629629628,
          0.8186728395061723,
          0.7901234567901247,
          0.6820987654320992,
          0.8202160493827154,
          0.5864197530864194,
          0.44753086419753063,
          0.7052469135802475,
          0.8834876543209869,
          0.7901234567901247,
          0.8557098765432096,
          0.8688271604938262,
          0.4745370370370368,
          0.3325617283950615,
          0.6512345679012351,
          0.874999999999999,
          0.7901234567901247,
          0.8811728395061724,
          0.8688271604938262,
          0.5378086419753102,
          0.40586419753086406,
          0.8310185185185182,
          0.8865740740740731,
          0.7901234567901247,
          0.647376543209877,
          0.8688271604938262,
          0.6018518518518525,
          0.44675925925925913,
          0.8086419753086417,
          0.8827160493827151,
          0.7901234567901247,
          0.6666666666666679,
          0.7461419753086411,
          0.6558641975308646,
          0.44753086419753063,
          0.7731481481481484,
          0.8804012345679002,
          0.7901234567901247,
          0.697530864197532,
          0.6141975308641976,
          0.17824074074074056,
          0.35262345679012314,
          0.7523148148148151,
          0.8657407407407399,
          0.7901234567901247,
          0.5956790123456795,
          0.7399691358024687,
          0.5864197530864195,
          0.4004629629629626,
          0.8456790123456788,
          0.8850308641975299,
          0.7901234567901247,
          0.6736111111111116,
          0.8101851851851836,
          0.6581790123456778,
          0.31018518518518473,
          0.7060185185185188,
          0.8811728395061719,
          0.7901234567901247,
          0.6250000000000008,
          0.8402777777777768,
          0.6257716049382709,
          0.36419753086419693,
          0.8287037037037037,
          0.8765432098765422,
          0.7901234567901247,
          0.7260802469135808,
          0.8688271604938262,
          0.5501543209876562,
          0.41280864197530803,
          0.8503086419753085,
          0.8773148148148138,
          0.7901234567901247,
          0.7191358024691367,
          0.8032407407407391,
          0.5956790123456793,
          0.4606481481481477,
          0.7237654320987655,
          0.8773148148148138,
          0.7901234567901247,
          0.44135802469135865,
          0.6643518518518516,
          0.5586419753086422,
          0.32021604938271564,
          0.8186728395061726,
          0.8773148148148138,
          0.7901234567901247,
          0.682098765432099,
          0.8310185185185174,
          0.600308641975309,
          0.30169753086419715,
          0.8441358024691356,
          0.8811728395061719,
          0.7901234567901247,
          0.6435185185185196,
          0.4375000000000002,
          0.16435185185185167,
          0.395061728395061,
          0.5949074074074072,
          0.8094135802469129,
          0.7901234567901247,
          0.5817901234567908,
          0.6620370370370363,
          0.5069444444444446,
          0.24074074074074078,
          0.6257716049382714,
          0.9251543209876532,
          0.7901234567901247,
          0.8449074074074063,
          0.6527777777777769,
          0.6149691358024695,
          0.07638888888888887,
          0.2222222222222222,
          0.9305555555555544,
          0.7901234567901247,
          0.7330246913580246,
          0.7654320987654315,
          0.5887345679012341,
          0.3179012345679005,
          0.653549382716049,
          0.9382716049382704,
          0.7901234567901247,
          0.6373456790123458,
          0.7268518518518516,
          0.6188271604938265,
          0.4243827160493821,
          0.7384259259259263,
          0.9444444444444433,
          0.7901234567901247,
          0.5879629629629639,
          0.6273148148148145,
          0.6743827160493814,
          0.4606481481481478,
          0.844907407407407,
          0.9359567901234556,
          0.7901234567901247,
          0.5794753086419764,
          0.820987654320987,
          0.5748456790123464,
          0.42206790123456767,
          0.8719135802469137,
          0.6712962962962971,
          0.7901234567901247,
          0.840277777777777,
          0.8688271604938262,
          0.6103395061728384,
          0.44753086419753063,
          0.8719135802469137,
          0.7121913580246914,
          0.7901234567901247,
          0.8811728395061724,
          0.5640432098765432,
          0.16358024691358028,
          0.08873456790123453,
          0.11265432098765432,
          0,
          0,
          0.09027777777777778,
          0.8094135802469126,
          0.49922839506172956,
          0.3364197530864193,
          0.7608024691358012,
          0.60108024691358,
          0.6790123456790134,
          0.7793209876543197,
          0.8688271604938262,
          0.5779320987654321,
          0.08873456790123453,
          0.11265432098765432,
          0,
          0.18518518518518526,
          0.8811728395061724,
          0.8688271604938262,
          0.5679012345679026,
          0.3364197530864193,
          0.7608024691358012,
          0.60108024691358,
          0.7098765432098785,
          0.3834876543209881,
          0.8618827160493817,
          0.6103395061728384,
          0.44753086419753063,
          0.4807098765432101,
          0,
          0,
          0.459876543209876,
          0.8680555555555546,
          0.6103395061728384,
          0.44753086419753063,
          0.6620370370370368,
          0.8233024691358,
          0.6358024691358035,
          0.74074074074074,
          0.8101851851851841,
          0.5192901234567893,
          0.251543209876543,
          0.5763888888888894,
          0.9405864197530851,
          0.7283950617283965,
          0.6774691358024693,
          0.7793209876543205,
          0.4452160493827155,
          0.3070987654320986,
          0.7731481481481473,
          0.6720679012345686,
          0.7824074074074088,
          0.8572530864197524,
          0.8595679012345671,
          0.5617283950617306,
          0.40123456790123424,
          0.8179012345679012,
          0.7121913580246914,
          0.7283950617283963,
          0.4459876543209877,
          0.8688271604938262,
          0.427469135802469,
          0.310185185185185,
          0.8163580246913579,
          0.904320987654319,
          0.7345679012345694,
          0.3927469135802475,
          0.8040123456790115,
          0.5285493827160501,
          0.3788580246913577,
          0.6412037037037039,
          0.9452160493827149,
          0.7114197530864211,
          0.5108024691358035,
          0.5416666666666664,
          0.59182098765432
         ],
         "yaxis": "y"
        }
       ],
       "layout": {
        "legend": {
         "tracegroupgap": 0
        },
        "template": {
         "data": {
          "bar": [
           {
            "error_x": {
             "color": "#2a3f5f"
            },
            "error_y": {
             "color": "#2a3f5f"
            },
            "marker": {
             "line": {
              "color": "#E5ECF6",
              "width": 0.5
             },
             "pattern": {
              "fillmode": "overlay",
              "size": 10,
              "solidity": 0.2
             }
            },
            "type": "bar"
           }
          ],
          "barpolar": [
           {
            "marker": {
             "line": {
              "color": "#E5ECF6",
              "width": 0.5
             },
             "pattern": {
              "fillmode": "overlay",
              "size": 10,
              "solidity": 0.2
             }
            },
            "type": "barpolar"
           }
          ],
          "carpet": [
           {
            "aaxis": {
             "endlinecolor": "#2a3f5f",
             "gridcolor": "white",
             "linecolor": "white",
             "minorgridcolor": "white",
             "startlinecolor": "#2a3f5f"
            },
            "baxis": {
             "endlinecolor": "#2a3f5f",
             "gridcolor": "white",
             "linecolor": "white",
             "minorgridcolor": "white",
             "startlinecolor": "#2a3f5f"
            },
            "type": "carpet"
           }
          ],
          "choropleth": [
           {
            "colorbar": {
             "outlinewidth": 0,
             "ticks": ""
            },
            "type": "choropleth"
           }
          ],
          "contour": [
           {
            "colorbar": {
             "outlinewidth": 0,
             "ticks": ""
            },
            "colorscale": [
             [
              0,
              "#0d0887"
             ],
             [
              0.1111111111111111,
              "#46039f"
             ],
             [
              0.2222222222222222,
              "#7201a8"
             ],
             [
              0.3333333333333333,
              "#9c179e"
             ],
             [
              0.4444444444444444,
              "#bd3786"
             ],
             [
              0.5555555555555556,
              "#d8576b"
             ],
             [
              0.6666666666666666,
              "#ed7953"
             ],
             [
              0.7777777777777778,
              "#fb9f3a"
             ],
             [
              0.8888888888888888,
              "#fdca26"
             ],
             [
              1,
              "#f0f921"
             ]
            ],
            "type": "contour"
           }
          ],
          "contourcarpet": [
           {
            "colorbar": {
             "outlinewidth": 0,
             "ticks": ""
            },
            "type": "contourcarpet"
           }
          ],
          "heatmap": [
           {
            "colorbar": {
             "outlinewidth": 0,
             "ticks": ""
            },
            "colorscale": [
             [
              0,
              "#0d0887"
             ],
             [
              0.1111111111111111,
              "#46039f"
             ],
             [
              0.2222222222222222,
              "#7201a8"
             ],
             [
              0.3333333333333333,
              "#9c179e"
             ],
             [
              0.4444444444444444,
              "#bd3786"
             ],
             [
              0.5555555555555556,
              "#d8576b"
             ],
             [
              0.6666666666666666,
              "#ed7953"
             ],
             [
              0.7777777777777778,
              "#fb9f3a"
             ],
             [
              0.8888888888888888,
              "#fdca26"
             ],
             [
              1,
              "#f0f921"
             ]
            ],
            "type": "heatmap"
           }
          ],
          "heatmapgl": [
           {
            "colorbar": {
             "outlinewidth": 0,
             "ticks": ""
            },
            "colorscale": [
             [
              0,
              "#0d0887"
             ],
             [
              0.1111111111111111,
              "#46039f"
             ],
             [
              0.2222222222222222,
              "#7201a8"
             ],
             [
              0.3333333333333333,
              "#9c179e"
             ],
             [
              0.4444444444444444,
              "#bd3786"
             ],
             [
              0.5555555555555556,
              "#d8576b"
             ],
             [
              0.6666666666666666,
              "#ed7953"
             ],
             [
              0.7777777777777778,
              "#fb9f3a"
             ],
             [
              0.8888888888888888,
              "#fdca26"
             ],
             [
              1,
              "#f0f921"
             ]
            ],
            "type": "heatmapgl"
           }
          ],
          "histogram": [
           {
            "marker": {
             "pattern": {
              "fillmode": "overlay",
              "size": 10,
              "solidity": 0.2
             }
            },
            "type": "histogram"
           }
          ],
          "histogram2d": [
           {
            "colorbar": {
             "outlinewidth": 0,
             "ticks": ""
            },
            "colorscale": [
             [
              0,
              "#0d0887"
             ],
             [
              0.1111111111111111,
              "#46039f"
             ],
             [
              0.2222222222222222,
              "#7201a8"
             ],
             [
              0.3333333333333333,
              "#9c179e"
             ],
             [
              0.4444444444444444,
              "#bd3786"
             ],
             [
              0.5555555555555556,
              "#d8576b"
             ],
             [
              0.6666666666666666,
              "#ed7953"
             ],
             [
              0.7777777777777778,
              "#fb9f3a"
             ],
             [
              0.8888888888888888,
              "#fdca26"
             ],
             [
              1,
              "#f0f921"
             ]
            ],
            "type": "histogram2d"
           }
          ],
          "histogram2dcontour": [
           {
            "colorbar": {
             "outlinewidth": 0,
             "ticks": ""
            },
            "colorscale": [
             [
              0,
              "#0d0887"
             ],
             [
              0.1111111111111111,
              "#46039f"
             ],
             [
              0.2222222222222222,
              "#7201a8"
             ],
             [
              0.3333333333333333,
              "#9c179e"
             ],
             [
              0.4444444444444444,
              "#bd3786"
             ],
             [
              0.5555555555555556,
              "#d8576b"
             ],
             [
              0.6666666666666666,
              "#ed7953"
             ],
             [
              0.7777777777777778,
              "#fb9f3a"
             ],
             [
              0.8888888888888888,
              "#fdca26"
             ],
             [
              1,
              "#f0f921"
             ]
            ],
            "type": "histogram2dcontour"
           }
          ],
          "mesh3d": [
           {
            "colorbar": {
             "outlinewidth": 0,
             "ticks": ""
            },
            "type": "mesh3d"
           }
          ],
          "parcoords": [
           {
            "line": {
             "colorbar": {
              "outlinewidth": 0,
              "ticks": ""
             }
            },
            "type": "parcoords"
           }
          ],
          "pie": [
           {
            "automargin": true,
            "type": "pie"
           }
          ],
          "scatter": [
           {
            "fillpattern": {
             "fillmode": "overlay",
             "size": 10,
             "solidity": 0.2
            },
            "type": "scatter"
           }
          ],
          "scatter3d": [
           {
            "line": {
             "colorbar": {
              "outlinewidth": 0,
              "ticks": ""
             }
            },
            "marker": {
             "colorbar": {
              "outlinewidth": 0,
              "ticks": ""
             }
            },
            "type": "scatter3d"
           }
          ],
          "scattercarpet": [
           {
            "marker": {
             "colorbar": {
              "outlinewidth": 0,
              "ticks": ""
             }
            },
            "type": "scattercarpet"
           }
          ],
          "scattergeo": [
           {
            "marker": {
             "colorbar": {
              "outlinewidth": 0,
              "ticks": ""
             }
            },
            "type": "scattergeo"
           }
          ],
          "scattergl": [
           {
            "marker": {
             "colorbar": {
              "outlinewidth": 0,
              "ticks": ""
             }
            },
            "type": "scattergl"
           }
          ],
          "scattermapbox": [
           {
            "marker": {
             "colorbar": {
              "outlinewidth": 0,
              "ticks": ""
             }
            },
            "type": "scattermapbox"
           }
          ],
          "scatterpolar": [
           {
            "marker": {
             "colorbar": {
              "outlinewidth": 0,
              "ticks": ""
             }
            },
            "type": "scatterpolar"
           }
          ],
          "scatterpolargl": [
           {
            "marker": {
             "colorbar": {
              "outlinewidth": 0,
              "ticks": ""
             }
            },
            "type": "scatterpolargl"
           }
          ],
          "scatterternary": [
           {
            "marker": {
             "colorbar": {
              "outlinewidth": 0,
              "ticks": ""
             }
            },
            "type": "scatterternary"
           }
          ],
          "surface": [
           {
            "colorbar": {
             "outlinewidth": 0,
             "ticks": ""
            },
            "colorscale": [
             [
              0,
              "#0d0887"
             ],
             [
              0.1111111111111111,
              "#46039f"
             ],
             [
              0.2222222222222222,
              "#7201a8"
             ],
             [
              0.3333333333333333,
              "#9c179e"
             ],
             [
              0.4444444444444444,
              "#bd3786"
             ],
             [
              0.5555555555555556,
              "#d8576b"
             ],
             [
              0.6666666666666666,
              "#ed7953"
             ],
             [
              0.7777777777777778,
              "#fb9f3a"
             ],
             [
              0.8888888888888888,
              "#fdca26"
             ],
             [
              1,
              "#f0f921"
             ]
            ],
            "type": "surface"
           }
          ],
          "table": [
           {
            "cells": {
             "fill": {
              "color": "#EBF0F8"
             },
             "line": {
              "color": "white"
             }
            },
            "header": {
             "fill": {
              "color": "#C8D4E3"
             },
             "line": {
              "color": "white"
             }
            },
            "type": "table"
           }
          ]
         },
         "layout": {
          "annotationdefaults": {
           "arrowcolor": "#2a3f5f",
           "arrowhead": 0,
           "arrowwidth": 1
          },
          "autotypenumbers": "strict",
          "coloraxis": {
           "colorbar": {
            "outlinewidth": 0,
            "ticks": ""
           }
          },
          "colorscale": {
           "diverging": [
            [
             0,
             "#8e0152"
            ],
            [
             0.1,
             "#c51b7d"
            ],
            [
             0.2,
             "#de77ae"
            ],
            [
             0.3,
             "#f1b6da"
            ],
            [
             0.4,
             "#fde0ef"
            ],
            [
             0.5,
             "#f7f7f7"
            ],
            [
             0.6,
             "#e6f5d0"
            ],
            [
             0.7,
             "#b8e186"
            ],
            [
             0.8,
             "#7fbc41"
            ],
            [
             0.9,
             "#4d9221"
            ],
            [
             1,
             "#276419"
            ]
           ],
           "sequential": [
            [
             0,
             "#0d0887"
            ],
            [
             0.1111111111111111,
             "#46039f"
            ],
            [
             0.2222222222222222,
             "#7201a8"
            ],
            [
             0.3333333333333333,
             "#9c179e"
            ],
            [
             0.4444444444444444,
             "#bd3786"
            ],
            [
             0.5555555555555556,
             "#d8576b"
            ],
            [
             0.6666666666666666,
             "#ed7953"
            ],
            [
             0.7777777777777778,
             "#fb9f3a"
            ],
            [
             0.8888888888888888,
             "#fdca26"
            ],
            [
             1,
             "#f0f921"
            ]
           ],
           "sequentialminus": [
            [
             0,
             "#0d0887"
            ],
            [
             0.1111111111111111,
             "#46039f"
            ],
            [
             0.2222222222222222,
             "#7201a8"
            ],
            [
             0.3333333333333333,
             "#9c179e"
            ],
            [
             0.4444444444444444,
             "#bd3786"
            ],
            [
             0.5555555555555556,
             "#d8576b"
            ],
            [
             0.6666666666666666,
             "#ed7953"
            ],
            [
             0.7777777777777778,
             "#fb9f3a"
            ],
            [
             0.8888888888888888,
             "#fdca26"
            ],
            [
             1,
             "#f0f921"
            ]
           ]
          },
          "colorway": [
           "#636efa",
           "#EF553B",
           "#00cc96",
           "#ab63fa",
           "#FFA15A",
           "#19d3f3",
           "#FF6692",
           "#B6E880",
           "#FF97FF",
           "#FECB52"
          ],
          "font": {
           "color": "#2a3f5f"
          },
          "geo": {
           "bgcolor": "white",
           "lakecolor": "white",
           "landcolor": "#E5ECF6",
           "showlakes": true,
           "showland": true,
           "subunitcolor": "white"
          },
          "hoverlabel": {
           "align": "left"
          },
          "hovermode": "closest",
          "mapbox": {
           "style": "light"
          },
          "paper_bgcolor": "white",
          "plot_bgcolor": "#E5ECF6",
          "polar": {
           "angularaxis": {
            "gridcolor": "white",
            "linecolor": "white",
            "ticks": ""
           },
           "bgcolor": "#E5ECF6",
           "radialaxis": {
            "gridcolor": "white",
            "linecolor": "white",
            "ticks": ""
           }
          },
          "scene": {
           "xaxis": {
            "backgroundcolor": "#E5ECF6",
            "gridcolor": "white",
            "gridwidth": 2,
            "linecolor": "white",
            "showbackground": true,
            "ticks": "",
            "zerolinecolor": "white"
           },
           "yaxis": {
            "backgroundcolor": "#E5ECF6",
            "gridcolor": "white",
            "gridwidth": 2,
            "linecolor": "white",
            "showbackground": true,
            "ticks": "",
            "zerolinecolor": "white"
           },
           "zaxis": {
            "backgroundcolor": "#E5ECF6",
            "gridcolor": "white",
            "gridwidth": 2,
            "linecolor": "white",
            "showbackground": true,
            "ticks": "",
            "zerolinecolor": "white"
           }
          },
          "shapedefaults": {
           "line": {
            "color": "#2a3f5f"
           }
          },
          "ternary": {
           "aaxis": {
            "gridcolor": "white",
            "linecolor": "white",
            "ticks": ""
           },
           "baxis": {
            "gridcolor": "white",
            "linecolor": "white",
            "ticks": ""
           },
           "bgcolor": "#E5ECF6",
           "caxis": {
            "gridcolor": "white",
            "linecolor": "white",
            "ticks": ""
           }
          },
          "title": {
           "x": 0.05
          },
          "xaxis": {
           "automargin": true,
           "gridcolor": "white",
           "linecolor": "white",
           "ticks": "",
           "title": {
            "standoff": 15
           },
           "zerolinecolor": "white",
           "zerolinewidth": 2
          },
          "yaxis": {
           "automargin": true,
           "gridcolor": "white",
           "linecolor": "white",
           "ticks": "",
           "title": {
            "standoff": 15
           },
           "zerolinecolor": "white",
           "zerolinewidth": 2
          }
         }
        },
        "title": {
         "text": "How common are the days?"
        },
        "xaxis": {
         "anchor": "y",
         "domain": [
          0,
          1
         ],
         "title": {
          "text": "Time"
         }
        },
        "yaxis": {
         "anchor": "x",
         "domain": [
          0,
          1
         ],
         "title": {
          "text": "Score"
         }
        }
       }
      }
     },
     "metadata": {},
     "output_type": "display_data"
    }
   ],
   "source": [
    "import plotly.express as px\n",
    "import plotly.graph_objects as go\n",
    "\n",
    "fig = px.line(df_plot, x=\"Time\", y=\"Score\", title='How common are the days?')\n",
    "fig.show()"
   ]
  },
  {
   "cell_type": "code",
   "execution_count": 167,
   "id": "4d054192",
   "metadata": {},
   "outputs": [
    {
     "data": {
      "application/vnd.plotly.v1+json": {
       "config": {
        "plotlyServerURL": "https://plotly.com"
       },
       "data": [
        {
         "name": "Savitzky-Golay",
         "type": "scatter",
         "x": [
          "2017-05-01",
          "2017-05-02",
          "2017-05-03",
          "2017-05-04",
          "2017-05-05",
          "2017-05-06",
          "2017-05-07",
          "2017-05-08",
          "2017-05-09",
          "2017-05-10",
          "2017-05-11",
          "2017-05-12",
          "2017-05-13",
          "2017-05-14",
          "2017-05-15",
          "2017-05-16",
          "2017-05-17",
          "2017-05-18",
          "2017-05-19",
          "2017-05-20",
          "2017-05-21",
          "2017-05-22",
          "2017-05-23",
          "2017-05-24",
          "2017-05-25",
          "2017-05-26",
          "2017-05-27",
          "2017-05-28",
          "2017-05-29",
          "2017-05-30",
          "2017-05-31",
          "2017-06-01",
          "2017-06-02",
          "2017-06-03",
          "2017-06-04",
          "2017-06-05",
          "2017-06-06",
          "2017-06-07",
          "2017-06-08",
          "2017-06-09",
          "2017-06-10",
          "2017-06-11",
          "2017-06-12",
          "2017-06-13",
          "2017-06-14",
          "2017-06-15",
          "2017-06-16",
          "2017-06-17",
          "2017-06-18",
          "2017-06-19",
          "2017-06-20",
          "2017-06-21",
          "2017-06-22",
          "2017-06-23",
          "2017-06-24",
          "2017-06-25",
          "2017-06-26",
          "2017-06-27",
          "2017-06-28",
          "2017-06-29",
          "2017-06-30",
          "2017-07-01",
          "2017-07-02",
          "2017-07-03",
          "2017-07-04",
          "2017-07-05",
          "2017-07-06",
          "2017-07-07",
          "2017-07-08",
          "2017-07-09",
          "2017-07-10",
          "2017-07-11",
          "2017-07-12",
          "2017-07-13",
          "2017-07-14",
          "2017-07-15",
          "2017-07-16",
          "2017-07-17",
          "2017-07-18",
          "2017-07-19",
          "2017-07-20",
          "2017-07-21",
          "2017-07-22",
          "2017-07-23",
          "2017-07-24",
          "2017-07-25",
          "2017-07-26",
          "2017-07-27",
          "2017-07-28",
          "2017-07-29",
          "2017-07-30",
          "2017-07-31",
          "2017-08-01",
          "2017-08-02",
          "2017-08-03",
          "2017-08-04",
          "2017-08-05",
          "2017-08-06",
          "2017-08-07",
          "2017-08-08",
          "2017-08-09",
          "2017-08-10",
          "2017-08-11",
          "2017-08-12",
          "2017-08-13",
          "2017-08-14",
          "2017-08-15",
          "2017-08-16",
          "2017-08-17",
          "2017-08-18",
          "2017-08-19",
          "2017-08-20",
          "2017-08-21",
          "2017-08-22",
          "2017-08-23",
          "2017-08-24",
          "2017-08-25",
          "2017-08-26",
          "2017-08-27",
          "2017-08-28",
          "2017-08-29",
          "2017-08-30",
          "2017-08-31",
          "2017-09-01",
          "2017-09-02",
          "2017-09-03",
          "2017-09-04",
          "2017-09-05",
          "2017-09-06",
          "2017-09-07",
          "2017-09-08",
          "2017-09-09",
          "2017-09-10",
          "2017-09-11",
          "2017-09-12",
          "2017-09-13",
          "2017-09-14",
          "2017-09-15",
          "2017-09-16",
          "2017-09-17",
          "2017-09-18",
          "2017-09-19",
          "2017-09-20",
          "2017-09-21",
          "2017-09-22",
          "2017-09-23",
          "2017-09-24",
          "2017-09-25",
          "2017-09-26",
          "2017-09-27",
          "2017-09-28",
          "2017-09-29",
          "2017-09-30",
          "2017-10-01",
          "2017-10-02",
          "2017-10-03",
          "2017-10-04",
          "2017-10-05",
          "2017-10-06",
          "2017-10-07",
          "2017-10-08",
          "2017-10-09",
          "2017-10-10",
          "2017-10-11",
          "2017-10-12",
          "2017-10-13",
          "2017-10-14",
          "2017-10-15",
          "2017-10-16",
          "2017-10-17",
          "2017-10-18",
          "2017-10-19",
          "2017-10-20",
          "2017-10-21",
          "2017-10-22",
          "2017-10-23",
          "2017-10-24",
          "2017-10-25",
          "2017-10-26",
          "2017-10-27",
          "2017-10-28",
          "2017-10-29",
          "2017-10-30",
          "2017-10-31",
          "2017-11-01",
          "2017-11-02",
          "2017-11-03",
          "2017-11-04",
          "2017-11-05",
          "2017-11-06",
          "2017-11-07",
          "2017-11-08",
          "2017-11-09",
          "2017-11-10",
          "2017-11-11",
          "2017-11-12",
          "2017-11-13",
          "2017-11-14",
          "2017-11-15",
          "2017-11-16",
          "2017-11-17",
          "2017-11-18",
          "2017-11-19",
          "2017-11-20",
          "2017-11-21",
          "2017-11-22",
          "2017-11-23",
          "2017-11-24",
          "2017-11-25",
          "2017-11-26",
          "2017-11-27",
          "2017-11-28",
          "2017-11-29",
          "2017-11-30",
          "2017-12-01",
          "2017-12-02",
          "2017-12-03",
          "2017-12-04",
          "2017-12-05",
          "2017-12-06",
          "2017-12-07",
          "2017-12-08",
          "2017-12-09",
          "2017-12-10",
          "2017-12-11",
          "2017-12-12",
          "2017-12-13",
          "2017-12-14",
          "2017-12-15",
          "2017-12-16",
          "2017-12-17",
          "2017-12-18",
          "2017-12-19",
          "2017-12-20",
          "2017-12-21",
          "2017-12-22",
          "2017-12-23",
          "2017-12-24",
          "2017-12-25",
          "2017-12-26",
          "2017-12-27",
          "2017-12-28",
          "2017-12-29",
          "2017-12-30",
          "2017-12-31",
          "2018-01-01",
          "2018-01-02",
          "2018-01-03",
          "2018-01-04",
          "2018-01-05",
          "2018-01-06",
          "2018-01-07",
          "2018-01-08",
          "2018-01-09",
          "2018-01-10",
          "2018-01-11",
          "2018-01-12",
          "2018-01-13",
          "2018-01-14",
          "2018-01-15",
          "2018-01-16",
          "2018-01-17",
          "2018-01-18",
          "2018-01-19",
          "2018-01-20",
          "2018-01-21",
          "2018-01-22",
          "2018-01-23",
          "2018-01-24",
          "2018-01-25",
          "2018-01-26",
          "2018-01-27",
          "2018-01-28",
          "2018-01-29",
          "2018-01-30",
          "2018-01-31",
          "2018-02-01",
          "2018-02-02",
          "2018-02-03",
          "2018-02-04",
          "2018-02-05",
          "2018-02-06",
          "2018-02-07",
          "2018-02-08",
          "2018-02-09",
          "2018-02-10",
          "2018-02-11",
          "2018-02-12",
          "2018-02-13",
          "2018-02-14",
          "2018-02-15",
          "2018-02-16",
          "2018-02-17",
          "2018-02-18",
          "2018-02-19",
          "2018-02-20",
          "2018-02-21",
          "2018-02-22",
          "2018-02-23",
          "2018-02-24",
          "2018-02-25",
          "2018-02-26",
          "2018-02-27",
          "2018-02-28",
          "2018-03-01",
          "2018-03-02",
          "2018-03-03",
          "2018-03-04",
          "2018-03-05",
          "2018-03-06",
          "2018-03-07",
          "2018-03-08",
          "2018-03-09",
          "2018-03-10",
          "2018-03-11",
          "2018-03-12",
          "2018-03-13",
          "2018-03-14",
          "2018-03-15",
          "2018-03-16",
          "2018-03-17",
          "2018-03-18",
          "2018-03-19",
          "2018-03-20",
          "2018-03-21",
          "2018-03-22",
          "2018-03-23",
          "2018-03-24",
          "2018-03-25",
          "2018-03-26",
          "2018-03-27",
          "2018-03-28",
          "2018-03-29",
          "2018-03-30",
          "2018-03-31",
          "2018-04-01",
          "2018-04-02",
          "2018-04-03",
          "2018-04-04",
          "2018-04-05",
          "2018-04-06",
          "2018-04-07",
          "2018-04-08",
          "2018-04-09",
          "2018-04-10",
          "2018-04-11",
          "2018-04-12",
          "2018-04-13",
          "2018-04-14",
          "2018-04-15",
          "2018-04-16",
          "2018-04-17",
          "2018-04-18",
          "2018-04-19",
          "2018-04-20",
          "2018-04-21",
          "2018-04-22",
          "2018-04-23",
          "2018-04-24",
          "2018-04-25",
          "2018-04-26",
          "2018-04-27",
          "2018-04-28",
          "2018-04-29",
          "2018-04-30",
          "2018-05-01",
          "2018-05-02",
          "2018-05-03",
          "2018-05-04",
          "2018-05-05",
          "2018-05-06",
          "2018-05-07",
          "2018-05-08",
          "2018-05-09",
          "2018-05-10",
          "2018-05-11",
          "2018-05-12",
          "2018-05-13",
          "2018-05-14",
          "2018-05-15",
          "2018-05-16",
          "2018-05-17",
          "2018-05-18",
          "2018-05-19",
          "2018-05-20",
          "2018-05-21",
          "2018-05-22",
          "2018-05-23",
          "2018-05-24",
          "2018-05-25",
          "2018-05-26",
          "2018-05-27",
          "2018-05-28",
          "2018-05-29",
          "2018-05-30",
          "2018-05-31",
          "2018-06-01",
          "2018-06-02",
          "2018-06-03",
          "2018-06-04",
          "2018-06-05",
          "2018-06-06",
          "2018-06-07",
          "2018-06-08",
          "2018-06-09",
          "2018-06-10",
          "2018-06-11",
          "2018-06-12",
          "2018-06-13",
          "2018-06-14",
          "2018-06-15",
          "2018-06-16",
          "2018-06-17",
          "2018-06-18",
          "2018-06-19",
          "2018-06-20",
          "2018-06-21",
          "2018-06-22",
          "2018-06-23",
          "2018-06-24",
          "2018-06-25",
          "2018-06-26",
          "2018-06-27",
          "2018-06-28",
          "2018-06-29",
          "2018-06-30",
          "2018-07-01",
          "2018-07-02",
          "2018-07-03",
          "2018-07-04",
          "2018-07-05",
          "2018-07-06",
          "2018-07-07",
          "2018-07-08",
          "2018-07-09",
          "2018-07-10",
          "2018-07-11",
          "2018-07-12",
          "2018-07-13",
          "2018-07-14",
          "2018-07-15",
          "2018-07-16",
          "2018-07-17",
          "2018-07-18",
          "2018-07-19",
          "2018-07-20",
          "2018-07-21",
          "2018-07-22",
          "2018-07-23",
          "2018-07-24",
          "2018-07-25",
          "2018-07-26",
          "2018-07-27",
          "2018-07-28",
          "2018-07-29",
          "2018-07-30",
          "2018-07-31",
          "2018-08-01"
         ],
         "y": [
          -0.14447934312064692,
          -0.06078030633236557,
          0.024550224650339098,
          0.11060462566553547,
          0.196475272551292,
          0.28125454114567694,
          0.36403480728675885,
          0.4439084468126059,
          0.5199678355612867,
          0.5913053493708695,
          0.7028843118686895,
          0.7631891835016865,
          0.8118371212121245,
          0.8393579896184094,
          0.8566770131874331,
          0.83815235690236,
          0.7892045454545485,
          0.8166956018518551,
          0.82424746597924,
          0.8470685588524164,
          0.9001665965207669,
          0.9043729394640891,
          0.8829251718574674,
          0.849202528759824,
          0.7902216610549979,
          0.7585745037177363,
          0.7322958315796891,
          0.7155837454405195,
          0.6978164018658842,
          0.6903740091891163,
          0.6645078826459064,
          0.6695092855639756,
          0.6725722064393964,
          0.6700579142115626,
          0.6708952809343457,
          0.6815736795033693,
          0.6991596959175108,
          0.7146834227693629,
          0.7522450196408558,
          0.779278812429857,
          0.7610469213464034,
          0.7366443828162608,
          0.7563969995089815,
          0.7560123870149943,
          0.7642875368266023,
          0.8135774536034985,
          0.8288934483726185,
          0.7950319978054385,
          0.7719006784110982,
          0.7855009106441428,
          0.7853006159060877,
          0.725798492113599,
          0.6916639109347471,
          0.6364213971310353,
          0.5741087242714872,
          0.5400197671573562,
          0.5291629140696001,
          0.5437159030366514,
          0.49853607482730955,
          0.4811821766357374,
          0.4948789993603379,
          0.5278838682376027,
          0.5338072096210135,
          0.5584274092195117,
          0.5879481456846929,
          0.5226004829628981,
          0.4839221570449886,
          0.5141062315867021,
          0.53732985964974,
          0.5144432972666498,
          0.48350665216984845,
          0.4905361850565863,
          0.4595677185629462,
          0.4958108281893025,
          0.550320332959224,
          0.5739194608118241,
          0.6102792976056889,
          0.6329326248597105,
          0.6931473297792765,
          0.720060267022075,
          0.685435664515528,
          0.6411803217358795,
          0.590055356808831,
          0.5479190048634511,
          0.5185983094837275,
          0.5037241629255531,
          0.47111537832024103,
          0.4381491418817821,
          0.4319602272727284,
          0.42007955714553064,
          0.42713477366255287,
          0.45565112934904767,
          0.4962413486719061,
          0.4885510194537992,
          0.5057499181631144,
          0.5769713921623664,
          0.6531019103067738,
          0.6660876706883675,
          0.6424017372802121,
          0.5986818415637883,
          0.5800958076131711,
          0.5330156308454941,
          0.4956281565656587,
          0.40229727833894674,
          0.3138751519827921,
          0.2624257622521522,
          0.2323556748035922,
          0.2027245838009735,
          0.18586618499813004,
          0.20294525112233508,
          0.2185530069210632,
          0.2224008020014971,
          0.2550414445379731,
          0.31655501777029654,
          0.3931639894313519,
          0.48458865273101537,
          0.5595871913580264,
          0.6047895038346446,
          0.6549479166666686,
          0.6988157033295944,
          0.6973315329218133,
          0.664121831743362,
          0.6502928591470284,
          0.6814075360082329,
          0.6904391133557827,
          0.6913740997942415,
          0.7018936471193444,
          0.7036674616535757,
          0.7079834806397335,
          0.6930944280770697,
          0.6807797301720939,
          0.6819309998129468,
          0.6709555041152286,
          0.6958704522072602,
          0.7071352997568302,
          0.7038767302656219,
          0.6929617354096544,
          0.6993090628507321,
          0.7021479260194564,
          0.6953700780957752,
          0.7062023592405564,
          0.7078662785260035,
          0.7024010358211777,
          0.7084882388701862,
          0.7253112724466919,
          0.7197463641040059,
          0.7138745674335979,
          0.7402453352974215,
          0.7231364571642378,
          0.7141823325851133,
          0.7307104610924083,
          0.7396435419004891,
          0.7410300925925956,
          0.7345582561728424,
          0.7502835063598982,
          0.7510323138795391,
          0.7397709736251432,
          0.7554263701833175,
          0.7703762158623297,
          0.768978266460908,
          0.7477889426674178,
          0.7601547886270135,
          0.7588769640853001,
          0.7407492167040806,
          0.7358913206135456,
          0.7399904718481135,
          0.7405685910026215,
          0.7186421506734032,
          0.7319608118219256,
          0.721817714178828,
          0.7044113005050533,
          0.7107521979049785,
          0.7314469930789399,
          0.7252092686120492,
          0.7130509376169126,
          0.7264689721286971,
          0.736002384960721,
          0.725419414047889,
          0.723201342124956,
          0.7252154063786034,
          0.7200652356902385,
          0.7053573933782292,
          0.7162341002618807,
          0.7073609357463551,
          0.6890493476431004,
          0.6926770599513681,
          0.6842928708380124,
          0.6885688482042673,
          0.672504267209131,
          0.6840637275533136,
          0.6785426604003019,
          0.6668744739057266,
          0.6622857627197929,
          0.6756166994014242,
          0.6754387041713455,
          0.6746153666292579,
          0.6956743359521164,
          0.6998950734193817,
          0.6916207795548102,
          0.6906033716797633,
          0.7069309998129472,
          0.6989045548073355,
          0.6738566217732912,
          0.6953876145716451,
          0.6906793630751992,
          0.6804874555742639,
          0.6932826529180723,
          0.6874912317620681,
          0.6849729938271636,
          0.6677510054246192,
          0.6868087705761343,
          0.6963746258885175,
          0.6901120580808109,
          0.6988007973251054,
          0.712203341283205,
          0.7262515198279113,
          0.7130459689487493,
          0.7223803427796509,
          0.7175385217919967,
          0.7167637018331489,
          0.712770938552191,
          0.7287832023943164,
          0.72690095398429,
          0.7064379325664073,
          0.7150287598204293,
          0.7125622544893406,
          0.6978161242050162,
          0.7045942644032951,
          0.7036455410587384,
          0.7044457889075973,
          0.7081772586980949,
          0.7213185091657343,
          0.7213176323419407,
          0.7049414866255171,
          0.7122787481294452,
          0.7051694608118245,
          0.6949386807893779,
          0.6910286312196059,
          0.7149922254957004,
          0.7063034862514056,
          0.7008218761691013,
          0.7003980780022474,
          0.7231493172465421,
          0.7128063037785287,
          0.7052334689487494,
          0.7159964810138449,
          0.7123842592592621,
          0.705790544332214,
          0.7200257786195317,
          0.7510758627946156,
          0.7447229821361796,
          0.7220316591844398,
          0.7239671015712712,
          0.7154402824541741,
          0.7007239641788282,
          0.7086311611485252,
          0.7297614454732538,
          0.7297126356154163,
          0.7320142980733289,
          0.7340339155443352,
          0.7118157851664826,
          0.6851357907781548,
          0.660869692293306,
          0.6719942480359173,
          0.6541283786943538,
          0.6300849934530517,
          0.6390657150205789,
          0.6251195403105152,
          0.6156062944257416,
          0.6129729002992915,
          0.6291801112981693,
          0.6321642349420152,
          0.6285052492517794,
          0.6662846637673051,
          0.6823737958286594,
          0.6903488005050531,
          0.7082856925738895,
          0.734057882061357,
          0.7023741465581769,
          0.6857665193602718,
          0.7060003974934554,
          0.700264216236441,
          0.6966207210998903,
          0.690083707444821,
          0.700443088290313,
          0.6902637485970843,
          0.6817024410774433,
          0.7050560582678662,
          0.7014157781518918,
          0.6998991652637514,
          0.7021517255892283,
          0.7233311120463926,
          0.7296226150392846,
          0.7160260007482255,
          0.7274960250654724,
          0.7306181023194942,
          0.7234284394874702,
          0.7148174452861982,
          0.7462167976056894,
          0.739757528993643,
          0.7101542040778177,
          0.7200322086606836,
          0.6972450196408557,
          0.6753276398241703,
          0.663493733632625,
          0.6767969042274623,
          0.658149200336703,
          0.6394351501122357,
          0.6650275907220378,
          0.6541839108679413,
          0.6469460227272753,
          0.6500453025626661,
          0.6751578282828307,
          0.6960130822110013,
          0.7083856504863476,
          0.7068915427422399,
          0.7027698863636391,
          0.6865559530490112,
          0.6514812476618057,
          0.6480326996820076,
          0.6288530560231973,
          0.5935065352600098,
          0.603437149270485,
          0.5897405770669683,
          0.5611634282641251,
          0.5484114875607955,
          0.5554921319678288,
          0.5679973929105898,
          0.5542610713617679,
          0.609975916573141,
          0.650097035166482,
          0.6391729797979822,
          0.643919519266744,
          0.6423853699027335,
          0.6118640104751237,
          0.6013646300972711,
          0.6146973204264893,
          0.6164790263748618,
          0.6086852319491229,
          0.6077791806958495,
          0.6273925598578396,
          0.6282766905162759,
          0.6079139192854491,
          0.6181151795735152,
          0.62918537224093,
          0.6296968527871329,
          0.6608278970258161,
          0.6981256430041175,
          0.7276927258698117,
          0.7011030443322136,
          0.6781779017022099,
          0.6746919425738894,
          0.6680084993453075,
          0.6774191568462427,
          0.7073547979798007,
          0.7055242821735903,
          0.6927434062850754,
          0.7011667601945405,
          0.698792905910964,
          0.7099116161616187,
          0.7028052515899765,
          0.7028078820613571,
          0.6971020973625169,
          0.6900837074448213,
          0.7070768448372642,
          0.7105291923868341,
          0.7239133230452703,
          0.7172710905349823,
          0.7075158412832052,
          0.7230207164234971,
          0.7338100332023972,
          0.7561807309203172,
          0.7708941264496849,
          0.7706375093527902,
          0.7358723227646866,
          0.6989144921436615,
          0.5919209455667813,
          0.5005208333333353,
          0.4560956790123473,
          0.3751800411522649,
          0.3303758066778914,
          0.3004956977179212,
          0.2876350308641987,
          0.27013216657313976,
          0.27182239057239144,
          0.34279104704452035,
          0.39783541432847114,
          0.4647727272727289,
          0.5292765619154527,
          0.5357261854657707,
          0.5303360573325869,
          0.5427276234567919,
          0.5622924850355425,
          0.5292221988402563,
          0.49709040637860247,
          0.4506599560419019,
          0.4806110877291447,
          0.45814978488589764,
          0.44470076926674323,
          0.4746612537411166,
          0.4917908833707463,
          0.5443097058548467,
          0.5938180999812968,
          0.619380436307522,
          0.6098967101571293,
          0.5882982019266765,
          0.5679903783202415,
          0.5074883674710082,
          0.43977097362514195,
          0.44470866068088427,
          0.45766168630752097,
          0.45702394313505573,
          0.4606478558735518,
          0.5095658553123845,
          0.5213199705387218,
          0.5257108118219245,
          0.5314800201084937,
          0.5846994248035933,
          0.6234529905536867,
          0.6751999158249179,
          0.7285502595398453,
          0.6959248152824565,
          0.6527754395809973,
          0.6245463898241698,
          0.6287177328844019,
          0.6240153268799125,
          0.6263114361204661,
          0.6459242307332609,
          0.6473362093153783,
          0.6493099396745255,
          0.6614095234754983,
          0.7021748152824571,
          0.6895137719790526,
          0.6794028245417162,
          0.6823241091470289,
          0.6747872240927825,
          0.6592312008978705,
          0.6606744528619557,
          0.6951549639917725,
          0.6696233164983191,
          0.6442243616722809,
          0.653063622334458,
          0.6313885381593739,
          0.6032708450243197,
          0.611555953049011,
          0.6419016554433243,
          0.6459373830901632,
          0.6256707702020224,
          0.6311834929751202,
          0.6421161292106238,
          0.651645959333737,
          0.6582381109067071,
          0.6603577114917809,
          0.6564698886512053,
          0.6450397699472273,
          0.624532482942094,
          0.593413155198052,
          0.5501469142773485
         ]
        }
       ],
       "layout": {
        "template": {
         "data": {
          "bar": [
           {
            "error_x": {
             "color": "#2a3f5f"
            },
            "error_y": {
             "color": "#2a3f5f"
            },
            "marker": {
             "line": {
              "color": "#E5ECF6",
              "width": 0.5
             },
             "pattern": {
              "fillmode": "overlay",
              "size": 10,
              "solidity": 0.2
             }
            },
            "type": "bar"
           }
          ],
          "barpolar": [
           {
            "marker": {
             "line": {
              "color": "#E5ECF6",
              "width": 0.5
             },
             "pattern": {
              "fillmode": "overlay",
              "size": 10,
              "solidity": 0.2
             }
            },
            "type": "barpolar"
           }
          ],
          "carpet": [
           {
            "aaxis": {
             "endlinecolor": "#2a3f5f",
             "gridcolor": "white",
             "linecolor": "white",
             "minorgridcolor": "white",
             "startlinecolor": "#2a3f5f"
            },
            "baxis": {
             "endlinecolor": "#2a3f5f",
             "gridcolor": "white",
             "linecolor": "white",
             "minorgridcolor": "white",
             "startlinecolor": "#2a3f5f"
            },
            "type": "carpet"
           }
          ],
          "choropleth": [
           {
            "colorbar": {
             "outlinewidth": 0,
             "ticks": ""
            },
            "type": "choropleth"
           }
          ],
          "contour": [
           {
            "colorbar": {
             "outlinewidth": 0,
             "ticks": ""
            },
            "colorscale": [
             [
              0,
              "#0d0887"
             ],
             [
              0.1111111111111111,
              "#46039f"
             ],
             [
              0.2222222222222222,
              "#7201a8"
             ],
             [
              0.3333333333333333,
              "#9c179e"
             ],
             [
              0.4444444444444444,
              "#bd3786"
             ],
             [
              0.5555555555555556,
              "#d8576b"
             ],
             [
              0.6666666666666666,
              "#ed7953"
             ],
             [
              0.7777777777777778,
              "#fb9f3a"
             ],
             [
              0.8888888888888888,
              "#fdca26"
             ],
             [
              1,
              "#f0f921"
             ]
            ],
            "type": "contour"
           }
          ],
          "contourcarpet": [
           {
            "colorbar": {
             "outlinewidth": 0,
             "ticks": ""
            },
            "type": "contourcarpet"
           }
          ],
          "heatmap": [
           {
            "colorbar": {
             "outlinewidth": 0,
             "ticks": ""
            },
            "colorscale": [
             [
              0,
              "#0d0887"
             ],
             [
              0.1111111111111111,
              "#46039f"
             ],
             [
              0.2222222222222222,
              "#7201a8"
             ],
             [
              0.3333333333333333,
              "#9c179e"
             ],
             [
              0.4444444444444444,
              "#bd3786"
             ],
             [
              0.5555555555555556,
              "#d8576b"
             ],
             [
              0.6666666666666666,
              "#ed7953"
             ],
             [
              0.7777777777777778,
              "#fb9f3a"
             ],
             [
              0.8888888888888888,
              "#fdca26"
             ],
             [
              1,
              "#f0f921"
             ]
            ],
            "type": "heatmap"
           }
          ],
          "heatmapgl": [
           {
            "colorbar": {
             "outlinewidth": 0,
             "ticks": ""
            },
            "colorscale": [
             [
              0,
              "#0d0887"
             ],
             [
              0.1111111111111111,
              "#46039f"
             ],
             [
              0.2222222222222222,
              "#7201a8"
             ],
             [
              0.3333333333333333,
              "#9c179e"
             ],
             [
              0.4444444444444444,
              "#bd3786"
             ],
             [
              0.5555555555555556,
              "#d8576b"
             ],
             [
              0.6666666666666666,
              "#ed7953"
             ],
             [
              0.7777777777777778,
              "#fb9f3a"
             ],
             [
              0.8888888888888888,
              "#fdca26"
             ],
             [
              1,
              "#f0f921"
             ]
            ],
            "type": "heatmapgl"
           }
          ],
          "histogram": [
           {
            "marker": {
             "pattern": {
              "fillmode": "overlay",
              "size": 10,
              "solidity": 0.2
             }
            },
            "type": "histogram"
           }
          ],
          "histogram2d": [
           {
            "colorbar": {
             "outlinewidth": 0,
             "ticks": ""
            },
            "colorscale": [
             [
              0,
              "#0d0887"
             ],
             [
              0.1111111111111111,
              "#46039f"
             ],
             [
              0.2222222222222222,
              "#7201a8"
             ],
             [
              0.3333333333333333,
              "#9c179e"
             ],
             [
              0.4444444444444444,
              "#bd3786"
             ],
             [
              0.5555555555555556,
              "#d8576b"
             ],
             [
              0.6666666666666666,
              "#ed7953"
             ],
             [
              0.7777777777777778,
              "#fb9f3a"
             ],
             [
              0.8888888888888888,
              "#fdca26"
             ],
             [
              1,
              "#f0f921"
             ]
            ],
            "type": "histogram2d"
           }
          ],
          "histogram2dcontour": [
           {
            "colorbar": {
             "outlinewidth": 0,
             "ticks": ""
            },
            "colorscale": [
             [
              0,
              "#0d0887"
             ],
             [
              0.1111111111111111,
              "#46039f"
             ],
             [
              0.2222222222222222,
              "#7201a8"
             ],
             [
              0.3333333333333333,
              "#9c179e"
             ],
             [
              0.4444444444444444,
              "#bd3786"
             ],
             [
              0.5555555555555556,
              "#d8576b"
             ],
             [
              0.6666666666666666,
              "#ed7953"
             ],
             [
              0.7777777777777778,
              "#fb9f3a"
             ],
             [
              0.8888888888888888,
              "#fdca26"
             ],
             [
              1,
              "#f0f921"
             ]
            ],
            "type": "histogram2dcontour"
           }
          ],
          "mesh3d": [
           {
            "colorbar": {
             "outlinewidth": 0,
             "ticks": ""
            },
            "type": "mesh3d"
           }
          ],
          "parcoords": [
           {
            "line": {
             "colorbar": {
              "outlinewidth": 0,
              "ticks": ""
             }
            },
            "type": "parcoords"
           }
          ],
          "pie": [
           {
            "automargin": true,
            "type": "pie"
           }
          ],
          "scatter": [
           {
            "fillpattern": {
             "fillmode": "overlay",
             "size": 10,
             "solidity": 0.2
            },
            "type": "scatter"
           }
          ],
          "scatter3d": [
           {
            "line": {
             "colorbar": {
              "outlinewidth": 0,
              "ticks": ""
             }
            },
            "marker": {
             "colorbar": {
              "outlinewidth": 0,
              "ticks": ""
             }
            },
            "type": "scatter3d"
           }
          ],
          "scattercarpet": [
           {
            "marker": {
             "colorbar": {
              "outlinewidth": 0,
              "ticks": ""
             }
            },
            "type": "scattercarpet"
           }
          ],
          "scattergeo": [
           {
            "marker": {
             "colorbar": {
              "outlinewidth": 0,
              "ticks": ""
             }
            },
            "type": "scattergeo"
           }
          ],
          "scattergl": [
           {
            "marker": {
             "colorbar": {
              "outlinewidth": 0,
              "ticks": ""
             }
            },
            "type": "scattergl"
           }
          ],
          "scattermapbox": [
           {
            "marker": {
             "colorbar": {
              "outlinewidth": 0,
              "ticks": ""
             }
            },
            "type": "scattermapbox"
           }
          ],
          "scatterpolar": [
           {
            "marker": {
             "colorbar": {
              "outlinewidth": 0,
              "ticks": ""
             }
            },
            "type": "scatterpolar"
           }
          ],
          "scatterpolargl": [
           {
            "marker": {
             "colorbar": {
              "outlinewidth": 0,
              "ticks": ""
             }
            },
            "type": "scatterpolargl"
           }
          ],
          "scatterternary": [
           {
            "marker": {
             "colorbar": {
              "outlinewidth": 0,
              "ticks": ""
             }
            },
            "type": "scatterternary"
           }
          ],
          "surface": [
           {
            "colorbar": {
             "outlinewidth": 0,
             "ticks": ""
            },
            "colorscale": [
             [
              0,
              "#0d0887"
             ],
             [
              0.1111111111111111,
              "#46039f"
             ],
             [
              0.2222222222222222,
              "#7201a8"
             ],
             [
              0.3333333333333333,
              "#9c179e"
             ],
             [
              0.4444444444444444,
              "#bd3786"
             ],
             [
              0.5555555555555556,
              "#d8576b"
             ],
             [
              0.6666666666666666,
              "#ed7953"
             ],
             [
              0.7777777777777778,
              "#fb9f3a"
             ],
             [
              0.8888888888888888,
              "#fdca26"
             ],
             [
              1,
              "#f0f921"
             ]
            ],
            "type": "surface"
           }
          ],
          "table": [
           {
            "cells": {
             "fill": {
              "color": "#EBF0F8"
             },
             "line": {
              "color": "white"
             }
            },
            "header": {
             "fill": {
              "color": "#C8D4E3"
             },
             "line": {
              "color": "white"
             }
            },
            "type": "table"
           }
          ]
         },
         "layout": {
          "annotationdefaults": {
           "arrowcolor": "#2a3f5f",
           "arrowhead": 0,
           "arrowwidth": 1
          },
          "autotypenumbers": "strict",
          "coloraxis": {
           "colorbar": {
            "outlinewidth": 0,
            "ticks": ""
           }
          },
          "colorscale": {
           "diverging": [
            [
             0,
             "#8e0152"
            ],
            [
             0.1,
             "#c51b7d"
            ],
            [
             0.2,
             "#de77ae"
            ],
            [
             0.3,
             "#f1b6da"
            ],
            [
             0.4,
             "#fde0ef"
            ],
            [
             0.5,
             "#f7f7f7"
            ],
            [
             0.6,
             "#e6f5d0"
            ],
            [
             0.7,
             "#b8e186"
            ],
            [
             0.8,
             "#7fbc41"
            ],
            [
             0.9,
             "#4d9221"
            ],
            [
             1,
             "#276419"
            ]
           ],
           "sequential": [
            [
             0,
             "#0d0887"
            ],
            [
             0.1111111111111111,
             "#46039f"
            ],
            [
             0.2222222222222222,
             "#7201a8"
            ],
            [
             0.3333333333333333,
             "#9c179e"
            ],
            [
             0.4444444444444444,
             "#bd3786"
            ],
            [
             0.5555555555555556,
             "#d8576b"
            ],
            [
             0.6666666666666666,
             "#ed7953"
            ],
            [
             0.7777777777777778,
             "#fb9f3a"
            ],
            [
             0.8888888888888888,
             "#fdca26"
            ],
            [
             1,
             "#f0f921"
            ]
           ],
           "sequentialminus": [
            [
             0,
             "#0d0887"
            ],
            [
             0.1111111111111111,
             "#46039f"
            ],
            [
             0.2222222222222222,
             "#7201a8"
            ],
            [
             0.3333333333333333,
             "#9c179e"
            ],
            [
             0.4444444444444444,
             "#bd3786"
            ],
            [
             0.5555555555555556,
             "#d8576b"
            ],
            [
             0.6666666666666666,
             "#ed7953"
            ],
            [
             0.7777777777777778,
             "#fb9f3a"
            ],
            [
             0.8888888888888888,
             "#fdca26"
            ],
            [
             1,
             "#f0f921"
            ]
           ]
          },
          "colorway": [
           "#636efa",
           "#EF553B",
           "#00cc96",
           "#ab63fa",
           "#FFA15A",
           "#19d3f3",
           "#FF6692",
           "#B6E880",
           "#FF97FF",
           "#FECB52"
          ],
          "font": {
           "color": "#2a3f5f"
          },
          "geo": {
           "bgcolor": "white",
           "lakecolor": "white",
           "landcolor": "#E5ECF6",
           "showlakes": true,
           "showland": true,
           "subunitcolor": "white"
          },
          "hoverlabel": {
           "align": "left"
          },
          "hovermode": "closest",
          "mapbox": {
           "style": "light"
          },
          "paper_bgcolor": "white",
          "plot_bgcolor": "#E5ECF6",
          "polar": {
           "angularaxis": {
            "gridcolor": "white",
            "linecolor": "white",
            "ticks": ""
           },
           "bgcolor": "#E5ECF6",
           "radialaxis": {
            "gridcolor": "white",
            "linecolor": "white",
            "ticks": ""
           }
          },
          "scene": {
           "xaxis": {
            "backgroundcolor": "#E5ECF6",
            "gridcolor": "white",
            "gridwidth": 2,
            "linecolor": "white",
            "showbackground": true,
            "ticks": "",
            "zerolinecolor": "white"
           },
           "yaxis": {
            "backgroundcolor": "#E5ECF6",
            "gridcolor": "white",
            "gridwidth": 2,
            "linecolor": "white",
            "showbackground": true,
            "ticks": "",
            "zerolinecolor": "white"
           },
           "zaxis": {
            "backgroundcolor": "#E5ECF6",
            "gridcolor": "white",
            "gridwidth": 2,
            "linecolor": "white",
            "showbackground": true,
            "ticks": "",
            "zerolinecolor": "white"
           }
          },
          "shapedefaults": {
           "line": {
            "color": "#2a3f5f"
           }
          },
          "ternary": {
           "aaxis": {
            "gridcolor": "white",
            "linecolor": "white",
            "ticks": ""
           },
           "baxis": {
            "gridcolor": "white",
            "linecolor": "white",
            "ticks": ""
           },
           "bgcolor": "#E5ECF6",
           "caxis": {
            "gridcolor": "white",
            "linecolor": "white",
            "ticks": ""
           }
          },
          "title": {
           "x": 0.05
          },
          "xaxis": {
           "automargin": true,
           "gridcolor": "white",
           "linecolor": "white",
           "ticks": "",
           "title": {
            "standoff": 15
           },
           "zerolinecolor": "white",
           "zerolinewidth": 2
          },
          "yaxis": {
           "automargin": true,
           "gridcolor": "white",
           "linecolor": "white",
           "ticks": "",
           "title": {
            "standoff": 15
           },
           "zerolinecolor": "white",
           "zerolinewidth": 2
          }
         }
        }
       }
      }
     },
     "metadata": {},
     "output_type": "display_data"
    }
   ],
   "source": [
    "from scipy import signal\n",
    "\n",
    "fig = go.Figure()\n",
    "\n",
    "fig.add_trace(go.Scatter(\n",
    "    x=df_plot.Time.values.tolist(),\n",
    "    y=signal.savgol_filter(df_plot['Score'].values.tolist(),\n",
    "                           20, # window size used for filtering\n",
    "                           3), # order of fitted polynomial\n",
    "    name='Savitzky-Golay'\n",
    "))"
   ]
  },
  {
   "cell_type": "code",
   "execution_count": null,
   "id": "e40ec5e7",
   "metadata": {},
   "outputs": [],
   "source": []
  },
  {
   "cell_type": "code",
   "execution_count": null,
   "id": "09ac6e4e",
   "metadata": {},
   "outputs": [],
   "source": []
  },
  {
   "cell_type": "code",
   "execution_count": null,
   "id": "483d39bc",
   "metadata": {},
   "outputs": [],
   "source": []
  },
  {
   "cell_type": "code",
   "execution_count": null,
   "id": "1ce19526",
   "metadata": {},
   "outputs": [],
   "source": []
  }
 ],
 "metadata": {
  "kernelspec": {
   "display_name": "Python 3 (ipykernel)",
   "language": "python",
   "name": "python3"
  },
  "language_info": {
   "codemirror_mode": {
    "name": "ipython",
    "version": 3
   },
   "file_extension": ".py",
   "mimetype": "text/x-python",
   "name": "python",
   "nbconvert_exporter": "python",
   "pygments_lexer": "ipython3",
   "version": "3.10.11"
  }
 },
 "nbformat": 4,
 "nbformat_minor": 5
}
