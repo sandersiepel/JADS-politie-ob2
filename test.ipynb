{
 "cells": [
  {
   "cell_type": "code",
   "execution_count": null,
   "id": "be0c0a44-81e2-4811-8955-1c081cf60bc0",
   "metadata": {},
   "outputs": [],
   "source": [
    "import pandas as pd\n",
    "import datetime\n",
    "from sklearn import preprocessing\n",
    "from sklearn.ensemble import RandomForestClassifier\n",
    "from sklearn.metrics import accuracy_score, classification_report\n",
    "from collections import Counter\n",
    "import pandas as pd\n",
    "from sklearn.preprocessing import LabelEncoder as le\n",
    "from collections import defaultdict\n"
   ]
  },
  {
   "cell_type": "code",
   "execution_count": null,
   "id": "3c12224e-f773-444b-9f6f-1503b4da7ce1",
   "metadata": {},
   "outputs": [],
   "source": [
    "df_raw = pd.read_excel(\"output/resampled_df_10_min.xlsx\", index_col=[0])"
   ]
  },
  {
   "cell_type": "code",
   "execution_count": null,
   "id": "2117e60a",
   "metadata": {},
   "outputs": [],
   "source": [
    "start_date = pd.to_datetime(f\"2023-01-01 00:00:00\")\n",
    "end_date = pd.to_datetime(f\"2023-05-01 23:50:00\")\n",
    "training_window_size = 7\n",
    "horizon_size = 7\n",
    "model_features = [\"day\", \"weekday\", \"hour\", \"window_block\"] # Day = day of the month (0-31), hour = hour of the day (0-24), weekday = day in the week (0-7), window_block = window block in the hour (0-5)\n",
    "\n",
    "baseline_performance = defaultdict(dict)"
   ]
  },
  {
   "cell_type": "code",
   "execution_count": null,
   "id": "c8e35ace",
   "metadata": {},
   "outputs": [],
   "source": [
    "df = df_raw[df_raw[\"time\"].between(start_date, end_date)].copy()\n",
    "\n",
    "label_encoder = le()\n",
    "df.location = label_encoder.fit_transform(df.location)"
   ]
  },
  {
   "cell_type": "code",
   "execution_count": null,
   "id": "d82c26be",
   "metadata": {},
   "outputs": [],
   "source": [
    "df[\"day\"] = df[\"time\"].dt.day\n",
    "df[\"weekday\"] = df[\"time\"].dt.dayofweek\n",
    "df[\"hour\"] = df[\"time\"].dt.hour\n",
    "df[\"window_block\"] = ((df['time'].dt.minute * 60 + df['time'].dt.second) // 600).astype(int)\n"
   ]
  },
  {
   "cell_type": "code",
   "execution_count": null,
   "id": "12d02f6a",
   "metadata": {},
   "outputs": [],
   "source": [
    "df.head(10)"
   ]
  },
  {
   "cell_type": "code",
   "execution_count": null,
   "id": "02ab3575",
   "metadata": {},
   "outputs": [],
   "source": [
    "train_start_date = start_date\n",
    "train_end_date = train_start_date + pd.Timedelta(days=training_window_size-1, hours=23, minutes=50)\n",
    "test_start_date = train_end_date + pd.Timedelta(minutes=10)\n",
    "test_end_date = test_start_date + pd.Timedelta(days=horizon_size-1, hours=23, minutes=50)\n",
    "\n",
    "train_mask = df[\"time\"].between(train_start_date, train_end_date)\n",
    "test_mask = df[\"time\"].between(test_start_date, test_end_date)\n",
    "\n",
    "# Split the data into train and test sets\n",
    "X_train = df.loc[train_mask, model_features]\n",
    "y_train = df.loc[train_mask, \"location\"]\n",
    "X_test = df.loc[test_mask, model_features]\n",
    "y_test = df.loc[test_mask, \"location\"]\n",
    "\n",
    "print(f\"Training: {train_start_date}-{train_end_date}, testing: {test_start_date}-{test_end_date}.\")"
   ]
  },
  {
   "cell_type": "code",
   "execution_count": null,
   "id": "49621fff",
   "metadata": {},
   "outputs": [],
   "source": [
    "training_data = df.loc[train_mask]\n",
    "testing_data = df.loc[test_mask]\n",
    "most_common_locations = training_data.groupby(model_features)['location'].apply(lambda x: x.value_counts().idxmax()).reset_index()"
   ]
  },
  {
   "cell_type": "code",
   "execution_count": null,
   "id": "25e164db",
   "metadata": {},
   "outputs": [],
   "source": [
    "result_df = testing_data.merge(most_common_locations, how=\"left\", left_on=model_features, right_on=model_features)\n",
    "\n",
    "features_to_use = model_features[1:]\n",
    "while result_df['location_y'].isna().sum() > 0:\n",
    "    print('nan > 0, now trying with features: ', features_to_use)\n",
    "    most_common_locations = training_data[[\"location\"] + features_to_use].groupby(features_to_use)['location'].apply(lambda x: x.value_counts().idxmax()).reset_index()\n",
    "    result_df = testing_data.merge(most_common_locations, how=\"left\", left_on=features_to_use, right_on=features_to_use)\n",
    "    features_to_use = features_to_use[1:]  # Remove the first element to exclude it from the next merge\n",
    "\n",
    "predictions = result_df.location_y.values.tolist()\n",
    "\n"
   ]
  },
  {
   "cell_type": "code",
   "execution_count": null,
   "id": "f24de744",
   "metadata": {},
   "outputs": [],
   "source": [
    "for d in range(horizon_size):\n",
    "    # Then, evaluate the baseline's predictions and store acc in self.baseline_performance\n",
    "    this_day_predictions = predictions[d*144:(d+1)*144]\n",
    "    this_day_actual_values = y_test[d*144:(d+1)*144]\n",
    "    acc = accuracy_score(this_day_actual_values, this_day_predictions)\n",
    "    print(f\"Acc of baseline: {acc}\")"
   ]
  },
  {
   "cell_type": "code",
   "execution_count": null,
   "id": "b1eda62d",
   "metadata": {},
   "outputs": [],
   "source": []
  },
  {
   "cell_type": "code",
   "execution_count": null,
   "id": "800f00a0",
   "metadata": {},
   "outputs": [],
   "source": []
  },
  {
   "cell_type": "code",
   "execution_count": 2,
   "id": "718521f0",
   "metadata": {},
   "outputs": [],
   "source": [
    "import DataLoader as DL\n",
    "from Cluster import Cluster\n",
    "\n",
    "# Initialize parameters.\n",
    "data_source = \"google_maps\"  # Can be either 'google_maps' or 'routined'.\n",
    "# hours_offset is used to offset the timestamps to account for timezone differences. For google maps, timestamp comes in GMT+0\n",
    "# which means that we need to offset it by 2 hours to make it GMT+2 (Dutch timezone). Value must be INT!\n",
    "hours_offset = 2 # Should be 0 for routined and 2 for google_maps. \n",
    "# begin_date and end_date are used to filter the data for your analysis.\n",
    "begin_date = \"2022-01-01\"\n",
    "end_date = \"2022-12-30\"  # End date is INclusive! \n",
    "# FRACTION is used to make the DataFrame smaller. Final df = df * fraction. This solves memory issues, but a value of 1 is preferred.\n",
    "fraction = 1\n",
    "# For the heatmap visualization we specify a separate begin_date and end_date (must be between begin_date and end_date).\n",
    "# For readiness purposes, it it suggested to select between 2 and 14 days.\n",
    "heatmap_begin_date = \"2023-01-20\"\n",
    "heatmap_end_date = \"2023-05-28\"  # End date is INclusive! Choose a date that lies (preferably 2 days) before end_date to avoid errors. \n",
    "# For the model performance class we need to specify the number of training days (range) and testing horizon (also in days)\n",
    "training_window_size = 100\n",
    "horizon_size = 30\n",
    "window_step_size = 1\n",
    "outputs_folder_name = f\"remove-{training_window_size}-{horizon_size}-{window_step_size}\" # All of the outputs will be placed in output/outputs_folder_name"
   ]
  },
  {
   "cell_type": "code",
   "execution_count": 4,
   "id": "fa2c749a",
   "metadata": {},
   "outputs": [
    {
     "name": "stdout",
     "output_type": "stream",
     "text": [
      "Message (data loader): Since HOUR_OFFSET > 0, we offset the timestamps with 2 hours.\n",
      "Message (data loader): Loaded google_maps data from 2022-01-01 to 2022-12-30 with a fraction of 1. Length of data: 150821\n",
      "Message (data loader): First record in dataset is from 2022-01-01 03:20:48 and last record is from 2022-12-30 23:59:46\n",
      "Message (data loader): Performing EDA, saving plots at output/remove-100-30-1\n",
      "Message (filter moving): Marked 39136 data points as moving.\n",
      "Message (clustering): Clustering 111685 data points with DBSCAN, with eps = 0.01, min_samples = 200. \n",
      "Message (clustering): Start clustering...\n",
      "Message (clustering): Clustering took 23.155152320861816 seconds.\n",
      "Message (OSM): Adding OSM location data to 18 clusters.\n",
      "Message (post filter mean std ratio): Deleted 1 clusters (with labels: ['9'])\n",
      "Message (clustering): Final number of clusters: 17.\n"
     ]
    }
   ],
   "source": [
    "df, _ = DL.load_data(\n",
    "    data_source,\n",
    "    begin_date,\n",
    "    end_date,\n",
    "    fraction,\n",
    "    hours_offset,\n",
    "    outputs_folder_name=outputs_folder_name,\n",
    "    verbose=True,\n",
    "    perform_eda=True\n",
    ")\n",
    "\n",
    "# Step 2. Run clustering\n",
    "# First, make an instance of the Cluster class and define its settings.\n",
    "c = Cluster(\n",
    "    df,  # Input dataset (with latitude, longitude, timestamp columns)\n",
    "    outputs_folder_name=outputs_folder_name, \n",
    "    verbose=True,  # Do we want to see print statements?\n",
    "    pre_filter=True,  # Apply filters to the data before the clustering (such as removing moving points)\n",
    "    post_filter=True,  # Apply filters to the data/clusters after the clustering (such as deleting homogeneous clusters)\n",
    "    filter_moving=True,  # Do we want to delete the data points where the subject was moving?\n",
    "    centroid_k=10,  # Number of nearest neighbors to consider for density calculation (for cluster centroids)\n",
    "    min_unique_days=1,  # If post_filter = True, then delete all clusters that have been visited on less than min_unique_days days.\n",
    ")\n",
    "\n",
    "# Then we run the clustering and visualisation\n",
    "df = (\n",
    "    c.run_clustering(\n",
    "        min_samples=200,  # The number of samples in a neighborhood for a point to be considered as a core point\n",
    "        eps=0.01,  # The maximum distance between two samples for one to be considered as in the neighborhood of the other. 0.01 = 10m\n",
    "        algorithm=\"dbscan\",  # Choose either 'dbscan' or 'hdbscan'. If 'hdbscan', only min_samples is required.\n",
    "        # min_cluster_size=50,  # Param of HDBSCAN: the minimum size a final cluster can be. The higher this is, the bigger your clusters will be\n",
    "    )\n",
    "    .add_locations_to_original_dataframe(\n",
    "        export_xlsx=False,  # Export the dataframe to excel file? Useful for analyzing.\n",
    "        name=\"test\",\n",
    "    )\n",
    "    .plot_clusters(\n",
    "        filter_noise=False,  # Remove the -1 labels (i.e., noise) before plotting the clusters\n",
    "    )\n",
    "    \n",
    "    .df  # These functions return 'self' so we can chain them and easily access the df attribute (for input to further modeling/visualization).\n",
    ")\n"
   ]
  },
  {
   "cell_type": "code",
   "execution_count": 5,
   "id": "8bd9e39f",
   "metadata": {},
   "outputs": [
    {
     "data": {
      "text/html": [
       "<div>\n",
       "<style scoped>\n",
       "    .dataframe tbody tr th:only-of-type {\n",
       "        vertical-align: middle;\n",
       "    }\n",
       "\n",
       "    .dataframe tbody tr th {\n",
       "        vertical-align: top;\n",
       "    }\n",
       "\n",
       "    .dataframe thead th {\n",
       "        text-align: right;\n",
       "    }\n",
       "</style>\n",
       "<table border=\"1\" class=\"dataframe\">\n",
       "  <thead>\n",
       "    <tr style=\"text-align: right;\">\n",
       "      <th></th>\n",
       "      <th>timestamp</th>\n",
       "      <th>latitude</th>\n",
       "      <th>longitude</th>\n",
       "      <th>source</th>\n",
       "      <th>moving</th>\n",
       "      <th>cluster</th>\n",
       "      <th>location</th>\n",
       "      <th>id</th>\n",
       "    </tr>\n",
       "  </thead>\n",
       "  <tbody>\n",
       "    <tr>\n",
       "      <th>0</th>\n",
       "      <td>2022-01-01 03:32:03.461</td>\n",
       "      <td>51.726189</td>\n",
       "      <td>5.307098</td>\n",
       "      <td>WIFI</td>\n",
       "      <td>False</td>\n",
       "      <td>0</td>\n",
       "      <td>Maaspoortweg, 305</td>\n",
       "      <td>0</td>\n",
       "    </tr>\n",
       "    <tr>\n",
       "      <th>1</th>\n",
       "      <td>2022-01-01 04:08:10.808</td>\n",
       "      <td>51.726189</td>\n",
       "      <td>5.307098</td>\n",
       "      <td>WIFI</td>\n",
       "      <td>False</td>\n",
       "      <td>0</td>\n",
       "      <td>Maaspoortweg, 305</td>\n",
       "      <td>1</td>\n",
       "    </tr>\n",
       "    <tr>\n",
       "      <th>2</th>\n",
       "      <td>2022-01-01 05:31:45.348</td>\n",
       "      <td>51.726189</td>\n",
       "      <td>5.307098</td>\n",
       "      <td>WIFI</td>\n",
       "      <td>False</td>\n",
       "      <td>0</td>\n",
       "      <td>Maaspoortweg, 305</td>\n",
       "      <td>2</td>\n",
       "    </tr>\n",
       "    <tr>\n",
       "      <th>3</th>\n",
       "      <td>2022-01-01 12:49:51.094</td>\n",
       "      <td>51.726043</td>\n",
       "      <td>5.307154</td>\n",
       "      <td>WIFI</td>\n",
       "      <td>False</td>\n",
       "      <td>0</td>\n",
       "      <td>Maaspoortweg, 305</td>\n",
       "      <td>3</td>\n",
       "    </tr>\n",
       "    <tr>\n",
       "      <th>4</th>\n",
       "      <td>2022-01-01 12:59:56.046</td>\n",
       "      <td>51.726043</td>\n",
       "      <td>5.307154</td>\n",
       "      <td>WIFI</td>\n",
       "      <td>False</td>\n",
       "      <td>0</td>\n",
       "      <td>Maaspoortweg, 305</td>\n",
       "      <td>4</td>\n",
       "    </tr>\n",
       "    <tr>\n",
       "      <th>...</th>\n",
       "      <td>...</td>\n",
       "      <td>...</td>\n",
       "      <td>...</td>\n",
       "      <td>...</td>\n",
       "      <td>...</td>\n",
       "      <td>...</td>\n",
       "      <td>...</td>\n",
       "      <td>...</td>\n",
       "    </tr>\n",
       "    <tr>\n",
       "      <th>48831</th>\n",
       "      <td>2022-12-30 23:53:16.381</td>\n",
       "      <td>51.726057</td>\n",
       "      <td>5.307102</td>\n",
       "      <td>WIFI</td>\n",
       "      <td>False</td>\n",
       "      <td>0</td>\n",
       "      <td>Maaspoortweg, 305</td>\n",
       "      <td>48831</td>\n",
       "    </tr>\n",
       "    <tr>\n",
       "      <th>48832</th>\n",
       "      <td>2022-12-30 23:55:16.442</td>\n",
       "      <td>51.726057</td>\n",
       "      <td>5.307102</td>\n",
       "      <td>WIFI</td>\n",
       "      <td>False</td>\n",
       "      <td>0</td>\n",
       "      <td>Maaspoortweg, 305</td>\n",
       "      <td>48832</td>\n",
       "    </tr>\n",
       "    <tr>\n",
       "      <th>48833</th>\n",
       "      <td>2022-12-30 23:57:16.490</td>\n",
       "      <td>51.726057</td>\n",
       "      <td>5.307102</td>\n",
       "      <td>WIFI</td>\n",
       "      <td>False</td>\n",
       "      <td>0</td>\n",
       "      <td>Maaspoortweg, 305</td>\n",
       "      <td>48833</td>\n",
       "    </tr>\n",
       "    <tr>\n",
       "      <th>48834</th>\n",
       "      <td>2022-12-30 23:57:46.600</td>\n",
       "      <td>51.726057</td>\n",
       "      <td>5.307102</td>\n",
       "      <td>WIFI</td>\n",
       "      <td>False</td>\n",
       "      <td>0</td>\n",
       "      <td>Maaspoortweg, 305</td>\n",
       "      <td>48834</td>\n",
       "    </tr>\n",
       "    <tr>\n",
       "      <th>48835</th>\n",
       "      <td>2022-12-30 23:59:46.690</td>\n",
       "      <td>51.726057</td>\n",
       "      <td>5.307102</td>\n",
       "      <td>WIFI</td>\n",
       "      <td>False</td>\n",
       "      <td>0</td>\n",
       "      <td>Maaspoortweg, 305</td>\n",
       "      <td>48835</td>\n",
       "    </tr>\n",
       "  </tbody>\n",
       "</table>\n",
       "<p>89784 rows × 8 columns</p>\n",
       "</div>"
      ],
      "text/plain": [
       "                    timestamp   latitude  longitude source  moving cluster  \\\n",
       "0     2022-01-01 03:32:03.461  51.726189   5.307098   WIFI   False       0   \n",
       "1     2022-01-01 04:08:10.808  51.726189   5.307098   WIFI   False       0   \n",
       "2     2022-01-01 05:31:45.348  51.726189   5.307098   WIFI   False       0   \n",
       "3     2022-01-01 12:49:51.094  51.726043   5.307154   WIFI   False       0   \n",
       "4     2022-01-01 12:59:56.046  51.726043   5.307154   WIFI   False       0   \n",
       "...                       ...        ...        ...    ...     ...     ...   \n",
       "48831 2022-12-30 23:53:16.381  51.726057   5.307102   WIFI   False       0   \n",
       "48832 2022-12-30 23:55:16.442  51.726057   5.307102   WIFI   False       0   \n",
       "48833 2022-12-30 23:57:16.490  51.726057   5.307102   WIFI   False       0   \n",
       "48834 2022-12-30 23:57:46.600  51.726057   5.307102   WIFI   False       0   \n",
       "48835 2022-12-30 23:59:46.690  51.726057   5.307102   WIFI   False       0   \n",
       "\n",
       "                 location     id  \n",
       "0       Maaspoortweg, 305      0  \n",
       "1       Maaspoortweg, 305      1  \n",
       "2       Maaspoortweg, 305      2  \n",
       "3       Maaspoortweg, 305      3  \n",
       "4       Maaspoortweg, 305      4  \n",
       "...                   ...    ...  \n",
       "48831   Maaspoortweg, 305  48831  \n",
       "48832   Maaspoortweg, 305  48832  \n",
       "48833   Maaspoortweg, 305  48833  \n",
       "48834   Maaspoortweg, 305  48834  \n",
       "48835   Maaspoortweg, 305  48835  \n",
       "\n",
       "[89784 rows x 8 columns]"
      ]
     },
     "execution_count": 5,
     "metadata": {},
     "output_type": "execute_result"
    }
   ],
   "source": [
    "c.df"
   ]
  },
  {
   "cell_type": "code",
   "execution_count": 12,
   "id": "c3936c9e",
   "metadata": {},
   "outputs": [
    {
     "data": {
      "text/plain": [
       "51.726097656501345"
      ]
     },
     "execution_count": 12,
     "metadata": {},
     "output_type": "execute_result"
    }
   ],
   "source": [
    "c.df_centroids.loc[0].latitude\n"
   ]
  },
  {
   "cell_type": "code",
   "execution_count": null,
   "id": "937781ee",
   "metadata": {},
   "outputs": [],
   "source": [
    "c.df_centroids.loc[len(c.df_centroids)] = [0, 0, -1, 10, \"black\", \"noise\", 0, 0, 0]"
   ]
  },
  {
   "cell_type": "code",
   "execution_count": 10,
   "id": "3c71b056",
   "metadata": {},
   "outputs": [
    {
     "data": {
      "text/plain": [
       "array(['WIFI', 'GPS', 'UNKNOWN', 'CELL'], dtype=object)"
      ]
     },
     "execution_count": 10,
     "metadata": {},
     "output_type": "execute_result"
    }
   ],
   "source": [
    "c.df.source.unique()"
   ]
  },
  {
   "cell_type": "code",
   "execution_count": null,
   "id": "b5eed0b7",
   "metadata": {},
   "outputs": [],
   "source": []
  }
 ],
 "metadata": {
  "kernelspec": {
   "display_name": "Python 3 (ipykernel)",
   "language": "python",
   "name": "python3"
  },
  "language_info": {
   "codemirror_mode": {
    "name": "ipython",
    "version": 3
   },
   "file_extension": ".py",
   "mimetype": "text/x-python",
   "name": "python",
   "nbconvert_exporter": "python",
   "pygments_lexer": "ipython3",
   "version": "3.11.4"
  }
 },
 "nbformat": 4,
 "nbformat_minor": 5
}
