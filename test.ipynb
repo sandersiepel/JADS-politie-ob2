{
 "cells": [
  {
   "cell_type": "code",
   "execution_count": null,
   "id": "be0c0a44-81e2-4811-8955-1c081cf60bc0",
   "metadata": {},
   "outputs": [],
   "source": [
    "import pandas as pd\n",
    "import datetime\n",
    "from sklearn import preprocessing\n",
    "from sklearn.ensemble import RandomForestClassifier\n",
    "from sklearn.metrics import accuracy_score, classification_report\n",
    "from collections import Counter\n",
    "import pandas as pd\n",
    "from sklearn.preprocessing import LabelEncoder as le\n",
    "from collections import defaultdict\n"
   ]
  },
  {
   "cell_type": "code",
   "execution_count": null,
   "id": "3c12224e-f773-444b-9f6f-1503b4da7ce1",
   "metadata": {},
   "outputs": [],
   "source": [
    "df_raw = pd.read_excel(\"output/keep-sander2017-100-30-1/resampled_df_10_min.xlsx\", index_col=[0])"
   ]
  },
  {
   "cell_type": "code",
   "execution_count": null,
   "id": "2117e60a",
   "metadata": {},
   "outputs": [],
   "source": [
    "start_date = pd.to_datetime(f\"2017-01-01 00:00:00\")\n",
    "end_date = pd.to_datetime(f\"2017-05-01 23:50:00\")\n",
    "training_window_size = 7\n",
    "horizon_size = 7\n",
    "model_features = [\"day\", \"weekday\", \"hour\", \"window_block\"] # Day = day of the month (0-31), hour = hour of the day (0-24), weekday = day in the week (0-7), window_block = window block in the hour (0-5)\n",
    "\n",
    "baseline_performance = defaultdict(dict)"
   ]
  },
  {
   "cell_type": "code",
   "execution_count": null,
   "id": "c8e35ace",
   "metadata": {},
   "outputs": [],
   "source": [
    "df = df_raw[df_raw[\"timestamp\"].between(start_date, end_date)].copy()\n",
    "\n",
    "label_encoder = le()\n",
    "df.location = label_encoder.fit_transform(df.location)"
   ]
  },
  {
   "cell_type": "code",
   "execution_count": null,
   "id": "d82c26be",
   "metadata": {},
   "outputs": [],
   "source": [
    "df[\"day\"] = df[\"timestamp\"].dt.day\n",
    "df[\"weekday\"] = df[\"timestamp\"].dt.dayofweek\n",
    "df[\"hour\"] = df[\"timestamp\"].dt.hour\n",
    "df[\"window_block\"] = ((df['timestamp'].dt.minute * 60 + df['timestamp'].dt.second) // 600).astype(int)\n"
   ]
  },
  {
   "cell_type": "code",
   "execution_count": null,
   "id": "12d02f6a",
   "metadata": {},
   "outputs": [],
   "source": [
    "df.head(10)"
   ]
  },
  {
   "cell_type": "code",
   "execution_count": null,
   "id": "02ab3575",
   "metadata": {},
   "outputs": [],
   "source": [
    "train_start_date = start_date\n",
    "train_end_date = train_start_date + pd.Timedelta(days=training_window_size-1, hours=23, minutes=50)\n",
    "test_start_date = train_end_date + pd.Timedelta(minutes=10)\n",
    "test_end_date = test_start_date + pd.Timedelta(days=horizon_size-1, hours=23, minutes=50)\n",
    "\n",
    "train_mask = df[\"time\"].between(train_start_date, train_end_date)\n",
    "test_mask = df[\"time\"].between(test_start_date, test_end_date)\n",
    "\n",
    "# Split the data into train and test sets\n",
    "X_train = df.loc[train_mask, model_features]\n",
    "y_train = df.loc[train_mask, \"location\"]\n",
    "X_test = df.loc[test_mask, model_features]\n",
    "y_test = df.loc[test_mask, \"location\"]\n",
    "\n",
    "print(f\"Training: {train_start_date}-{train_end_date}, testing: {test_start_date}-{test_end_date}.\")"
   ]
  },
  {
   "cell_type": "code",
   "execution_count": null,
   "id": "49621fff",
   "metadata": {},
   "outputs": [],
   "source": [
    "training_data = df.loc[train_mask]\n",
    "testing_data = df.loc[test_mask]\n",
    "most_common_locations = training_data.groupby(model_features)['location'].apply(lambda x: x.value_counts().idxmax()).reset_index()"
   ]
  },
  {
   "cell_type": "code",
   "execution_count": null,
   "id": "25e164db",
   "metadata": {},
   "outputs": [],
   "source": [
    "result_df = testing_data.merge(most_common_locations, how=\"left\", left_on=model_features, right_on=model_features)\n",
    "\n",
    "features_to_use = model_features[1:]\n",
    "while result_df['location_y'].isna().sum() > 0:\n",
    "    print('nan > 0, now trying with features: ', features_to_use)\n",
    "    most_common_locations = training_data[[\"location\"] + features_to_use].groupby(features_to_use)['location'].apply(lambda x: x.value_counts().idxmax()).reset_index()\n",
    "    result_df = testing_data.merge(most_common_locations, how=\"left\", left_on=features_to_use, right_on=features_to_use)\n",
    "    features_to_use = features_to_use[1:]  # Remove the first element to exclude it from the next merge\n",
    "\n",
    "predictions = result_df.location_y.values.tolist()\n",
    "\n"
   ]
  },
  {
   "cell_type": "code",
   "execution_count": null,
   "id": "f24de744",
   "metadata": {},
   "outputs": [],
   "source": [
    "for d in range(horizon_size):\n",
    "    # Then, evaluate the baseline's predictions and store acc in self.baseline_performance\n",
    "    this_day_predictions = predictions[d*144:(d+1)*144]\n",
    "    this_day_actual_values = y_test[d*144:(d+1)*144]\n",
    "    acc = accuracy_score(this_day_actual_values, this_day_predictions)\n",
    "    print(f\"Acc of baseline: {acc}\")"
   ]
  },
  {
   "cell_type": "code",
   "execution_count": null,
   "id": "b1eda62d",
   "metadata": {},
   "outputs": [],
   "source": []
  },
  {
   "cell_type": "code",
   "execution_count": null,
   "id": "800f00a0",
   "metadata": {},
   "outputs": [],
   "source": []
  },
  {
   "cell_type": "code",
   "execution_count": null,
   "id": "718521f0",
   "metadata": {},
   "outputs": [],
   "source": [
    "import DataLoader as DL\n",
    "from Cluster import Cluster\n",
    "\n",
    "# Initialize parameters.\n",
    "data_source = \"google_maps\"  # Can be either 'google_maps' or 'routined'.\n",
    "# hours_offset is used to offset the timestamps to account for timezone differences. For google maps, timestamp comes in GMT+0\n",
    "# which means that we need to offset it by 2 hours to make it GMT+2 (Dutch timezone). Value must be INT!\n",
    "hours_offset = 2 # Should be 0 for routined and 2 for google_maps. \n",
    "# begin_date and end_date are used to filter the data for your analysis.\n",
    "begin_date = \"2022-01-01\"\n",
    "end_date = \"2022-12-30\"  # End date is INclusive! \n",
    "# FRACTION is used to make the DataFrame smaller. Final df = df * fraction. This solves memory issues, but a value of 1 is preferred.\n",
    "fraction = 1\n",
    "# For the heatmap visualization we specify a separate begin_date and end_date (must be between begin_date and end_date).\n",
    "# For readiness purposes, it it suggested to select between 2 and 14 days.\n",
    "heatmap_begin_date = \"2023-01-20\"\n",
    "heatmap_end_date = \"2023-05-28\"  # End date is INclusive! Choose a date that lies (preferably 2 days) before end_date to avoid errors. \n",
    "# For the model performance class we need to specify the number of training days (range) and testing horizon (also in days)\n",
    "training_window_size = 100\n",
    "horizon_size = 30\n",
    "window_step_size = 1\n",
    "outputs_folder_name = f\"remove-{training_window_size}-{horizon_size}-{window_step_size}\" # All of the outputs will be placed in output/outputs_folder_name"
   ]
  },
  {
   "cell_type": "code",
   "execution_count": null,
   "id": "fa2c749a",
   "metadata": {},
   "outputs": [],
   "source": [
    "df, _ = DL.load_data(\n",
    "    data_source,\n",
    "    begin_date,\n",
    "    end_date,\n",
    "    fraction,\n",
    "    hours_offset,\n",
    "    outputs_folder_name=outputs_folder_name,\n",
    "    verbose=True,\n",
    "    perform_eda=True\n",
    ")\n",
    "\n",
    "# Step 2. Run clustering\n",
    "# First, make an instance of the Cluster class and define its settings.\n",
    "c = Cluster(\n",
    "    df,  # Input dataset (with latitude, longitude, timestamp columns)\n",
    "    outputs_folder_name=outputs_folder_name, \n",
    "    verbose=True,  # Do we want to see print statements?\n",
    "    pre_filter=True,  # Apply filters to the data before the clustering (such as removing moving points)\n",
    "    post_filter=True,  # Apply filters to the data/clusters after the clustering (such as deleting homogeneous clusters)\n",
    "    filter_moving=True,  # Do we want to delete the data points where the subject was moving?\n",
    "    centroid_k=10,  # Number of nearest neighbors to consider for density calculation (for cluster centroids)\n",
    "    min_unique_days=1,  # If post_filter = True, then delete all clusters that have been visited on less than min_unique_days days.\n",
    ")\n",
    "\n",
    "# Then we run the clustering and visualisation\n",
    "df = (\n",
    "    c.run_clustering(\n",
    "        min_samples=200,  # The number of samples in a neighborhood for a point to be considered as a core point\n",
    "        eps=0.01,  # The maximum distance between two samples for one to be considered as in the neighborhood of the other. 0.01 = 10m\n",
    "        algorithm=\"dbscan\",  # Choose either 'dbscan' or 'hdbscan'. If 'hdbscan', only min_samples is required.\n",
    "        # min_cluster_size=50,  # Param of HDBSCAN: the minimum size a final cluster can be. The higher this is, the bigger your clusters will be\n",
    "    )\n",
    "    .add_locations_to_original_dataframe(\n",
    "        export_xlsx=False,  # Export the dataframe to excel file? Useful for analyzing.\n",
    "        name=\"test\",\n",
    "    )\n",
    "    .plot_clusters(\n",
    "        filter_noise=False,  # Remove the -1 labels (i.e., noise) before plotting the clusters\n",
    "    )\n",
    "    \n",
    "    .df  # These functions return 'self' so we can chain them and easily access the df attribute (for input to further modeling/visualization).\n",
    ")\n"
   ]
  },
  {
   "cell_type": "code",
   "execution_count": null,
   "id": "8bd9e39f",
   "metadata": {},
   "outputs": [],
   "source": [
    "c.df"
   ]
  },
  {
   "cell_type": "code",
   "execution_count": null,
   "id": "c3936c9e",
   "metadata": {},
   "outputs": [],
   "source": [
    "c.df_centroids.loc[0].latitude\n"
   ]
  },
  {
   "cell_type": "code",
   "execution_count": null,
   "id": "937781ee",
   "metadata": {},
   "outputs": [],
   "source": [
    "c.df_centroids.loc[len(c.df_centroids)] = [0, 0, -1, 10, \"black\", \"noise\", 0, 0, 0]"
   ]
  },
  {
   "cell_type": "code",
   "execution_count": null,
   "id": "3c71b056",
   "metadata": {},
   "outputs": [],
   "source": [
    "c.df.source.unique()"
   ]
  },
  {
   "cell_type": "code",
   "execution_count": null,
   "id": "803b72fb",
   "metadata": {},
   "outputs": [],
   "source": []
  },
  {
   "cell_type": "code",
   "execution_count": null,
   "id": "ebfc0e22",
   "metadata": {},
   "outputs": [],
   "source": []
  },
  {
   "cell_type": "code",
   "execution_count": null,
   "id": "35702ac3",
   "metadata": {},
   "outputs": [],
   "source": []
  },
  {
   "cell_type": "markdown",
   "id": "8637e966",
   "metadata": {},
   "source": [
    "## Percentage of window blocks that we have seen before, per day"
   ]
  },
  {
   "cell_type": "code",
   "execution_count": 1,
   "id": "1e37831b",
   "metadata": {},
   "outputs": [],
   "source": [
    "import pandas as pd\n",
    "\n",
    "df = pd.read_excel(\"output/martijn-100-30-1/resampled_df_10_min.xlsx\", index_col=[0])\n",
    "\n",
    "df[\"day\"] = df[\"timestamp\"].dt.day\n",
    "df[\"weekday\"] = df[\"timestamp\"].dt.dayofweek\n",
    "df[\"hour\"] = df[\"timestamp\"].dt.hour\n",
    "df[\"window_block\"] = ((df['timestamp'].dt.minute * 60 + df['timestamp'].dt.second) // 600).astype(int)"
   ]
  },
  {
   "cell_type": "code",
   "execution_count": 2,
   "id": "b5eed0b7",
   "metadata": {},
   "outputs": [
    {
     "data": {
      "text/html": [
       "<div>\n",
       "<style scoped>\n",
       "    .dataframe tbody tr th:only-of-type {\n",
       "        vertical-align: middle;\n",
       "    }\n",
       "\n",
       "    .dataframe tbody tr th {\n",
       "        vertical-align: top;\n",
       "    }\n",
       "\n",
       "    .dataframe thead th {\n",
       "        text-align: right;\n",
       "    }\n",
       "</style>\n",
       "<table border=\"1\" class=\"dataframe\">\n",
       "  <thead>\n",
       "    <tr style=\"text-align: right;\">\n",
       "      <th></th>\n",
       "      <th>timestamp</th>\n",
       "      <th>location</th>\n",
       "      <th>day</th>\n",
       "      <th>weekday</th>\n",
       "      <th>hour</th>\n",
       "      <th>window_block</th>\n",
       "    </tr>\n",
       "  </thead>\n",
       "  <tbody>\n",
       "    <tr>\n",
       "      <th>1</th>\n",
       "      <td>2020-05-01 00:10:00</td>\n",
       "      <td>39,  Florijn</td>\n",
       "      <td>1</td>\n",
       "      <td>4</td>\n",
       "      <td>0</td>\n",
       "      <td>1</td>\n",
       "    </tr>\n",
       "    <tr>\n",
       "      <th>2</th>\n",
       "      <td>2020-05-01 00:20:00</td>\n",
       "      <td>39,  Florijn</td>\n",
       "      <td>1</td>\n",
       "      <td>4</td>\n",
       "      <td>0</td>\n",
       "      <td>2</td>\n",
       "    </tr>\n",
       "    <tr>\n",
       "      <th>3</th>\n",
       "      <td>2020-05-01 00:30:00</td>\n",
       "      <td>39,  Florijn</td>\n",
       "      <td>1</td>\n",
       "      <td>4</td>\n",
       "      <td>0</td>\n",
       "      <td>3</td>\n",
       "    </tr>\n",
       "    <tr>\n",
       "      <th>4</th>\n",
       "      <td>2020-05-01 00:40:00</td>\n",
       "      <td>39,  Florijn</td>\n",
       "      <td>1</td>\n",
       "      <td>4</td>\n",
       "      <td>0</td>\n",
       "      <td>4</td>\n",
       "    </tr>\n",
       "    <tr>\n",
       "      <th>5</th>\n",
       "      <td>2020-05-01 00:50:00</td>\n",
       "      <td>39,  Florijn</td>\n",
       "      <td>1</td>\n",
       "      <td>4</td>\n",
       "      <td>0</td>\n",
       "      <td>5</td>\n",
       "    </tr>\n",
       "    <tr>\n",
       "      <th>...</th>\n",
       "      <td>...</td>\n",
       "      <td>...</td>\n",
       "      <td>...</td>\n",
       "      <td>...</td>\n",
       "      <td>...</td>\n",
       "      <td>...</td>\n",
       "    </tr>\n",
       "    <tr>\n",
       "      <th>65947</th>\n",
       "      <td>2021-08-01 23:10:00</td>\n",
       "      <td>39,  Florijn</td>\n",
       "      <td>1</td>\n",
       "      <td>6</td>\n",
       "      <td>23</td>\n",
       "      <td>1</td>\n",
       "    </tr>\n",
       "    <tr>\n",
       "      <th>65948</th>\n",
       "      <td>2021-08-01 23:20:00</td>\n",
       "      <td>39,  Florijn</td>\n",
       "      <td>1</td>\n",
       "      <td>6</td>\n",
       "      <td>23</td>\n",
       "      <td>2</td>\n",
       "    </tr>\n",
       "    <tr>\n",
       "      <th>65949</th>\n",
       "      <td>2021-08-01 23:30:00</td>\n",
       "      <td>39,  Florijn</td>\n",
       "      <td>1</td>\n",
       "      <td>6</td>\n",
       "      <td>23</td>\n",
       "      <td>3</td>\n",
       "    </tr>\n",
       "    <tr>\n",
       "      <th>65950</th>\n",
       "      <td>2021-08-01 23:40:00</td>\n",
       "      <td>39,  Florijn</td>\n",
       "      <td>1</td>\n",
       "      <td>6</td>\n",
       "      <td>23</td>\n",
       "      <td>4</td>\n",
       "    </tr>\n",
       "    <tr>\n",
       "      <th>65951</th>\n",
       "      <td>2021-08-01 23:50:00</td>\n",
       "      <td>39,  Florijn</td>\n",
       "      <td>1</td>\n",
       "      <td>6</td>\n",
       "      <td>23</td>\n",
       "      <td>5</td>\n",
       "    </tr>\n",
       "  </tbody>\n",
       "</table>\n",
       "<p>65951 rows × 6 columns</p>\n",
       "</div>"
      ],
      "text/plain": [
       "                timestamp       location  day  weekday  hour  window_block\n",
       "1     2020-05-01 00:10:00   39,  Florijn    1        4     0             1\n",
       "2     2020-05-01 00:20:00   39,  Florijn    1        4     0             2\n",
       "3     2020-05-01 00:30:00   39,  Florijn    1        4     0             3\n",
       "4     2020-05-01 00:40:00   39,  Florijn    1        4     0             4\n",
       "5     2020-05-01 00:50:00   39,  Florijn    1        4     0             5\n",
       "...                   ...            ...  ...      ...   ...           ...\n",
       "65947 2021-08-01 23:10:00   39,  Florijn    1        6    23             1\n",
       "65948 2021-08-01 23:20:00   39,  Florijn    1        6    23             2\n",
       "65949 2021-08-01 23:30:00   39,  Florijn    1        6    23             3\n",
       "65950 2021-08-01 23:40:00   39,  Florijn    1        6    23             4\n",
       "65951 2021-08-01 23:50:00   39,  Florijn    1        6    23             5\n",
       "\n",
       "[65951 rows x 6 columns]"
      ]
     },
     "execution_count": 2,
     "metadata": {},
     "output_type": "execute_result"
    }
   ],
   "source": [
    "df"
   ]
  },
  {
   "cell_type": "code",
   "execution_count": 3,
   "id": "4b247c4e",
   "metadata": {},
   "outputs": [],
   "source": [
    "final_results = {} # Dict with keys (dates) and values (scores)\n",
    "lookup = {} # Dict with the feature & target variable combinations\n",
    "current_date = df.head(1).timestamp.dt.date.values[0]\n",
    "this_day_values = []\n",
    "\n",
    "for index, row in df.iterrows():\n",
    "    combi = (row['location'], row['weekday'], row['hour'], row['window_block'])\n",
    "    # print(f\"Data: {combi}, curr date: {current_date}, this day values: {this_day_values}\")\n",
    "\n",
    "    if row['timestamp'].date() == current_date:\n",
    "        if combi in lookup:\n",
    "            this_day_values.append(1)\n",
    "        else:\n",
    "            this_day_values.append(0)\n",
    "\n",
    "    else:\n",
    "        # We need to calculate the final scores for last day, since the new day has started. \n",
    "        ones = this_day_values.count(1)\n",
    "        zeros = this_day_values.count(0)\n",
    "\n",
    "        try:\n",
    "            ratio = ones/(ones + zeros)\n",
    "        except ZeroDivisionError:\n",
    "            ratio = 0\n",
    "        # print(f\"Day {current_date} has ended, ones: {ones}, zeros: {zeros}, ratio: {ratio}\")\n",
    "        final_results[current_date] = ratio\n",
    "\n",
    "        current_date = row['timestamp'].date()\n",
    "        this_day_values = []\n",
    "\n",
    "        if combi in lookup:\n",
    "            this_day_values.append(1)\n",
    "        else:\n",
    "            this_day_values.append(0)\n",
    "\n",
    "    if not combi in lookup:\n",
    "        lookup[combi] = 1\n",
    "    else:\n",
    "        lookup[combi] += 1\n",
    "\n",
    "    "
   ]
  },
  {
   "cell_type": "code",
   "execution_count": 4,
   "id": "63780386",
   "metadata": {},
   "outputs": [],
   "source": [
    "x,y = zip(*sorted(final_results.items()))\n",
    "df_plot = pd.DataFrame({\"Time\":x, \"Percentage of day seen before\":y})"
   ]
  },
  {
   "cell_type": "code",
   "execution_count": 5,
   "id": "60846a60",
   "metadata": {},
   "outputs": [
    {
     "data": {
      "text/html": [
       "<div>\n",
       "<style scoped>\n",
       "    .dataframe tbody tr th:only-of-type {\n",
       "        vertical-align: middle;\n",
       "    }\n",
       "\n",
       "    .dataframe tbody tr th {\n",
       "        vertical-align: top;\n",
       "    }\n",
       "\n",
       "    .dataframe thead th {\n",
       "        text-align: right;\n",
       "    }\n",
       "</style>\n",
       "<table border=\"1\" class=\"dataframe\">\n",
       "  <thead>\n",
       "    <tr style=\"text-align: right;\">\n",
       "      <th></th>\n",
       "      <th>Time</th>\n",
       "      <th>Percentage of day seen before</th>\n",
       "    </tr>\n",
       "  </thead>\n",
       "  <tbody>\n",
       "    <tr>\n",
       "      <th>0</th>\n",
       "      <td>2020-05-01</td>\n",
       "      <td>0.000000</td>\n",
       "    </tr>\n",
       "    <tr>\n",
       "      <th>1</th>\n",
       "      <td>2020-05-02</td>\n",
       "      <td>0.000000</td>\n",
       "    </tr>\n",
       "    <tr>\n",
       "      <th>2</th>\n",
       "      <td>2020-05-03</td>\n",
       "      <td>0.000000</td>\n",
       "    </tr>\n",
       "    <tr>\n",
       "      <th>3</th>\n",
       "      <td>2020-05-04</td>\n",
       "      <td>0.000000</td>\n",
       "    </tr>\n",
       "    <tr>\n",
       "      <th>4</th>\n",
       "      <td>2020-05-05</td>\n",
       "      <td>0.000000</td>\n",
       "    </tr>\n",
       "    <tr>\n",
       "      <th>...</th>\n",
       "      <td>...</td>\n",
       "      <td>...</td>\n",
       "    </tr>\n",
       "    <tr>\n",
       "      <th>452</th>\n",
       "      <td>2021-07-27</td>\n",
       "      <td>1.000000</td>\n",
       "    </tr>\n",
       "    <tr>\n",
       "      <th>453</th>\n",
       "      <td>2021-07-28</td>\n",
       "      <td>1.000000</td>\n",
       "    </tr>\n",
       "    <tr>\n",
       "      <th>454</th>\n",
       "      <td>2021-07-29</td>\n",
       "      <td>1.000000</td>\n",
       "    </tr>\n",
       "    <tr>\n",
       "      <th>455</th>\n",
       "      <td>2021-07-30</td>\n",
       "      <td>1.000000</td>\n",
       "    </tr>\n",
       "    <tr>\n",
       "      <th>456</th>\n",
       "      <td>2021-07-31</td>\n",
       "      <td>0.951389</td>\n",
       "    </tr>\n",
       "  </tbody>\n",
       "</table>\n",
       "<p>457 rows × 2 columns</p>\n",
       "</div>"
      ],
      "text/plain": [
       "           Time  Percentage of day seen before\n",
       "0    2020-05-01                       0.000000\n",
       "1    2020-05-02                       0.000000\n",
       "2    2020-05-03                       0.000000\n",
       "3    2020-05-04                       0.000000\n",
       "4    2020-05-05                       0.000000\n",
       "..          ...                            ...\n",
       "452  2021-07-27                       1.000000\n",
       "453  2021-07-28                       1.000000\n",
       "454  2021-07-29                       1.000000\n",
       "455  2021-07-30                       1.000000\n",
       "456  2021-07-31                       0.951389\n",
       "\n",
       "[457 rows x 2 columns]"
      ]
     },
     "execution_count": 5,
     "metadata": {},
     "output_type": "execute_result"
    }
   ],
   "source": [
    "df_plot\n"
   ]
  },
  {
   "cell_type": "code",
   "execution_count": 6,
   "id": "0adaed64",
   "metadata": {},
   "outputs": [
    {
     "data": {
      "application/vnd.plotly.v1+json": {
       "config": {
        "plotlyServerURL": "https://plot.ly"
       },
       "data": [
        {
         "name": "Savitzky-Golay",
         "type": "scatter",
         "x": [
          "2020-05-01",
          "2020-05-02",
          "2020-05-03",
          "2020-05-04",
          "2020-05-05",
          "2020-05-06",
          "2020-05-07",
          "2020-05-08",
          "2020-05-09",
          "2020-05-10",
          "2020-05-11",
          "2020-05-12",
          "2020-05-13",
          "2020-05-14",
          "2020-05-15",
          "2020-05-16",
          "2020-05-17",
          "2020-05-18",
          "2020-05-19",
          "2020-05-20",
          "2020-05-21",
          "2020-05-22",
          "2020-05-23",
          "2020-05-24",
          "2020-05-25",
          "2020-05-26",
          "2020-05-27",
          "2020-05-28",
          "2020-05-29",
          "2020-05-30",
          "2020-05-31",
          "2020-06-01",
          "2020-06-02",
          "2020-06-03",
          "2020-06-04",
          "2020-06-05",
          "2020-06-06",
          "2020-06-07",
          "2020-06-08",
          "2020-06-09",
          "2020-06-10",
          "2020-06-11",
          "2020-06-12",
          "2020-06-13",
          "2020-06-14",
          "2020-06-15",
          "2020-06-16",
          "2020-06-17",
          "2020-06-18",
          "2020-06-19",
          "2020-06-20",
          "2020-06-21",
          "2020-06-22",
          "2020-06-23",
          "2020-06-24",
          "2020-06-25",
          "2020-06-26",
          "2020-06-27",
          "2020-06-28",
          "2020-06-29",
          "2020-06-30",
          "2020-07-01",
          "2020-07-02",
          "2020-07-03",
          "2020-07-04",
          "2020-07-05",
          "2020-07-06",
          "2020-07-07",
          "2020-07-08",
          "2020-07-09",
          "2020-07-10",
          "2020-07-11",
          "2020-07-12",
          "2020-07-13",
          "2020-07-14",
          "2020-07-15",
          "2020-07-16",
          "2020-07-17",
          "2020-07-18",
          "2020-07-19",
          "2020-07-20",
          "2020-07-21",
          "2020-07-22",
          "2020-07-23",
          "2020-07-24",
          "2020-07-25",
          "2020-07-26",
          "2020-07-27",
          "2020-07-28",
          "2020-07-29",
          "2020-07-30",
          "2020-07-31",
          "2020-08-01",
          "2020-08-02",
          "2020-08-03",
          "2020-08-04",
          "2020-08-05",
          "2020-08-06",
          "2020-08-07",
          "2020-08-08",
          "2020-08-09",
          "2020-08-10",
          "2020-08-11",
          "2020-08-12",
          "2020-08-13",
          "2020-08-14",
          "2020-08-15",
          "2020-08-16",
          "2020-08-17",
          "2020-08-18",
          "2020-08-19",
          "2020-08-20",
          "2020-08-21",
          "2020-08-22",
          "2020-08-23",
          "2020-08-24",
          "2020-08-25",
          "2020-08-26",
          "2020-08-27",
          "2020-08-28",
          "2020-08-29",
          "2020-08-30",
          "2020-08-31",
          "2020-09-01",
          "2020-09-02",
          "2020-09-03",
          "2020-09-04",
          "2020-09-05",
          "2020-09-06",
          "2020-09-07",
          "2020-09-08",
          "2020-09-09",
          "2020-09-10",
          "2020-09-11",
          "2020-09-12",
          "2020-09-13",
          "2020-09-14",
          "2020-09-15",
          "2020-09-16",
          "2020-09-17",
          "2020-09-18",
          "2020-09-19",
          "2020-09-20",
          "2020-09-21",
          "2020-09-22",
          "2020-09-23",
          "2020-09-24",
          "2020-09-25",
          "2020-09-26",
          "2020-09-27",
          "2020-09-28",
          "2020-09-29",
          "2020-09-30",
          "2020-10-01",
          "2020-10-02",
          "2020-10-03",
          "2020-10-04",
          "2020-10-05",
          "2020-10-06",
          "2020-10-07",
          "2020-10-08",
          "2020-10-09",
          "2020-10-10",
          "2020-10-11",
          "2020-10-12",
          "2020-10-13",
          "2020-10-14",
          "2020-10-15",
          "2020-10-16",
          "2020-10-17",
          "2020-10-18",
          "2020-10-19",
          "2020-10-20",
          "2020-10-21",
          "2020-10-22",
          "2020-10-23",
          "2020-10-24",
          "2020-10-25",
          "2020-10-26",
          "2020-10-27",
          "2020-10-28",
          "2020-10-29",
          "2020-10-30",
          "2020-10-31",
          "2020-11-01",
          "2020-11-02",
          "2020-11-03",
          "2020-11-04",
          "2020-11-05",
          "2020-11-06",
          "2020-11-07",
          "2020-11-08",
          "2020-11-09",
          "2020-11-10",
          "2020-11-11",
          "2020-11-12",
          "2020-11-13",
          "2020-11-14",
          "2020-11-15",
          "2020-11-16",
          "2020-11-17",
          "2020-11-18",
          "2020-11-19",
          "2020-11-20",
          "2020-11-21",
          "2020-11-22",
          "2020-11-23",
          "2020-11-24",
          "2020-11-25",
          "2020-11-26",
          "2020-11-27",
          "2020-11-28",
          "2020-11-29",
          "2020-11-30",
          "2020-12-01",
          "2020-12-02",
          "2020-12-03",
          "2020-12-04",
          "2020-12-05",
          "2020-12-06",
          "2020-12-07",
          "2020-12-08",
          "2020-12-09",
          "2020-12-10",
          "2020-12-11",
          "2020-12-12",
          "2020-12-13",
          "2020-12-14",
          "2020-12-15",
          "2020-12-16",
          "2020-12-17",
          "2020-12-18",
          "2020-12-19",
          "2020-12-20",
          "2020-12-21",
          "2020-12-22",
          "2020-12-23",
          "2020-12-24",
          "2020-12-25",
          "2020-12-26",
          "2020-12-27",
          "2020-12-28",
          "2020-12-29",
          "2020-12-30",
          "2020-12-31",
          "2021-01-01",
          "2021-01-02",
          "2021-01-03",
          "2021-01-04",
          "2021-01-05",
          "2021-01-06",
          "2021-01-07",
          "2021-01-08",
          "2021-01-09",
          "2021-01-10",
          "2021-01-11",
          "2021-01-12",
          "2021-01-13",
          "2021-01-14",
          "2021-01-15",
          "2021-01-16",
          "2021-01-17",
          "2021-01-18",
          "2021-01-19",
          "2021-01-20",
          "2021-01-21",
          "2021-01-22",
          "2021-01-23",
          "2021-01-24",
          "2021-01-25",
          "2021-01-26",
          "2021-01-27",
          "2021-01-28",
          "2021-01-29",
          "2021-01-30",
          "2021-01-31",
          "2021-02-01",
          "2021-02-02",
          "2021-02-03",
          "2021-02-04",
          "2021-02-05",
          "2021-02-06",
          "2021-02-07",
          "2021-02-08",
          "2021-02-09",
          "2021-02-10",
          "2021-02-11",
          "2021-02-12",
          "2021-02-13",
          "2021-02-14",
          "2021-02-15",
          "2021-02-16",
          "2021-02-17",
          "2021-02-18",
          "2021-02-19",
          "2021-02-20",
          "2021-02-21",
          "2021-02-22",
          "2021-02-23",
          "2021-02-24",
          "2021-02-25",
          "2021-02-26",
          "2021-02-27",
          "2021-02-28",
          "2021-03-01",
          "2021-03-02",
          "2021-03-03",
          "2021-03-04",
          "2021-03-05",
          "2021-03-06",
          "2021-03-07",
          "2021-03-08",
          "2021-03-09",
          "2021-03-10",
          "2021-03-11",
          "2021-03-12",
          "2021-03-13",
          "2021-03-14",
          "2021-03-15",
          "2021-03-16",
          "2021-03-17",
          "2021-03-18",
          "2021-03-19",
          "2021-03-20",
          "2021-03-21",
          "2021-03-22",
          "2021-03-23",
          "2021-03-24",
          "2021-03-25",
          "2021-03-26",
          "2021-03-27",
          "2021-03-28",
          "2021-03-29",
          "2021-03-30",
          "2021-03-31",
          "2021-04-01",
          "2021-04-02",
          "2021-04-03",
          "2021-04-04",
          "2021-04-05",
          "2021-04-06",
          "2021-04-07",
          "2021-04-08",
          "2021-04-09",
          "2021-04-10",
          "2021-04-11",
          "2021-04-12",
          "2021-04-13",
          "2021-04-14",
          "2021-04-15",
          "2021-04-16",
          "2021-04-17",
          "2021-04-18",
          "2021-04-19",
          "2021-04-20",
          "2021-04-21",
          "2021-04-22",
          "2021-04-23",
          "2021-04-24",
          "2021-04-25",
          "2021-04-26",
          "2021-04-27",
          "2021-04-28",
          "2021-04-29",
          "2021-04-30",
          "2021-05-01",
          "2021-05-02",
          "2021-05-03",
          "2021-05-04",
          "2021-05-05",
          "2021-05-06",
          "2021-05-07",
          "2021-05-08",
          "2021-05-09",
          "2021-05-10",
          "2021-05-11",
          "2021-05-12",
          "2021-05-13",
          "2021-05-14",
          "2021-05-15",
          "2021-05-16",
          "2021-05-17",
          "2021-05-18",
          "2021-05-19",
          "2021-05-20",
          "2021-05-21",
          "2021-05-22",
          "2021-05-23",
          "2021-05-24",
          "2021-05-25",
          "2021-05-26",
          "2021-05-27",
          "2021-05-28",
          "2021-05-29",
          "2021-05-30",
          "2021-05-31",
          "2021-06-01",
          "2021-06-02",
          "2021-06-03",
          "2021-06-04",
          "2021-06-05",
          "2021-06-06",
          "2021-06-07",
          "2021-06-08",
          "2021-06-09",
          "2021-06-10",
          "2021-06-11",
          "2021-06-12",
          "2021-06-13",
          "2021-06-14",
          "2021-06-15",
          "2021-06-16",
          "2021-06-17",
          "2021-06-18",
          "2021-06-19",
          "2021-06-20",
          "2021-06-21",
          "2021-06-22",
          "2021-06-23",
          "2021-06-24",
          "2021-06-25",
          "2021-06-26",
          "2021-06-27",
          "2021-06-28",
          "2021-06-29",
          "2021-06-30",
          "2021-07-01",
          "2021-07-02",
          "2021-07-03",
          "2021-07-04",
          "2021-07-05",
          "2021-07-06",
          "2021-07-07",
          "2021-07-08",
          "2021-07-09",
          "2021-07-10",
          "2021-07-11",
          "2021-07-12",
          "2021-07-13",
          "2021-07-14",
          "2021-07-15",
          "2021-07-16",
          "2021-07-17",
          "2021-07-18",
          "2021-07-19",
          "2021-07-20",
          "2021-07-21",
          "2021-07-22",
          "2021-07-23",
          "2021-07-24",
          "2021-07-25",
          "2021-07-26",
          "2021-07-27",
          "2021-07-28",
          "2021-07-29",
          "2021-07-30",
          "2021-07-31"
         ],
         "y": [
          -0.1296442687747038,
          -0.06787361189535127,
          0.008585033070158704,
          0.09694263705065947,
          0.19441017097498436,
          0.2981986057719668,
          0.40551891237044,
          0.5135820616992376,
          0.6195990246871926,
          0.7207807722631387,
          0.8534090909090943,
          0.9293718434343472,
          0.9823705808080848,
          1.0205045244107782,
          1.0264441287878827,
          1.0050531355218895,
          0.9561658249158287,
          0.9646043771043809,
          0.9721538299663339,
          0.9730876473064012,
          0.983030829124583,
          0.9680108375420914,
          0.9733164983165022,
          0.9734585437710476,
          0.9765098905723945,
          0.9831071127946166,
          0.9765835437710477,
          0.9729876893939432,
          0.9659538089225627,
          0.9644807449494986,
          0.9681660353535392,
          0.9630629208754248,
          0.9642466329966369,
          0.9590409301346837,
          0.9609874789562328,
          0.9648542718855257,
          0.9646517255892294,
          0.9650962752525292,
          0.9698574284511823,
          0.9797401094276131,
          0.9853693181818218,
          0.9894070917508456,
          0.9922795664983203,
          1.009090909090913,
          1.035848063973068,
          1.0009627525252565,
          0.9824442340067381,
          0.966206334175088,
          0.9565104166666704,
          0.9446206860269399,
          0.9352272727272763,
          0.9252051767676805,
          0.9183922558922596,
          0.9147885101010136,
          0.914393939393943,
          0.9212331649831688,
          0.9289141414141451,
          0.9336752946127984,
          0.9449889520202056,
          0.9531960227272765,
          0.9673821548821587,
          0.9784564393939432,
          0.9917429503367042,
          0.9964225589225627,
          0.9676110058922597,
          0.9639730639730679,
          0.9676188973064012,
          0.967255892255896,
          0.9613794191919228,
          0.9609848484848521,
          0.9561973905723944,
          0.9582386363636402,
          0.9610006313131351,
          0.9658143939393978,
          0.9803267045454583,
          0.9780908038720578,
          0.9779277146464685,
          0.9836016414141452,
          0.9810474537037076,
          0.980776515151519,
          0.9813394360269398,
          0.9761047979798019,
          0.9732901936026975,
          0.9662405303030339,
          0.9633759469697007,
          0.9637968223905763,
          0.9583096590909129,
          0.9567524200336739,
          0.9584622264309801,
          0.9618292297979837,
          0.966853430134684,
          0.9722038089225628,
          0.9799636994949533,
          0.9925478745791284,
          0.9889783249158286,
          0.9983954124579163,
          0.9987426346801386,
          0.9969355008417548,
          1.0015440867003405,
          1.002272727272731,
          0.9901804503367041,
          0.9881076388888926,
          0.9842408459595997,
          0.9812421085858624,
          0.9791114267676807,
          0.9806660353535391,
          0.979821654040408,
          0.9950152567340106,
          0.9844933712121251,
          0.9762073863636401,
          0.9701573021885561,
          0.9663431186868724,
          0.9671796085858624,
          0.9651173190235728,
          0.962065972222226,
          0.9576231060606099,
          0.9830860690235729,
          0.9661721380471421,
          0.9524147727272765,
          0.937155408249162,
          0.9319575968013505,
          0.9262284301346837,
          0.9223327020202057,
          0.9208596380471415,
          0.9238057659932697,
          0.9265125210437747,
          0.9342750420875457,
          0.9198521675084211,
          0.9247448442760978,
          0.9355324074074111,
          0.9698758417508455,
          0.9678503787878827,
          0.9667245370370408,
          0.9668981481481519,
          0.9742897727272767,
          0.981547243265997,
          0.9493765782828321,
          0.9478772095959632,
          0.9462147516835054,
          0.948555871212125,
          0.9503814183501721,
          0.9484506523569061,
          0.9498737373737411,
          0.9545559764309803,
          0.9612899831649869,
          0.9700757575757615,
          0.9809132996633035,
          0.9931371001683541,
          1.0077888257575796,
          1.0198074494949534,
          0.9952230639730678,
          0.9958017676767715,
          0.996590909090913,
          0.9962594696969734,
          1.001720328282832,
          0.9996685606060643,
          0.9980902777777817,
          0.9969854797979837,
          0.9963541666666705,
          0.9961963383838423,
          0.9925189393939432,
          0.9915719696969735,
          0.9909406565656603,
          0.9906250000000038,
          0.9906250000000038,
          0.9909406565656603,
          0.9915719696969735,
          0.9933238636363674,
          0.9941130050505089,
          0.9968802609427648,
          0.9974589646464684,
          0.9985111531986571,
          1.0000368265993302,
          1.0072679924242463,
          1.0043113425925962,
          0.9997474747474786,
          0.9928556397306436,
          0.9869633838383877,
          0.982070707070711,
          0.9781776094276134,
          0.9768939393939432,
          0.9760653409090947,
          0.9731455176767714,
          0.9714620159932698,
          0.9710148358585897,
          0.974621212121216,
          0.9798190235690275,
          1.0253288089225627,
          0.9996764520202059,
          0.9723405934343473,
          0.9514809553872092,
          0.9354876893939431,
          0.9243607954545491,
          0.9094486531986569,
          0.8949757996633031,
          0.8869660143097677,
          0.8849931607744143,
          0.8874473905723941,
          0.8973116582491618,
          0.90483480639731,
          0.9192418981481518,
          0.9306476220538759,
          0.9440104166666705,
          0.96197653619529,
          0.9873632154882194,
          1.0247211700336738,
          1.074747474747479,
          0.9931318392255931,
          0.9602299031986569,
          0.934398674242428,
          0.9132233796296333,
          0.8967040193602729,
          0.8848405934343468,
          0.8776331018518553,
          0.8750815446127981,
          0.8771859217171752,
          0.8839462331649867,
          0.8946969696969733,
          0.903824705387209,
          0.9213436447811485,
          0.9345775462963001,
          0.9524095117845156,
          0.9768992003367042,
          1.0116687710437748,
          1.037405303030307,
          1.0403593223905765,
          0.9964462331649873,
          0.9925794402356943,
          0.9893176557239095,
          0.9866608796296333,
          0.9846091119528656,
          0.9831623526936065,
          0.9823206018518557,
          0.9840961700336738,
          0.9897201178451216,
          1.013220749158253,
          0.9944128787878828,
          0.9785511363636402,
          0.9656355218855258,
          0.9556660353535391,
          0.9486426767676805,
          0.9445654461279499,
          0.9434343434343473,
          0.9346012205387243,
          0.9314051978114515,
          0.9312841961279499,
          0.9343092382154919,
          0.9396753998316536,
          0.9473826809764347,
          0.9574310816498355,
          0.9698206018518557,
          0.9998448021885561,
          1.0429345538720578,
          1.0304266624579166,
          1.0147806186868726,
          0.9653961489899029,
          0.9466671927609466,
          0.9312263257575795,
          0.9190735479798016,
          0.910208859427613,
          0.9046322601010137,
          0.9023437500000036,
          0.9033433291245827,
          0.9076309974747511,
          0.9152067550505087,
          0.9260706018518555,
          0.9402225378787916,
          0.9576625631313169,
          0.9783906776094314,
          1.0064315025252561,
          1.031368371212125,
          1.04060395622896,
          1.0001972853535392,
          0.9954624368686907,
          0.99138520622896,
          0.9879655934343471,
          0.9852035984848523,
          0.9830992213804751,
          0.981652462121216,
          0.9808633207070746,
          1.0000499789562327,
          1.0274463383838424,
          0.9960385101010142,
          0.9690498737373776,
          0.9464804292929331,
          0.9283301767676805,
          0.9145991161616197,
          0.9052872474747511,
          0.9003945707070743,
          0.8948758417508452,
          0.8949810606060641,
          0.8893650042087576,
          0.8936526725589261,
          0.9030145202020238,
          0.9143255471380508,
          0.9295822811447848,
          0.948784722222226,
          0.9719328703703741,
          0.9990267255892294,
          1.0300662878787916,
          1.0331071127946165,
          0.9949258207070745,
          0.9951625631313169,
          0.9955834385521923,
          0.9961884469697008,
          0.9969775883838422,
          0.9999631734006772,
          1.0289141414141454,
          1.0121580387205427,
          0.9949494949494989,
          0.9814551767676806,
          0.9700652356902396,
          0.9607796717171755,
          0.9516019570707108,
          0.9456570917508456,
          0.9417376893939431,
          0.9398437500000038,
          0.9399752735690273,
          0.9449494949494986,
          0.9474747474747512,
          0.9550268308080846,
          0.9603140782828321,
          0.9687999789562328,
          0.9804135101010141,
          0.9944970538720577,
          1.0060448232323274,
          1.0190656565656604,
          0.9856428872053911,
          0.9820917508417547,
          0.9794349747474785,
          0.9776725589225629,
          0.9768045033670071,
          0.9788431186868723,
          0.9785800715488253,
          0.9793429082491621,
          0.9883759469697008,
          0.988136574074078,
          0.9874789562289602,
          0.9845459806397346,
          0.9845459806397345,
          0.9813341750841788,
          0.9822022306397343,
          0.9830018939393977,
          0.9824889520202059,
          0.98095012626263,
          0.9815814393939432,
          0.9798321759259297,
          0.980910669191923,
          0.9828046085858623,
          0.9855139941077479,
          0.9910511363636402,
          0.9942077020202058,
          0.9949836910774449,
          0.9985874368686908,
          1.0030066287878825,
          1.006323653198657,
          1.0342645202020242,
          1.008722643097647,
          0.9850589225589265,
          0.9653566919191957,
          0.9488110269360307,
          0.9354219276094313,
          0.9251893939393976,
          0.9181134259259296,
          0.9121974957912494,
          0.9105666035353571,
          0.9128182870370407,
          0.9204913720538758,
          0.9255418771043807,
          0.9339593855218892,
          0.9424163510101048,
          0.9565235690235728,
          0.9732270622895661,
          0.9952046506734044,
          1.0172480008417548,
          1.0260469276094315,
          0.9937684132996673,
          0.9905592382154919,
          0.9940972222222261,
          0.988757365319869,
          0.9845223063973104,
          0.9813920454545494,
          0.9797690446127983,
          0.978611637205391,
          0.9789877946127984,
          0.9834780092592632,
          0.982444234006738,
          0.9769281355218893,
          0.9761652988215527,
          0.9793507996633036,
          0.9791929713804753,
          0.9796848695286237,
          0.9818681607744145,
          0.9832202230639767,
          0.9858243897306435,
          0.9896648779461318,
          0.9880865951178491,
          0.9915062079124616,
          0.9859164562289598,
          0.9869423400673437,
          0.9885469276094315,
          0.9907302188552226,
          0.9928267045454583,
          0.9958780513468052,
          0.9988162878787917,
          0.9991082702020241,
          1.0084701178451219,
          1.003314393939398,
          1.0064551767676806,
          1.0206439393939435,
          0.9974431818181857,
          0.9789036195286233,
          0.9608585858585897,
          0.9439735900673437,
          0.9313736321548857,
          0.9218513257575794,
          0.9190288299663336,
          0.9135311447811483,
          0.9141650883838419,
          0.9136389941077478,
          0.9166114267676804,
          0.9230823863636402,
          0.9330518728956264,
          0.9465198863636402,
          0.9634864267676805,
          0.9799584385521923,
          0.9862136994949532,
          1.0048374368686905,
          1.014191393097647,
          0.9897674663299701,
          0.9920296717171754,
          0.9921559343434382,
          0.9943129208754248,
          0.9968907828282866,
          0.999889520202024,
          1.0033091329966368,
          1.0011600378787915,
          1.0028172348484885,
          1.0000000000000038,
          1.0000000000000038,
          1.0000000000000038,
          1.0000000000000038,
          1.0000000000000038,
          1.0000000000000038,
          1.0000000000000038,
          1.0000000000000038,
          1.0028172348484885,
          1.0033816425120776,
          1.0041776460254723,
          1.0043697848045676,
          1.003765920070268,
          1.0021739130434781,
          0.999401624945103,
          0.995256916996047,
          0.9895476504172149,
          0.9820816864295115,
          0.9726668862538415
         ]
        }
       ],
       "layout": {
        "template": {
         "data": {
          "bar": [
           {
            "error_x": {
             "color": "#2a3f5f"
            },
            "error_y": {
             "color": "#2a3f5f"
            },
            "marker": {
             "line": {
              "color": "#E5ECF6",
              "width": 0.5
             },
             "pattern": {
              "fillmode": "overlay",
              "size": 10,
              "solidity": 0.2
             }
            },
            "type": "bar"
           }
          ],
          "barpolar": [
           {
            "marker": {
             "line": {
              "color": "#E5ECF6",
              "width": 0.5
             },
             "pattern": {
              "fillmode": "overlay",
              "size": 10,
              "solidity": 0.2
             }
            },
            "type": "barpolar"
           }
          ],
          "carpet": [
           {
            "aaxis": {
             "endlinecolor": "#2a3f5f",
             "gridcolor": "white",
             "linecolor": "white",
             "minorgridcolor": "white",
             "startlinecolor": "#2a3f5f"
            },
            "baxis": {
             "endlinecolor": "#2a3f5f",
             "gridcolor": "white",
             "linecolor": "white",
             "minorgridcolor": "white",
             "startlinecolor": "#2a3f5f"
            },
            "type": "carpet"
           }
          ],
          "choropleth": [
           {
            "colorbar": {
             "outlinewidth": 0,
             "ticks": ""
            },
            "type": "choropleth"
           }
          ],
          "contour": [
           {
            "colorbar": {
             "outlinewidth": 0,
             "ticks": ""
            },
            "colorscale": [
             [
              0,
              "#0d0887"
             ],
             [
              0.1111111111111111,
              "#46039f"
             ],
             [
              0.2222222222222222,
              "#7201a8"
             ],
             [
              0.3333333333333333,
              "#9c179e"
             ],
             [
              0.4444444444444444,
              "#bd3786"
             ],
             [
              0.5555555555555556,
              "#d8576b"
             ],
             [
              0.6666666666666666,
              "#ed7953"
             ],
             [
              0.7777777777777778,
              "#fb9f3a"
             ],
             [
              0.8888888888888888,
              "#fdca26"
             ],
             [
              1,
              "#f0f921"
             ]
            ],
            "type": "contour"
           }
          ],
          "contourcarpet": [
           {
            "colorbar": {
             "outlinewidth": 0,
             "ticks": ""
            },
            "type": "contourcarpet"
           }
          ],
          "heatmap": [
           {
            "colorbar": {
             "outlinewidth": 0,
             "ticks": ""
            },
            "colorscale": [
             [
              0,
              "#0d0887"
             ],
             [
              0.1111111111111111,
              "#46039f"
             ],
             [
              0.2222222222222222,
              "#7201a8"
             ],
             [
              0.3333333333333333,
              "#9c179e"
             ],
             [
              0.4444444444444444,
              "#bd3786"
             ],
             [
              0.5555555555555556,
              "#d8576b"
             ],
             [
              0.6666666666666666,
              "#ed7953"
             ],
             [
              0.7777777777777778,
              "#fb9f3a"
             ],
             [
              0.8888888888888888,
              "#fdca26"
             ],
             [
              1,
              "#f0f921"
             ]
            ],
            "type": "heatmap"
           }
          ],
          "heatmapgl": [
           {
            "colorbar": {
             "outlinewidth": 0,
             "ticks": ""
            },
            "colorscale": [
             [
              0,
              "#0d0887"
             ],
             [
              0.1111111111111111,
              "#46039f"
             ],
             [
              0.2222222222222222,
              "#7201a8"
             ],
             [
              0.3333333333333333,
              "#9c179e"
             ],
             [
              0.4444444444444444,
              "#bd3786"
             ],
             [
              0.5555555555555556,
              "#d8576b"
             ],
             [
              0.6666666666666666,
              "#ed7953"
             ],
             [
              0.7777777777777778,
              "#fb9f3a"
             ],
             [
              0.8888888888888888,
              "#fdca26"
             ],
             [
              1,
              "#f0f921"
             ]
            ],
            "type": "heatmapgl"
           }
          ],
          "histogram": [
           {
            "marker": {
             "pattern": {
              "fillmode": "overlay",
              "size": 10,
              "solidity": 0.2
             }
            },
            "type": "histogram"
           }
          ],
          "histogram2d": [
           {
            "colorbar": {
             "outlinewidth": 0,
             "ticks": ""
            },
            "colorscale": [
             [
              0,
              "#0d0887"
             ],
             [
              0.1111111111111111,
              "#46039f"
             ],
             [
              0.2222222222222222,
              "#7201a8"
             ],
             [
              0.3333333333333333,
              "#9c179e"
             ],
             [
              0.4444444444444444,
              "#bd3786"
             ],
             [
              0.5555555555555556,
              "#d8576b"
             ],
             [
              0.6666666666666666,
              "#ed7953"
             ],
             [
              0.7777777777777778,
              "#fb9f3a"
             ],
             [
              0.8888888888888888,
              "#fdca26"
             ],
             [
              1,
              "#f0f921"
             ]
            ],
            "type": "histogram2d"
           }
          ],
          "histogram2dcontour": [
           {
            "colorbar": {
             "outlinewidth": 0,
             "ticks": ""
            },
            "colorscale": [
             [
              0,
              "#0d0887"
             ],
             [
              0.1111111111111111,
              "#46039f"
             ],
             [
              0.2222222222222222,
              "#7201a8"
             ],
             [
              0.3333333333333333,
              "#9c179e"
             ],
             [
              0.4444444444444444,
              "#bd3786"
             ],
             [
              0.5555555555555556,
              "#d8576b"
             ],
             [
              0.6666666666666666,
              "#ed7953"
             ],
             [
              0.7777777777777778,
              "#fb9f3a"
             ],
             [
              0.8888888888888888,
              "#fdca26"
             ],
             [
              1,
              "#f0f921"
             ]
            ],
            "type": "histogram2dcontour"
           }
          ],
          "mesh3d": [
           {
            "colorbar": {
             "outlinewidth": 0,
             "ticks": ""
            },
            "type": "mesh3d"
           }
          ],
          "parcoords": [
           {
            "line": {
             "colorbar": {
              "outlinewidth": 0,
              "ticks": ""
             }
            },
            "type": "parcoords"
           }
          ],
          "pie": [
           {
            "automargin": true,
            "type": "pie"
           }
          ],
          "scatter": [
           {
            "fillpattern": {
             "fillmode": "overlay",
             "size": 10,
             "solidity": 0.2
            },
            "type": "scatter"
           }
          ],
          "scatter3d": [
           {
            "line": {
             "colorbar": {
              "outlinewidth": 0,
              "ticks": ""
             }
            },
            "marker": {
             "colorbar": {
              "outlinewidth": 0,
              "ticks": ""
             }
            },
            "type": "scatter3d"
           }
          ],
          "scattercarpet": [
           {
            "marker": {
             "colorbar": {
              "outlinewidth": 0,
              "ticks": ""
             }
            },
            "type": "scattercarpet"
           }
          ],
          "scattergeo": [
           {
            "marker": {
             "colorbar": {
              "outlinewidth": 0,
              "ticks": ""
             }
            },
            "type": "scattergeo"
           }
          ],
          "scattergl": [
           {
            "marker": {
             "colorbar": {
              "outlinewidth": 0,
              "ticks": ""
             }
            },
            "type": "scattergl"
           }
          ],
          "scattermapbox": [
           {
            "marker": {
             "colorbar": {
              "outlinewidth": 0,
              "ticks": ""
             }
            },
            "type": "scattermapbox"
           }
          ],
          "scatterpolar": [
           {
            "marker": {
             "colorbar": {
              "outlinewidth": 0,
              "ticks": ""
             }
            },
            "type": "scatterpolar"
           }
          ],
          "scatterpolargl": [
           {
            "marker": {
             "colorbar": {
              "outlinewidth": 0,
              "ticks": ""
             }
            },
            "type": "scatterpolargl"
           }
          ],
          "scatterternary": [
           {
            "marker": {
             "colorbar": {
              "outlinewidth": 0,
              "ticks": ""
             }
            },
            "type": "scatterternary"
           }
          ],
          "surface": [
           {
            "colorbar": {
             "outlinewidth": 0,
             "ticks": ""
            },
            "colorscale": [
             [
              0,
              "#0d0887"
             ],
             [
              0.1111111111111111,
              "#46039f"
             ],
             [
              0.2222222222222222,
              "#7201a8"
             ],
             [
              0.3333333333333333,
              "#9c179e"
             ],
             [
              0.4444444444444444,
              "#bd3786"
             ],
             [
              0.5555555555555556,
              "#d8576b"
             ],
             [
              0.6666666666666666,
              "#ed7953"
             ],
             [
              0.7777777777777778,
              "#fb9f3a"
             ],
             [
              0.8888888888888888,
              "#fdca26"
             ],
             [
              1,
              "#f0f921"
             ]
            ],
            "type": "surface"
           }
          ],
          "table": [
           {
            "cells": {
             "fill": {
              "color": "#EBF0F8"
             },
             "line": {
              "color": "white"
             }
            },
            "header": {
             "fill": {
              "color": "#C8D4E3"
             },
             "line": {
              "color": "white"
             }
            },
            "type": "table"
           }
          ]
         },
         "layout": {
          "annotationdefaults": {
           "arrowcolor": "#2a3f5f",
           "arrowhead": 0,
           "arrowwidth": 1
          },
          "autotypenumbers": "strict",
          "coloraxis": {
           "colorbar": {
            "outlinewidth": 0,
            "ticks": ""
           }
          },
          "colorscale": {
           "diverging": [
            [
             0,
             "#8e0152"
            ],
            [
             0.1,
             "#c51b7d"
            ],
            [
             0.2,
             "#de77ae"
            ],
            [
             0.3,
             "#f1b6da"
            ],
            [
             0.4,
             "#fde0ef"
            ],
            [
             0.5,
             "#f7f7f7"
            ],
            [
             0.6,
             "#e6f5d0"
            ],
            [
             0.7,
             "#b8e186"
            ],
            [
             0.8,
             "#7fbc41"
            ],
            [
             0.9,
             "#4d9221"
            ],
            [
             1,
             "#276419"
            ]
           ],
           "sequential": [
            [
             0,
             "#0d0887"
            ],
            [
             0.1111111111111111,
             "#46039f"
            ],
            [
             0.2222222222222222,
             "#7201a8"
            ],
            [
             0.3333333333333333,
             "#9c179e"
            ],
            [
             0.4444444444444444,
             "#bd3786"
            ],
            [
             0.5555555555555556,
             "#d8576b"
            ],
            [
             0.6666666666666666,
             "#ed7953"
            ],
            [
             0.7777777777777778,
             "#fb9f3a"
            ],
            [
             0.8888888888888888,
             "#fdca26"
            ],
            [
             1,
             "#f0f921"
            ]
           ],
           "sequentialminus": [
            [
             0,
             "#0d0887"
            ],
            [
             0.1111111111111111,
             "#46039f"
            ],
            [
             0.2222222222222222,
             "#7201a8"
            ],
            [
             0.3333333333333333,
             "#9c179e"
            ],
            [
             0.4444444444444444,
             "#bd3786"
            ],
            [
             0.5555555555555556,
             "#d8576b"
            ],
            [
             0.6666666666666666,
             "#ed7953"
            ],
            [
             0.7777777777777778,
             "#fb9f3a"
            ],
            [
             0.8888888888888888,
             "#fdca26"
            ],
            [
             1,
             "#f0f921"
            ]
           ]
          },
          "colorway": [
           "#636efa",
           "#EF553B",
           "#00cc96",
           "#ab63fa",
           "#FFA15A",
           "#19d3f3",
           "#FF6692",
           "#B6E880",
           "#FF97FF",
           "#FECB52"
          ],
          "font": {
           "color": "#2a3f5f"
          },
          "geo": {
           "bgcolor": "white",
           "lakecolor": "white",
           "landcolor": "#E5ECF6",
           "showlakes": true,
           "showland": true,
           "subunitcolor": "white"
          },
          "hoverlabel": {
           "align": "left"
          },
          "hovermode": "closest",
          "mapbox": {
           "style": "light"
          },
          "paper_bgcolor": "white",
          "plot_bgcolor": "#E5ECF6",
          "polar": {
           "angularaxis": {
            "gridcolor": "white",
            "linecolor": "white",
            "ticks": ""
           },
           "bgcolor": "#E5ECF6",
           "radialaxis": {
            "gridcolor": "white",
            "linecolor": "white",
            "ticks": ""
           }
          },
          "scene": {
           "xaxis": {
            "backgroundcolor": "#E5ECF6",
            "gridcolor": "white",
            "gridwidth": 2,
            "linecolor": "white",
            "showbackground": true,
            "ticks": "",
            "zerolinecolor": "white"
           },
           "yaxis": {
            "backgroundcolor": "#E5ECF6",
            "gridcolor": "white",
            "gridwidth": 2,
            "linecolor": "white",
            "showbackground": true,
            "ticks": "",
            "zerolinecolor": "white"
           },
           "zaxis": {
            "backgroundcolor": "#E5ECF6",
            "gridcolor": "white",
            "gridwidth": 2,
            "linecolor": "white",
            "showbackground": true,
            "ticks": "",
            "zerolinecolor": "white"
           }
          },
          "shapedefaults": {
           "line": {
            "color": "#2a3f5f"
           }
          },
          "ternary": {
           "aaxis": {
            "gridcolor": "white",
            "linecolor": "white",
            "ticks": ""
           },
           "baxis": {
            "gridcolor": "white",
            "linecolor": "white",
            "ticks": ""
           },
           "bgcolor": "#E5ECF6",
           "caxis": {
            "gridcolor": "white",
            "linecolor": "white",
            "ticks": ""
           }
          },
          "title": {
           "x": 0.05
          },
          "xaxis": {
           "automargin": true,
           "gridcolor": "white",
           "linecolor": "white",
           "ticks": "",
           "title": {
            "standoff": 15
           },
           "zerolinecolor": "white",
           "zerolinewidth": 2
          },
          "yaxis": {
           "automargin": true,
           "gridcolor": "white",
           "linecolor": "white",
           "ticks": "",
           "title": {
            "standoff": 15
           },
           "zerolinecolor": "white",
           "zerolinewidth": 2
          }
         }
        }
       }
      }
     },
     "metadata": {},
     "output_type": "display_data"
    }
   ],
   "source": [
    "import plotly.express as px\n",
    "import plotly.graph_objects as go\n",
    "from scipy import signal\n",
    "\n",
    "# fig = px.line(df_plot, x=\"Time\", y=\"Percentage of day seen before\", title='How common are the days?')\n",
    "# fig.show()\n",
    "\n",
    "fig = go.Figure()\n",
    "\n",
    "fig.add_trace(go.Scatter(\n",
    "    x=df_plot.Time.values.tolist(),\n",
    "    y=signal.savgol_filter(df_plot['Percentage of day seen before'].values.tolist(),\n",
    "                           20, # window size used for filtering\n",
    "                           3), # order of fitted polynomial\n",
    "    name='Savitzky-Golay'\n",
    "))\n"
   ]
  },
  {
   "cell_type": "code",
   "execution_count": 7,
   "id": "e5eaa3bf",
   "metadata": {},
   "outputs": [
    {
     "data": {
      "application/vnd.plotly.v1+json": {
       "config": {
        "plotlyServerURL": "https://plot.ly"
       },
       "data": [
        {
         "hovertemplate": "Time=%{x}<br>Percentage of day seen before=%{y}<extra></extra>",
         "legendgroup": "",
         "line": {
          "color": "#636efa",
          "dash": "solid"
         },
         "marker": {
          "symbol": "circle"
         },
         "mode": "lines",
         "name": "",
         "orientation": "v",
         "showlegend": false,
         "type": "scatter",
         "x": [
          "2020-05-01",
          "2020-05-02",
          "2020-05-03",
          "2020-05-04",
          "2020-05-05",
          "2020-05-06",
          "2020-05-07",
          "2020-05-08",
          "2020-05-09",
          "2020-05-10",
          "2020-05-11",
          "2020-05-12",
          "2020-05-13",
          "2020-05-14",
          "2020-05-15",
          "2020-05-16",
          "2020-05-17",
          "2020-05-18",
          "2020-05-19",
          "2020-05-20",
          "2020-05-21",
          "2020-05-22",
          "2020-05-23",
          "2020-05-24",
          "2020-05-25",
          "2020-05-26",
          "2020-05-27",
          "2020-05-28",
          "2020-05-29",
          "2020-05-30",
          "2020-05-31",
          "2020-06-01",
          "2020-06-02",
          "2020-06-03",
          "2020-06-04",
          "2020-06-05",
          "2020-06-06",
          "2020-06-07",
          "2020-06-08",
          "2020-06-09",
          "2020-06-10",
          "2020-06-11",
          "2020-06-12",
          "2020-06-13",
          "2020-06-14",
          "2020-06-15",
          "2020-06-16",
          "2020-06-17",
          "2020-06-18",
          "2020-06-19",
          "2020-06-20",
          "2020-06-21",
          "2020-06-22",
          "2020-06-23",
          "2020-06-24",
          "2020-06-25",
          "2020-06-26",
          "2020-06-27",
          "2020-06-28",
          "2020-06-29",
          "2020-06-30",
          "2020-07-01",
          "2020-07-02",
          "2020-07-03",
          "2020-07-04",
          "2020-07-05",
          "2020-07-06",
          "2020-07-07",
          "2020-07-08",
          "2020-07-09",
          "2020-07-10",
          "2020-07-11",
          "2020-07-12",
          "2020-07-13",
          "2020-07-14",
          "2020-07-15",
          "2020-07-16",
          "2020-07-17",
          "2020-07-18",
          "2020-07-19",
          "2020-07-20",
          "2020-07-21",
          "2020-07-22",
          "2020-07-23",
          "2020-07-24",
          "2020-07-25",
          "2020-07-26",
          "2020-07-27",
          "2020-07-28",
          "2020-07-29",
          "2020-07-30",
          "2020-07-31",
          "2020-08-01",
          "2020-08-02",
          "2020-08-03",
          "2020-08-04",
          "2020-08-05",
          "2020-08-06",
          "2020-08-07",
          "2020-08-08",
          "2020-08-09",
          "2020-08-10",
          "2020-08-11",
          "2020-08-12",
          "2020-08-13",
          "2020-08-14",
          "2020-08-15",
          "2020-08-16",
          "2020-08-17",
          "2020-08-18",
          "2020-08-19",
          "2020-08-20",
          "2020-08-21",
          "2020-08-22",
          "2020-08-23",
          "2020-08-24",
          "2020-08-25",
          "2020-08-26",
          "2020-08-27",
          "2020-08-28",
          "2020-08-29",
          "2020-08-30",
          "2020-08-31",
          "2020-09-01",
          "2020-09-02",
          "2020-09-03",
          "2020-09-04",
          "2020-09-05",
          "2020-09-06",
          "2020-09-07",
          "2020-09-08",
          "2020-09-09",
          "2020-09-10",
          "2020-09-11",
          "2020-09-12",
          "2020-09-13",
          "2020-09-14",
          "2020-09-15",
          "2020-09-16",
          "2020-09-17",
          "2020-09-18",
          "2020-09-19",
          "2020-09-20",
          "2020-09-21",
          "2020-09-22",
          "2020-09-23",
          "2020-09-24",
          "2020-09-25",
          "2020-09-26",
          "2020-09-27",
          "2020-09-28",
          "2020-09-29",
          "2020-09-30",
          "2020-10-01",
          "2020-10-02",
          "2020-10-03",
          "2020-10-04",
          "2020-10-05",
          "2020-10-06",
          "2020-10-07",
          "2020-10-08",
          "2020-10-09",
          "2020-10-10",
          "2020-10-11",
          "2020-10-12",
          "2020-10-13",
          "2020-10-14",
          "2020-10-15",
          "2020-10-16",
          "2020-10-17",
          "2020-10-18",
          "2020-10-19",
          "2020-10-20",
          "2020-10-21",
          "2020-10-22",
          "2020-10-23",
          "2020-10-24",
          "2020-10-25",
          "2020-10-26",
          "2020-10-27",
          "2020-10-28",
          "2020-10-29",
          "2020-10-30",
          "2020-10-31",
          "2020-11-01",
          "2020-11-02",
          "2020-11-03",
          "2020-11-04",
          "2020-11-05",
          "2020-11-06",
          "2020-11-07",
          "2020-11-08",
          "2020-11-09",
          "2020-11-10",
          "2020-11-11",
          "2020-11-12",
          "2020-11-13",
          "2020-11-14",
          "2020-11-15",
          "2020-11-16",
          "2020-11-17",
          "2020-11-18",
          "2020-11-19",
          "2020-11-20",
          "2020-11-21",
          "2020-11-22",
          "2020-11-23",
          "2020-11-24",
          "2020-11-25",
          "2020-11-26",
          "2020-11-27",
          "2020-11-28",
          "2020-11-29",
          "2020-11-30",
          "2020-12-01",
          "2020-12-02",
          "2020-12-03",
          "2020-12-04",
          "2020-12-05",
          "2020-12-06",
          "2020-12-07",
          "2020-12-08",
          "2020-12-09",
          "2020-12-10",
          "2020-12-11",
          "2020-12-12",
          "2020-12-13",
          "2020-12-14",
          "2020-12-15",
          "2020-12-16",
          "2020-12-17",
          "2020-12-18",
          "2020-12-19",
          "2020-12-20",
          "2020-12-21",
          "2020-12-22",
          "2020-12-23",
          "2020-12-24",
          "2020-12-25",
          "2020-12-26",
          "2020-12-27",
          "2020-12-28",
          "2020-12-29",
          "2020-12-30",
          "2020-12-31",
          "2021-01-01",
          "2021-01-02",
          "2021-01-03",
          "2021-01-04",
          "2021-01-05",
          "2021-01-06",
          "2021-01-07",
          "2021-01-08",
          "2021-01-09",
          "2021-01-10",
          "2021-01-11",
          "2021-01-12",
          "2021-01-13",
          "2021-01-14",
          "2021-01-15",
          "2021-01-16",
          "2021-01-17",
          "2021-01-18",
          "2021-01-19",
          "2021-01-20",
          "2021-01-21",
          "2021-01-22",
          "2021-01-23",
          "2021-01-24",
          "2021-01-25",
          "2021-01-26",
          "2021-01-27",
          "2021-01-28",
          "2021-01-29",
          "2021-01-30",
          "2021-01-31",
          "2021-02-01",
          "2021-02-02",
          "2021-02-03",
          "2021-02-04",
          "2021-02-05",
          "2021-02-06",
          "2021-02-07",
          "2021-02-08",
          "2021-02-09",
          "2021-02-10",
          "2021-02-11",
          "2021-02-12",
          "2021-02-13",
          "2021-02-14",
          "2021-02-15",
          "2021-02-16",
          "2021-02-17",
          "2021-02-18",
          "2021-02-19",
          "2021-02-20",
          "2021-02-21",
          "2021-02-22",
          "2021-02-23",
          "2021-02-24",
          "2021-02-25",
          "2021-02-26",
          "2021-02-27",
          "2021-02-28",
          "2021-03-01",
          "2021-03-02",
          "2021-03-03",
          "2021-03-04",
          "2021-03-05",
          "2021-03-06",
          "2021-03-07",
          "2021-03-08",
          "2021-03-09",
          "2021-03-10",
          "2021-03-11",
          "2021-03-12",
          "2021-03-13",
          "2021-03-14",
          "2021-03-15",
          "2021-03-16",
          "2021-03-17",
          "2021-03-18",
          "2021-03-19",
          "2021-03-20",
          "2021-03-21",
          "2021-03-22",
          "2021-03-23",
          "2021-03-24",
          "2021-03-25",
          "2021-03-26",
          "2021-03-27",
          "2021-03-28",
          "2021-03-29",
          "2021-03-30",
          "2021-03-31",
          "2021-04-01",
          "2021-04-02",
          "2021-04-03",
          "2021-04-04",
          "2021-04-05",
          "2021-04-06",
          "2021-04-07",
          "2021-04-08",
          "2021-04-09",
          "2021-04-10",
          "2021-04-11",
          "2021-04-12",
          "2021-04-13",
          "2021-04-14",
          "2021-04-15",
          "2021-04-16",
          "2021-04-17",
          "2021-04-18",
          "2021-04-19",
          "2021-04-20",
          "2021-04-21",
          "2021-04-22",
          "2021-04-23",
          "2021-04-24",
          "2021-04-25",
          "2021-04-26",
          "2021-04-27",
          "2021-04-28",
          "2021-04-29",
          "2021-04-30",
          "2021-05-01",
          "2021-05-02",
          "2021-05-03",
          "2021-05-04",
          "2021-05-05",
          "2021-05-06",
          "2021-05-07",
          "2021-05-08",
          "2021-05-09",
          "2021-05-10",
          "2021-05-11",
          "2021-05-12",
          "2021-05-13",
          "2021-05-14",
          "2021-05-15",
          "2021-05-16",
          "2021-05-17",
          "2021-05-18",
          "2021-05-19",
          "2021-05-20",
          "2021-05-21",
          "2021-05-22",
          "2021-05-23",
          "2021-05-24",
          "2021-05-25",
          "2021-05-26",
          "2021-05-27",
          "2021-05-28",
          "2021-05-29",
          "2021-05-30",
          "2021-05-31",
          "2021-06-01",
          "2021-06-02",
          "2021-06-03",
          "2021-06-04",
          "2021-06-05",
          "2021-06-06",
          "2021-06-07",
          "2021-06-08",
          "2021-06-09",
          "2021-06-10",
          "2021-06-11",
          "2021-06-12",
          "2021-06-13",
          "2021-06-14",
          "2021-06-15",
          "2021-06-16",
          "2021-06-17",
          "2021-06-18",
          "2021-06-19",
          "2021-06-20",
          "2021-06-21",
          "2021-06-22",
          "2021-06-23",
          "2021-06-24",
          "2021-06-25",
          "2021-06-26",
          "2021-06-27",
          "2021-06-28",
          "2021-06-29",
          "2021-06-30",
          "2021-07-01",
          "2021-07-02",
          "2021-07-03",
          "2021-07-04",
          "2021-07-05",
          "2021-07-06",
          "2021-07-07",
          "2021-07-08",
          "2021-07-09",
          "2021-07-10",
          "2021-07-11",
          "2021-07-12",
          "2021-07-13",
          "2021-07-14",
          "2021-07-15",
          "2021-07-16",
          "2021-07-17",
          "2021-07-18",
          "2021-07-19",
          "2021-07-20",
          "2021-07-21",
          "2021-07-22",
          "2021-07-23",
          "2021-07-24",
          "2021-07-25",
          "2021-07-26",
          "2021-07-27",
          "2021-07-28",
          "2021-07-29",
          "2021-07-30",
          "2021-07-31"
         ],
         "xaxis": "x",
         "y": [
          0,
          0,
          0,
          0,
          0,
          0,
          0,
          0.9930555555555556,
          1,
          0.8958333333333334,
          1,
          0.6875,
          1,
          0.9861111111111112,
          1,
          0.8680555555555556,
          1,
          1,
          0.9444444444444444,
          1,
          1,
          0.9305555555555556,
          1,
          0.9097222222222222,
          1,
          1,
          0.9375,
          0.9513888888888888,
          1,
          1,
          1,
          0.9652777777777778,
          0.9375,
          1,
          1,
          0.7569444444444444,
          1,
          0.9930555555555556,
          1,
          1,
          0.9513888888888888,
          1,
          1,
          1,
          1,
          1,
          1,
          1,
          1,
          0.9375,
          1,
          1,
          0.9791666666666666,
          0.8125,
          0.5555555555555556,
          0.9930555555555556,
          1,
          1,
          0.9444444444444444,
          1,
          0.9305555555555556,
          1,
          1,
          1,
          1,
          0.9305555555555556,
          0.9305555555555556,
          1,
          0.9513888888888888,
          0.9375,
          0.9236111111111112,
          1,
          1,
          0.9305555555555556,
          0.9791666666666666,
          1,
          0.9166666666666666,
          0.9722222222222222,
          1,
          1,
          1,
          0.9861111111111112,
          1,
          1,
          0.8680555555555556,
          1,
          0.9583333333333334,
          0.9375,
          1,
          0.9444444444444444,
          0.8680555555555556,
          1,
          1,
          1,
          1,
          1,
          1,
          1,
          1,
          1,
          1,
          1,
          1,
          0.9444444444444444,
          1,
          0.9305555555555556,
          1,
          1,
          0.9722222222222222,
          0.9513888888888888,
          1,
          0.9722222222222222,
          1,
          1,
          1,
          0.9513888888888888,
          0.9791666666666666,
          0.7083333333333334,
          1,
          1,
          1,
          1,
          0.9583333333333334,
          0.9305555555555556,
          1,
          0.9513888888888888,
          0.5138888888888888,
          1,
          0.9722222222222222,
          1,
          0.9444444444444444,
          0.9444444444444444,
          0.9791666666666666,
          1,
          1,
          1,
          1,
          0.9930555555555556,
          1,
          0.9513888888888888,
          0.5694444444444444,
          1,
          1,
          0.9861111111111112,
          1,
          1,
          1,
          1,
          1,
          1,
          0.9583333333333334,
          1,
          1,
          1,
          1,
          1,
          1,
          1,
          1,
          1,
          1,
          1,
          1,
          1,
          0.9166666666666666,
          1,
          1,
          1,
          1,
          1,
          1,
          1,
          1,
          1,
          1,
          1,
          1,
          0.9861111111111112,
          1,
          0.9722222222222222,
          1,
          1,
          1,
          0.9097222222222222,
          0.9027777777777778,
          0.9652777777777778,
          1,
          1,
          1,
          1,
          0.9722222222222222,
          0.9652777777777778,
          1,
          1,
          1,
          0.9513888888888888,
          0.9166666666666666,
          0.1736111111111111,
          0.9583333333333334,
          1,
          1,
          1,
          1,
          1,
          1,
          1,
          1,
          0.9930555555555556,
          0.9305555555555556,
          1,
          0.9097222222222222,
          0.9513888888888888,
          1,
          1,
          0.9513888888888888,
          0.7152777777777778,
          0.3194444444444444,
          1,
          1,
          1,
          1,
          1,
          1,
          1,
          1,
          1,
          1,
          1,
          1,
          1,
          1,
          1,
          1,
          0.8888888888888888,
          0.9652777777777778,
          0.9861111111111112,
          1,
          1,
          1,
          1,
          1,
          1,
          1,
          0.9652777777777778,
          0.8888888888888888,
          0.5277777777777778,
          1,
          1,
          1,
          1,
          1,
          1,
          1,
          1,
          1,
          1,
          1,
          1,
          1,
          1,
          1,
          0.7361111111111112,
          0.3958333333333333,
          1,
          1,
          1,
          1,
          1,
          1,
          1,
          1,
          1,
          1,
          1,
          1,
          1,
          1,
          1,
          1,
          0.9305555555555556,
          1,
          0.8958333333333334,
          1,
          1,
          1,
          1,
          1,
          1,
          1,
          1,
          0.6666666666666666,
          0.3402777777777778,
          1,
          1,
          1,
          1,
          1,
          1,
          1,
          0.9722222222222222,
          1,
          1,
          1,
          0.9791666666666666,
          1,
          1,
          1,
          1,
          1,
          1,
          1,
          1,
          1,
          1,
          1,
          1,
          0.9652777777777778,
          0.5,
          1,
          1,
          1,
          1,
          1,
          1,
          1,
          1,
          1,
          1,
          0.9513888888888888,
          1,
          0.9513888888888888,
          1,
          0.9861111111111112,
          0.9652777777777778,
          0.9444444444444444,
          1,
          0.9652777777777778,
          1,
          1,
          1,
          1,
          1,
          0.9652777777777778,
          1,
          1,
          0.875,
          0.9791666666666666,
          1,
          0.9861111111111112,
          1,
          1,
          1,
          1,
          1,
          0.9791666666666666,
          1,
          1,
          1,
          1,
          1,
          0.9652777777777778,
          1,
          1,
          1,
          1,
          0.8263888888888888,
          0.3958333333333333,
          1,
          1,
          1,
          1,
          1,
          1,
          1,
          1,
          1,
          0.9861111111111112,
          0.9375,
          1,
          1,
          1,
          0.9930555555555556,
          1,
          0.9652777777777778,
          1,
          1,
          0.9305555555555556,
          1,
          0.8958333333333334,
          1,
          1,
          1,
          0.9930555555555556,
          1,
          0.9930555555555556,
          0.9375,
          0.9930555555555556,
          1,
          1,
          0.9513888888888888,
          1,
          1,
          1,
          0.9791666666666666,
          1,
          1,
          1,
          1,
          1,
          1,
          1,
          1,
          1,
          1,
          1,
          0.9583333333333334,
          0.8333333333333334,
          1,
          0.875,
          0.5486111111111112,
          1,
          0.9722222222222222,
          1,
          1,
          1,
          1,
          0.9375,
          1,
          0.9513888888888888,
          1,
          1,
          1,
          1,
          1,
          1,
          1,
          1,
          1,
          1,
          1,
          1,
          1,
          1,
          1,
          1,
          1,
          1,
          1,
          1,
          1,
          1,
          1,
          1,
          1,
          1,
          1,
          0.9513888888888888
         ],
         "yaxis": "y"
        }
       ],
       "layout": {
        "legend": {
         "tracegroupgap": 0
        },
        "template": {
         "data": {
          "bar": [
           {
            "error_x": {
             "color": "#2a3f5f"
            },
            "error_y": {
             "color": "#2a3f5f"
            },
            "marker": {
             "line": {
              "color": "#E5ECF6",
              "width": 0.5
             },
             "pattern": {
              "fillmode": "overlay",
              "size": 10,
              "solidity": 0.2
             }
            },
            "type": "bar"
           }
          ],
          "barpolar": [
           {
            "marker": {
             "line": {
              "color": "#E5ECF6",
              "width": 0.5
             },
             "pattern": {
              "fillmode": "overlay",
              "size": 10,
              "solidity": 0.2
             }
            },
            "type": "barpolar"
           }
          ],
          "carpet": [
           {
            "aaxis": {
             "endlinecolor": "#2a3f5f",
             "gridcolor": "white",
             "linecolor": "white",
             "minorgridcolor": "white",
             "startlinecolor": "#2a3f5f"
            },
            "baxis": {
             "endlinecolor": "#2a3f5f",
             "gridcolor": "white",
             "linecolor": "white",
             "minorgridcolor": "white",
             "startlinecolor": "#2a3f5f"
            },
            "type": "carpet"
           }
          ],
          "choropleth": [
           {
            "colorbar": {
             "outlinewidth": 0,
             "ticks": ""
            },
            "type": "choropleth"
           }
          ],
          "contour": [
           {
            "colorbar": {
             "outlinewidth": 0,
             "ticks": ""
            },
            "colorscale": [
             [
              0,
              "#0d0887"
             ],
             [
              0.1111111111111111,
              "#46039f"
             ],
             [
              0.2222222222222222,
              "#7201a8"
             ],
             [
              0.3333333333333333,
              "#9c179e"
             ],
             [
              0.4444444444444444,
              "#bd3786"
             ],
             [
              0.5555555555555556,
              "#d8576b"
             ],
             [
              0.6666666666666666,
              "#ed7953"
             ],
             [
              0.7777777777777778,
              "#fb9f3a"
             ],
             [
              0.8888888888888888,
              "#fdca26"
             ],
             [
              1,
              "#f0f921"
             ]
            ],
            "type": "contour"
           }
          ],
          "contourcarpet": [
           {
            "colorbar": {
             "outlinewidth": 0,
             "ticks": ""
            },
            "type": "contourcarpet"
           }
          ],
          "heatmap": [
           {
            "colorbar": {
             "outlinewidth": 0,
             "ticks": ""
            },
            "colorscale": [
             [
              0,
              "#0d0887"
             ],
             [
              0.1111111111111111,
              "#46039f"
             ],
             [
              0.2222222222222222,
              "#7201a8"
             ],
             [
              0.3333333333333333,
              "#9c179e"
             ],
             [
              0.4444444444444444,
              "#bd3786"
             ],
             [
              0.5555555555555556,
              "#d8576b"
             ],
             [
              0.6666666666666666,
              "#ed7953"
             ],
             [
              0.7777777777777778,
              "#fb9f3a"
             ],
             [
              0.8888888888888888,
              "#fdca26"
             ],
             [
              1,
              "#f0f921"
             ]
            ],
            "type": "heatmap"
           }
          ],
          "heatmapgl": [
           {
            "colorbar": {
             "outlinewidth": 0,
             "ticks": ""
            },
            "colorscale": [
             [
              0,
              "#0d0887"
             ],
             [
              0.1111111111111111,
              "#46039f"
             ],
             [
              0.2222222222222222,
              "#7201a8"
             ],
             [
              0.3333333333333333,
              "#9c179e"
             ],
             [
              0.4444444444444444,
              "#bd3786"
             ],
             [
              0.5555555555555556,
              "#d8576b"
             ],
             [
              0.6666666666666666,
              "#ed7953"
             ],
             [
              0.7777777777777778,
              "#fb9f3a"
             ],
             [
              0.8888888888888888,
              "#fdca26"
             ],
             [
              1,
              "#f0f921"
             ]
            ],
            "type": "heatmapgl"
           }
          ],
          "histogram": [
           {
            "marker": {
             "pattern": {
              "fillmode": "overlay",
              "size": 10,
              "solidity": 0.2
             }
            },
            "type": "histogram"
           }
          ],
          "histogram2d": [
           {
            "colorbar": {
             "outlinewidth": 0,
             "ticks": ""
            },
            "colorscale": [
             [
              0,
              "#0d0887"
             ],
             [
              0.1111111111111111,
              "#46039f"
             ],
             [
              0.2222222222222222,
              "#7201a8"
             ],
             [
              0.3333333333333333,
              "#9c179e"
             ],
             [
              0.4444444444444444,
              "#bd3786"
             ],
             [
              0.5555555555555556,
              "#d8576b"
             ],
             [
              0.6666666666666666,
              "#ed7953"
             ],
             [
              0.7777777777777778,
              "#fb9f3a"
             ],
             [
              0.8888888888888888,
              "#fdca26"
             ],
             [
              1,
              "#f0f921"
             ]
            ],
            "type": "histogram2d"
           }
          ],
          "histogram2dcontour": [
           {
            "colorbar": {
             "outlinewidth": 0,
             "ticks": ""
            },
            "colorscale": [
             [
              0,
              "#0d0887"
             ],
             [
              0.1111111111111111,
              "#46039f"
             ],
             [
              0.2222222222222222,
              "#7201a8"
             ],
             [
              0.3333333333333333,
              "#9c179e"
             ],
             [
              0.4444444444444444,
              "#bd3786"
             ],
             [
              0.5555555555555556,
              "#d8576b"
             ],
             [
              0.6666666666666666,
              "#ed7953"
             ],
             [
              0.7777777777777778,
              "#fb9f3a"
             ],
             [
              0.8888888888888888,
              "#fdca26"
             ],
             [
              1,
              "#f0f921"
             ]
            ],
            "type": "histogram2dcontour"
           }
          ],
          "mesh3d": [
           {
            "colorbar": {
             "outlinewidth": 0,
             "ticks": ""
            },
            "type": "mesh3d"
           }
          ],
          "parcoords": [
           {
            "line": {
             "colorbar": {
              "outlinewidth": 0,
              "ticks": ""
             }
            },
            "type": "parcoords"
           }
          ],
          "pie": [
           {
            "automargin": true,
            "type": "pie"
           }
          ],
          "scatter": [
           {
            "fillpattern": {
             "fillmode": "overlay",
             "size": 10,
             "solidity": 0.2
            },
            "type": "scatter"
           }
          ],
          "scatter3d": [
           {
            "line": {
             "colorbar": {
              "outlinewidth": 0,
              "ticks": ""
             }
            },
            "marker": {
             "colorbar": {
              "outlinewidth": 0,
              "ticks": ""
             }
            },
            "type": "scatter3d"
           }
          ],
          "scattercarpet": [
           {
            "marker": {
             "colorbar": {
              "outlinewidth": 0,
              "ticks": ""
             }
            },
            "type": "scattercarpet"
           }
          ],
          "scattergeo": [
           {
            "marker": {
             "colorbar": {
              "outlinewidth": 0,
              "ticks": ""
             }
            },
            "type": "scattergeo"
           }
          ],
          "scattergl": [
           {
            "marker": {
             "colorbar": {
              "outlinewidth": 0,
              "ticks": ""
             }
            },
            "type": "scattergl"
           }
          ],
          "scattermapbox": [
           {
            "marker": {
             "colorbar": {
              "outlinewidth": 0,
              "ticks": ""
             }
            },
            "type": "scattermapbox"
           }
          ],
          "scatterpolar": [
           {
            "marker": {
             "colorbar": {
              "outlinewidth": 0,
              "ticks": ""
             }
            },
            "type": "scatterpolar"
           }
          ],
          "scatterpolargl": [
           {
            "marker": {
             "colorbar": {
              "outlinewidth": 0,
              "ticks": ""
             }
            },
            "type": "scatterpolargl"
           }
          ],
          "scatterternary": [
           {
            "marker": {
             "colorbar": {
              "outlinewidth": 0,
              "ticks": ""
             }
            },
            "type": "scatterternary"
           }
          ],
          "surface": [
           {
            "colorbar": {
             "outlinewidth": 0,
             "ticks": ""
            },
            "colorscale": [
             [
              0,
              "#0d0887"
             ],
             [
              0.1111111111111111,
              "#46039f"
             ],
             [
              0.2222222222222222,
              "#7201a8"
             ],
             [
              0.3333333333333333,
              "#9c179e"
             ],
             [
              0.4444444444444444,
              "#bd3786"
             ],
             [
              0.5555555555555556,
              "#d8576b"
             ],
             [
              0.6666666666666666,
              "#ed7953"
             ],
             [
              0.7777777777777778,
              "#fb9f3a"
             ],
             [
              0.8888888888888888,
              "#fdca26"
             ],
             [
              1,
              "#f0f921"
             ]
            ],
            "type": "surface"
           }
          ],
          "table": [
           {
            "cells": {
             "fill": {
              "color": "#EBF0F8"
             },
             "line": {
              "color": "white"
             }
            },
            "header": {
             "fill": {
              "color": "#C8D4E3"
             },
             "line": {
              "color": "white"
             }
            },
            "type": "table"
           }
          ]
         },
         "layout": {
          "annotationdefaults": {
           "arrowcolor": "#2a3f5f",
           "arrowhead": 0,
           "arrowwidth": 1
          },
          "autotypenumbers": "strict",
          "coloraxis": {
           "colorbar": {
            "outlinewidth": 0,
            "ticks": ""
           }
          },
          "colorscale": {
           "diverging": [
            [
             0,
             "#8e0152"
            ],
            [
             0.1,
             "#c51b7d"
            ],
            [
             0.2,
             "#de77ae"
            ],
            [
             0.3,
             "#f1b6da"
            ],
            [
             0.4,
             "#fde0ef"
            ],
            [
             0.5,
             "#f7f7f7"
            ],
            [
             0.6,
             "#e6f5d0"
            ],
            [
             0.7,
             "#b8e186"
            ],
            [
             0.8,
             "#7fbc41"
            ],
            [
             0.9,
             "#4d9221"
            ],
            [
             1,
             "#276419"
            ]
           ],
           "sequential": [
            [
             0,
             "#0d0887"
            ],
            [
             0.1111111111111111,
             "#46039f"
            ],
            [
             0.2222222222222222,
             "#7201a8"
            ],
            [
             0.3333333333333333,
             "#9c179e"
            ],
            [
             0.4444444444444444,
             "#bd3786"
            ],
            [
             0.5555555555555556,
             "#d8576b"
            ],
            [
             0.6666666666666666,
             "#ed7953"
            ],
            [
             0.7777777777777778,
             "#fb9f3a"
            ],
            [
             0.8888888888888888,
             "#fdca26"
            ],
            [
             1,
             "#f0f921"
            ]
           ],
           "sequentialminus": [
            [
             0,
             "#0d0887"
            ],
            [
             0.1111111111111111,
             "#46039f"
            ],
            [
             0.2222222222222222,
             "#7201a8"
            ],
            [
             0.3333333333333333,
             "#9c179e"
            ],
            [
             0.4444444444444444,
             "#bd3786"
            ],
            [
             0.5555555555555556,
             "#d8576b"
            ],
            [
             0.6666666666666666,
             "#ed7953"
            ],
            [
             0.7777777777777778,
             "#fb9f3a"
            ],
            [
             0.8888888888888888,
             "#fdca26"
            ],
            [
             1,
             "#f0f921"
            ]
           ]
          },
          "colorway": [
           "#636efa",
           "#EF553B",
           "#00cc96",
           "#ab63fa",
           "#FFA15A",
           "#19d3f3",
           "#FF6692",
           "#B6E880",
           "#FF97FF",
           "#FECB52"
          ],
          "font": {
           "color": "#2a3f5f"
          },
          "geo": {
           "bgcolor": "white",
           "lakecolor": "white",
           "landcolor": "#E5ECF6",
           "showlakes": true,
           "showland": true,
           "subunitcolor": "white"
          },
          "hoverlabel": {
           "align": "left"
          },
          "hovermode": "closest",
          "mapbox": {
           "style": "light"
          },
          "paper_bgcolor": "white",
          "plot_bgcolor": "#E5ECF6",
          "polar": {
           "angularaxis": {
            "gridcolor": "white",
            "linecolor": "white",
            "ticks": ""
           },
           "bgcolor": "#E5ECF6",
           "radialaxis": {
            "gridcolor": "white",
            "linecolor": "white",
            "ticks": ""
           }
          },
          "scene": {
           "xaxis": {
            "backgroundcolor": "#E5ECF6",
            "gridcolor": "white",
            "gridwidth": 2,
            "linecolor": "white",
            "showbackground": true,
            "ticks": "",
            "zerolinecolor": "white"
           },
           "yaxis": {
            "backgroundcolor": "#E5ECF6",
            "gridcolor": "white",
            "gridwidth": 2,
            "linecolor": "white",
            "showbackground": true,
            "ticks": "",
            "zerolinecolor": "white"
           },
           "zaxis": {
            "backgroundcolor": "#E5ECF6",
            "gridcolor": "white",
            "gridwidth": 2,
            "linecolor": "white",
            "showbackground": true,
            "ticks": "",
            "zerolinecolor": "white"
           }
          },
          "shapedefaults": {
           "line": {
            "color": "#2a3f5f"
           }
          },
          "ternary": {
           "aaxis": {
            "gridcolor": "white",
            "linecolor": "white",
            "ticks": ""
           },
           "baxis": {
            "gridcolor": "white",
            "linecolor": "white",
            "ticks": ""
           },
           "bgcolor": "#E5ECF6",
           "caxis": {
            "gridcolor": "white",
            "linecolor": "white",
            "ticks": ""
           }
          },
          "title": {
           "x": 0.05
          },
          "xaxis": {
           "automargin": true,
           "gridcolor": "white",
           "linecolor": "white",
           "ticks": "",
           "title": {
            "standoff": 15
           },
           "zerolinecolor": "white",
           "zerolinewidth": 2
          },
          "yaxis": {
           "automargin": true,
           "gridcolor": "white",
           "linecolor": "white",
           "ticks": "",
           "title": {
            "standoff": 15
           },
           "zerolinecolor": "white",
           "zerolinewidth": 2
          }
         }
        },
        "title": {
         "text": "How common are the days?"
        },
        "xaxis": {
         "anchor": "y",
         "domain": [
          0,
          1
         ],
         "title": {
          "text": "Time"
         }
        },
        "yaxis": {
         "anchor": "x",
         "domain": [
          0,
          1
         ],
         "title": {
          "text": "Percentage of day seen before"
         }
        }
       }
      }
     },
     "metadata": {},
     "output_type": "display_data"
    }
   ],
   "source": [
    "fig = px.line(df_plot, x=\"Time\", y=\"Percentage of day seen before\", title='How common are the days?')\n",
    "fig.show()"
   ]
  },
  {
   "cell_type": "code",
   "execution_count": null,
   "id": "4952cf5f",
   "metadata": {},
   "outputs": [],
   "source": []
  },
  {
   "cell_type": "markdown",
   "id": "a4112a47",
   "metadata": {},
   "source": [
    "## Now based on historical distributions of visited locations\n",
    "\n",
    "Voor elk blok in de dag wil je weten of die samenvalt met wat die persoon vaak op dat moment doet. Dit geeft een beeld van hoe \"routinematig\" de dag is, en daarmee hoe routinematig iemand leeft (en dus hoe voorspelbaar iemand is). <br><br>\n",
    "\n",
    "Elk 10-min block vergelijken we met de distributie van bezochte locaties in het verleden; hoe logisch is de huidige locatie in dit 10-min block gegeven de historische distributie van bezochte locaties op dat \"moment\"? Een moment is een unieke combi van de temporele features: uur vd dag, dag vd week, etc. Elke dag heeft vervolgens 144 probabilities, daarvan nemen we een aggregatie (gemiddelde). Dit is de score voor de dag. "
   ]
  },
  {
   "cell_type": "code",
   "execution_count": 12,
   "id": "5910eb15",
   "metadata": {},
   "outputs": [],
   "source": [
    "df = pd.read_excel(\"output/martijn-100-30-1/resampled_df_10_min.xlsx\", index_col=[0])\n",
    "\n",
    "df[\"day\"] = df[\"timestamp\"].dt.day\n",
    "df[\"weekday\"] = df[\"timestamp\"].dt.dayofweek\n",
    "df[\"hour\"] = df[\"timestamp\"].dt.hour\n",
    "df[\"window_block\"] = ((df['timestamp'].dt.minute * 60 + df['timestamp'].dt.second) // 600).astype(int)\n",
    "\n",
    "from collections import defaultdict\n",
    "res = defaultdict(dict)\n",
    "final_res = defaultdict(dict)\n",
    "THRESHOLD = 10\n",
    "this_day_values = []\n",
    "\n",
    "for idx, row in df.iterrows():\n",
    "    m = (row['weekday'], row['hour'], row['window_block'])\n",
    "\n",
    "    if not 'data' in res[m]:\n",
    "        res[m]['data'] = {}\n",
    "\n",
    "    try:\n",
    "        # Calculate the probability of having this location in this moment\n",
    "        prob = res[m]['data'][row['location']] / sum(res[m]['data'].values())\n",
    "        # print(f\"For {m}, prob of finding {row['location']} in {res[m]['data']} is: {prob}\")\n",
    "    except KeyError:\n",
    "        # The location is not in the dict, so we default to 0. This happens when the location hasn't been visited before in this moment. \n",
    "        # print(f\"For {m}, couldnt find {row['location']} in {res[m]['data']}, so prob is: 0\")\n",
    "        prob = 0\n",
    "    \n",
    "    this_day_values.append(prob)\n",
    "\n",
    "    # Now we update the res dict with data of current window block\n",
    "    if row['location'] in res[m]['data']:\n",
    "        res[m]['data'][row['location']] += 1\n",
    "    else:\n",
    "        res[m]['data'][row['location']] = 1\n",
    "\n",
    "    # If we now exceeded THRESHOLD, remove the last entry (like a rolling window approach)\n",
    "    if sum(res[m]['data'].values()) >= THRESHOLD:\n",
    "        # Minus one for last entry\n",
    "        res[m]['data'][res[m]['meta']['last_location']] -= 1\n",
    "        # print(f\"Threshold exceeded, removing 1 from {res[m]['meta']['last_location']}\")\n",
    "\n",
    "    res[m]['meta'] = {'last_location':row['location']}\n",
    "\n",
    "    # Now we check if this window block is the last one of the day. If so, save score for this day and reset variables for next day.\n",
    "    if row['hour'] == 23 and row['window_block'] == 5:\n",
    "        avg = sum(this_day_values)/len(this_day_values)\n",
    "        # print(f\"End of the day, values for this day: {this_day_values}, which is an avg of: {avg}\")\n",
    "        final_res[row['timestamp'].date()] = avg\n",
    "        this_day_values = []"
   ]
  },
  {
   "cell_type": "code",
   "execution_count": 13,
   "id": "cea900db",
   "metadata": {},
   "outputs": [],
   "source": [
    "x,y = zip(*sorted(final_res.items()))\n",
    "df_plot = pd.DataFrame({\"Time\":x, \"Score\":y})"
   ]
  },
  {
   "cell_type": "code",
   "execution_count": 14,
   "id": "888fb114",
   "metadata": {},
   "outputs": [
    {
     "data": {
      "application/vnd.plotly.v1+json": {
       "config": {
        "plotlyServerURL": "https://plot.ly"
       },
       "data": [
        {
         "hovertemplate": "Time=%{x}<br>Score=%{y}<extra></extra>",
         "legendgroup": "",
         "line": {
          "color": "#636efa",
          "dash": "solid"
         },
         "marker": {
          "symbol": "circle"
         },
         "mode": "lines",
         "name": "",
         "orientation": "v",
         "showlegend": false,
         "type": "scatter",
         "x": [
          "2021-05-01",
          "2021-05-02",
          "2021-05-03",
          "2021-05-04",
          "2021-05-05",
          "2021-05-06",
          "2021-05-07",
          "2021-05-08",
          "2021-05-09",
          "2021-05-10",
          "2021-05-11",
          "2021-05-12",
          "2021-05-13",
          "2021-05-14",
          "2021-05-15",
          "2021-05-16",
          "2021-05-17",
          "2021-05-18",
          "2021-05-19",
          "2021-05-20",
          "2021-05-21",
          "2021-05-22",
          "2021-05-23",
          "2021-05-24",
          "2021-05-25",
          "2021-05-26",
          "2021-05-27",
          "2021-05-28",
          "2021-05-29",
          "2021-05-30",
          "2021-05-31",
          "2021-06-01",
          "2021-06-02",
          "2021-06-03",
          "2021-06-04",
          "2021-06-05",
          "2021-06-06",
          "2021-06-07",
          "2021-06-08",
          "2021-06-09",
          "2021-06-10",
          "2021-06-11",
          "2021-06-12",
          "2021-06-13",
          "2021-06-14",
          "2021-06-15",
          "2021-06-16",
          "2021-06-17",
          "2021-06-18",
          "2021-06-19",
          "2021-06-20",
          "2021-06-21",
          "2021-06-22",
          "2021-06-23",
          "2021-06-24",
          "2021-06-25",
          "2021-06-26",
          "2021-06-27",
          "2021-06-28",
          "2021-06-29",
          "2021-06-30",
          "2021-07-01",
          "2021-07-02",
          "2021-07-03",
          "2021-07-04",
          "2021-07-05",
          "2021-07-06",
          "2021-07-07",
          "2021-07-08",
          "2021-07-09",
          "2021-07-10",
          "2021-07-11",
          "2021-07-12",
          "2021-07-13",
          "2021-07-14",
          "2021-07-15",
          "2021-07-16",
          "2021-07-17",
          "2021-07-18",
          "2021-07-19",
          "2021-07-20",
          "2021-07-21",
          "2021-07-22",
          "2021-07-23",
          "2021-07-24",
          "2021-07-25",
          "2021-07-26",
          "2021-07-27",
          "2021-07-28",
          "2021-07-29",
          "2021-07-30",
          "2021-07-31",
          "2021-08-01",
          "2021-08-02",
          "2021-08-03",
          "2021-08-04",
          "2021-08-05",
          "2021-08-06",
          "2021-08-07",
          "2021-08-08",
          "2021-08-09",
          "2021-08-10",
          "2021-08-11",
          "2021-08-12",
          "2021-08-13",
          "2021-08-14",
          "2021-08-15",
          "2021-08-16",
          "2021-08-17",
          "2021-08-18",
          "2021-08-19",
          "2021-08-20",
          "2021-08-21",
          "2021-08-22",
          "2021-08-23",
          "2021-08-24",
          "2021-08-25",
          "2021-08-26",
          "2021-08-27",
          "2021-08-28",
          "2021-08-29",
          "2021-08-30",
          "2021-08-31",
          "2021-09-01",
          "2021-09-02",
          "2021-09-03",
          "2021-09-04",
          "2021-09-05",
          "2021-09-06",
          "2021-09-07",
          "2021-09-08",
          "2021-09-09",
          "2021-09-10",
          "2021-09-11",
          "2021-09-12",
          "2021-09-13",
          "2021-09-14",
          "2021-09-15",
          "2021-09-16",
          "2021-09-17",
          "2021-09-18",
          "2021-09-19",
          "2021-09-20",
          "2021-09-21",
          "2021-09-22",
          "2021-09-23",
          "2021-09-24",
          "2021-09-25",
          "2021-09-26",
          "2021-09-27",
          "2021-09-28",
          "2021-09-29",
          "2021-09-30",
          "2021-10-01",
          "2021-10-02",
          "2021-10-03",
          "2021-10-04",
          "2021-10-05",
          "2021-10-06",
          "2021-10-07",
          "2021-10-08",
          "2021-10-09",
          "2021-10-10",
          "2021-10-11",
          "2021-10-12",
          "2021-10-13",
          "2021-10-14",
          "2021-10-15",
          "2021-10-16",
          "2021-10-17",
          "2021-10-18",
          "2021-10-19",
          "2021-10-20",
          "2021-10-21",
          "2021-10-22",
          "2021-10-23",
          "2021-10-24",
          "2021-10-25",
          "2021-10-26",
          "2021-10-27",
          "2021-10-28",
          "2021-10-29",
          "2021-10-30",
          "2021-10-31",
          "2021-11-01",
          "2021-11-02",
          "2021-11-03",
          "2021-11-04",
          "2021-11-05",
          "2021-11-06",
          "2021-11-07",
          "2021-11-08",
          "2021-11-09",
          "2021-11-10",
          "2021-11-11",
          "2021-11-12",
          "2021-11-13",
          "2021-11-14",
          "2021-11-15",
          "2021-11-16",
          "2021-11-17",
          "2021-11-18",
          "2021-11-19",
          "2021-11-20",
          "2021-11-21",
          "2021-11-22",
          "2021-11-23",
          "2021-11-24",
          "2021-11-25",
          "2021-11-26",
          "2021-11-27",
          "2021-11-28",
          "2021-11-29",
          "2021-11-30",
          "2021-12-01",
          "2021-12-02",
          "2021-12-03",
          "2021-12-04",
          "2021-12-05",
          "2021-12-06",
          "2021-12-07",
          "2021-12-08",
          "2021-12-09",
          "2021-12-10",
          "2021-12-11",
          "2021-12-12",
          "2021-12-13",
          "2021-12-14",
          "2021-12-15",
          "2021-12-16",
          "2021-12-17",
          "2021-12-18",
          "2021-12-19",
          "2021-12-20",
          "2021-12-21",
          "2021-12-22",
          "2021-12-23",
          "2021-12-24",
          "2021-12-25",
          "2021-12-26",
          "2021-12-27",
          "2021-12-28",
          "2021-12-29",
          "2021-12-30",
          "2021-12-31",
          "2022-01-01",
          "2022-01-02",
          "2022-01-03",
          "2022-01-04",
          "2022-01-05",
          "2022-01-06",
          "2022-01-07",
          "2022-01-08",
          "2022-01-09",
          "2022-01-10",
          "2022-01-11",
          "2022-01-12",
          "2022-01-13",
          "2022-01-14",
          "2022-01-15",
          "2022-01-16",
          "2022-01-17",
          "2022-01-18",
          "2022-01-19",
          "2022-01-20",
          "2022-01-21",
          "2022-01-22",
          "2022-01-23",
          "2022-01-24",
          "2022-01-25",
          "2022-01-26",
          "2022-01-27",
          "2022-01-28",
          "2022-01-29",
          "2022-01-30",
          "2022-01-31",
          "2022-02-01",
          "2022-02-02",
          "2022-02-03",
          "2022-02-04",
          "2022-02-05",
          "2022-02-06",
          "2022-02-07",
          "2022-02-08",
          "2022-02-09",
          "2022-02-10",
          "2022-02-11",
          "2022-02-12",
          "2022-02-13",
          "2022-02-14",
          "2022-02-15",
          "2022-02-16",
          "2022-02-17",
          "2022-02-18",
          "2022-02-19",
          "2022-02-20",
          "2022-02-21",
          "2022-02-22",
          "2022-02-23",
          "2022-02-24",
          "2022-02-25",
          "2022-02-26",
          "2022-02-27",
          "2022-02-28",
          "2022-03-01",
          "2022-03-02",
          "2022-03-03",
          "2022-03-04",
          "2022-03-05",
          "2022-03-06",
          "2022-03-07",
          "2022-03-08",
          "2022-03-09",
          "2022-03-10",
          "2022-03-11",
          "2022-03-12",
          "2022-03-13",
          "2022-03-14",
          "2022-03-15",
          "2022-03-16",
          "2022-03-17",
          "2022-03-18",
          "2022-03-19",
          "2022-03-20",
          "2022-03-21",
          "2022-03-22",
          "2022-03-23",
          "2022-03-24",
          "2022-03-25",
          "2022-03-26",
          "2022-03-27",
          "2022-03-28",
          "2022-03-29",
          "2022-03-30",
          "2022-03-31",
          "2022-04-01",
          "2022-04-02",
          "2022-04-03",
          "2022-04-04",
          "2022-04-05",
          "2022-04-06",
          "2022-04-07",
          "2022-04-08",
          "2022-04-09",
          "2022-04-10",
          "2022-04-11",
          "2022-04-12",
          "2022-04-13",
          "2022-04-14",
          "2022-04-15",
          "2022-04-16",
          "2022-04-17",
          "2022-04-18",
          "2022-04-19",
          "2022-04-20",
          "2022-04-21",
          "2022-04-22",
          "2022-04-23",
          "2022-04-24",
          "2022-04-25",
          "2022-04-26",
          "2022-04-27",
          "2022-04-28",
          "2022-04-29",
          "2022-04-30",
          "2022-05-01",
          "2022-05-02",
          "2022-05-03",
          "2022-05-04",
          "2022-05-05",
          "2022-05-06",
          "2022-05-07",
          "2022-05-08",
          "2022-05-09",
          "2022-05-10",
          "2022-05-11",
          "2022-05-12",
          "2022-05-13",
          "2022-05-14",
          "2022-05-15",
          "2022-05-16",
          "2022-05-17",
          "2022-05-18",
          "2022-05-19",
          "2022-05-20",
          "2022-05-21",
          "2022-05-22",
          "2022-05-23",
          "2022-05-24",
          "2022-05-25",
          "2022-05-26",
          "2022-05-27",
          "2022-05-28",
          "2022-05-29",
          "2022-05-30",
          "2022-05-31",
          "2022-06-01",
          "2022-06-02",
          "2022-06-03",
          "2022-06-04",
          "2022-06-05",
          "2022-06-06",
          "2022-06-07",
          "2022-06-08",
          "2022-06-09",
          "2022-06-10",
          "2022-06-11",
          "2022-06-12",
          "2022-06-13",
          "2022-06-14",
          "2022-06-15",
          "2022-06-16",
          "2022-06-17",
          "2022-06-18",
          "2022-06-19",
          "2022-06-20",
          "2022-06-21",
          "2022-06-22",
          "2022-06-23",
          "2022-06-24",
          "2022-06-25",
          "2022-06-26",
          "2022-06-27",
          "2022-06-28",
          "2022-06-29",
          "2022-06-30",
          "2022-07-01",
          "2022-07-02",
          "2022-07-03",
          "2022-07-04",
          "2022-07-05",
          "2022-07-06",
          "2022-07-07",
          "2022-07-08",
          "2022-07-09",
          "2022-07-10",
          "2022-07-11",
          "2022-07-12",
          "2022-07-13",
          "2022-07-14",
          "2022-07-15",
          "2022-07-16",
          "2022-07-17",
          "2022-07-18",
          "2022-07-19",
          "2022-07-20",
          "2022-07-21",
          "2022-07-22",
          "2022-07-23",
          "2022-07-24",
          "2022-07-25",
          "2022-07-26",
          "2022-07-27",
          "2022-07-28",
          "2022-07-29",
          "2022-07-30",
          "2022-07-31",
          "2022-08-01"
         ],
         "xaxis": "x",
         "y": [
          0,
          0,
          0,
          0,
          0,
          0,
          0,
          0.6388888888888888,
          0.25,
          0.9444444444444444,
          0.9861111111111112,
          0.9375,
          0.9097222222222222,
          1,
          0.8333333333333334,
          0.625,
          0.9131944444444444,
          0.9930555555555556,
          0.8993055555555556,
          0.8854166666666666,
          0.9236111111111112,
          0.819444444444446,
          0.7499999999999998,
          0.8055555555555558,
          0.925925925925926,
          0.956018518518519,
          0.88425925925926,
          0.8587962962962964,
          0.8993055555555556,
          0.4427083333333333,
          0.22916666666666666,
          0.9236111111111112,
          0.9253472222222222,
          0.9027777777777778,
          0.5381944444444444,
          0.9194444444444438,
          0.6236111111111095,
          0.7708333333333324,
          0.9166666666666663,
          0.9166666666666663,
          0.8874999999999992,
          0.8166666666666657,
          0.9328703703703692,
          0.7743055555555568,
          0.7870370370370368,
          0.9282407407407409,
          0.907407407407407,
          0.9039351851851846,
          0.8773148148148134,
          0.9424603174603191,
          0.7003968253968236,
          0.6309523809523806,
          0.8968253968253966,
          0.7817460317460325,
          0.45238095238095233,
          0.7490079365079365,
          0.8732638888888888,
          0.7274305555555556,
          0.7777777777777778,
          0.875,
          0.8394097222222222,
          0.8307291666666666,
          0.7942708333333334,
          0.8869598765432087,
          0.8063271604938257,
          0.8395061728395043,
          0.954475308641974,
          0.7870370370370371,
          0.5007716049382714,
          0.8418209876543207,
          0.9452160493827146,
          0.7291666666666653,
          0.7700617283950603,
          0.9228395061728385,
          0.9174382716049373,
          0.8179012345679003,
          0.8719135802469116,
          0.9521604938271593,
          0.6126543209876545,
          0.7746913580246899,
          0.9598765432098754,
          0.7638888888888886,
          0.8904320987654307,
          0.8726851851851831,
          0.9521604938271593,
          0.7160493827160496,
          0.8348765432098748,
          0.9645061728395051,
          0.8657407407407396,
          0.8981481481481465,
          0.8726851851851831,
          0.7816358024691347,
          0.8155864197530843,
          0.7129629629629624,
          0.8950617283950607,
          0.935956790123456,
          0.8456790123456777,
          0.7322530864197524,
          0.9328703703703687,
          0.7145061728395052,
          0.5802469135802464,
          0,
          0,
          0,
          0,
          0,
          0,
          0,
          0,
          0,
          0,
          0,
          0.09182098765432102,
          0.6967592592592603,
          0.42901234567901264,
          0.7554012345678998,
          0.8317901234567875,
          0.722222222222222,
          0.7453703703703696,
          0.6905864197530845,
          0.8294753086419729,
          0.47067901234567877,
          0.8703703703703698,
          0.9429012345679006,
          0.5200617283950615,
          0.6319444444444433,
          0.8503086419753069,
          0.8348765432098744,
          0.5200617283950624,
          0.8425925925925914,
          0.1203703703703704,
          0.5979938271604945,
          0.6712962962962958,
          0.8896604938271595,
          0.7978395061728375,
          0.5733024691358031,
          0.5270061728395057,
          0.8472222222222201,
          0.5871913580246919,
          0.7577160493827149,
          0.8418209876543199,
          0.6998456790123443,
          0.6018518518518519,
          0.5524691358024705,
          0.805555555555555,
          0.5077160493827171,
          0.8734567901234551,
          0.9143518518518507,
          0.7276234567901217,
          0.7646604938271593,
          0.7908950617283941,
          0.18750000000000006,
          0.8063271604938262,
          0.8927469135802453,
          0.9475308641975295,
          0.8186728395061711,
          0.7939814814814805,
          0.9012345679012334,
          0.7993827160493804,
          0.797839506172838,
          0.7978395061728386,
          0.791666666666666,
          0.6211419753086411,
          0.8387345679012336,
          0.885802469135802,
          0.8912037037037028,
          0.8094135802469121,
          0.6296296296296292,
          0.14583333333333337,
          0.7708333333333321,
          0.756172839506172,
          0.8495370370370359,
          0.9012345679012339,
          0.7916666666666656,
          0.8564814814814812,
          0.8603395061728369,
          0.8016975308641953,
          0.8016975308641966,
          0.8973765432098758,
          0.8587962962962957,
          0.8850308641975291,
          0.8271604938271603,
          0.9521604938271593,
          0.8287037037037014,
          0.7716049382716044,
          0.8973765432098756,
          0.8834876543209872,
          0.8981481481481465,
          0.824845679012346,
          0.9521604938271593,
          0.8348765432098744,
          0.7785493827160482,
          0.8804012345679004,
          0.9344135802469127,
          0.8981481481481465,
          0.7777777777777772,
          0.018518518518518517,
          0.7993827160493807,
          0.7908950617283942,
          0.8950617283950609,
          0.8564814814814811,
          0.8317901234567886,
          0.5694444444444441,
          0,
          0,
          0.2160493827160494,
          0.5408950617283946,
          0.9320987654320978,
          0.8194444444444428,
          0.7399691358024694,
          0.7978395061728366,
          0.7237654320987663,
          0.5925925925925922,
          0.8641975308641958,
          0.8695987654320981,
          0.824845679012344,
          0.8117283950617271,
          0.9305555555555544,
          0.706790123456789,
          0.8233024691358012,
          0.882716049382715,
          0.8726851851851848,
          0.8904320987654302,
          0.8341049382716049,
          0.9490740740740728,
          0.8132716049382702,
          0.5308641975308636,
          0.9089506172839498,
          0.9336419753086411,
          0.8163580246913569,
          0.5979938271604935,
          0.08024691358024694,
          0.8287037037037015,
          0.6720679012345676,
          0.9575617283950605,
          0.9429012345679006,
          0.8873456790123437,
          0.8518518518518514,
          0.8510802469135774,
          0.6512345679012337,
          0.7947530864197512,
          0.6604938271604932,
          0,
          0,
          0,
          0.0308641975308642,
          0.7623456790123445,
          0.842592592592591,
          0.9290123456790105,
          0.4621913580246906,
          0.7870370370370361,
          0.781635802469135,
          0.5756172839506163,
          0.7970679012345658,
          0.8456790123456774,
          0.63966049382716,
          0,
          0,
          0,
          0,
          0,
          0,
          0.037808641975308616,
          0.1018518518518516,
          0.07021604938271592,
          0.13271604938271586,
          0.6466049382716034,
          0.7075617283950625,
          0.44753086419753196,
          0.07330246913580232,
          0.07947530864197513,
          0.09876543209876519,
          0.11959876543209859,
          0.9243827160493807,
          0.5401234567901231,
          0.020061728395061734,
          0.0679012345679011,
          0.07253086419753071,
          0.06249999999999989,
          0.12037037037037031,
          0.7075617283950608,
          0.6180555555555558,
          0.06172839506172829,
          0.0671296296296295,
          0.07175925925925912,
          0.07947530864197513,
          0.04629629629629624,
          0,
          0.0015432098765432098,
          0.09182098765432077,
          0.10802469135802442,
          0.10570987654320961,
          0.07870370370370354,
          0.07638888888888873,
          0.10725308641975281,
          0.10648148148148122,
          0.10108024691358,
          0.10648148148148122,
          0.09336419753086397,
          0.06944444444444431,
          0.16358024691358022,
          0.6087962962962951,
          0.7237654320987663,
          0.4004629629629636,
          0.0686728395061727,
          0.07947530864197513,
          0.10725308641975281,
          0.08950617283950596,
          0,
          0,
          0.014660493827160496,
          0.0648148148148147,
          0.07253086419753071,
          0.09259259259259238,
          0.1412037037037036,
          0.6365740740740724,
          0.665123456790124,
          0.44675925925926063,
          0.09490740740740718,
          0.08179012345678995,
          0.0979938271604936,
          0.07870370370370354,
          0.22376543209876554,
          0.788580246913578,
          0.08564814814814808,
          0.1018518518518516,
          0.07947530864197513,
          0.060185185185185085,
          0.7330246913580245,
          0.6797839506172824,
          0.00462962962962963,
          0.0679012345679011,
          0.05709876543209867,
          0.09645061728395038,
          0.10493827160493802,
          0.006944444444444446,
          0.0015432098765432098,
          0.11111111111111083,
          0.07484567901234553,
          0.1026234567901232,
          0.08410493827160476,
          0.08101851851851834,
          0.0655864197530863,
          0.03703703703703701,
          0.11111111111111083,
          0.1033950617283948,
          0.07330246913580232,
          0.10416666666666641,
          0.09027777777777757,
          0.10802469135802446,
          0.09490740740740743,
          0.4930555555555565,
          0.0671296296296295,
          0.1003086419753084,
          0.1033950617283948,
          0.1018518518518516,
          0.04861111111111104,
          0.10416666666666669,
          0.6489197530864198,
          0.10493827160493802,
          0.0632716049382715,
          0.06944444444444431,
          0.07253086419753071,
          0.07793209876543193,
          0.09722222222222199,
          0.08179012345679015,
          0.6913580246913578,
          0.8533950617283932,
          0.8317901234567875,
          0.7870370370370361,
          0.781635802469135,
          0.8410493827160462,
          0.7345679012345687,
          0.6805555555555544,
          0,
          0,
          0,
          0.07021604938271606,
          0.7854938271604932,
          0.7075617283950603,
          0.01929012345679013,
          0.08873456790123437,
          0.08333333333333315,
          0.08333333333333315,
          0.08641975308641955,
          0,
          0.016975308641975315,
          0.10493827160493802,
          0.07638888888888873,
          0.08101851851851834,
          0.2214506172839506,
          0.781635802469135,
          0.8410493827160462,
          0.47222222222222343,
          0.1003086419753084,
          0.07330246913580232,
          0.08101851851851834,
          0.07870370370370354,
          0.043209876543209874,
          0.5408950617283945,
          0.7862654320987652,
          0.5092592592592602,
          0.07175925925925912,
          0.08256172839506154,
          0.10493827160493802,
          0.0979938271604936,
          0,
          0,
          0.37268518518518495,
          0.6242283950617283,
          0.0995370370370368,
          0.06172839506172829,
          0.12037037037037007,
          0.49614197530864107,
          0.7237654320987663,
          0.28317901234567927,
          0.028549382716049385,
          0.10570987654320961,
          0.08024691358024674,
          0.1512345679012344,
          0.5347222222222233,
          0.5841049382716049,
          0.050154320987654245,
          0.10416666666666641,
          0.09722222222222199,
          0.10108024691358,
          0.07098765432098751,
          0,
          0,
          0.07098765432098751,
          0.04552469135802464,
          0.0316358024691358,
          0.050154320987654245,
          0.04243827160493828,
          0.8410493827160462,
          0.41589506172839635,
          0.06404320987654309,
          0.04861111111111104,
          0.012345679012345684,
          0.04398148148148143,
          0.020061728395061734,
          0,
          0.009259259259259262,
          0.06944444444444431,
          0.0686728395061727,
          0.08641975308641955,
          0.1003086419753084,
          0.10956790123456772,
          0.7384259259259236,
          0.6774691358024706,
          0.09104938271604918,
          0.0995370370370368,
          0.08487654320987635,
          0.07098765432098751,
          0.2469135802469136,
          0.9374999999999984,
          0.6820987654320974,
          0.0655864197530863
         ],
         "yaxis": "y"
        }
       ],
       "layout": {
        "legend": {
         "tracegroupgap": 0
        },
        "template": {
         "data": {
          "bar": [
           {
            "error_x": {
             "color": "#2a3f5f"
            },
            "error_y": {
             "color": "#2a3f5f"
            },
            "marker": {
             "line": {
              "color": "#E5ECF6",
              "width": 0.5
             },
             "pattern": {
              "fillmode": "overlay",
              "size": 10,
              "solidity": 0.2
             }
            },
            "type": "bar"
           }
          ],
          "barpolar": [
           {
            "marker": {
             "line": {
              "color": "#E5ECF6",
              "width": 0.5
             },
             "pattern": {
              "fillmode": "overlay",
              "size": 10,
              "solidity": 0.2
             }
            },
            "type": "barpolar"
           }
          ],
          "carpet": [
           {
            "aaxis": {
             "endlinecolor": "#2a3f5f",
             "gridcolor": "white",
             "linecolor": "white",
             "minorgridcolor": "white",
             "startlinecolor": "#2a3f5f"
            },
            "baxis": {
             "endlinecolor": "#2a3f5f",
             "gridcolor": "white",
             "linecolor": "white",
             "minorgridcolor": "white",
             "startlinecolor": "#2a3f5f"
            },
            "type": "carpet"
           }
          ],
          "choropleth": [
           {
            "colorbar": {
             "outlinewidth": 0,
             "ticks": ""
            },
            "type": "choropleth"
           }
          ],
          "contour": [
           {
            "colorbar": {
             "outlinewidth": 0,
             "ticks": ""
            },
            "colorscale": [
             [
              0,
              "#0d0887"
             ],
             [
              0.1111111111111111,
              "#46039f"
             ],
             [
              0.2222222222222222,
              "#7201a8"
             ],
             [
              0.3333333333333333,
              "#9c179e"
             ],
             [
              0.4444444444444444,
              "#bd3786"
             ],
             [
              0.5555555555555556,
              "#d8576b"
             ],
             [
              0.6666666666666666,
              "#ed7953"
             ],
             [
              0.7777777777777778,
              "#fb9f3a"
             ],
             [
              0.8888888888888888,
              "#fdca26"
             ],
             [
              1,
              "#f0f921"
             ]
            ],
            "type": "contour"
           }
          ],
          "contourcarpet": [
           {
            "colorbar": {
             "outlinewidth": 0,
             "ticks": ""
            },
            "type": "contourcarpet"
           }
          ],
          "heatmap": [
           {
            "colorbar": {
             "outlinewidth": 0,
             "ticks": ""
            },
            "colorscale": [
             [
              0,
              "#0d0887"
             ],
             [
              0.1111111111111111,
              "#46039f"
             ],
             [
              0.2222222222222222,
              "#7201a8"
             ],
             [
              0.3333333333333333,
              "#9c179e"
             ],
             [
              0.4444444444444444,
              "#bd3786"
             ],
             [
              0.5555555555555556,
              "#d8576b"
             ],
             [
              0.6666666666666666,
              "#ed7953"
             ],
             [
              0.7777777777777778,
              "#fb9f3a"
             ],
             [
              0.8888888888888888,
              "#fdca26"
             ],
             [
              1,
              "#f0f921"
             ]
            ],
            "type": "heatmap"
           }
          ],
          "heatmapgl": [
           {
            "colorbar": {
             "outlinewidth": 0,
             "ticks": ""
            },
            "colorscale": [
             [
              0,
              "#0d0887"
             ],
             [
              0.1111111111111111,
              "#46039f"
             ],
             [
              0.2222222222222222,
              "#7201a8"
             ],
             [
              0.3333333333333333,
              "#9c179e"
             ],
             [
              0.4444444444444444,
              "#bd3786"
             ],
             [
              0.5555555555555556,
              "#d8576b"
             ],
             [
              0.6666666666666666,
              "#ed7953"
             ],
             [
              0.7777777777777778,
              "#fb9f3a"
             ],
             [
              0.8888888888888888,
              "#fdca26"
             ],
             [
              1,
              "#f0f921"
             ]
            ],
            "type": "heatmapgl"
           }
          ],
          "histogram": [
           {
            "marker": {
             "pattern": {
              "fillmode": "overlay",
              "size": 10,
              "solidity": 0.2
             }
            },
            "type": "histogram"
           }
          ],
          "histogram2d": [
           {
            "colorbar": {
             "outlinewidth": 0,
             "ticks": ""
            },
            "colorscale": [
             [
              0,
              "#0d0887"
             ],
             [
              0.1111111111111111,
              "#46039f"
             ],
             [
              0.2222222222222222,
              "#7201a8"
             ],
             [
              0.3333333333333333,
              "#9c179e"
             ],
             [
              0.4444444444444444,
              "#bd3786"
             ],
             [
              0.5555555555555556,
              "#d8576b"
             ],
             [
              0.6666666666666666,
              "#ed7953"
             ],
             [
              0.7777777777777778,
              "#fb9f3a"
             ],
             [
              0.8888888888888888,
              "#fdca26"
             ],
             [
              1,
              "#f0f921"
             ]
            ],
            "type": "histogram2d"
           }
          ],
          "histogram2dcontour": [
           {
            "colorbar": {
             "outlinewidth": 0,
             "ticks": ""
            },
            "colorscale": [
             [
              0,
              "#0d0887"
             ],
             [
              0.1111111111111111,
              "#46039f"
             ],
             [
              0.2222222222222222,
              "#7201a8"
             ],
             [
              0.3333333333333333,
              "#9c179e"
             ],
             [
              0.4444444444444444,
              "#bd3786"
             ],
             [
              0.5555555555555556,
              "#d8576b"
             ],
             [
              0.6666666666666666,
              "#ed7953"
             ],
             [
              0.7777777777777778,
              "#fb9f3a"
             ],
             [
              0.8888888888888888,
              "#fdca26"
             ],
             [
              1,
              "#f0f921"
             ]
            ],
            "type": "histogram2dcontour"
           }
          ],
          "mesh3d": [
           {
            "colorbar": {
             "outlinewidth": 0,
             "ticks": ""
            },
            "type": "mesh3d"
           }
          ],
          "parcoords": [
           {
            "line": {
             "colorbar": {
              "outlinewidth": 0,
              "ticks": ""
             }
            },
            "type": "parcoords"
           }
          ],
          "pie": [
           {
            "automargin": true,
            "type": "pie"
           }
          ],
          "scatter": [
           {
            "fillpattern": {
             "fillmode": "overlay",
             "size": 10,
             "solidity": 0.2
            },
            "type": "scatter"
           }
          ],
          "scatter3d": [
           {
            "line": {
             "colorbar": {
              "outlinewidth": 0,
              "ticks": ""
             }
            },
            "marker": {
             "colorbar": {
              "outlinewidth": 0,
              "ticks": ""
             }
            },
            "type": "scatter3d"
           }
          ],
          "scattercarpet": [
           {
            "marker": {
             "colorbar": {
              "outlinewidth": 0,
              "ticks": ""
             }
            },
            "type": "scattercarpet"
           }
          ],
          "scattergeo": [
           {
            "marker": {
             "colorbar": {
              "outlinewidth": 0,
              "ticks": ""
             }
            },
            "type": "scattergeo"
           }
          ],
          "scattergl": [
           {
            "marker": {
             "colorbar": {
              "outlinewidth": 0,
              "ticks": ""
             }
            },
            "type": "scattergl"
           }
          ],
          "scattermapbox": [
           {
            "marker": {
             "colorbar": {
              "outlinewidth": 0,
              "ticks": ""
             }
            },
            "type": "scattermapbox"
           }
          ],
          "scatterpolar": [
           {
            "marker": {
             "colorbar": {
              "outlinewidth": 0,
              "ticks": ""
             }
            },
            "type": "scatterpolar"
           }
          ],
          "scatterpolargl": [
           {
            "marker": {
             "colorbar": {
              "outlinewidth": 0,
              "ticks": ""
             }
            },
            "type": "scatterpolargl"
           }
          ],
          "scatterternary": [
           {
            "marker": {
             "colorbar": {
              "outlinewidth": 0,
              "ticks": ""
             }
            },
            "type": "scatterternary"
           }
          ],
          "surface": [
           {
            "colorbar": {
             "outlinewidth": 0,
             "ticks": ""
            },
            "colorscale": [
             [
              0,
              "#0d0887"
             ],
             [
              0.1111111111111111,
              "#46039f"
             ],
             [
              0.2222222222222222,
              "#7201a8"
             ],
             [
              0.3333333333333333,
              "#9c179e"
             ],
             [
              0.4444444444444444,
              "#bd3786"
             ],
             [
              0.5555555555555556,
              "#d8576b"
             ],
             [
              0.6666666666666666,
              "#ed7953"
             ],
             [
              0.7777777777777778,
              "#fb9f3a"
             ],
             [
              0.8888888888888888,
              "#fdca26"
             ],
             [
              1,
              "#f0f921"
             ]
            ],
            "type": "surface"
           }
          ],
          "table": [
           {
            "cells": {
             "fill": {
              "color": "#EBF0F8"
             },
             "line": {
              "color": "white"
             }
            },
            "header": {
             "fill": {
              "color": "#C8D4E3"
             },
             "line": {
              "color": "white"
             }
            },
            "type": "table"
           }
          ]
         },
         "layout": {
          "annotationdefaults": {
           "arrowcolor": "#2a3f5f",
           "arrowhead": 0,
           "arrowwidth": 1
          },
          "autotypenumbers": "strict",
          "coloraxis": {
           "colorbar": {
            "outlinewidth": 0,
            "ticks": ""
           }
          },
          "colorscale": {
           "diverging": [
            [
             0,
             "#8e0152"
            ],
            [
             0.1,
             "#c51b7d"
            ],
            [
             0.2,
             "#de77ae"
            ],
            [
             0.3,
             "#f1b6da"
            ],
            [
             0.4,
             "#fde0ef"
            ],
            [
             0.5,
             "#f7f7f7"
            ],
            [
             0.6,
             "#e6f5d0"
            ],
            [
             0.7,
             "#b8e186"
            ],
            [
             0.8,
             "#7fbc41"
            ],
            [
             0.9,
             "#4d9221"
            ],
            [
             1,
             "#276419"
            ]
           ],
           "sequential": [
            [
             0,
             "#0d0887"
            ],
            [
             0.1111111111111111,
             "#46039f"
            ],
            [
             0.2222222222222222,
             "#7201a8"
            ],
            [
             0.3333333333333333,
             "#9c179e"
            ],
            [
             0.4444444444444444,
             "#bd3786"
            ],
            [
             0.5555555555555556,
             "#d8576b"
            ],
            [
             0.6666666666666666,
             "#ed7953"
            ],
            [
             0.7777777777777778,
             "#fb9f3a"
            ],
            [
             0.8888888888888888,
             "#fdca26"
            ],
            [
             1,
             "#f0f921"
            ]
           ],
           "sequentialminus": [
            [
             0,
             "#0d0887"
            ],
            [
             0.1111111111111111,
             "#46039f"
            ],
            [
             0.2222222222222222,
             "#7201a8"
            ],
            [
             0.3333333333333333,
             "#9c179e"
            ],
            [
             0.4444444444444444,
             "#bd3786"
            ],
            [
             0.5555555555555556,
             "#d8576b"
            ],
            [
             0.6666666666666666,
             "#ed7953"
            ],
            [
             0.7777777777777778,
             "#fb9f3a"
            ],
            [
             0.8888888888888888,
             "#fdca26"
            ],
            [
             1,
             "#f0f921"
            ]
           ]
          },
          "colorway": [
           "#636efa",
           "#EF553B",
           "#00cc96",
           "#ab63fa",
           "#FFA15A",
           "#19d3f3",
           "#FF6692",
           "#B6E880",
           "#FF97FF",
           "#FECB52"
          ],
          "font": {
           "color": "#2a3f5f"
          },
          "geo": {
           "bgcolor": "white",
           "lakecolor": "white",
           "landcolor": "#E5ECF6",
           "showlakes": true,
           "showland": true,
           "subunitcolor": "white"
          },
          "hoverlabel": {
           "align": "left"
          },
          "hovermode": "closest",
          "mapbox": {
           "style": "light"
          },
          "paper_bgcolor": "white",
          "plot_bgcolor": "#E5ECF6",
          "polar": {
           "angularaxis": {
            "gridcolor": "white",
            "linecolor": "white",
            "ticks": ""
           },
           "bgcolor": "#E5ECF6",
           "radialaxis": {
            "gridcolor": "white",
            "linecolor": "white",
            "ticks": ""
           }
          },
          "scene": {
           "xaxis": {
            "backgroundcolor": "#E5ECF6",
            "gridcolor": "white",
            "gridwidth": 2,
            "linecolor": "white",
            "showbackground": true,
            "ticks": "",
            "zerolinecolor": "white"
           },
           "yaxis": {
            "backgroundcolor": "#E5ECF6",
            "gridcolor": "white",
            "gridwidth": 2,
            "linecolor": "white",
            "showbackground": true,
            "ticks": "",
            "zerolinecolor": "white"
           },
           "zaxis": {
            "backgroundcolor": "#E5ECF6",
            "gridcolor": "white",
            "gridwidth": 2,
            "linecolor": "white",
            "showbackground": true,
            "ticks": "",
            "zerolinecolor": "white"
           }
          },
          "shapedefaults": {
           "line": {
            "color": "#2a3f5f"
           }
          },
          "ternary": {
           "aaxis": {
            "gridcolor": "white",
            "linecolor": "white",
            "ticks": ""
           },
           "baxis": {
            "gridcolor": "white",
            "linecolor": "white",
            "ticks": ""
           },
           "bgcolor": "#E5ECF6",
           "caxis": {
            "gridcolor": "white",
            "linecolor": "white",
            "ticks": ""
           }
          },
          "title": {
           "x": 0.05
          },
          "xaxis": {
           "automargin": true,
           "gridcolor": "white",
           "linecolor": "white",
           "ticks": "",
           "title": {
            "standoff": 15
           },
           "zerolinecolor": "white",
           "zerolinewidth": 2
          },
          "yaxis": {
           "automargin": true,
           "gridcolor": "white",
           "linecolor": "white",
           "ticks": "",
           "title": {
            "standoff": 15
           },
           "zerolinecolor": "white",
           "zerolinewidth": 2
          }
         }
        },
        "title": {
         "text": "How common are the days?"
        },
        "xaxis": {
         "anchor": "y",
         "domain": [
          0,
          1
         ],
         "title": {
          "text": "Time"
         }
        },
        "yaxis": {
         "anchor": "x",
         "domain": [
          0,
          1
         ],
         "title": {
          "text": "Score"
         }
        }
       }
      }
     },
     "metadata": {},
     "output_type": "display_data"
    }
   ],
   "source": [
    "import plotly.express as px\n",
    "import plotly.graph_objects as go\n",
    "\n",
    "fig = px.line(df_plot, x=\"Time\", y=\"Score\", title='How common are the days?')\n",
    "fig.show()"
   ]
  },
  {
   "cell_type": "code",
   "execution_count": 15,
   "id": "4d054192",
   "metadata": {},
   "outputs": [
    {
     "data": {
      "application/vnd.plotly.v1+json": {
       "config": {
        "plotlyServerURL": "https://plot.ly"
       },
       "data": [
        {
         "name": "Savitzky-Golay",
         "type": "scatter",
         "x": [
          "2021-05-01",
          "2021-05-02",
          "2021-05-03",
          "2021-05-04",
          "2021-05-05",
          "2021-05-06",
          "2021-05-07",
          "2021-05-08",
          "2021-05-09",
          "2021-05-10",
          "2021-05-11",
          "2021-05-12",
          "2021-05-13",
          "2021-05-14",
          "2021-05-15",
          "2021-05-16",
          "2021-05-17",
          "2021-05-18",
          "2021-05-19",
          "2021-05-20",
          "2021-05-21",
          "2021-05-22",
          "2021-05-23",
          "2021-05-24",
          "2021-05-25",
          "2021-05-26",
          "2021-05-27",
          "2021-05-28",
          "2021-05-29",
          "2021-05-30",
          "2021-05-31",
          "2021-06-01",
          "2021-06-02",
          "2021-06-03",
          "2021-06-04",
          "2021-06-05",
          "2021-06-06",
          "2021-06-07",
          "2021-06-08",
          "2021-06-09",
          "2021-06-10",
          "2021-06-11",
          "2021-06-12",
          "2021-06-13",
          "2021-06-14",
          "2021-06-15",
          "2021-06-16",
          "2021-06-17",
          "2021-06-18",
          "2021-06-19",
          "2021-06-20",
          "2021-06-21",
          "2021-06-22",
          "2021-06-23",
          "2021-06-24",
          "2021-06-25",
          "2021-06-26",
          "2021-06-27",
          "2021-06-28",
          "2021-06-29",
          "2021-06-30",
          "2021-07-01",
          "2021-07-02",
          "2021-07-03",
          "2021-07-04",
          "2021-07-05",
          "2021-07-06",
          "2021-07-07",
          "2021-07-08",
          "2021-07-09",
          "2021-07-10",
          "2021-07-11",
          "2021-07-12",
          "2021-07-13",
          "2021-07-14",
          "2021-07-15",
          "2021-07-16",
          "2021-07-17",
          "2021-07-18",
          "2021-07-19",
          "2021-07-20",
          "2021-07-21",
          "2021-07-22",
          "2021-07-23",
          "2021-07-24",
          "2021-07-25",
          "2021-07-26",
          "2021-07-27",
          "2021-07-28",
          "2021-07-29",
          "2021-07-30",
          "2021-07-31",
          "2021-08-01",
          "2021-08-02",
          "2021-08-03",
          "2021-08-04",
          "2021-08-05",
          "2021-08-06",
          "2021-08-07",
          "2021-08-08",
          "2021-08-09",
          "2021-08-10",
          "2021-08-11",
          "2021-08-12",
          "2021-08-13",
          "2021-08-14",
          "2021-08-15",
          "2021-08-16",
          "2021-08-17",
          "2021-08-18",
          "2021-08-19",
          "2021-08-20",
          "2021-08-21",
          "2021-08-22",
          "2021-08-23",
          "2021-08-24",
          "2021-08-25",
          "2021-08-26",
          "2021-08-27",
          "2021-08-28",
          "2021-08-29",
          "2021-08-30",
          "2021-08-31",
          "2021-09-01",
          "2021-09-02",
          "2021-09-03",
          "2021-09-04",
          "2021-09-05",
          "2021-09-06",
          "2021-09-07",
          "2021-09-08",
          "2021-09-09",
          "2021-09-10",
          "2021-09-11",
          "2021-09-12",
          "2021-09-13",
          "2021-09-14",
          "2021-09-15",
          "2021-09-16",
          "2021-09-17",
          "2021-09-18",
          "2021-09-19",
          "2021-09-20",
          "2021-09-21",
          "2021-09-22",
          "2021-09-23",
          "2021-09-24",
          "2021-09-25",
          "2021-09-26",
          "2021-09-27",
          "2021-09-28",
          "2021-09-29",
          "2021-09-30",
          "2021-10-01",
          "2021-10-02",
          "2021-10-03",
          "2021-10-04",
          "2021-10-05",
          "2021-10-06",
          "2021-10-07",
          "2021-10-08",
          "2021-10-09",
          "2021-10-10",
          "2021-10-11",
          "2021-10-12",
          "2021-10-13",
          "2021-10-14",
          "2021-10-15",
          "2021-10-16",
          "2021-10-17",
          "2021-10-18",
          "2021-10-19",
          "2021-10-20",
          "2021-10-21",
          "2021-10-22",
          "2021-10-23",
          "2021-10-24",
          "2021-10-25",
          "2021-10-26",
          "2021-10-27",
          "2021-10-28",
          "2021-10-29",
          "2021-10-30",
          "2021-10-31",
          "2021-11-01",
          "2021-11-02",
          "2021-11-03",
          "2021-11-04",
          "2021-11-05",
          "2021-11-06",
          "2021-11-07",
          "2021-11-08",
          "2021-11-09",
          "2021-11-10",
          "2021-11-11",
          "2021-11-12",
          "2021-11-13",
          "2021-11-14",
          "2021-11-15",
          "2021-11-16",
          "2021-11-17",
          "2021-11-18",
          "2021-11-19",
          "2021-11-20",
          "2021-11-21",
          "2021-11-22",
          "2021-11-23",
          "2021-11-24",
          "2021-11-25",
          "2021-11-26",
          "2021-11-27",
          "2021-11-28",
          "2021-11-29",
          "2021-11-30",
          "2021-12-01",
          "2021-12-02",
          "2021-12-03",
          "2021-12-04",
          "2021-12-05",
          "2021-12-06",
          "2021-12-07",
          "2021-12-08",
          "2021-12-09",
          "2021-12-10",
          "2021-12-11",
          "2021-12-12",
          "2021-12-13",
          "2021-12-14",
          "2021-12-15",
          "2021-12-16",
          "2021-12-17",
          "2021-12-18",
          "2021-12-19",
          "2021-12-20",
          "2021-12-21",
          "2021-12-22",
          "2021-12-23",
          "2021-12-24",
          "2021-12-25",
          "2021-12-26",
          "2021-12-27",
          "2021-12-28",
          "2021-12-29",
          "2021-12-30",
          "2021-12-31",
          "2022-01-01",
          "2022-01-02",
          "2022-01-03",
          "2022-01-04",
          "2022-01-05",
          "2022-01-06",
          "2022-01-07",
          "2022-01-08",
          "2022-01-09",
          "2022-01-10",
          "2022-01-11",
          "2022-01-12",
          "2022-01-13",
          "2022-01-14",
          "2022-01-15",
          "2022-01-16",
          "2022-01-17",
          "2022-01-18",
          "2022-01-19",
          "2022-01-20",
          "2022-01-21",
          "2022-01-22",
          "2022-01-23",
          "2022-01-24",
          "2022-01-25",
          "2022-01-26",
          "2022-01-27",
          "2022-01-28",
          "2022-01-29",
          "2022-01-30",
          "2022-01-31",
          "2022-02-01",
          "2022-02-02",
          "2022-02-03",
          "2022-02-04",
          "2022-02-05",
          "2022-02-06",
          "2022-02-07",
          "2022-02-08",
          "2022-02-09",
          "2022-02-10",
          "2022-02-11",
          "2022-02-12",
          "2022-02-13",
          "2022-02-14",
          "2022-02-15",
          "2022-02-16",
          "2022-02-17",
          "2022-02-18",
          "2022-02-19",
          "2022-02-20",
          "2022-02-21",
          "2022-02-22",
          "2022-02-23",
          "2022-02-24",
          "2022-02-25",
          "2022-02-26",
          "2022-02-27",
          "2022-02-28",
          "2022-03-01",
          "2022-03-02",
          "2022-03-03",
          "2022-03-04",
          "2022-03-05",
          "2022-03-06",
          "2022-03-07",
          "2022-03-08",
          "2022-03-09",
          "2022-03-10",
          "2022-03-11",
          "2022-03-12",
          "2022-03-13",
          "2022-03-14",
          "2022-03-15",
          "2022-03-16",
          "2022-03-17",
          "2022-03-18",
          "2022-03-19",
          "2022-03-20",
          "2022-03-21",
          "2022-03-22",
          "2022-03-23",
          "2022-03-24",
          "2022-03-25",
          "2022-03-26",
          "2022-03-27",
          "2022-03-28",
          "2022-03-29",
          "2022-03-30",
          "2022-03-31",
          "2022-04-01",
          "2022-04-02",
          "2022-04-03",
          "2022-04-04",
          "2022-04-05",
          "2022-04-06",
          "2022-04-07",
          "2022-04-08",
          "2022-04-09",
          "2022-04-10",
          "2022-04-11",
          "2022-04-12",
          "2022-04-13",
          "2022-04-14",
          "2022-04-15",
          "2022-04-16",
          "2022-04-17",
          "2022-04-18",
          "2022-04-19",
          "2022-04-20",
          "2022-04-21",
          "2022-04-22",
          "2022-04-23",
          "2022-04-24",
          "2022-04-25",
          "2022-04-26",
          "2022-04-27",
          "2022-04-28",
          "2022-04-29",
          "2022-04-30",
          "2022-05-01",
          "2022-05-02",
          "2022-05-03",
          "2022-05-04",
          "2022-05-05",
          "2022-05-06",
          "2022-05-07",
          "2022-05-08",
          "2022-05-09",
          "2022-05-10",
          "2022-05-11",
          "2022-05-12",
          "2022-05-13",
          "2022-05-14",
          "2022-05-15",
          "2022-05-16",
          "2022-05-17",
          "2022-05-18",
          "2022-05-19",
          "2022-05-20",
          "2022-05-21",
          "2022-05-22",
          "2022-05-23",
          "2022-05-24",
          "2022-05-25",
          "2022-05-26",
          "2022-05-27",
          "2022-05-28",
          "2022-05-29",
          "2022-05-30",
          "2022-05-31",
          "2022-06-01",
          "2022-06-02",
          "2022-06-03",
          "2022-06-04",
          "2022-06-05",
          "2022-06-06",
          "2022-06-07",
          "2022-06-08",
          "2022-06-09",
          "2022-06-10",
          "2022-06-11",
          "2022-06-12",
          "2022-06-13",
          "2022-06-14",
          "2022-06-15",
          "2022-06-16",
          "2022-06-17",
          "2022-06-18",
          "2022-06-19",
          "2022-06-20",
          "2022-06-21",
          "2022-06-22",
          "2022-06-23",
          "2022-06-24",
          "2022-06-25",
          "2022-06-26",
          "2022-06-27",
          "2022-06-28",
          "2022-06-29",
          "2022-06-30",
          "2022-07-01",
          "2022-07-02",
          "2022-07-03",
          "2022-07-04",
          "2022-07-05",
          "2022-07-06",
          "2022-07-07",
          "2022-07-08",
          "2022-07-09",
          "2022-07-10",
          "2022-07-11",
          "2022-07-12",
          "2022-07-13",
          "2022-07-14",
          "2022-07-15",
          "2022-07-16",
          "2022-07-17",
          "2022-07-18",
          "2022-07-19",
          "2022-07-20",
          "2022-07-21",
          "2022-07-22",
          "2022-07-23",
          "2022-07-24",
          "2022-07-25",
          "2022-07-26",
          "2022-07-27",
          "2022-07-28",
          "2022-07-29",
          "2022-07-30",
          "2022-07-31",
          "2022-08-01"
         ],
         "y": [
          -0.06159616349833767,
          -0.05678660584267009,
          -0.025671990417413852,
          0.02785631305199883,
          0.09990693484013584,
          0.1865885052215649,
          0.28400965447085386,
          0.38827901286257066,
          0.495505210671283,
          0.6017968781715588,
          0.7379090382996664,
          0.8189959490740772,
          0.8875749684343469,
          0.9309303977272764,
          0.9443589541245829,
          0.9341448337542124,
          0.9037094030583649,
          0.9055288124298577,
          0.8596871492704863,
          0.8831577493686905,
          0.9102064481621812,
          0.8759165000701497,
          0.8469460227272764,
          0.8349716785914738,
          0.8381238601290719,
          0.7901799242424277,
          0.7833983936588137,
          0.7729444619809236,
          0.7517042824074105,
          0.7376900077160522,
          0.7369388327721688,
          0.7387013362794641,
          0.7288471520763214,
          0.7363580246913605,
          0.7537344802188576,
          0.7704471801346826,
          0.7927198197250306,
          0.8203879945286221,
          0.859848572530867,
          0.8587533256673908,
          0.8414785190696676,
          0.8659926960578032,
          0.8712609352453132,
          0.8872766228755842,
          0.8889267426246624,
          0.8854470298220332,
          0.8482627678070417,
          0.828041551426971,
          0.8134977377946158,
          0.7958961890732754,
          0.783979342657731,
          0.7699238478535383,
          0.7701987790855005,
          0.7545331320396453,
          0.7464655702611461,
          0.7490670229494043,
          0.7490103529925608,
          0.7677135890569079,
          0.8038138546927639,
          0.8193241995433865,
          0.8143442892466358,
          0.8177501025048797,
          0.8355989468511199,
          0.8369989421747263,
          0.8114750921500077,
          0.8100317775556514,
          0.8144557920057075,
          0.8041008683478323,
          0.8187586586349628,
          0.8235271186985618,
          0.8145372270155277,
          0.8216686906682589,
          0.8160679421530139,
          0.8215219322858236,
          0.8186789772727295,
          0.8361394617471027,
          0.8539521371118614,
          0.8537358539094673,
          0.8352351641414162,
          0.834998713991772,
          0.8475378787878811,
          0.8492669753086444,
          0.8457342522446712,
          0.858239513187432,
          0.8578177609427632,
          0.8504088921623663,
          0.8556616512345699,
          0.8761574074074095,
          0.85304579358399,
          0.8521993663486739,
          0.8690565960531258,
          0.896302434062853,
          0.9047088360456437,
          0.8886141507669306,
          0.8599689019827931,
          0.7951464880284344,
          0.7219305321735895,
          0.6490197109988795,
          0.5630898101384229,
          0.4762497661803231,
          0.3875832982603826,
          0.29314616068088367,
          0.19910797792742282,
          0.07014853395061735,
          0.0032182355967076658,
          -0.051126718574635355,
          -0.07637222923681264,
          -0.06443310419004869,
          -0.001313774317246448,
          0.08653607837635656,
          0.18569637345679088,
          0.28150106387953705,
          0.34824664468761796,
          0.41673652029554925,
          0.5148554409839146,
          0.5936272446689129,
          0.6487250982042666,
          0.6987490647212888,
          0.7573027731013862,
          0.7735544098391338,
          0.8170776047512178,
          0.7905229961653593,
          0.7419490039281723,
          0.7161820753834662,
          0.67802153479237,
          0.6770798260381613,
          0.6836165474186326,
          0.6608641390759467,
          0.6626747802095043,
          0.648253659277967,
          0.6452993476430995,
          0.6276193649457558,
          0.6455165076692874,
          0.6772657126823811,
          0.6602202581369269,
          0.6700415614478133,
          0.6719033506359914,
          0.6842639356528266,
          0.6922877501870577,
          0.7243014637111882,
          0.6947241512345701,
          0.7261278876730289,
          0.7057227366255167,
          0.7039714272353185,
          0.7045144734380867,
          0.7033062102506569,
          0.6970755003741136,
          0.7095994668911356,
          0.7133771160680904,
          0.7293452464459429,
          0.7553813598952506,
          0.7735295664983182,
          0.7915702160493844,
          0.7814244879349062,
          0.7872489361204655,
          0.7697267817059499,
          0.7849744552001514,
          0.818538393191173,
          0.8620411288814084,
          0.8494721520763209,
          0.8419212378413788,
          0.7733582935839902,
          0.7415006546951011,
          0.7297111742424262,
          0.7243578727085692,
          0.716249590815565,
          0.7140984497755352,
          0.7239647633744877,
          0.7247039258323998,
          0.733104774597832,
          0.7438081626449703,
          0.7617602529928937,
          0.7580521651702228,
          0.7812993944070352,
          0.8149179877478508,
          0.8443693298728041,
          0.8743368289375255,
          0.8898700547138071,
          0.859660552282082,
          0.8546670407781539,
          0.8555742611298187,
          0.8639058408155653,
          0.8681733422184833,
          0.8615898569023593,
          0.8634539842873201,
          0.8737218831836913,
          0.9193298728020973,
          0.8886261340254421,
          0.8661133908529765,
          0.8361023428731783,
          0.8154242073512926,
          0.7948545057052021,
          0.8025465885708962,
          0.8287349770856736,
          0.8236698583052771,
          0.793115179573515,
          0.7329101197156773,
          0.6550212775907238,
          0.5954647750654712,
          0.5645202020202037,
          0.5334028946876185,
          0.5134911031612435,
          0.5185208567153026,
          0.5205442737560808,
          0.5389374064721303,
          0.5674859123643863,
          0.5366965371305665,
          0.5542563949682021,
          0.5979564160119731,
          0.6503931093340833,
          0.7098265642536495,
          0.7823021885521905,
          0.8419647867564557,
          0.8531960227272749,
          0.8337772984474395,
          0.8197066147587002,
          0.8306841563786029,
          0.8364361204639005,
          0.8383844229330362,
          0.8441723367938668,
          0.865077861952864,
          0.9004845912832048,
          0.8515584081556327,
          0.8318406869622172,
          0.7952794729704473,
          0.7651491769547346,
          0.7441539234942035,
          0.7408880471380492,
          0.7239621329031073,
          0.7284716376730286,
          0.726540287130567,
          0.7356314884960738,
          0.7842431841563806,
          0.8060243640104773,
          0.8184168069584756,
          0.8035493827160514,
          0.70575722502806,
          0.6422132201646106,
          0.5963050645342326,
          0.5907158973999264,
          0.5490945332959234,
          0.465206755050506,
          0.44955077394313586,
          0.4121203352974194,
          0.4072846520763196,
          0.43411516788252996,
          0.5066138818742996,
          0.5666593598017223,
          0.6194613963711201,
          0.6491366208380114,
          0.6834876543209891,
          0.7043408623269751,
          0.6564905419940157,
          0.5779838313692495,
          0.4764058408155642,
          0.34779449588477446,
          0.23628296857463585,
          0.1533222853535356,
          0.12396680929667044,
          0.09706351711560049,
          0.09604961653572787,
          0.10373497708567189,
          0.1039170641601202,
          0.08684092078189354,
          0.1432434881219609,
          0.24503659277964912,
          0.2925943462401806,
          0.3270470912832035,
          0.349145096801348,
          0.3543364782080071,
          0.31368078937523486,
          0.28595766694725117,
          0.29611333239805543,
          0.29437575991395526,
          0.27438242377478567,
          0.2439469930789382,
          0.2515589927048266,
          0.27505523989899056,
          0.28413738075196493,
          0.25461706182192373,
          0.21641647961092478,
          0.17260539421997811,
          0.12537937242798397,
          0.1483571244855972,
          0.15927445753834688,
          0.13520389075944672,
          0.11078171763935682,
          0.08272277169846633,
          0.050946677422371925,
          0.02159295501309384,
          0.04002525252525248,
          0.04891507669285455,
          0.036173657875046686,
          0.061807309203142466,
          0.11292964365881045,
          0.15760089319117135,
          0.19161961045641654,
          0.2159315960531245,
          0.236515326879911,
          0.25336115787504765,
          0.2622881009165741,
          0.26098718668163207,
          0.2515186588103265,
          0.2348259797044528,
          0.213045092124954,
          0.16013432940516345,
          0.1194312920875425,
          0.10502127759072226,
          0.11351010101010126,
          0.1104008838383841,
          0.10385831696595614,
          0.13401257949869094,
          0.1778315563037791,
          0.18073121258885227,
          0.22304789796109326,
          0.2566778900112243,
          0.28642209128320345,
          0.3080486578750478,
          0.27327674897119436,
          0.2520830410587364,
          0.2773235830527505,
          0.28462401795735215,
          0.2784950196408537,
          0.25715458988028495,
          0.22736333239805512,
          0.2404069631500191,
          0.26361941170968994,
          0.27006552796483424,
          0.2525547722596339,
          0.22521219135802525,
          0.19400720164609098,
          0.15460887813318408,
          0.12262673026561949,
          0.14455667789001148,
          0.11611865179573536,
          0.08705311213991783,
          0.05527526421623648,
          0.015584081556303702,
          0.037174113823419445,
          0.076024130190797,
          0.07514409137673037,
          0.055052258698092035,
          0.07227629302282083,
          0.08843469416386099,
          0.10504641320613566,
          0.11261954031051286,
          0.11889379910213282,
          0.12618225074822337,
          0.0984389613729895,
          0.12198489524878452,
          0.1437099583800978,
          0.1601197156752718,
          0.1703706626449688,
          0.1725776281331844,
          0.17473870650954051,
          0.17461712027684317,
          0.13305187289562342,
          0.10142980733258554,
          0.09057385194538012,
          0.10070408950617311,
          0.12298710484474393,
          0.1897768191170975,
          0.2477275650018711,
          0.3151009516460913,
          0.42233708613917037,
          0.5042809460344193,
          0.5563055321735889,
          0.58293525533109,
          0.5985599630564924,
          0.5920238262252165,
          0.6209972993827174,
          0.6186693322110002,
          0.5918730125327362,
          0.5403885498503568,
          0.4655522236251414,
          0.3701122919004872,
          0.30442416058735594,
          0.24777257528993718,
          0.20161569397680565,
          0.16277386129816732,
          0.12830241068088324,
          0.08732288159371501,
          0.0766536896745233,
          0.12395541058735515,
          0.1541356855592969,
          0.17217925785634147,
          0.17477319491208412,
          0.16921325523756114,
          0.22178059530490146,
          0.2541201950056124,
          0.23889502665544393,
          0.25931186868686923,
          0.30804427375607996,
          0.34289597362514124,
          0.3639040871679772,
          0.36508458426861307,
          0.35771517255892366,
          0.3399150650018717,
          0.282649118499814,
          0.20803082912457993,
          0.18170682519640927,
          0.20159289655817517,
          0.2366225916573146,
          0.23457871539468855,
          0.20392378647587053,
          0.20861011737747912,
          0.22268138561541406,
          0.21679351384212567,
          0.19644710998877732,
          0.2046994832585117,
          0.22227629302282145,
          0.24325254863449391,
          0.27714880284324833,
          0.2961367143658822,
          0.3072314580995148,
          0.30761083052749844,
          0.2903882575757587,
          0.2622042181069969,
          0.25197139216236536,
          0.2594948325851115,
          0.2302878320239441,
          0.18970462729143361,
          0.14326599326599382,
          0.12607264777403707,
          0.09285680882903159,
          0.08893273007856364,
          0.09457713711185953,
          0.09898229985035556,
          0.09607533670033679,
          0.08908325149644597,
          0.11546717171717193,
          0.15855458520389112,
          0.16406659184437006,
          0.16567848625140336,
          0.16553848671904267,
          0.16342446455293727,
          0.15718031004489383,
          0.14243038019079726,
          0.08731586700336735,
          0.059640969884025494,
          0.07869815048634501,
          0.08776918490460175,
          0.09083952955480758,
          0.08536493406285099,
          0.13669127618780427,
          0.13687891647961134,
          0.1558554292929298,
          0.22144594089038594,
          0.2371452810296078,
          0.26769098372256367,
          0.29648381623411846,
          0.32278509848337483,
          0.3458561503894351,
          0.3649582918714019,
          0.37935284284837745,
          0.3883011232394645,
          0.39106445296376535,
          0.38690415194038263
         ]
        }
       ],
       "layout": {
        "template": {
         "data": {
          "bar": [
           {
            "error_x": {
             "color": "#2a3f5f"
            },
            "error_y": {
             "color": "#2a3f5f"
            },
            "marker": {
             "line": {
              "color": "#E5ECF6",
              "width": 0.5
             },
             "pattern": {
              "fillmode": "overlay",
              "size": 10,
              "solidity": 0.2
             }
            },
            "type": "bar"
           }
          ],
          "barpolar": [
           {
            "marker": {
             "line": {
              "color": "#E5ECF6",
              "width": 0.5
             },
             "pattern": {
              "fillmode": "overlay",
              "size": 10,
              "solidity": 0.2
             }
            },
            "type": "barpolar"
           }
          ],
          "carpet": [
           {
            "aaxis": {
             "endlinecolor": "#2a3f5f",
             "gridcolor": "white",
             "linecolor": "white",
             "minorgridcolor": "white",
             "startlinecolor": "#2a3f5f"
            },
            "baxis": {
             "endlinecolor": "#2a3f5f",
             "gridcolor": "white",
             "linecolor": "white",
             "minorgridcolor": "white",
             "startlinecolor": "#2a3f5f"
            },
            "type": "carpet"
           }
          ],
          "choropleth": [
           {
            "colorbar": {
             "outlinewidth": 0,
             "ticks": ""
            },
            "type": "choropleth"
           }
          ],
          "contour": [
           {
            "colorbar": {
             "outlinewidth": 0,
             "ticks": ""
            },
            "colorscale": [
             [
              0,
              "#0d0887"
             ],
             [
              0.1111111111111111,
              "#46039f"
             ],
             [
              0.2222222222222222,
              "#7201a8"
             ],
             [
              0.3333333333333333,
              "#9c179e"
             ],
             [
              0.4444444444444444,
              "#bd3786"
             ],
             [
              0.5555555555555556,
              "#d8576b"
             ],
             [
              0.6666666666666666,
              "#ed7953"
             ],
             [
              0.7777777777777778,
              "#fb9f3a"
             ],
             [
              0.8888888888888888,
              "#fdca26"
             ],
             [
              1,
              "#f0f921"
             ]
            ],
            "type": "contour"
           }
          ],
          "contourcarpet": [
           {
            "colorbar": {
             "outlinewidth": 0,
             "ticks": ""
            },
            "type": "contourcarpet"
           }
          ],
          "heatmap": [
           {
            "colorbar": {
             "outlinewidth": 0,
             "ticks": ""
            },
            "colorscale": [
             [
              0,
              "#0d0887"
             ],
             [
              0.1111111111111111,
              "#46039f"
             ],
             [
              0.2222222222222222,
              "#7201a8"
             ],
             [
              0.3333333333333333,
              "#9c179e"
             ],
             [
              0.4444444444444444,
              "#bd3786"
             ],
             [
              0.5555555555555556,
              "#d8576b"
             ],
             [
              0.6666666666666666,
              "#ed7953"
             ],
             [
              0.7777777777777778,
              "#fb9f3a"
             ],
             [
              0.8888888888888888,
              "#fdca26"
             ],
             [
              1,
              "#f0f921"
             ]
            ],
            "type": "heatmap"
           }
          ],
          "heatmapgl": [
           {
            "colorbar": {
             "outlinewidth": 0,
             "ticks": ""
            },
            "colorscale": [
             [
              0,
              "#0d0887"
             ],
             [
              0.1111111111111111,
              "#46039f"
             ],
             [
              0.2222222222222222,
              "#7201a8"
             ],
             [
              0.3333333333333333,
              "#9c179e"
             ],
             [
              0.4444444444444444,
              "#bd3786"
             ],
             [
              0.5555555555555556,
              "#d8576b"
             ],
             [
              0.6666666666666666,
              "#ed7953"
             ],
             [
              0.7777777777777778,
              "#fb9f3a"
             ],
             [
              0.8888888888888888,
              "#fdca26"
             ],
             [
              1,
              "#f0f921"
             ]
            ],
            "type": "heatmapgl"
           }
          ],
          "histogram": [
           {
            "marker": {
             "pattern": {
              "fillmode": "overlay",
              "size": 10,
              "solidity": 0.2
             }
            },
            "type": "histogram"
           }
          ],
          "histogram2d": [
           {
            "colorbar": {
             "outlinewidth": 0,
             "ticks": ""
            },
            "colorscale": [
             [
              0,
              "#0d0887"
             ],
             [
              0.1111111111111111,
              "#46039f"
             ],
             [
              0.2222222222222222,
              "#7201a8"
             ],
             [
              0.3333333333333333,
              "#9c179e"
             ],
             [
              0.4444444444444444,
              "#bd3786"
             ],
             [
              0.5555555555555556,
              "#d8576b"
             ],
             [
              0.6666666666666666,
              "#ed7953"
             ],
             [
              0.7777777777777778,
              "#fb9f3a"
             ],
             [
              0.8888888888888888,
              "#fdca26"
             ],
             [
              1,
              "#f0f921"
             ]
            ],
            "type": "histogram2d"
           }
          ],
          "histogram2dcontour": [
           {
            "colorbar": {
             "outlinewidth": 0,
             "ticks": ""
            },
            "colorscale": [
             [
              0,
              "#0d0887"
             ],
             [
              0.1111111111111111,
              "#46039f"
             ],
             [
              0.2222222222222222,
              "#7201a8"
             ],
             [
              0.3333333333333333,
              "#9c179e"
             ],
             [
              0.4444444444444444,
              "#bd3786"
             ],
             [
              0.5555555555555556,
              "#d8576b"
             ],
             [
              0.6666666666666666,
              "#ed7953"
             ],
             [
              0.7777777777777778,
              "#fb9f3a"
             ],
             [
              0.8888888888888888,
              "#fdca26"
             ],
             [
              1,
              "#f0f921"
             ]
            ],
            "type": "histogram2dcontour"
           }
          ],
          "mesh3d": [
           {
            "colorbar": {
             "outlinewidth": 0,
             "ticks": ""
            },
            "type": "mesh3d"
           }
          ],
          "parcoords": [
           {
            "line": {
             "colorbar": {
              "outlinewidth": 0,
              "ticks": ""
             }
            },
            "type": "parcoords"
           }
          ],
          "pie": [
           {
            "automargin": true,
            "type": "pie"
           }
          ],
          "scatter": [
           {
            "fillpattern": {
             "fillmode": "overlay",
             "size": 10,
             "solidity": 0.2
            },
            "type": "scatter"
           }
          ],
          "scatter3d": [
           {
            "line": {
             "colorbar": {
              "outlinewidth": 0,
              "ticks": ""
             }
            },
            "marker": {
             "colorbar": {
              "outlinewidth": 0,
              "ticks": ""
             }
            },
            "type": "scatter3d"
           }
          ],
          "scattercarpet": [
           {
            "marker": {
             "colorbar": {
              "outlinewidth": 0,
              "ticks": ""
             }
            },
            "type": "scattercarpet"
           }
          ],
          "scattergeo": [
           {
            "marker": {
             "colorbar": {
              "outlinewidth": 0,
              "ticks": ""
             }
            },
            "type": "scattergeo"
           }
          ],
          "scattergl": [
           {
            "marker": {
             "colorbar": {
              "outlinewidth": 0,
              "ticks": ""
             }
            },
            "type": "scattergl"
           }
          ],
          "scattermapbox": [
           {
            "marker": {
             "colorbar": {
              "outlinewidth": 0,
              "ticks": ""
             }
            },
            "type": "scattermapbox"
           }
          ],
          "scatterpolar": [
           {
            "marker": {
             "colorbar": {
              "outlinewidth": 0,
              "ticks": ""
             }
            },
            "type": "scatterpolar"
           }
          ],
          "scatterpolargl": [
           {
            "marker": {
             "colorbar": {
              "outlinewidth": 0,
              "ticks": ""
             }
            },
            "type": "scatterpolargl"
           }
          ],
          "scatterternary": [
           {
            "marker": {
             "colorbar": {
              "outlinewidth": 0,
              "ticks": ""
             }
            },
            "type": "scatterternary"
           }
          ],
          "surface": [
           {
            "colorbar": {
             "outlinewidth": 0,
             "ticks": ""
            },
            "colorscale": [
             [
              0,
              "#0d0887"
             ],
             [
              0.1111111111111111,
              "#46039f"
             ],
             [
              0.2222222222222222,
              "#7201a8"
             ],
             [
              0.3333333333333333,
              "#9c179e"
             ],
             [
              0.4444444444444444,
              "#bd3786"
             ],
             [
              0.5555555555555556,
              "#d8576b"
             ],
             [
              0.6666666666666666,
              "#ed7953"
             ],
             [
              0.7777777777777778,
              "#fb9f3a"
             ],
             [
              0.8888888888888888,
              "#fdca26"
             ],
             [
              1,
              "#f0f921"
             ]
            ],
            "type": "surface"
           }
          ],
          "table": [
           {
            "cells": {
             "fill": {
              "color": "#EBF0F8"
             },
             "line": {
              "color": "white"
             }
            },
            "header": {
             "fill": {
              "color": "#C8D4E3"
             },
             "line": {
              "color": "white"
             }
            },
            "type": "table"
           }
          ]
         },
         "layout": {
          "annotationdefaults": {
           "arrowcolor": "#2a3f5f",
           "arrowhead": 0,
           "arrowwidth": 1
          },
          "autotypenumbers": "strict",
          "coloraxis": {
           "colorbar": {
            "outlinewidth": 0,
            "ticks": ""
           }
          },
          "colorscale": {
           "diverging": [
            [
             0,
             "#8e0152"
            ],
            [
             0.1,
             "#c51b7d"
            ],
            [
             0.2,
             "#de77ae"
            ],
            [
             0.3,
             "#f1b6da"
            ],
            [
             0.4,
             "#fde0ef"
            ],
            [
             0.5,
             "#f7f7f7"
            ],
            [
             0.6,
             "#e6f5d0"
            ],
            [
             0.7,
             "#b8e186"
            ],
            [
             0.8,
             "#7fbc41"
            ],
            [
             0.9,
             "#4d9221"
            ],
            [
             1,
             "#276419"
            ]
           ],
           "sequential": [
            [
             0,
             "#0d0887"
            ],
            [
             0.1111111111111111,
             "#46039f"
            ],
            [
             0.2222222222222222,
             "#7201a8"
            ],
            [
             0.3333333333333333,
             "#9c179e"
            ],
            [
             0.4444444444444444,
             "#bd3786"
            ],
            [
             0.5555555555555556,
             "#d8576b"
            ],
            [
             0.6666666666666666,
             "#ed7953"
            ],
            [
             0.7777777777777778,
             "#fb9f3a"
            ],
            [
             0.8888888888888888,
             "#fdca26"
            ],
            [
             1,
             "#f0f921"
            ]
           ],
           "sequentialminus": [
            [
             0,
             "#0d0887"
            ],
            [
             0.1111111111111111,
             "#46039f"
            ],
            [
             0.2222222222222222,
             "#7201a8"
            ],
            [
             0.3333333333333333,
             "#9c179e"
            ],
            [
             0.4444444444444444,
             "#bd3786"
            ],
            [
             0.5555555555555556,
             "#d8576b"
            ],
            [
             0.6666666666666666,
             "#ed7953"
            ],
            [
             0.7777777777777778,
             "#fb9f3a"
            ],
            [
             0.8888888888888888,
             "#fdca26"
            ],
            [
             1,
             "#f0f921"
            ]
           ]
          },
          "colorway": [
           "#636efa",
           "#EF553B",
           "#00cc96",
           "#ab63fa",
           "#FFA15A",
           "#19d3f3",
           "#FF6692",
           "#B6E880",
           "#FF97FF",
           "#FECB52"
          ],
          "font": {
           "color": "#2a3f5f"
          },
          "geo": {
           "bgcolor": "white",
           "lakecolor": "white",
           "landcolor": "#E5ECF6",
           "showlakes": true,
           "showland": true,
           "subunitcolor": "white"
          },
          "hoverlabel": {
           "align": "left"
          },
          "hovermode": "closest",
          "mapbox": {
           "style": "light"
          },
          "paper_bgcolor": "white",
          "plot_bgcolor": "#E5ECF6",
          "polar": {
           "angularaxis": {
            "gridcolor": "white",
            "linecolor": "white",
            "ticks": ""
           },
           "bgcolor": "#E5ECF6",
           "radialaxis": {
            "gridcolor": "white",
            "linecolor": "white",
            "ticks": ""
           }
          },
          "scene": {
           "xaxis": {
            "backgroundcolor": "#E5ECF6",
            "gridcolor": "white",
            "gridwidth": 2,
            "linecolor": "white",
            "showbackground": true,
            "ticks": "",
            "zerolinecolor": "white"
           },
           "yaxis": {
            "backgroundcolor": "#E5ECF6",
            "gridcolor": "white",
            "gridwidth": 2,
            "linecolor": "white",
            "showbackground": true,
            "ticks": "",
            "zerolinecolor": "white"
           },
           "zaxis": {
            "backgroundcolor": "#E5ECF6",
            "gridcolor": "white",
            "gridwidth": 2,
            "linecolor": "white",
            "showbackground": true,
            "ticks": "",
            "zerolinecolor": "white"
           }
          },
          "shapedefaults": {
           "line": {
            "color": "#2a3f5f"
           }
          },
          "ternary": {
           "aaxis": {
            "gridcolor": "white",
            "linecolor": "white",
            "ticks": ""
           },
           "baxis": {
            "gridcolor": "white",
            "linecolor": "white",
            "ticks": ""
           },
           "bgcolor": "#E5ECF6",
           "caxis": {
            "gridcolor": "white",
            "linecolor": "white",
            "ticks": ""
           }
          },
          "title": {
           "x": 0.05
          },
          "xaxis": {
           "automargin": true,
           "gridcolor": "white",
           "linecolor": "white",
           "ticks": "",
           "title": {
            "standoff": 15
           },
           "zerolinecolor": "white",
           "zerolinewidth": 2
          },
          "yaxis": {
           "automargin": true,
           "gridcolor": "white",
           "linecolor": "white",
           "ticks": "",
           "title": {
            "standoff": 15
           },
           "zerolinecolor": "white",
           "zerolinewidth": 2
          }
         }
        }
       }
      }
     },
     "metadata": {},
     "output_type": "display_data"
    }
   ],
   "source": [
    "from scipy import signal\n",
    "\n",
    "fig = go.Figure()\n",
    "\n",
    "fig.add_trace(go.Scatter(\n",
    "    x=df_plot.Time.values.tolist(),\n",
    "    y=signal.savgol_filter(df_plot['Score'].values.tolist(),\n",
    "                           20, # window size used for filtering\n",
    "                           3), # order of fitted polynomial\n",
    "    name='Savitzky-Golay'\n",
    "))"
   ]
  },
  {
   "cell_type": "code",
   "execution_count": null,
   "id": "e40ec5e7",
   "metadata": {},
   "outputs": [],
   "source": []
  },
  {
   "cell_type": "code",
   "execution_count": null,
   "id": "09ac6e4e",
   "metadata": {},
   "outputs": [],
   "source": []
  },
  {
   "cell_type": "code",
   "execution_count": null,
   "id": "483d39bc",
   "metadata": {},
   "outputs": [],
   "source": []
  },
  {
   "cell_type": "code",
   "execution_count": null,
   "id": "1ce19526",
   "metadata": {},
   "outputs": [],
   "source": []
  }
 ],
 "metadata": {
  "kernelspec": {
   "display_name": "Python 3 (ipykernel)",
   "language": "python",
   "name": "python3"
  },
  "language_info": {
   "codemirror_mode": {
    "name": "ipython",
    "version": 3
   },
   "file_extension": ".py",
   "mimetype": "text/x-python",
   "name": "python",
   "nbconvert_exporter": "python",
   "pygments_lexer": "ipython3",
   "version": "3.11.4"
  }
 },
 "nbformat": 4,
 "nbformat_minor": 5
}
